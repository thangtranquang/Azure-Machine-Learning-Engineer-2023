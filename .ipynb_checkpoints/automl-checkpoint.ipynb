{
 "cells": [
  {
   "cell_type": "markdown",
   "metadata": {},
   "source": [
    "# Automated ML\n",
    "\n",
    "TODO: Import Dependencies. In the cell below, import all the dependencies that you will need to complete the project."
   ]
  },
  {
   "cell_type": "code",
   "execution_count": 1,
   "metadata": {
    "gather": {
     "logged": 1616359153978
    },
    "jupyter": {
     "outputs_hidden": false,
     "source_hidden": false
    },
    "nteract": {
     "transient": {
      "deleting": false
     }
    }
   },
   "outputs": [
    {
     "name": "stdout",
     "output_type": "stream",
     "text": [
      "udacitycapstoneproject\n",
      "udacitycapstoneproject\n",
      "southcentralus\n",
      "dbee21d3-7701-4598-ac5f-784c0f3d62e3\n"
     ]
    }
   ],
   "source": [
    "import os\n",
    "import joblib\n",
    "from azureml.core import Workspace, Experiment\n",
    "from azureml.data.dataset_factory import TabularDatasetFactory\n",
    "from azureml.core.compute import ComputeTarget, AmlCompute\n",
    "from azureml.train.automl import AutoMLConfig\n",
    "from azureml.core.compute_target import ComputeTargetException\n",
    "from azureml.contrib.pipeline.steps import ParallelRunStep, ParallelRunConfig\n",
    "\n",
    "from matplotlib import pyplot as plt\n",
    "import numpy as np\n",
    "import pandas as pd\n",
    "\n",
    "ws = Workspace.from_config()\n",
    "print(ws.name, ws.resource_group, ws.location, ws.subscription_id, sep = '\\n')"
   ]
  },
  {
   "cell_type": "markdown",
   "metadata": {},
   "source": [
    "## Dataset\n",
    "\n",
    "### Overview\n",
    "TODO: In this markdown cell, give an overview of the dataset you are using. Also mention the task you will be performing.\n",
    "\n",
    "\n",
    "TODO: Get data. In the cell below, write code to access the data you will be using in this project. Remember that the dataset needs to be external."
   ]
  },
  {
   "cell_type": "code",
   "execution_count": 2,
   "metadata": {
    "gather": {
     "logged": 1616359166612
    },
    "jupyter": {
     "outputs_hidden": false,
     "source_hidden": false
    },
    "nteract": {
     "transient": {
      "deleting": false
     }
    }
   },
   "outputs": [
    {
     "name": "stdout",
     "output_type": "stream",
     "text": [
      "Found existing cluster, use it.\n",
      "Succeeded\n",
      "AmlCompute wait for completion finished\n",
      "\n",
      "Minimum number of nodes requested have been provisioned\n"
     ]
    }
   ],
   "source": [
    "from azureml.core.compute import AmlCompute\n",
    "from azureml.core.compute import ComputeTarget\n",
    "from azureml.core.compute_target import ComputeTargetException\n",
    "\n",
    "# NOTE: update the cluster name to match the existing cluster\n",
    "# Choose a name for your CPU cluster\n",
    "amlcompute_cluster_name = \"cluster-heart_failure\"\n",
    "\n",
    "# Verify that cluster does not exist already\n",
    "try:\n",
    "    compute_target = ComputeTarget(workspace=ws, name=amlcompute_cluster_name)\n",
    "    print('Found existing cluster, use it.')\n",
    "except ComputeTargetException:\n",
    "    compute_config = AmlCompute.provisioning_configuration(vm_size='STANDARD_D2_V2',# for GPU, use \"STANDARD_NC6\"\n",
    "                                                           #vm_priority = 'lowpriority', # optional\n",
    "                                                           max_nodes=4)\n",
    "    compute_target = ComputeTarget.create(ws, amlcompute_cluster_name, compute_config)\n",
    "\n",
    "compute_target.wait_for_completion(show_output=True, min_node_count = 1, timeout_in_minutes = 10)\n",
    "# For a more detailed view of current AmlCompute status, use get_status()."
   ]
  },
  {
   "cell_type": "code",
   "execution_count": 3,
   "metadata": {
    "collapsed": true,
    "gather": {
     "logged": 1616360072283
    },
    "jupyter": {
     "outputs_hidden": false,
     "source_hidden": false
    },
    "nteract": {
     "transient": {
      "deleting": false
     }
    }
   },
   "outputs": [
    {
     "data": {
      "text/html": [
       "<div>\n",
       "<style scoped>\n",
       "    .dataframe tbody tr th:only-of-type {\n",
       "        vertical-align: middle;\n",
       "    }\n",
       "\n",
       "    .dataframe tbody tr th {\n",
       "        vertical-align: top;\n",
       "    }\n",
       "\n",
       "    .dataframe thead th {\n",
       "        text-align: right;\n",
       "    }\n",
       "</style>\n",
       "<table border=\"1\" class=\"dataframe\">\n",
       "  <thead>\n",
       "    <tr style=\"text-align: right;\">\n",
       "      <th></th>\n",
       "      <th>age</th>\n",
       "      <th>anaemia</th>\n",
       "      <th>creatinine_phosphokinase</th>\n",
       "      <th>diabetes</th>\n",
       "      <th>ejection_fraction</th>\n",
       "      <th>high_blood_pressure</th>\n",
       "      <th>platelets</th>\n",
       "      <th>serum_creatinine</th>\n",
       "      <th>serum_sodium</th>\n",
       "      <th>sex</th>\n",
       "      <th>smoking</th>\n",
       "      <th>time</th>\n",
       "      <th>DEATH_EVENT</th>\n",
       "    </tr>\n",
       "  </thead>\n",
       "  <tbody>\n",
       "    <tr>\n",
       "      <th>count</th>\n",
       "      <td>299.000000</td>\n",
       "      <td>299.000000</td>\n",
       "      <td>299.000000</td>\n",
       "      <td>299.000000</td>\n",
       "      <td>299.000000</td>\n",
       "      <td>299.000000</td>\n",
       "      <td>299.000000</td>\n",
       "      <td>299.00000</td>\n",
       "      <td>299.000000</td>\n",
       "      <td>299.000000</td>\n",
       "      <td>299.00000</td>\n",
       "      <td>299.000000</td>\n",
       "      <td>299.00000</td>\n",
       "    </tr>\n",
       "    <tr>\n",
       "      <th>mean</th>\n",
       "      <td>60.833893</td>\n",
       "      <td>0.431438</td>\n",
       "      <td>581.839465</td>\n",
       "      <td>0.418060</td>\n",
       "      <td>38.083612</td>\n",
       "      <td>0.351171</td>\n",
       "      <td>263358.029264</td>\n",
       "      <td>1.39388</td>\n",
       "      <td>136.625418</td>\n",
       "      <td>0.648829</td>\n",
       "      <td>0.32107</td>\n",
       "      <td>130.260870</td>\n",
       "      <td>0.32107</td>\n",
       "    </tr>\n",
       "    <tr>\n",
       "      <th>std</th>\n",
       "      <td>11.894809</td>\n",
       "      <td>0.496107</td>\n",
       "      <td>970.287881</td>\n",
       "      <td>0.494067</td>\n",
       "      <td>11.834841</td>\n",
       "      <td>0.478136</td>\n",
       "      <td>97804.236869</td>\n",
       "      <td>1.03451</td>\n",
       "      <td>4.412477</td>\n",
       "      <td>0.478136</td>\n",
       "      <td>0.46767</td>\n",
       "      <td>77.614208</td>\n",
       "      <td>0.46767</td>\n",
       "    </tr>\n",
       "    <tr>\n",
       "      <th>min</th>\n",
       "      <td>40.000000</td>\n",
       "      <td>0.000000</td>\n",
       "      <td>23.000000</td>\n",
       "      <td>0.000000</td>\n",
       "      <td>14.000000</td>\n",
       "      <td>0.000000</td>\n",
       "      <td>25100.000000</td>\n",
       "      <td>0.50000</td>\n",
       "      <td>113.000000</td>\n",
       "      <td>0.000000</td>\n",
       "      <td>0.00000</td>\n",
       "      <td>4.000000</td>\n",
       "      <td>0.00000</td>\n",
       "    </tr>\n",
       "    <tr>\n",
       "      <th>25%</th>\n",
       "      <td>51.000000</td>\n",
       "      <td>0.000000</td>\n",
       "      <td>116.500000</td>\n",
       "      <td>0.000000</td>\n",
       "      <td>30.000000</td>\n",
       "      <td>0.000000</td>\n",
       "      <td>212500.000000</td>\n",
       "      <td>0.90000</td>\n",
       "      <td>134.000000</td>\n",
       "      <td>0.000000</td>\n",
       "      <td>0.00000</td>\n",
       "      <td>73.000000</td>\n",
       "      <td>0.00000</td>\n",
       "    </tr>\n",
       "    <tr>\n",
       "      <th>50%</th>\n",
       "      <td>60.000000</td>\n",
       "      <td>0.000000</td>\n",
       "      <td>250.000000</td>\n",
       "      <td>0.000000</td>\n",
       "      <td>38.000000</td>\n",
       "      <td>0.000000</td>\n",
       "      <td>262000.000000</td>\n",
       "      <td>1.10000</td>\n",
       "      <td>137.000000</td>\n",
       "      <td>1.000000</td>\n",
       "      <td>0.00000</td>\n",
       "      <td>115.000000</td>\n",
       "      <td>0.00000</td>\n",
       "    </tr>\n",
       "    <tr>\n",
       "      <th>75%</th>\n",
       "      <td>70.000000</td>\n",
       "      <td>1.000000</td>\n",
       "      <td>582.000000</td>\n",
       "      <td>1.000000</td>\n",
       "      <td>45.000000</td>\n",
       "      <td>1.000000</td>\n",
       "      <td>303500.000000</td>\n",
       "      <td>1.40000</td>\n",
       "      <td>140.000000</td>\n",
       "      <td>1.000000</td>\n",
       "      <td>1.00000</td>\n",
       "      <td>203.000000</td>\n",
       "      <td>1.00000</td>\n",
       "    </tr>\n",
       "    <tr>\n",
       "      <th>max</th>\n",
       "      <td>95.000000</td>\n",
       "      <td>1.000000</td>\n",
       "      <td>7861.000000</td>\n",
       "      <td>1.000000</td>\n",
       "      <td>80.000000</td>\n",
       "      <td>1.000000</td>\n",
       "      <td>850000.000000</td>\n",
       "      <td>9.40000</td>\n",
       "      <td>148.000000</td>\n",
       "      <td>1.000000</td>\n",
       "      <td>1.00000</td>\n",
       "      <td>285.000000</td>\n",
       "      <td>1.00000</td>\n",
       "    </tr>\n",
       "  </tbody>\n",
       "</table>\n",
       "</div>"
      ],
      "text/plain": [
       "              age     anaemia  creatinine_phosphokinase    diabetes  \\\n",
       "count  299.000000  299.000000                299.000000  299.000000   \n",
       "mean    60.833893    0.431438                581.839465    0.418060   \n",
       "std     11.894809    0.496107                970.287881    0.494067   \n",
       "min     40.000000    0.000000                 23.000000    0.000000   \n",
       "25%     51.000000    0.000000                116.500000    0.000000   \n",
       "50%     60.000000    0.000000                250.000000    0.000000   \n",
       "75%     70.000000    1.000000                582.000000    1.000000   \n",
       "max     95.000000    1.000000               7861.000000    1.000000   \n",
       "\n",
       "       ejection_fraction  high_blood_pressure      platelets  \\\n",
       "count         299.000000           299.000000     299.000000   \n",
       "mean           38.083612             0.351171  263358.029264   \n",
       "std            11.834841             0.478136   97804.236869   \n",
       "min            14.000000             0.000000   25100.000000   \n",
       "25%            30.000000             0.000000  212500.000000   \n",
       "50%            38.000000             0.000000  262000.000000   \n",
       "75%            45.000000             1.000000  303500.000000   \n",
       "max            80.000000             1.000000  850000.000000   \n",
       "\n",
       "       serum_creatinine  serum_sodium         sex    smoking        time  \\\n",
       "count         299.00000    299.000000  299.000000  299.00000  299.000000   \n",
       "mean            1.39388    136.625418    0.648829    0.32107  130.260870   \n",
       "std             1.03451      4.412477    0.478136    0.46767   77.614208   \n",
       "min             0.50000    113.000000    0.000000    0.00000    4.000000   \n",
       "25%             0.90000    134.000000    0.000000    0.00000   73.000000   \n",
       "50%             1.10000    137.000000    1.000000    0.00000  115.000000   \n",
       "75%             1.40000    140.000000    1.000000    1.00000  203.000000   \n",
       "max             9.40000    148.000000    1.000000    1.00000  285.000000   \n",
       "\n",
       "       DEATH_EVENT  \n",
       "count    299.00000  \n",
       "mean       0.32107  \n",
       "std        0.46767  \n",
       "min        0.00000  \n",
       "25%        0.00000  \n",
       "50%        0.00000  \n",
       "75%        1.00000  \n",
       "max        1.00000  "
      ]
     },
     "execution_count": 3,
     "metadata": {},
     "output_type": "execute_result"
    }
   ],
   "source": [
    "# Create TabularDataset using TabularDatasetFactory\n",
    "# Data is available at: \n",
    "auto_ds_path=\"https://github.com/thangtranquang/Azure-Machine-Learning-Engineer-2023/blob/main/data/heart_failure_clinical_records_dataset.csv\"\n",
    "ds=TabularDatasetFactory.from_delimited_files(path=auto_ds_path)\n",
    "\n",
    "#preview data\n",
    "df = ds.to_pandas_dataframe()\n",
    "df.describe()"
   ]
  },
  {
   "cell_type": "code",
   "execution_count": 4,
   "metadata": {
    "collapsed": true,
    "gather": {
     "logged": 1616360090784
    },
    "jupyter": {
     "outputs_hidden": false,
     "source_hidden": false
    },
    "nteract": {
     "transient": {
      "deleting": false
     }
    }
   },
   "outputs": [
    {
     "name": "stdout",
     "output_type": "stream",
     "text": [
      "The dataset was found!\n",
      "Uploading an estimated of 1 files\n",
      "Uploading ./train.csv\n",
      "Uploaded ./train.csv, 1 files out of an estimated total of 1\n",
      "Uploaded 1 files\n"
     ]
    }
   ],
   "source": [
    "from azureml.core.dataset import Dataset\n",
    "from sklearn.model_selection import train_test_split\n",
    "\n",
    "key = 'heart_failure_clinical_records_dataset'\n",
    "if key in ws.datasets.keys():\n",
    "    dataset = ws.datasets[key]\n",
    "    print(\"The dataset was found!\")\n",
    "\n",
    "else:\n",
    "    url = auto_ds_path\n",
    "    dataset = Dataset.Tabular.from_delimited_files(url)\n",
    "    dataset = dataset.register(ws,key)\n",
    "\n",
    "df1 = dataset.to_pandas_dataframe()\n",
    "train, test = train_test_split(df1, shuffle=True)\n",
    "train.to_csv('train.csv', index = False)\n",
    "\n",
    "datastore = ws.get_default_datastore()\n",
    "datastore.upload_files(files = ['./train.csv'])\n",
    "\n",
    "train = Dataset.Tabular.from_delimited_files([(datastore, 'train.csv')])"
   ]
  },
  {
   "cell_type": "markdown",
   "metadata": {},
   "source": [
    "## AutoML Configuration\n",
    "\n",
    "TODO: Explain why you chose the automl settings and cofiguration you used below."
   ]
  },
  {
   "cell_type": "code",
   "execution_count": 5,
   "metadata": {
    "gather": {
     "logged": 1616360102739
    },
    "jupyter": {
     "outputs_hidden": false,
     "source_hidden": false
    },
    "nteract": {
     "transient": {
      "deleting": false
     }
    }
   },
   "outputs": [],
   "source": [
    "from azureml.train.automl import AutoMLConfig\n",
    "import logging\n",
    "import time\n",
    "\n",
    "# TODO: Put your automl settings here\n",
    "automl_settings = {\n",
    "    \"n_cross_validations\":2,\n",
    "    \"primary_metric\":'accuracy',\n",
    "    \"enable_early_stopping\":True,\n",
    "    \"experiment_timeout_minutes\":45,\n",
    "    \"max_concurrent_iterations\":10,\n",
    "   }\n",
    "\n",
    "# TODO: Put your automl config here\n",
    "automl_config = AutoMLConfig(\n",
    "    task='classification',\n",
    "    compute_target='aml-compute',\n",
    "    blocked_models = ['XGBoostClassifier'],\n",
    "    training_data=train,\n",
    "    label_column_name='DEATH_EVENT',\n",
    "    featurization = 'auto',\n",
    "    debug_log = \"automl_errors.log\",\n",
    "    **automl_settings\n",
    "    )"
   ]
  },
  {
   "cell_type": "code",
   "execution_count": 6,
   "metadata": {
    "collapsed": true,
    "gather": {
     "logged": 1616362124895
    },
    "jupyter": {
     "outputs_hidden": false,
     "source_hidden": false
    },
    "nteract": {
     "transient": {
      "deleting": false
     }
    }
   },
   "outputs": [
    {
     "name": "stdout",
     "output_type": "stream",
     "text": [
      "Running on remote.\n",
      "No run_configuration provided, running on aml-compute with default configuration\n",
      "Running on remote compute: aml-compute\n",
      "Parent Run ID: AutoML_e7c9ced7-8028-458d-9d7e-7eeabe093adf\n",
      "\n",
      "Current status: FeaturesGeneration. Generating features for the dataset.\n",
      "Current status: ModelSelection. Beginning model selection.\n",
      "\n",
      "****************************************************************************************************\n",
      "DATA GUARDRAILS: \n",
      "\n",
      "TYPE:         Class balancing detection\n",
      "STATUS:       PASSED\n",
      "DESCRIPTION:  Your inputs were analyzed, and all classes are balanced in your training data.\n",
      "              Learn more about imbalanced data: https://aka.ms/AutomatedMLImbalancedData\n",
      "\n",
      "****************************************************************************************************\n",
      "\n",
      "TYPE:         Missing feature values imputation\n",
      "STATUS:       PASSED\n",
      "DESCRIPTION:  No feature missing values were detected in the training data.\n",
      "              Learn more about missing value imputation: https://aka.ms/AutomatedMLFeaturization\n",
      "\n",
      "****************************************************************************************************\n",
      "\n",
      "TYPE:         High cardinality feature detection\n",
      "STATUS:       PASSED\n",
      "DESCRIPTION:  Your inputs were analyzed, and no high cardinality features were detected.\n",
      "              Learn more about high cardinality feature handling: https://aka.ms/AutomatedMLFeaturization\n",
      "\n",
      "****************************************************************************************************\n",
      "\n",
      "****************************************************************************************************\n",
      "ITERATION: The iteration being evaluated.\n",
      "PIPELINE: A summary description of the pipeline being evaluated.\n",
      "DURATION: Time taken for the current iteration.\n",
      "METRIC: The result of computing score on the fitted pipeline.\n",
      "BEST: The best observed score thus far.\n",
      "****************************************************************************************************\n",
      "\n",
      " ITERATION   PIPELINE                                       DURATION      METRIC      BEST\n",
      "         2   MinMaxScaler RandomForest                      0:00:51       0.8438    0.8438\n",
      "         9   MinMaxScaler LightGBM                          0:00:51       0.8393    0.8438\n",
      "         0   MaxAbsScaler LightGBM                          0:00:42       0.8259    0.8438\n",
      "         1   MinMaxScaler RandomForest                      0:00:45       0.8527    0.8527\n",
      "         5   RobustScaler LightGBM                          0:00:53       0.8214    0.8527\n",
      "         6   RobustScaler GradientBoosting                  0:02:41       0.8661    0.8661\n",
      "         3   MinMaxScaler RandomForest                      0:01:03       0.8571    0.8661\n",
      "         8   StandardScalerWrapper LightGBM                 0:00:49       0.8616    0.8661\n",
      "         4   MinMaxScaler RandomForest                      0:01:03       0.8348    0.8661\n",
      "         7   MaxAbsScaler LightGBM                          0:00:54       0.8661    0.8661\n",
      "        10   RobustScaler LogisticRegression                0:00:54       0.8170    0.8661\n",
      "        11   MinMaxScaler SVM                               0:00:40       0.7054    0.8661\n",
      "        12   MinMaxScaler SVM                               0:00:48       0.7545    0.8661\n",
      "        13   MinMaxScaler SVM                               0:00:42       0.7589    0.8661\n",
      "        14   StandardScalerWrapper LogisticRegression       0:00:42       0.8125    0.8661\n",
      "        15   SparseNormalizer LightGBM                      0:00:45       0.8393    0.8661\n",
      "        16   StandardScalerWrapper ExtremeRandomTrees       0:00:47       0.6696    0.8661\n",
      "        17   RobustScaler RandomForest                      0:00:45       0.8571    0.8661\n",
      "        19   StandardScalerWrapper ExtremeRandomTrees       0:00:52       0.8304    0.8661\n",
      "        18   MaxAbsScaler LightGBM                          0:00:53       0.8438    0.8661\n",
      "        20   MinMaxScaler LightGBM                          0:00:52       0.7723    0.8661\n",
      "        21   MaxAbsScaler GradientBoosting                  0:00:53       0.8616    0.8661\n",
      "        22   RobustScaler LightGBM                          0:00:45       0.8393    0.8661\n",
      "        23   StandardScalerWrapper RandomForest             0:00:54       0.8482    0.8661\n",
      "        24   StandardScalerWrapper LightGBM                 0:00:51       0.7902    0.8661\n",
      "        25   MaxAbsScaler GradientBoosting                  0:00:48       0.8571    0.8661\n",
      "        26   StandardScalerWrapper KNN                      0:00:45       0.6384    0.8661\n",
      "        27   MaxAbsScaler LightGBM                          0:00:40       0.7188    0.8661\n",
      "        28   MaxAbsScaler ExtremeRandomTrees                0:00:45       0.8259    0.8661\n",
      "        29   StandardScalerWrapper RandomForest             0:00:46       0.7946    0.8661\n",
      "        30   PCA GradientBoosting                           0:00:44       0.6696    0.8661\n",
      "        31   StandardScalerWrapper LightGBM                 0:00:46       0.7411    0.8661\n",
      "        32   StandardScalerWrapper GradientBoosting         0:00:45       0.8527    0.8661\n",
      "        33   MinMaxScaler ExtremeRandomTrees                0:00:51       0.8348    0.8661\n",
      "        34   SparseNormalizer LightGBM                      0:00:50       0.8036    0.8661\n",
      "        35   RobustScaler GradientBoosting                  0:00:57       0.8125    0.8661\n",
      "        36   MaxAbsScaler LightGBM                          0:00:50       0.8438    0.8661\n",
      "        37   StandardScalerWrapper RandomForest             0:00:52       0.8482    0.8661\n",
      "        38   StandardScalerWrapper ExtremeRandomTrees       0:00:43       0.8259    0.8661\n",
      "        39                                                  0:00:12          nan    0.8661\n",
      "        40                                                  0:04:07          nan    0.8661\n",
      "        41                                                  0:03:47          nan    0.8661\n",
      "        42                                                  0:03:10          nan    0.8661\n",
      "        43                                                  0:02:41          nan    0.8661\n",
      "        44                                                  0:02:12          nan    0.8661\n",
      "        45                                                  0:01:29          nan    0.8661\n",
      "        46                                                  0:01:07          nan    0.8661\n",
      "        47                                                  0:00:25          nan    0.8661\n",
      "        48    VotingEnsemble                                0:01:02       0.8973    0.8973\n",
      "        49    StackEnsemble                                 0:01:02       0.8884    0.8973\n"
     ]
    }
   ],
   "source": [
    "from azureml.core.experiment import Experiment\n",
    "# choose a name for experiment\n",
    "experiment_name = 'automl_run'\n",
    "experiment=Experiment(ws, experiment_name)\n",
    "\n",
    "# TODO: Submit your experiment\n",
    "remote_run = experiment.submit(automl_config, show_output=True)"
   ]
  },
  {
   "cell_type": "markdown",
   "metadata": {},
   "source": [
    "## Run Details\n",
    "\n",
    "OPTIONAL: Write about the different models trained and their performance. Why do you think some models did better than others?\n",
    "\n",
    "TODO: In the cell below, use the `RunDetails` widget to show the different experiments."
   ]
  },
  {
   "cell_type": "code",
   "execution_count": 7,
   "metadata": {
    "gather": {
     "logged": 1616362365367
    },
    "jupyter": {
     "outputs_hidden": false,
     "source_hidden": false
    },
    "nteract": {
     "transient": {
      "deleting": false
     }
    }
   },
   "outputs": [
    {
     "data": {
      "application/vnd.jupyter.widget-view+json": {
       "model_id": "4ec3e992831147beb5817b093bcc7a51",
       "version_major": 2,
       "version_minor": 0
      },
      "text/plain": [
       "_AutoMLWidget(widget_settings={'childWidgetDisplay': 'popup', 'send_telemetry': False, 'log_level': 'INFO', 's…"
      ]
     },
     "metadata": {},
     "output_type": "display_data"
    },
    {
     "data": {
      "application/aml.mini.widget.v1": "{\"status\": \"Completed\", \"workbench_run_details_uri\": \"https://ml.azure.com/experiments/automl_run/runs/AutoML_e7c9ced7-8028-458d-9d7e-7eeabe093adf?wsid=/subscriptions/dbee21d3-7701-4598-ac5f-784c0f3d62e3/resourcegroups/udacitycapstoneproject/workspaces/udacitycapstoneproject\", \"run_id\": \"AutoML_e7c9ced7-8028-458d-9d7e-7eeabe093adf\", \"run_properties\": {\"run_id\": \"AutoML_e7c9ced7-8028-458d-9d7e-7eeabe093adf\", \"created_utc\": \"2021-03-21T20:55:15.200219Z\", \"properties\": {\"num_iterations\": \"1000\", \"training_type\": \"TrainFull\", \"acquisition_function\": \"EI\", \"primary_metric\": \"accuracy\", \"train_split\": \"0\", \"acquisition_parameter\": \"0\", \"num_cross_validation\": \"2\", \"target\": \"aml-compute\", \"AMLSettingsJsonString\": \"{\\\"path\\\":null,\\\"name\\\":\\\"automl_run\\\",\\\"subscription_id\\\":\\\"dbee21d3-7701-4598-ac5f-784c0f3d62e3\\\",\\\"resource_group\\\":\\\"udacitycapstoneproject\\\",\\\"workspace_name\\\":\\\"udacitycapstoneproject\\\",\\\"region\\\":\\\"southcentralus\\\",\\\"compute_target\\\":\\\"aml-compute\\\",\\\"spark_service\\\":null,\\\"azure_service\\\":\\\"remote\\\",\\\"many_models\\\":false,\\\"pipeline_fetch_max_batch_size\\\":1,\\\"enable_batch_run\\\":false,\\\"iterations\\\":1000,\\\"primary_metric\\\":\\\"accuracy\\\",\\\"task_type\\\":\\\"classification\\\",\\\"data_script\\\":null,\\\"validation_size\\\":0.0,\\\"n_cross_validations\\\":2,\\\"y_min\\\":null,\\\"y_max\\\":null,\\\"num_classes\\\":null,\\\"featurization\\\":\\\"auto\\\",\\\"_ignore_package_version_incompatibilities\\\":false,\\\"is_timeseries\\\":false,\\\"max_cores_per_iteration\\\":1,\\\"max_concurrent_iterations\\\":10,\\\"iteration_timeout_minutes\\\":null,\\\"mem_in_mb\\\":null,\\\"enforce_time_on_windows\\\":false,\\\"experiment_timeout_minutes\\\":45,\\\"experiment_exit_score\\\":null,\\\"whitelist_models\\\":null,\\\"blacklist_algos\\\":[\\\"XGBoostClassifier\\\",\\\"TensorFlowLinearClassifier\\\",\\\"TensorFlowDNN\\\"],\\\"supported_models\\\":[\\\"SGD\\\",\\\"LogisticRegression\\\",\\\"AveragedPerceptronClassifier\\\",\\\"LinearSVM\\\",\\\"TensorFlowLinearClassifier\\\",\\\"TensorFlowDNN\\\",\\\"ExtremeRandomTrees\\\",\\\"RandomForest\\\",\\\"SVM\\\",\\\"DecisionTree\\\",\\\"GradientBoosting\\\",\\\"KNN\\\",\\\"LightGBM\\\",\\\"XGBoostClassifier\\\",\\\"BernoulliNaiveBayes\\\",\\\"MultinomialNaiveBayes\\\"],\\\"private_models\\\":[],\\\"auto_blacklist\\\":true,\\\"blacklist_samples_reached\\\":false,\\\"exclude_nan_labels\\\":true,\\\"verbosity\\\":20,\\\"_debug_log\\\":\\\"azureml_automl.log\\\",\\\"show_warnings\\\":false,\\\"model_explainability\\\":true,\\\"service_url\\\":null,\\\"sdk_url\\\":null,\\\"sdk_packages\\\":null,\\\"enable_onnx_compatible_models\\\":false,\\\"enable_split_onnx_featurizer_estimator_models\\\":false,\\\"vm_type\\\":\\\"STANDARD_DS2_V2\\\",\\\"telemetry_verbosity\\\":20,\\\"send_telemetry\\\":true,\\\"enable_dnn\\\":false,\\\"scenario\\\":\\\"SDK-1.13.0\\\",\\\"environment_label\\\":null,\\\"save_mlflow\\\":false,\\\"force_text_dnn\\\":false,\\\"enable_feature_sweeping\\\":true,\\\"enable_early_stopping\\\":true,\\\"early_stopping_n_iters\\\":10,\\\"metrics\\\":null,\\\"enable_metric_confidence\\\":false,\\\"enable_ensembling\\\":true,\\\"enable_stack_ensembling\\\":true,\\\"ensemble_iterations\\\":15,\\\"enable_tf\\\":false,\\\"enable_subsampling\\\":null,\\\"subsample_seed\\\":null,\\\"enable_nimbusml\\\":false,\\\"enable_streaming\\\":false,\\\"force_streaming\\\":false,\\\"track_child_runs\\\":true,\\\"allowed_private_models\\\":[],\\\"label_column_name\\\":\\\"DEATH_EVENT\\\",\\\"weight_column_name\\\":null,\\\"cv_split_column_names\\\":null,\\\"enable_local_managed\\\":false,\\\"_local_managed_run_id\\\":null,\\\"cost_mode\\\":1,\\\"lag_length\\\":0,\\\"metric_operation\\\":\\\"maximize\\\",\\\"preprocess\\\":true}\", \"DataPrepJsonString\": \"{\\\\\\\"training_data\\\\\\\": \\\\\\\"{\\\\\\\\\\\\\\\"blocks\\\\\\\\\\\\\\\": [{\\\\\\\\\\\\\\\"id\\\\\\\\\\\\\\\": \\\\\\\\\\\\\\\"ad431c67-7239-4640-a498-9a4d29ce7458\\\\\\\\\\\\\\\", \\\\\\\\\\\\\\\"type\\\\\\\\\\\\\\\": \\\\\\\\\\\\\\\"Microsoft.DPrep.GetDatastoreFilesBlock\\\\\\\\\\\\\\\", \\\\\\\\\\\\\\\"arguments\\\\\\\\\\\\\\\": {\\\\\\\\\\\\\\\"datastores\\\\\\\\\\\\\\\": [{\\\\\\\\\\\\\\\"datastoreName\\\\\\\\\\\\\\\": \\\\\\\\\\\\\\\"workspaceblobstore\\\\\\\\\\\\\\\", \\\\\\\\\\\\\\\"path\\\\\\\\\\\\\\\": \\\\\\\\\\\\\\\"train.csv\\\\\\\\\\\\\\\", \\\\\\\\\\\\\\\"resourceGroup\\\\\\\\\\\\\\\": \\\\\\\\\\\\\\\"udacitycapstoneproject\\\\\\\\\\\\\\\", \\\\\\\\\\\\\\\"subscription\\\\\\\\\\\\\\\": \\\\\\\\\\\\\\\"dbee21d3-7701-4598-ac5f-784c0f3d62e3\\\\\\\\\\\\\\\", \\\\\\\\\\\\\\\"workspaceName\\\\\\\\\\\\\\\": \\\\\\\\\\\\\\\"udacitycapstoneproject\\\\\\\\\\\\\\\"}]}, \\\\\\\\\\\\\\\"localData\\\\\\\\\\\\\\\": {}, \\\\\\\\\\\\\\\"isEnabled\\\\\\\\\\\\\\\": true, \\\\\\\\\\\\\\\"name\\\\\\\\\\\\\\\": null, \\\\\\\\\\\\\\\"annotation\\\\\\\\\\\\\\\": null}, {\\\\\\\\\\\\\\\"id\\\\\\\\\\\\\\\": \\\\\\\\\\\\\\\"ee0ebd3c-83b2-4050-ab33-9b3d4e8b51eb\\\\\\\\\\\\\\\", \\\\\\\\\\\\\\\"type\\\\\\\\\\\\\\\": \\\\\\\\\\\\\\\"Microsoft.DPrep.ParseDelimitedBlock\\\\\\\\\\\\\\\", \\\\\\\\\\\\\\\"arguments\\\\\\\\\\\\\\\": {\\\\\\\\\\\\\\\"columnHeadersMode\\\\\\\\\\\\\\\": 3, \\\\\\\\\\\\\\\"fileEncoding\\\\\\\\\\\\\\\": 0, \\\\\\\\\\\\\\\"handleQuotedLineBreaks\\\\\\\\\\\\\\\": false, \\\\\\\\\\\\\\\"preview\\\\\\\\\\\\\\\": false, \\\\\\\\\\\\\\\"separator\\\\\\\\\\\\\\\": \\\\\\\\\\\\\\\",\\\\\\\\\\\\\\\", \\\\\\\\\\\\\\\"skipRows\\\\\\\\\\\\\\\": 0, \\\\\\\\\\\\\\\"skipRowsMode\\\\\\\\\\\\\\\": 0}, \\\\\\\\\\\\\\\"localData\\\\\\\\\\\\\\\": {}, \\\\\\\\\\\\\\\"isEnabled\\\\\\\\\\\\\\\": true, \\\\\\\\\\\\\\\"name\\\\\\\\\\\\\\\": null, \\\\\\\\\\\\\\\"annotation\\\\\\\\\\\\\\\": null}, {\\\\\\\\\\\\\\\"id\\\\\\\\\\\\\\\": \\\\\\\\\\\\\\\"a49ea193-3a67-4673-bc09-df7744002f59\\\\\\\\\\\\\\\", \\\\\\\\\\\\\\\"type\\\\\\\\\\\\\\\": \\\\\\\\\\\\\\\"Microsoft.DPrep.DropColumnsBlock\\\\\\\\\\\\\\\", \\\\\\\\\\\\\\\"arguments\\\\\\\\\\\\\\\": {\\\\\\\\\\\\\\\"columns\\\\\\\\\\\\\\\": {\\\\\\\\\\\\\\\"type\\\\\\\\\\\\\\\": 0, \\\\\\\\\\\\\\\"details\\\\\\\\\\\\\\\": {\\\\\\\\\\\\\\\"selectedColumns\\\\\\\\\\\\\\\": [\\\\\\\\\\\\\\\"Path\\\\\\\\\\\\\\\"]}}}, \\\\\\\\\\\\\\\"localData\\\\\\\\\\\\\\\": {}, \\\\\\\\\\\\\\\"isEnabled\\\\\\\\\\\\\\\": true, \\\\\\\\\\\\\\\"name\\\\\\\\\\\\\\\": null, \\\\\\\\\\\\\\\"annotation\\\\\\\\\\\\\\\": null}, {\\\\\\\\\\\\\\\"id\\\\\\\\\\\\\\\": \\\\\\\\\\\\\\\"f13366bf-3f70-499a-8c2c-a16bad6fc1a2\\\\\\\\\\\\\\\", \\\\\\\\\\\\\\\"type\\\\\\\\\\\\\\\": \\\\\\\\\\\\\\\"Microsoft.DPrep.SetColumnTypesBlock\\\\\\\\\\\\\\\", \\\\\\\\\\\\\\\"arguments\\\\\\\\\\\\\\\": {\\\\\\\\\\\\\\\"columnConversion\\\\\\\\\\\\\\\": [{\\\\\\\\\\\\\\\"column\\\\\\\\\\\\\\\": {\\\\\\\\\\\\\\\"type\\\\\\\\\\\\\\\": 2, \\\\\\\\\\\\\\\"details\\\\\\\\\\\\\\\": {\\\\\\\\\\\\\\\"selectedColumn\\\\\\\\\\\\\\\": \\\\\\\\\\\\\\\"age\\\\\\\\\\\\\\\"}}, \\\\\\\\\\\\\\\"typeProperty\\\\\\\\\\\\\\\": 3}, {\\\\\\\\\\\\\\\"column\\\\\\\\\\\\\\\": {\\\\\\\\\\\\\\\"type\\\\\\\\\\\\\\\": 2, \\\\\\\\\\\\\\\"details\\\\\\\\\\\\\\\": {\\\\\\\\\\\\\\\"selectedColumn\\\\\\\\\\\\\\\": \\\\\\\\\\\\\\\"anaemia\\\\\\\\\\\\\\\"}}, \\\\\\\\\\\\\\\"typeProperty\\\\\\\\\\\\\\\": 2}, {\\\\\\\\\\\\\\\"column\\\\\\\\\\\\\\\": {\\\\\\\\\\\\\\\"type\\\\\\\\\\\\\\\": 2, \\\\\\\\\\\\\\\"details\\\\\\\\\\\\\\\": {\\\\\\\\\\\\\\\"selectedColumn\\\\\\\\\\\\\\\": \\\\\\\\\\\\\\\"creatinine_phosphokinase\\\\\\\\\\\\\\\"}}, \\\\\\\\\\\\\\\"typeProperty\\\\\\\\\\\\\\\": 2}, {\\\\\\\\\\\\\\\"column\\\\\\\\\\\\\\\": {\\\\\\\\\\\\\\\"type\\\\\\\\\\\\\\\": 2, \\\\\\\\\\\\\\\"details\\\\\\\\\\\\\\\": {\\\\\\\\\\\\\\\"selectedColumn\\\\\\\\\\\\\\\": \\\\\\\\\\\\\\\"diabetes\\\\\\\\\\\\\\\"}}, \\\\\\\\\\\\\\\"typeProperty\\\\\\\\\\\\\\\": 2}, {\\\\\\\\\\\\\\\"column\\\\\\\\\\\\\\\": {\\\\\\\\\\\\\\\"type\\\\\\\\\\\\\\\": 2, \\\\\\\\\\\\\\\"details\\\\\\\\\\\\\\\": {\\\\\\\\\\\\\\\"selectedColumn\\\\\\\\\\\\\\\": \\\\\\\\\\\\\\\"ejection_fraction\\\\\\\\\\\\\\\"}}, \\\\\\\\\\\\\\\"typeProperty\\\\\\\\\\\\\\\": 2}, {\\\\\\\\\\\\\\\"column\\\\\\\\\\\\\\\": {\\\\\\\\\\\\\\\"type\\\\\\\\\\\\\\\": 2, \\\\\\\\\\\\\\\"details\\\\\\\\\\\\\\\": {\\\\\\\\\\\\\\\"selectedColumn\\\\\\\\\\\\\\\": \\\\\\\\\\\\\\\"high_blood_pressure\\\\\\\\\\\\\\\"}}, \\\\\\\\\\\\\\\"typeProperty\\\\\\\\\\\\\\\": 2}, {\\\\\\\\\\\\\\\"column\\\\\\\\\\\\\\\": {\\\\\\\\\\\\\\\"type\\\\\\\\\\\\\\\": 2, \\\\\\\\\\\\\\\"details\\\\\\\\\\\\\\\": {\\\\\\\\\\\\\\\"selectedColumn\\\\\\\\\\\\\\\": \\\\\\\\\\\\\\\"platelets\\\\\\\\\\\\\\\"}}, \\\\\\\\\\\\\\\"typeProperty\\\\\\\\\\\\\\\": 3}, {\\\\\\\\\\\\\\\"column\\\\\\\\\\\\\\\": {\\\\\\\\\\\\\\\"type\\\\\\\\\\\\\\\": 2, \\\\\\\\\\\\\\\"details\\\\\\\\\\\\\\\": {\\\\\\\\\\\\\\\"selectedColumn\\\\\\\\\\\\\\\": \\\\\\\\\\\\\\\"serum_creatinine\\\\\\\\\\\\\\\"}}, \\\\\\\\\\\\\\\"typeProperty\\\\\\\\\\\\\\\": 3}, {\\\\\\\\\\\\\\\"column\\\\\\\\\\\\\\\": {\\\\\\\\\\\\\\\"type\\\\\\\\\\\\\\\": 2, \\\\\\\\\\\\\\\"details\\\\\\\\\\\\\\\": {\\\\\\\\\\\\\\\"selectedColumn\\\\\\\\\\\\\\\": \\\\\\\\\\\\\\\"serum_sodium\\\\\\\\\\\\\\\"}}, \\\\\\\\\\\\\\\"typeProperty\\\\\\\\\\\\\\\": 2}, {\\\\\\\\\\\\\\\"column\\\\\\\\\\\\\\\": {\\\\\\\\\\\\\\\"type\\\\\\\\\\\\\\\": 2, \\\\\\\\\\\\\\\"details\\\\\\\\\\\\\\\": {\\\\\\\\\\\\\\\"selectedColumn\\\\\\\\\\\\\\\": \\\\\\\\\\\\\\\"sex\\\\\\\\\\\\\\\"}}, \\\\\\\\\\\\\\\"typeProperty\\\\\\\\\\\\\\\": 2}, {\\\\\\\\\\\\\\\"column\\\\\\\\\\\\\\\": {\\\\\\\\\\\\\\\"type\\\\\\\\\\\\\\\": 2, \\\\\\\\\\\\\\\"details\\\\\\\\\\\\\\\": {\\\\\\\\\\\\\\\"selectedColumn\\\\\\\\\\\\\\\": \\\\\\\\\\\\\\\"smoking\\\\\\\\\\\\\\\"}}, \\\\\\\\\\\\\\\"typeProperty\\\\\\\\\\\\\\\": 2}, {\\\\\\\\\\\\\\\"column\\\\\\\\\\\\\\\": {\\\\\\\\\\\\\\\"type\\\\\\\\\\\\\\\": 2, \\\\\\\\\\\\\\\"details\\\\\\\\\\\\\\\": {\\\\\\\\\\\\\\\"selectedColumn\\\\\\\\\\\\\\\": \\\\\\\\\\\\\\\"time\\\\\\\\\\\\\\\"}}, \\\\\\\\\\\\\\\"typeProperty\\\\\\\\\\\\\\\": 2}, {\\\\\\\\\\\\\\\"column\\\\\\\\\\\\\\\": {\\\\\\\\\\\\\\\"type\\\\\\\\\\\\\\\": 2, \\\\\\\\\\\\\\\"details\\\\\\\\\\\\\\\": {\\\\\\\\\\\\\\\"selectedColumn\\\\\\\\\\\\\\\": \\\\\\\\\\\\\\\"DEATH_EVENT\\\\\\\\\\\\\\\"}}, \\\\\\\\\\\\\\\"typeProperty\\\\\\\\\\\\\\\": 2}]}, \\\\\\\\\\\\\\\"localData\\\\\\\\\\\\\\\": {}, \\\\\\\\\\\\\\\"isEnabled\\\\\\\\\\\\\\\": true, \\\\\\\\\\\\\\\"name\\\\\\\\\\\\\\\": null, \\\\\\\\\\\\\\\"annotation\\\\\\\\\\\\\\\": null}], \\\\\\\\\\\\\\\"inspectors\\\\\\\\\\\\\\\": [], \\\\\\\\\\\\\\\"meta\\\\\\\\\\\\\\\": {\\\\\\\\\\\\\\\"savedDatasetId\\\\\\\\\\\\\\\": \\\\\\\\\\\\\\\"02789458-f5d0-4ae5-bace-c2091e8cb06d\\\\\\\\\\\\\\\", \\\\\\\\\\\\\\\"datasetType\\\\\\\\\\\\\\\": \\\\\\\\\\\\\\\"tabular\\\\\\\\\\\\\\\", \\\\\\\\\\\\\\\"subscriptionId\\\\\\\\\\\\\\\": \\\\\\\\\\\\\\\"dbee21d3-7701-4598-ac5f-784c0f3d62e3\\\\\\\\\\\\\\\", \\\\\\\\\\\\\\\"workspaceId\\\\\\\\\\\\\\\": \\\\\\\\\\\\\\\"0b410e9f-be7e-44a8-91e2-0a44a77c06b9\\\\\\\\\\\\\\\", \\\\\\\\\\\\\\\"workspaceLocation\\\\\\\\\\\\\\\": \\\\\\\\\\\\\\\"southcentralus\\\\\\\\\\\\\\\", \\\\\\\\\\\\\\\"partition_keys\\\\\\\\\\\\\\\": \\\\\\\\\\\\\\\"true\\\\\\\\\\\\\\\"}}\\\\\\\", \\\\\\\"activities\\\\\\\": 0}\", \"EnableSubsampling\": null, \"runTemplate\": \"AutoML\", \"azureml.runsource\": \"automl\", \"display_task_type\": \"classification\", \"dependencies_versions\": \"{\\\"azureml-widgets\\\": \\\"1.24.0\\\", \\\"azureml-train\\\": \\\"1.24.0\\\", \\\"azureml-train-restclients-hyperdrive\\\": \\\"1.24.0\\\", \\\"azureml-train-core\\\": \\\"1.24.0\\\", \\\"azureml-train-automl\\\": \\\"1.24.0\\\", \\\"azureml-train-automl-runtime\\\": \\\"1.24.0\\\", \\\"azureml-train-automl-client\\\": \\\"1.24.0\\\", \\\"azureml-tensorboard\\\": \\\"1.24.0\\\", \\\"azureml-telemetry\\\": \\\"1.24.0\\\", \\\"azureml-sdk\\\": \\\"1.24.0\\\", \\\"azureml-samples\\\": \\\"0+unknown\\\", \\\"azureml-pipeline\\\": \\\"1.24.0\\\", \\\"azureml-pipeline-steps\\\": \\\"1.24.0\\\", \\\"azureml-pipeline-core\\\": \\\"1.24.0\\\", \\\"azureml-opendatasets\\\": \\\"1.24.0\\\", \\\"azureml-model-management-sdk\\\": \\\"1.0.1b6.post1\\\", \\\"azureml-mlflow\\\": \\\"1.24.0\\\", \\\"azureml-interpret\\\": \\\"1.24.0\\\", \\\"azureml-explain-model\\\": \\\"1.24.0\\\", \\\"azureml-defaults\\\": \\\"1.24.0\\\", \\\"azureml-dataset-runtime\\\": \\\"1.24.0\\\", \\\"azureml-dataprep\\\": \\\"2.11.1\\\", \\\"azureml-dataprep-rslex\\\": \\\"1.9.0\\\", \\\"azureml-dataprep-native\\\": \\\"30.0.0\\\", \\\"azureml-datadrift\\\": \\\"1.24.0\\\", \\\"azureml-core\\\": \\\"1.24.0\\\", \\\"azureml-contrib-services\\\": \\\"1.24.0\\\", \\\"azureml-contrib-server\\\": \\\"1.24.0\\\", \\\"azureml-contrib-reinforcementlearning\\\": \\\"1.24.0\\\", \\\"azureml-contrib-pipeline-steps\\\": \\\"1.24.0\\\", \\\"azureml-contrib-notebook\\\": \\\"1.24.0\\\", \\\"azureml-contrib-gbdt\\\": \\\"1.24.0\\\", \\\"azureml-contrib-fairness\\\": \\\"1.24.0\\\", \\\"azureml-contrib-dataset\\\": \\\"1.24.0\\\", \\\"azureml-cli-common\\\": \\\"1.24.0\\\", \\\"azureml-automl-runtime\\\": \\\"1.24.0\\\", \\\"azureml-automl-dnn-nlp\\\": \\\"1.24.0\\\", \\\"azureml-automl-core\\\": \\\"1.24.0\\\", \\\"azureml-accel-models\\\": \\\"1.24.0\\\"}\", \"_aml_system_scenario_identification\": \"Remote.Parent\", \"ClientType\": \"SDK\", \"environment_cpu_name\": \"AzureML-AutoML\", \"environment_cpu_label\": \"prod\", \"environment_gpu_name\": \"AzureML-AutoML-GPU\", \"environment_gpu_label\": \"prod\", \"root_attribution\": \"automl\", \"attribution\": \"AutoML\", \"Orchestrator\": \"AutoML\", \"CancelUri\": \"https://southcentralus.experiments.azureml.net/jasmine/v1.0/subscriptions/dbee21d3-7701-4598-ac5f-784c0f3d62e3/resourceGroups/udacitycapstoneproject/providers/Microsoft.MachineLearningServices/workspaces/udacitycapstoneproject/experimentids/3246a557-eaad-42e9-b0a7-41ddee7c9f05/cancel/AutoML_e7c9ced7-8028-458d-9d7e-7eeabe093adf\", \"ClientSdkVersion\": \"1.24.0\", \"snapshotId\": \"00000000-0000-0000-0000-000000000000\", \"SetupRunId\": \"AutoML_e7c9ced7-8028-458d-9d7e-7eeabe093adf_setup\", \"SetupRunContainerId\": \"dcid.AutoML_e7c9ced7-8028-458d-9d7e-7eeabe093adf_setup\", \"FeaturizationRunJsonPath\": \"featurizer_container.json\", \"FeaturizationRunId\": \"AutoML_e7c9ced7-8028-458d-9d7e-7eeabe093adf_featurize\", \"ProblemInfoJsonString\": \"{\\\"dataset_num_categorical\\\": 0, \\\"is_sparse\\\": false, \\\"subsampling\\\": false, \\\"dataset_classes\\\": 2, \\\"dataset_features\\\": 12, \\\"dataset_samples\\\": 224, \\\"single_frequency_class_detected\\\": false}\", \"ModelExplainRunId\": \"AutoML_e7c9ced7-8028-458d-9d7e-7eeabe093adf_ModelExplain\"}, \"tags\": {\"model_explain_run\": \"best_run\", \"_aml_system_azureml.automlComponent\": \"AutoML\", \"pipeline_id\": \"\", \"score\": \"\", \"predicted_cost\": \"\", \"fit_time\": \"\", \"training_percent\": \"\", \"iteration\": \"\", \"run_preprocessor\": \"\", \"run_algorithm\": \"\", \"dynamic_whitelisting_iterations\": \"<25>;<30>;<35>;<40>;<45>;\", \"automl_best_child_run_id\": \"AutoML_e7c9ced7-8028-458d-9d7e-7eeabe093adf_48\", \"model_explain_best_run_child_id\": \"AutoML_e7c9ced7-8028-458d-9d7e-7eeabe093adf_48\"}, \"end_time_utc\": \"2021-03-21T21:28:26.39959Z\", \"status\": \"Completed\", \"log_files\": {}, \"log_groups\": [], \"run_duration\": \"0:33:11\", \"run_number\": \"1\", \"run_queued_details\": {\"status\": \"Completed\", \"details\": null}}, \"child_runs\": [{\"run_id\": \"AutoML_e7c9ced7-8028-458d-9d7e-7eeabe093adf_0\", \"run_number\": 5, \"metric\": null, \"status\": \"Completed\", \"run_type\": \"azureml.scriptrun\", \"training_percent\": \"100\", \"start_time\": \"2021-03-21T21:05:55.587985Z\", \"end_time\": \"2021-03-21T21:06:37.792035Z\", \"created_time\": \"2021-03-21T21:03:23.542361Z\", \"created_time_dt\": \"2021-03-21T21:03:23.542361Z\", \"duration\": \"0:03:14\", \"iteration\": \"0\", \"goal\": \"accuracy_max\", \"run_name\": \"MaxAbsScaler, LightGBM\", \"run_properties\": \"copy=True\", \"primary_metric\": 0.82589286, \"best_metric\": 0.82589286}, {\"run_id\": \"AutoML_e7c9ced7-8028-458d-9d7e-7eeabe093adf_1\", \"run_number\": 6, \"metric\": null, \"status\": \"Completed\", \"run_type\": \"azureml.scriptrun\", \"training_percent\": \"100\", \"start_time\": \"2021-03-21T21:06:56.281211Z\", \"end_time\": \"2021-03-21T21:07:41.43157Z\", \"created_time\": \"2021-03-21T21:03:23.557632Z\", \"created_time_dt\": \"2021-03-21T21:03:23.557632Z\", \"duration\": \"0:04:17\", \"iteration\": \"1\", \"goal\": \"accuracy_max\", \"run_name\": \"MinMaxScaler, RandomForest\", \"run_properties\": \"copy=True, feature_range=(0, 1\", \"primary_metric\": 0.85267857, \"best_metric\": 0.85267857}, {\"run_id\": \"AutoML_e7c9ced7-8028-458d-9d7e-7eeabe093adf_8\", \"run_number\": 7, \"metric\": null, \"status\": \"Completed\", \"run_type\": \"azureml.scriptrun\", \"training_percent\": \"100\", \"start_time\": \"2021-03-21T21:09:35.486621Z\", \"end_time\": \"2021-03-21T21:10:24.459328Z\", \"created_time\": \"2021-03-21T21:03:23.582757Z\", \"created_time_dt\": \"2021-03-21T21:03:23.582757Z\", \"duration\": \"0:07:00\", \"iteration\": \"8\", \"goal\": \"accuracy_max\", \"run_name\": \"StandardScalerWrapper, LightGBM\", \"run_properties\": \"<azureml.automl.runtime.shared.model_wrappers.StandardScalerWrapper object at 0x7faa911ead68\", \"primary_metric\": 0.86160714, \"best_metric\": 0.86607143}, {\"run_id\": \"AutoML_e7c9ced7-8028-458d-9d7e-7eeabe093adf_6\", \"run_number\": 8, \"metric\": null, \"status\": \"Completed\", \"run_type\": \"azureml.scriptrun\", \"training_percent\": \"100\", \"start_time\": \"2021-03-21T21:06:40.741342Z\", \"end_time\": \"2021-03-21T21:09:21.343072Z\", \"created_time\": \"2021-03-21T21:03:23.593633Z\", \"created_time_dt\": \"2021-03-21T21:03:23.593633Z\", \"duration\": \"0:05:57\", \"iteration\": \"6\", \"goal\": \"accuracy_max\", \"run_name\": \"RobustScaler, GradientBoosting\", \"run_properties\": \"copy=True, quantile_range=[10, 90], with_centering=False,\\n             with_scaling=False\", \"primary_metric\": 0.86607143, \"best_metric\": 0.86607143}, {\"run_id\": \"AutoML_e7c9ced7-8028-458d-9d7e-7eeabe093adf_9\", \"run_number\": 9, \"metric\": null, \"status\": \"Completed\", \"run_type\": \"azureml.scriptrun\", \"training_percent\": \"100\", \"start_time\": \"2021-03-21T21:04:46.70863Z\", \"end_time\": \"2021-03-21T21:05:37.490231Z\", \"created_time\": \"2021-03-21T21:03:24.042035Z\", \"created_time_dt\": \"2021-03-21T21:03:24.042035Z\", \"duration\": \"0:02:13\", \"iteration\": \"9\", \"goal\": \"accuracy_max\", \"run_name\": \"MinMaxScaler, LightGBM\", \"run_properties\": \"copy=True, feature_range=(0, 1\", \"primary_metric\": 0.83928571, \"best_metric\": 0.86607143}, {\"run_id\": \"AutoML_e7c9ced7-8028-458d-9d7e-7eeabe093adf_5\", \"run_number\": 10, \"metric\": null, \"status\": \"Completed\", \"run_type\": \"azureml.scriptrun\", \"training_percent\": \"100\", \"start_time\": \"2021-03-21T21:07:57.325264Z\", \"end_time\": \"2021-03-21T21:08:50.624296Z\", \"created_time\": \"2021-03-21T21:03:24.058056Z\", \"created_time_dt\": \"2021-03-21T21:03:24.058056Z\", \"duration\": \"0:05:26\", \"iteration\": \"5\", \"goal\": \"accuracy_max\", \"run_name\": \"RobustScaler, LightGBM\", \"run_properties\": \"copy=True, quantile_range=[10, 90], with_centering=False,\\n             with_scaling=False\", \"primary_metric\": 0.82142857, \"best_metric\": 0.85714286}, {\"run_id\": \"AutoML_e7c9ced7-8028-458d-9d7e-7eeabe093adf_3\", \"run_number\": 11, \"metric\": null, \"status\": \"Completed\", \"run_type\": \"azureml.scriptrun\", \"training_percent\": \"100\", \"start_time\": \"2021-03-21T21:09:06.826267Z\", \"end_time\": \"2021-03-21T21:10:09.528715Z\", \"created_time\": \"2021-03-21T21:03:23.57401Z\", \"created_time_dt\": \"2021-03-21T21:03:23.57401Z\", \"duration\": \"0:06:45\", \"iteration\": \"3\", \"goal\": \"accuracy_max\", \"run_name\": \"MinMaxScaler, RandomForest\", \"run_properties\": \"copy=True, feature_range=(0, 1\", \"primary_metric\": 0.85714286, \"best_metric\": 0.85714286}, {\"run_id\": \"AutoML_e7c9ced7-8028-458d-9d7e-7eeabe093adf_2\", \"run_number\": 12, \"metric\": null, \"status\": \"Completed\", \"run_type\": \"azureml.scriptrun\", \"training_percent\": \"100\", \"start_time\": \"2021-03-21T21:03:36.37236Z\", \"end_time\": \"2021-03-21T21:04:27.157557Z\", \"created_time\": \"2021-03-21T21:03:23.581172Z\", \"created_time_dt\": \"2021-03-21T21:03:23.581172Z\", \"duration\": \"0:01:03\", \"iteration\": \"2\", \"goal\": \"accuracy_max\", \"run_name\": \"MinMaxScaler, RandomForest\", \"run_properties\": \"copy=True, feature_range=(0, 1\", \"primary_metric\": 0.84375, \"best_metric\": 0.85267857}, {\"run_id\": \"AutoML_e7c9ced7-8028-458d-9d7e-7eeabe093adf_7\", \"run_number\": 13, \"metric\": null, \"status\": \"Completed\", \"run_type\": \"azureml.scriptrun\", \"training_percent\": \"100\", \"start_time\": \"2021-03-21T21:10:32.183641Z\", \"end_time\": \"2021-03-21T21:11:26.221921Z\", \"created_time\": \"2021-03-21T21:03:23.565309Z\", \"created_time_dt\": \"2021-03-21T21:03:23.565309Z\", \"duration\": \"0:08:02\", \"iteration\": \"7\", \"goal\": \"accuracy_max\", \"run_name\": \"MaxAbsScaler, LightGBM\", \"run_properties\": \"copy=True\", \"primary_metric\": 0.86607143, \"best_metric\": 0.86607143}, {\"run_id\": \"AutoML_e7c9ced7-8028-458d-9d7e-7eeabe093adf_4\", \"run_number\": 14, \"metric\": null, \"status\": \"Completed\", \"run_type\": \"azureml.scriptrun\", \"training_percent\": \"100\", \"start_time\": \"2021-03-21T21:10:24.026627Z\", \"end_time\": \"2021-03-21T21:11:26.629157Z\", \"created_time\": \"2021-03-21T21:03:23.569774Z\", \"created_time_dt\": \"2021-03-21T21:03:23.569774Z\", \"duration\": \"0:08:03\", \"iteration\": \"4\", \"goal\": \"accuracy_max\", \"run_name\": \"MinMaxScaler, RandomForest\", \"run_properties\": \"copy=True, feature_range=(0, 1\", \"primary_metric\": 0.83482143, \"best_metric\": 0.85714286}, {\"run_id\": \"AutoML_e7c9ced7-8028-458d-9d7e-7eeabe093adf_10\", \"run_number\": 15, \"metric\": null, \"status\": \"Completed\", \"run_type\": \"azureml.scriptrun\", \"training_percent\": \"100\", \"start_time\": \"2021-03-21T21:11:37.914899Z\", \"end_time\": \"2021-03-21T21:12:32.005995Z\", \"created_time\": \"2021-03-21T21:04:31.494614Z\", \"created_time_dt\": \"2021-03-21T21:04:31.494614Z\", \"duration\": \"0:08:00\", \"iteration\": \"10\", \"goal\": \"accuracy_max\", \"run_name\": \"RobustScaler, LogisticRegression\", \"run_properties\": \"copy=True, quantile_range=[25, 75], with_centering=True,\\n             with_scaling=True\", \"primary_metric\": 0.81696429, \"best_metric\": 0.86607143}, {\"run_id\": \"AutoML_e7c9ced7-8028-458d-9d7e-7eeabe093adf_11\", \"run_number\": 16, \"metric\": null, \"status\": \"Completed\", \"run_type\": \"azureml.scriptrun\", \"training_percent\": \"100\", \"start_time\": \"2021-03-21T21:11:47.661944Z\", \"end_time\": \"2021-03-21T21:12:27.765542Z\", \"created_time\": \"2021-03-21T21:05:40.083853Z\", \"created_time_dt\": \"2021-03-21T21:05:40.083853Z\", \"duration\": \"0:06:47\", \"iteration\": \"11\", \"goal\": \"accuracy_max\", \"run_name\": \"MinMaxScaler, SVM\", \"run_properties\": \"copy=True, feature_range=(0, 1\", \"primary_metric\": 0.70535714, \"best_metric\": 0.86607143}, {\"run_id\": \"AutoML_e7c9ced7-8028-458d-9d7e-7eeabe093adf_12\", \"run_number\": 17, \"metric\": null, \"status\": \"Completed\", \"run_type\": \"azureml.scriptrun\", \"training_percent\": \"100\", \"start_time\": \"2021-03-21T21:12:47.085641Z\", \"end_time\": \"2021-03-21T21:13:35.5714Z\", \"created_time\": \"2021-03-21T21:06:40.559337Z\", \"created_time_dt\": \"2021-03-21T21:06:40.559337Z\", \"duration\": \"0:06:55\", \"iteration\": \"12\", \"goal\": \"accuracy_max\", \"run_name\": \"MinMaxScaler, SVM\", \"run_properties\": \"copy=True, feature_range=(0, 1\", \"primary_metric\": 0.75446429, \"best_metric\": 0.86607143}, {\"run_id\": \"AutoML_e7c9ced7-8028-458d-9d7e-7eeabe093adf_13\", \"run_number\": 18, \"metric\": null, \"status\": \"Completed\", \"run_type\": \"azureml.scriptrun\", \"training_percent\": \"100\", \"start_time\": \"2021-03-21T21:12:52.038938Z\", \"end_time\": \"2021-03-21T21:13:34.325675Z\", \"created_time\": \"2021-03-21T21:07:44.735419Z\", \"created_time_dt\": \"2021-03-21T21:07:44.735419Z\", \"duration\": \"0:05:49\", \"iteration\": \"13\", \"goal\": \"accuracy_max\", \"run_name\": \"MinMaxScaler, SVM\", \"run_properties\": \"copy=True, feature_range=(0, 1\", \"primary_metric\": 0.75892857, \"best_metric\": 0.86607143}, {\"run_id\": \"AutoML_e7c9ced7-8028-458d-9d7e-7eeabe093adf_14\", \"run_number\": 19, \"metric\": null, \"status\": \"Completed\", \"run_type\": \"azureml.scriptrun\", \"training_percent\": \"100\", \"start_time\": \"2021-03-21T21:13:55.333779Z\", \"end_time\": \"2021-03-21T21:14:37.217092Z\", \"created_time\": \"2021-03-21T21:08:53.5441Z\", \"created_time_dt\": \"2021-03-21T21:08:53.5441Z\", \"duration\": \"0:05:43\", \"iteration\": \"14\", \"goal\": \"accuracy_max\", \"run_name\": \"StandardScalerWrapper, LogisticRegression\", \"run_properties\": \"<azureml.automl.runtime.shared.model_wrappers.StandardScalerWrapper object at 0x7f3e791346a0\", \"primary_metric\": 0.8125, \"best_metric\": 0.86607143}, {\"run_id\": \"AutoML_e7c9ced7-8028-458d-9d7e-7eeabe093adf_15\", \"run_number\": 20, \"metric\": null, \"status\": \"Completed\", \"run_type\": \"azureml.scriptrun\", \"training_percent\": \"100\", \"start_time\": \"2021-03-21T21:13:51.159851Z\", \"end_time\": \"2021-03-21T21:14:36.306152Z\", \"created_time\": \"2021-03-21T21:09:24.10557Z\", \"created_time_dt\": \"2021-03-21T21:09:24.10557Z\", \"duration\": \"0:05:12\", \"iteration\": \"15\", \"goal\": \"accuracy_max\", \"run_name\": \"SparseNormalizer, LightGBM\", \"run_properties\": \"<azureml.automl.runtime.shared.model_wrappers.SparseNormalizer object at 0x7f51f5bed390\", \"primary_metric\": 0.83928571, \"best_metric\": 0.86607143}, {\"run_id\": \"AutoML_e7c9ced7-8028-458d-9d7e-7eeabe093adf_16\", \"run_number\": 21, \"metric\": null, \"status\": \"Completed\", \"run_type\": \"azureml.scriptrun\", \"training_percent\": \"100\", \"start_time\": \"2021-03-21T21:14:51.808775Z\", \"end_time\": \"2021-03-21T21:15:38.600829Z\", \"created_time\": \"2021-03-21T21:10:11.419662Z\", \"created_time_dt\": \"2021-03-21T21:10:11.419662Z\", \"duration\": \"0:05:27\", \"iteration\": \"16\", \"goal\": \"accuracy_max\", \"run_name\": \"StandardScalerWrapper, ExtremeRandomTrees\", \"run_properties\": \"<azureml.automl.runtime.shared.model_wrappers.StandardScalerWrapper object at 0x7fef57456630\", \"primary_metric\": 0.66964286, \"best_metric\": 0.86607143}, {\"run_id\": \"AutoML_e7c9ced7-8028-458d-9d7e-7eeabe093adf_17\", \"run_number\": 22, \"metric\": null, \"status\": \"Completed\", \"run_type\": \"azureml.scriptrun\", \"training_percent\": \"100\", \"start_time\": \"2021-03-21T21:14:56.424643Z\", \"end_time\": \"2021-03-21T21:15:41.685937Z\", \"created_time\": \"2021-03-21T21:10:26.497137Z\", \"created_time_dt\": \"2021-03-21T21:10:26.497137Z\", \"duration\": \"0:05:15\", \"iteration\": \"17\", \"goal\": \"accuracy_max\", \"run_name\": \"RobustScaler, RandomForest\", \"run_properties\": \"copy=True, quantile_range=[25, 75], with_centering=False,\\n             with_scaling=True\", \"primary_metric\": 0.85714286, \"best_metric\": 0.86607143}, {\"run_id\": \"AutoML_e7c9ced7-8028-458d-9d7e-7eeabe093adf_19\", \"run_number\": 23, \"metric\": null, \"status\": \"Completed\", \"run_type\": \"azureml.scriptrun\", \"training_percent\": \"100\", \"start_time\": \"2021-03-21T21:15:51.398496Z\", \"end_time\": \"2021-03-21T21:16:43.16091Z\", \"created_time\": \"2021-03-21T21:11:28.310697Z\", \"created_time_dt\": \"2021-03-21T21:11:28.310697Z\", \"duration\": \"0:05:14\", \"iteration\": \"19\", \"goal\": \"accuracy_max\", \"run_name\": \"StandardScalerWrapper, ExtremeRandomTrees\", \"run_properties\": \"<azureml.automl.runtime.shared.model_wrappers.StandardScalerWrapper object at 0x7f0ef7b00dd8\", \"primary_metric\": 0.83035714, \"best_metric\": 0.86607143}, {\"run_id\": \"AutoML_e7c9ced7-8028-458d-9d7e-7eeabe093adf_18\", \"run_number\": 24, \"metric\": null, \"status\": \"Completed\", \"run_type\": \"azureml.scriptrun\", \"training_percent\": \"100\", \"start_time\": \"2021-03-21T21:15:58.270905Z\", \"end_time\": \"2021-03-21T21:16:51.271762Z\", \"created_time\": \"2021-03-21T21:11:28.328141Z\", \"created_time_dt\": \"2021-03-21T21:11:28.328141Z\", \"duration\": \"0:05:22\", \"iteration\": \"18\", \"goal\": \"accuracy_max\", \"run_name\": \"MaxAbsScaler, LightGBM\", \"run_properties\": \"copy=True\", \"primary_metric\": 0.84375, \"best_metric\": 0.86607143}, {\"run_id\": \"AutoML_e7c9ced7-8028-458d-9d7e-7eeabe093adf_20\", \"run_number\": 25, \"metric\": null, \"status\": \"Completed\", \"run_type\": \"azureml.scriptrun\", \"training_percent\": \"100\", \"start_time\": \"2021-03-21T21:16:55.526803Z\", \"end_time\": \"2021-03-21T21:17:47.759211Z\", \"created_time\": \"2021-03-21T21:12:29.566779Z\", \"created_time_dt\": \"2021-03-21T21:12:29.566779Z\", \"duration\": \"0:05:18\", \"iteration\": \"20\", \"goal\": \"accuracy_max\", \"run_name\": \"MinMaxScaler, LightGBM\", \"run_properties\": \"copy=True, feature_range=(0, 1\", \"primary_metric\": 0.77232143, \"best_metric\": 0.86607143}, {\"run_id\": \"AutoML_e7c9ced7-8028-458d-9d7e-7eeabe093adf_21\", \"run_number\": 26, \"metric\": null, \"status\": \"Completed\", \"run_type\": \"azureml.scriptrun\", \"training_percent\": \"100\", \"start_time\": \"2021-03-21T21:17:06.192079Z\", \"end_time\": \"2021-03-21T21:17:59.442659Z\", \"created_time\": \"2021-03-21T21:12:33.731716Z\", \"created_time_dt\": \"2021-03-21T21:12:33.731716Z\", \"duration\": \"0:05:25\", \"iteration\": \"21\", \"goal\": \"accuracy_max\", \"run_name\": \"MaxAbsScaler, GradientBoosting\", \"run_properties\": \"copy=True\", \"primary_metric\": 0.86160714, \"best_metric\": 0.86607143}, {\"run_id\": \"AutoML_e7c9ced7-8028-458d-9d7e-7eeabe093adf_22\", \"run_number\": 27, \"metric\": null, \"status\": \"Completed\", \"run_type\": \"azureml.scriptrun\", \"training_percent\": \"100\", \"start_time\": \"2021-03-21T21:17:59.628636Z\", \"end_time\": \"2021-03-21T21:18:44.602513Z\", \"created_time\": \"2021-03-21T21:13:36.087602Z\", \"created_time_dt\": \"2021-03-21T21:13:36.087602Z\", \"duration\": \"0:05:08\", \"iteration\": \"22\", \"goal\": \"accuracy_max\", \"run_name\": \"RobustScaler, LightGBM\", \"run_properties\": \"copy=True, quantile_range=[25, 75], with_centering=True,\\n             with_scaling=True\", \"primary_metric\": 0.83928571, \"best_metric\": 0.86607143}, {\"run_id\": \"AutoML_e7c9ced7-8028-458d-9d7e-7eeabe093adf_23\", \"run_number\": 28, \"metric\": null, \"status\": \"Completed\", \"run_type\": \"azureml.scriptrun\", \"training_percent\": \"100\", \"start_time\": \"2021-03-21T21:18:16.533783Z\", \"end_time\": \"2021-03-21T21:19:10.17861Z\", \"created_time\": \"2021-03-21T21:13:38.981149Z\", \"created_time_dt\": \"2021-03-21T21:13:38.981149Z\", \"duration\": \"0:05:31\", \"iteration\": \"23\", \"goal\": \"accuracy_max\", \"run_name\": \"StandardScalerWrapper, RandomForest\", \"run_properties\": \"<azureml.automl.runtime.shared.model_wrappers.StandardScalerWrapper object at 0x7efec0458048\", \"primary_metric\": 0.84821429, \"best_metric\": 0.86607143}, {\"run_id\": \"AutoML_e7c9ced7-8028-458d-9d7e-7eeabe093adf_24\", \"run_number\": 29, \"metric\": null, \"status\": \"Completed\", \"run_type\": \"azureml.scriptrun\", \"training_percent\": \"100\", \"start_time\": \"2021-03-21T21:18:57.505698Z\", \"end_time\": \"2021-03-21T21:19:48.806481Z\", \"created_time\": \"2021-03-21T21:14:38.436954Z\", \"created_time_dt\": \"2021-03-21T21:14:38.436954Z\", \"duration\": \"0:05:10\", \"iteration\": \"24\", \"goal\": \"accuracy_max\", \"run_name\": \"StandardScalerWrapper, LightGBM\", \"run_properties\": \"<azureml.automl.runtime.shared.model_wrappers.StandardScalerWrapper object at 0x7fa70eb9cda0\", \"primary_metric\": 0.79017857, \"best_metric\": 0.86607143}, {\"run_id\": \"AutoML_e7c9ced7-8028-458d-9d7e-7eeabe093adf_25\", \"run_number\": 30, \"metric\": null, \"status\": \"Completed\", \"run_type\": \"azureml.scriptrun\", \"training_percent\": \"100\", \"start_time\": \"2021-03-21T21:19:29.666966Z\", \"end_time\": \"2021-03-21T21:20:17.414666Z\", \"created_time\": \"2021-03-21T21:14:42.760021Z\", \"created_time_dt\": \"2021-03-21T21:14:42.760021Z\", \"duration\": \"0:05:34\", \"iteration\": \"25\", \"goal\": \"accuracy_max\", \"run_name\": \"MaxAbsScaler, GradientBoosting\", \"run_properties\": \"copy=True\", \"primary_metric\": 0.85714286, \"best_metric\": 0.86607143}, {\"run_id\": \"AutoML_e7c9ced7-8028-458d-9d7e-7eeabe093adf_26\", \"run_number\": 31, \"metric\": null, \"status\": \"Completed\", \"run_type\": \"azureml.scriptrun\", \"training_percent\": \"100\", \"start_time\": \"2021-03-21T21:20:04.716458Z\", \"end_time\": \"2021-03-21T21:20:50.190074Z\", \"created_time\": \"2021-03-21T21:15:40.504652Z\", \"created_time_dt\": \"2021-03-21T21:15:40.504652Z\", \"duration\": \"0:05:09\", \"iteration\": \"26\", \"goal\": \"accuracy_max\", \"run_name\": \"StandardScalerWrapper, KNN\", \"run_properties\": \"<azureml.automl.runtime.shared.model_wrappers.StandardScalerWrapper object at 0x7fa30247cc88\", \"primary_metric\": 0.63839286, \"best_metric\": 0.86607143}, {\"run_id\": \"AutoML_e7c9ced7-8028-458d-9d7e-7eeabe093adf_27\", \"run_number\": 32, \"metric\": null, \"status\": \"Completed\", \"run_type\": \"azureml.scriptrun\", \"training_percent\": \"100\", \"start_time\": \"2021-03-21T21:20:29.047254Z\", \"end_time\": \"2021-03-21T21:21:09.120681Z\", \"created_time\": \"2021-03-21T21:15:44.049328Z\", \"created_time_dt\": \"2021-03-21T21:15:44.049328Z\", \"duration\": \"0:05:25\", \"iteration\": \"27\", \"goal\": \"accuracy_max\", \"run_name\": \"MaxAbsScaler, LightGBM\", \"run_properties\": \"copy=True\", \"primary_metric\": 0.71875, \"best_metric\": 0.86607143}, {\"run_id\": \"AutoML_e7c9ced7-8028-458d-9d7e-7eeabe093adf_28\", \"run_number\": 33, \"metric\": null, \"status\": \"Completed\", \"run_type\": \"azureml.scriptrun\", \"training_percent\": \"100\", \"start_time\": \"2021-03-21T21:21:05.578789Z\", \"end_time\": \"2021-03-21T21:21:50.804187Z\", \"created_time\": \"2021-03-21T21:16:45.406723Z\", \"created_time_dt\": \"2021-03-21T21:16:45.406723Z\", \"duration\": \"0:05:05\", \"iteration\": \"28\", \"goal\": \"accuracy_max\", \"run_name\": \"MaxAbsScaler, ExtremeRandomTrees\", \"run_properties\": \"copy=True\", \"primary_metric\": 0.82589286, \"best_metric\": 0.86607143}, {\"run_id\": \"AutoML_e7c9ced7-8028-458d-9d7e-7eeabe093adf_29\", \"run_number\": 34, \"metric\": null, \"status\": \"Completed\", \"run_type\": \"azureml.scriptrun\", \"training_percent\": \"100\", \"start_time\": \"2021-03-21T21:21:27.421106Z\", \"end_time\": \"2021-03-21T21:22:13.576014Z\", \"created_time\": \"2021-03-21T21:16:53.943049Z\", \"created_time_dt\": \"2021-03-21T21:16:53.943049Z\", \"duration\": \"0:05:19\", \"iteration\": \"29\", \"goal\": \"accuracy_max\", \"run_name\": \"StandardScalerWrapper, RandomForest\", \"run_properties\": \"<azureml.automl.runtime.shared.model_wrappers.StandardScalerWrapper object at 0x7f82af9a3dd8\", \"primary_metric\": 0.79464286, \"best_metric\": 0.86607143}, {\"run_id\": \"AutoML_e7c9ced7-8028-458d-9d7e-7eeabe093adf_30\", \"run_number\": 35, \"metric\": null, \"status\": \"Completed\", \"run_type\": \"azureml.scriptrun\", \"training_percent\": \"100\", \"start_time\": \"2021-03-21T21:22:06.001822Z\", \"end_time\": \"2021-03-21T21:22:50.489787Z\", \"created_time\": \"2021-03-21T21:17:50.401752Z\", \"created_time_dt\": \"2021-03-21T21:17:50.401752Z\", \"duration\": \"0:05:00\", \"iteration\": \"30\", \"goal\": \"accuracy_max\", \"run_name\": \"PCA, GradientBoosting\", \"run_properties\": \"copy=True, iterated_power='auto', n_components=0.3563157894736842,\\n    random_state=None, svd_solver='auto', tol=0.0, whiten=True\", \"primary_metric\": 0.66964286, \"best_metric\": 0.86607143}, {\"run_id\": \"AutoML_e7c9ced7-8028-458d-9d7e-7eeabe093adf_31\", \"run_number\": 36, \"metric\": null, \"status\": \"Completed\", \"run_type\": \"azureml.scriptrun\", \"training_percent\": \"100\", \"start_time\": \"2021-03-21T21:22:28.183771Z\", \"end_time\": \"2021-03-21T21:23:13.775546Z\", \"created_time\": \"2021-03-21T21:18:01.437884Z\", \"created_time_dt\": \"2021-03-21T21:18:01.437884Z\", \"duration\": \"0:05:12\", \"iteration\": \"31\", \"goal\": \"accuracy_max\", \"run_name\": \"StandardScalerWrapper, LightGBM\", \"run_properties\": \"<azureml.automl.runtime.shared.model_wrappers.StandardScalerWrapper object at 0x7fdeeed86470\", \"primary_metric\": 0.74107143, \"best_metric\": 0.86607143}, {\"run_id\": \"AutoML_e7c9ced7-8028-458d-9d7e-7eeabe093adf_32\", \"run_number\": 37, \"metric\": null, \"status\": \"Completed\", \"run_type\": \"azureml.scriptrun\", \"training_percent\": \"100\", \"start_time\": \"2021-03-21T21:23:05.244134Z\", \"end_time\": \"2021-03-21T21:23:49.948486Z\", \"created_time\": \"2021-03-21T21:18:46.422571Z\", \"created_time_dt\": \"2021-03-21T21:18:46.422571Z\", \"duration\": \"0:05:03\", \"iteration\": \"32\", \"goal\": \"accuracy_max\", \"run_name\": \"StandardScalerWrapper, GradientBoosting\", \"run_properties\": \"<azureml.automl.runtime.shared.model_wrappers.StandardScalerWrapper object at 0x7f4ca4e42cf8\", \"primary_metric\": 0.85267857, \"best_metric\": 0.86607143}, {\"run_id\": \"AutoML_e7c9ced7-8028-458d-9d7e-7eeabe093adf_33\", \"run_number\": 38, \"metric\": null, \"status\": \"Completed\", \"run_type\": \"azureml.scriptrun\", \"training_percent\": \"100\", \"start_time\": \"2021-03-21T21:23:27.54609Z\", \"end_time\": \"2021-03-21T21:24:18.244591Z\", \"created_time\": \"2021-03-21T21:19:11.989052Z\", \"created_time_dt\": \"2021-03-21T21:19:11.989052Z\", \"duration\": \"0:05:06\", \"iteration\": \"33\", \"goal\": \"accuracy_max\", \"run_name\": \"MinMaxScaler, ExtremeRandomTrees\", \"run_properties\": \"copy=True, feature_range=(0, 1\", \"primary_metric\": 0.83482143, \"best_metric\": 0.86607143}, {\"run_id\": \"AutoML_e7c9ced7-8028-458d-9d7e-7eeabe093adf_34\", \"run_number\": 39, \"metric\": null, \"status\": \"Completed\", \"run_type\": \"azureml.scriptrun\", \"training_percent\": \"100\", \"start_time\": \"2021-03-21T21:23:58.086373Z\", \"end_time\": \"2021-03-21T21:24:47.698805Z\", \"created_time\": \"2021-03-21T21:19:50.787668Z\", \"created_time_dt\": \"2021-03-21T21:19:50.787668Z\", \"duration\": \"0:04:56\", \"iteration\": \"34\", \"goal\": \"accuracy_max\", \"run_name\": \"SparseNormalizer, LightGBM\", \"run_properties\": \"<azureml.automl.runtime.shared.model_wrappers.SparseNormalizer object at 0x7ff402ececc0\", \"primary_metric\": 0.80357143, \"best_metric\": 0.86607143}, {\"run_id\": \"AutoML_e7c9ced7-8028-458d-9d7e-7eeabe093adf_35\", \"run_number\": 40, \"metric\": null, \"status\": \"Completed\", \"run_type\": \"azureml.scriptrun\", \"training_percent\": \"100\", \"start_time\": \"2021-03-21T21:24:32.831715Z\", \"end_time\": \"2021-03-21T21:25:29.858391Z\", \"created_time\": \"2021-03-21T21:20:20.135389Z\", \"created_time_dt\": \"2021-03-21T21:20:20.135389Z\", \"duration\": \"0:05:09\", \"iteration\": \"35\", \"goal\": \"accuracy_max\", \"run_name\": \"RobustScaler, GradientBoosting\", \"run_properties\": \"copy=True, quantile_range=[10, 90], with_centering=False,\\n             with_scaling=True\", \"primary_metric\": 0.8125, \"best_metric\": 0.86607143}, {\"run_id\": \"AutoML_e7c9ced7-8028-458d-9d7e-7eeabe093adf_36\", \"run_number\": 41, \"metric\": null, \"status\": \"Completed\", \"run_type\": \"azureml.scriptrun\", \"training_percent\": \"100\", \"start_time\": \"2021-03-21T21:25:00.944826Z\", \"end_time\": \"2021-03-21T21:25:51.369307Z\", \"created_time\": \"2021-03-21T21:20:52.514218Z\", \"created_time_dt\": \"2021-03-21T21:20:52.514218Z\", \"duration\": \"0:04:58\", \"iteration\": \"36\", \"goal\": \"accuracy_max\", \"run_name\": \"MaxAbsScaler, LightGBM\", \"run_properties\": \"copy=True\", \"primary_metric\": 0.84375, \"best_metric\": 0.86607143}, {\"run_id\": \"AutoML_e7c9ced7-8028-458d-9d7e-7eeabe093adf_37\", \"run_number\": 42, \"metric\": null, \"status\": \"Completed\", \"run_type\": \"azureml.scriptrun\", \"training_percent\": \"100\", \"start_time\": \"2021-03-21T21:25:40.341267Z\", \"end_time\": \"2021-03-21T21:26:32.125689Z\", \"created_time\": \"2021-03-21T21:21:13.71168Z\", \"created_time_dt\": \"2021-03-21T21:21:13.71168Z\", \"duration\": \"0:05:18\", \"iteration\": \"37\", \"goal\": \"accuracy_max\", \"run_name\": \"StandardScalerWrapper, RandomForest\", \"run_properties\": \"<azureml.automl.runtime.shared.model_wrappers.StandardScalerWrapper object at 0x7f12528b1978\", \"primary_metric\": 0.84821429, \"best_metric\": 0.86607143}, {\"run_id\": \"AutoML_e7c9ced7-8028-458d-9d7e-7eeabe093adf_38\", \"run_number\": 43, \"metric\": null, \"status\": \"Completed\", \"run_type\": \"azureml.scriptrun\", \"training_percent\": \"100\", \"start_time\": \"2021-03-21T21:26:08.006607Z\", \"end_time\": \"2021-03-21T21:26:51.463764Z\", \"created_time\": \"2021-03-21T21:21:55.470219Z\", \"created_time_dt\": \"2021-03-21T21:21:55.470219Z\", \"duration\": \"0:04:55\", \"iteration\": \"38\", \"goal\": \"accuracy_max\", \"run_name\": \"StandardScalerWrapper, ExtremeRandomTrees\", \"run_properties\": \"<azureml.automl.runtime.shared.model_wrappers.StandardScalerWrapper object at 0x7fcab111ad68\", \"primary_metric\": 0.82589286, \"best_metric\": 0.86607143}, {\"run_id\": \"AutoML_e7c9ced7-8028-458d-9d7e-7eeabe093adf_39\", \"run_number\": 44, \"metric\": null, \"status\": \"Canceled\", \"run_type\": \"azureml.scriptrun\", \"training_percent\": \"100\", \"start_time\": \"2021-03-21T21:26:51.192995Z\", \"end_time\": \"2021-03-21T21:27:03.126023Z\", \"created_time\": \"2021-03-21T21:22:15.470078Z\", \"created_time_dt\": \"2021-03-21T21:22:15.470078Z\", \"duration\": \"0:04:47\", \"iteration\": \"39\", \"goal\": null, \"run_name\": \"Canceled\", \"run_properties\": null}, {\"run_id\": \"AutoML_e7c9ced7-8028-458d-9d7e-7eeabe093adf_40\", \"run_number\": 45, \"metric\": null, \"status\": \"Canceled\", \"run_type\": \"azureml.scriptrun\", \"training_percent\": \"100\", \"start_time\": \"2021-03-21T21:22:53.156119Z\", \"end_time\": \"2021-03-21T21:27:00.069395Z\", \"created_time\": \"2021-03-21T21:22:53.156119Z\", \"created_time_dt\": \"2021-03-21T21:22:53.156119Z\", \"duration\": \"0:04:06\", \"iteration\": \"40\", \"goal\": null, \"run_name\": \"Canceled\", \"run_properties\": null}, {\"run_id\": \"AutoML_e7c9ced7-8028-458d-9d7e-7eeabe093adf_41\", \"run_number\": 46, \"metric\": null, \"status\": \"Canceled\", \"run_type\": \"azureml.scriptrun\", \"training_percent\": \"100\", \"start_time\": \"2021-03-21T21:23:15.681596Z\", \"end_time\": \"2021-03-21T21:27:02.971631Z\", \"created_time\": \"2021-03-21T21:23:15.681596Z\", \"created_time_dt\": \"2021-03-21T21:23:15.681596Z\", \"duration\": \"0:03:47\", \"iteration\": \"41\", \"goal\": null, \"run_name\": \"Canceled\", \"run_properties\": null}, {\"run_id\": \"AutoML_e7c9ced7-8028-458d-9d7e-7eeabe093adf_42\", \"run_number\": 47, \"metric\": null, \"status\": \"Canceled\", \"run_type\": \"azureml.scriptrun\", \"training_percent\": \"100\", \"start_time\": \"2021-03-21T21:23:51.970005Z\", \"end_time\": \"2021-03-21T21:27:01.873412Z\", \"created_time\": \"2021-03-21T21:23:51.970005Z\", \"created_time_dt\": \"2021-03-21T21:23:51.970005Z\", \"duration\": \"0:03:09\", \"iteration\": \"42\", \"goal\": null, \"run_name\": \"Canceled\", \"run_properties\": null}, {\"run_id\": \"AutoML_e7c9ced7-8028-458d-9d7e-7eeabe093adf_43\", \"run_number\": 48, \"metric\": null, \"status\": \"Canceled\", \"run_type\": \"azureml.scriptrun\", \"training_percent\": \"100\", \"start_time\": \"2021-03-21T21:24:20.135107Z\", \"end_time\": \"2021-03-21T21:27:01.614903Z\", \"created_time\": \"2021-03-21T21:24:20.135107Z\", \"created_time_dt\": \"2021-03-21T21:24:20.135107Z\", \"duration\": \"0:02:41\", \"iteration\": \"43\", \"goal\": null, \"run_name\": \"Canceled\", \"run_properties\": null}, {\"run_id\": \"AutoML_e7c9ced7-8028-458d-9d7e-7eeabe093adf_44\", \"run_number\": 49, \"metric\": null, \"status\": \"Canceled\", \"run_type\": \"azureml.scriptrun\", \"training_percent\": \"100\", \"start_time\": \"2021-03-21T21:24:49.830289Z\", \"end_time\": \"2021-03-21T21:27:01.728024Z\", \"created_time\": \"2021-03-21T21:24:49.830289Z\", \"created_time_dt\": \"2021-03-21T21:24:49.830289Z\", \"duration\": \"0:02:11\", \"iteration\": \"44\", \"goal\": null, \"run_name\": \"Canceled\", \"run_properties\": null}, {\"run_id\": \"AutoML_e7c9ced7-8028-458d-9d7e-7eeabe093adf_45\", \"run_number\": 50, \"metric\": null, \"status\": \"Canceled\", \"run_type\": \"azureml.scriptrun\", \"training_percent\": \"100\", \"start_time\": \"2021-03-21T21:25:32.577474Z\", \"end_time\": \"2021-03-21T21:27:01.550422Z\", \"created_time\": \"2021-03-21T21:25:32.577474Z\", \"created_time_dt\": \"2021-03-21T21:25:32.577474Z\", \"duration\": \"0:01:28\", \"iteration\": \"45\", \"goal\": null, \"run_name\": \"Canceled\", \"run_properties\": null}, {\"run_id\": \"AutoML_e7c9ced7-8028-458d-9d7e-7eeabe093adf_46\", \"run_number\": 51, \"metric\": null, \"status\": \"Canceled\", \"run_type\": \"azureml.scriptrun\", \"training_percent\": \"100\", \"start_time\": \"2021-03-21T21:25:53.427635Z\", \"end_time\": \"2021-03-21T21:26:59.979305Z\", \"created_time\": \"2021-03-21T21:25:53.427635Z\", \"created_time_dt\": \"2021-03-21T21:25:53.427635Z\", \"duration\": \"0:01:06\", \"iteration\": \"46\", \"goal\": null, \"run_name\": \"Canceled\", \"run_properties\": null}, {\"run_id\": \"AutoML_e7c9ced7-8028-458d-9d7e-7eeabe093adf_47\", \"run_number\": 52, \"metric\": null, \"status\": \"Canceled\", \"run_type\": \"azureml.scriptrun\", \"training_percent\": \"100\", \"start_time\": \"2021-03-21T21:26:34.697473Z\", \"end_time\": \"2021-03-21T21:27:00.142188Z\", \"created_time\": \"2021-03-21T21:26:34.697473Z\", \"created_time_dt\": \"2021-03-21T21:26:34.697473Z\", \"duration\": \"0:00:25\", \"iteration\": \"47\", \"goal\": null, \"run_name\": \"Canceled\", \"run_properties\": null}, {\"run_id\": \"AutoML_e7c9ced7-8028-458d-9d7e-7eeabe093adf_48\", \"run_number\": 53, \"metric\": null, \"status\": \"Completed\", \"run_type\": \"azureml.scriptrun\", \"training_percent\": \"100\", \"start_time\": \"2021-03-21T21:27:16.916626Z\", \"end_time\": \"2021-03-21T21:28:19.272707Z\", \"created_time\": \"2021-03-21T21:27:04.10852Z\", \"created_time_dt\": \"2021-03-21T21:27:04.10852Z\", \"duration\": \"0:01:15\", \"iteration\": \"48\", \"goal\": \"accuracy_max\", \"run_name\": \"VotingEnsemble\", \"run_properties\": \"classification_labels=None,\\n                              estimators=[('7',\\n                                           Pipeline(memory=None,\\n                                                    steps=[('maxabsscaler',\\n                                                            MaxAbsScaler(copy=True\", \"primary_metric\": 0.89732143, \"best_metric\": 0.89732143}, {\"run_id\": \"AutoML_e7c9ced7-8028-458d-9d7e-7eeabe093adf_49\", \"run_number\": 54, \"metric\": null, \"status\": \"Completed\", \"run_type\": \"azureml.scriptrun\", \"training_percent\": \"100\", \"start_time\": \"2021-03-21T21:27:18.460489Z\", \"end_time\": \"2021-03-21T21:28:20.440115Z\", \"created_time\": \"2021-03-21T21:27:04.150482Z\", \"created_time_dt\": \"2021-03-21T21:27:04.150482Z\", \"duration\": \"0:01:16\", \"iteration\": \"49\", \"goal\": \"accuracy_max\", \"run_name\": \"StackEnsemble\", \"run_properties\": \"base_learners=[('7',\\n                                        Pipeline(memory=None,\\n                                                 steps=[('maxabsscaler',\\n                                                         MaxAbsScaler(copy=True\", \"primary_metric\": 0.88839286, \"best_metric\": 0.89732143}], \"children_metrics\": {\"categories\": [0], \"series\": {\"precision_score_micro\": [{\"categories\": [\"0\", \"1\", \"2\", \"3\", \"4\", \"5\", \"6\", \"7\", \"8\", \"9\", \"10\", \"11\", \"12\", \"13\", \"14\", \"15\", \"16\", \"17\", \"18\", \"19\", \"20\", \"21\", \"22\", \"23\", \"24\", \"25\", \"26\", \"27\", \"28\", \"29\", \"30\", \"31\", \"32\", \"33\", \"34\", \"35\", \"36\", \"37\", \"38\", \"48\", \"49\"], \"mode\": \"markers\", \"name\": \"precision_score_micro\", \"stepped\": false, \"type\": \"scatter\", \"data\": [0.8258928571428572, 0.8526785714285714, 0.84375, 0.8571428571428572, 0.8348214285714286, 0.8214285714285714, 0.8660714285714286, 0.8660714285714286, 0.8616071428571428, 0.8392857142857143, 0.8169642857142857, 0.7053571428571428, 0.7544642857142857, 0.7589285714285714, 0.8125, 0.8392857142857142, 0.6696428571428572, 0.8571428571428572, 0.84375, 0.8303571428571428, 0.7723214285714286, 0.8616071428571428, 0.8392857142857143, 0.8482142857142857, 0.7901785714285714, 0.8571428571428572, 0.6383928571428572, 0.71875, 0.8258928571428572, 0.7946428571428572, 0.6696428571428572, 0.7410714285714286, 0.8526785714285714, 0.8348214285714286, 0.8035714285714286, 0.8125, 0.84375, 0.8482142857142857, 0.8258928571428572, 0.8973214285714286, 0.8883928571428572]}, {\"categories\": [\"0\", \"1\", \"2\", \"3\", \"4\", \"5\", \"6\", \"7\", \"8\", \"9\", \"10\", \"11\", \"12\", \"13\", \"14\", \"15\", \"16\", \"17\", \"18\", \"19\", \"20\", \"21\", \"22\", \"23\", \"24\", \"25\", \"26\", \"27\", \"28\", \"29\", \"30\", \"31\", \"32\", \"33\", \"34\", \"35\", \"36\", \"37\", \"38\", \"48\", \"49\"], \"mode\": \"lines\", \"name\": \"precision_score_micro_max\", \"stepped\": true, \"type\": \"scatter\", \"data\": [0.8258928571428572, 0.8526785714285714, 0.8526785714285714, 0.8571428571428572, 0.8571428571428572, 0.8571428571428572, 0.8660714285714286, 0.8660714285714286, 0.8660714285714286, 0.8660714285714286, 0.8660714285714286, 0.8660714285714286, 0.8660714285714286, 0.8660714285714286, 0.8660714285714286, 0.8660714285714286, 0.8660714285714286, 0.8660714285714286, 0.8660714285714286, 0.8660714285714286, 0.8660714285714286, 0.8660714285714286, 0.8660714285714286, 0.8660714285714286, 0.8660714285714286, 0.8660714285714286, 0.8660714285714286, 0.8660714285714286, 0.8660714285714286, 0.8660714285714286, 0.8660714285714286, 0.8660714285714286, 0.8660714285714286, 0.8660714285714286, 0.8660714285714286, 0.8660714285714286, 0.8660714285714286, 0.8660714285714286, 0.8660714285714286, 0.8973214285714286, 0.8973214285714286]}], \"norm_macro_recall\": [{\"categories\": [\"0\", \"1\", \"2\", \"3\", \"4\", \"5\", \"6\", \"7\", \"8\", \"9\", \"10\", \"11\", \"12\", \"13\", \"14\", \"15\", \"16\", \"17\", \"18\", \"19\", \"20\", \"21\", \"22\", \"23\", \"24\", \"25\", \"26\", \"27\", \"28\", \"29\", \"30\", \"31\", \"32\", \"33\", \"34\", \"35\", \"36\", \"37\", \"38\", \"48\", \"49\"], \"mode\": \"markers\", \"name\": \"norm_macro_recall\", \"stepped\": false, \"type\": \"scatter\", \"data\": [0.5727833096254149, 0.6500513671566304, 0.5946736209894106, 0.6485893788525368, 0.656867393709499, 0.5866721985143039, 0.6407262525683579, 0.6606606606606606, 0.6475027659238185, 0.5581436699857754, 0.6205152520941994, 0.1907894736842105, 0.33353089932037294, 0.3539987355776828, 0.5515844792160582, 0.5738501659554291, 0.0, 0.6347004899636479, 0.6325470207049154, 0.5471590011063696, 0.3578315157262526, 0.6617472735893788, 0.5996325272641063, 0.6284969179706021, 0.4325707286233602, 0.6061917180338232, 0.06146277856804172, 0.14985380116959057, 0.5005531847637111, 0.4033309625414888, 0.0, 0.2805239449976292, 0.6199027975343765, 0.5325391180654339, 0.45250513671566295, 0.541528370475739, 0.5990793425003953, 0.6213647858384701, 0.4932432432432433, 0.7147344713134187, 0.6869566935356409]}, {\"categories\": [\"0\", \"1\", \"2\", \"3\", \"4\", \"5\", \"6\", \"7\", \"8\", \"9\", \"10\", \"11\", \"12\", \"13\", \"14\", \"15\", \"16\", \"17\", \"18\", \"19\", \"20\", \"21\", \"22\", \"23\", \"24\", \"25\", \"26\", \"27\", \"28\", \"29\", \"30\", \"31\", \"32\", \"33\", \"34\", \"35\", \"36\", \"37\", \"38\", \"48\", \"49\"], \"mode\": \"lines\", \"name\": \"norm_macro_recall_max\", \"stepped\": true, \"type\": \"scatter\", \"data\": [0.5727833096254149, 0.6500513671566304, 0.6500513671566304, 0.6500513671566304, 0.656867393709499, 0.656867393709499, 0.656867393709499, 0.6606606606606606, 0.6606606606606606, 0.6606606606606606, 0.6606606606606606, 0.6606606606606606, 0.6606606606606606, 0.6606606606606606, 0.6606606606606606, 0.6606606606606606, 0.6606606606606606, 0.6606606606606606, 0.6606606606606606, 0.6606606606606606, 0.6606606606606606, 0.6617472735893788, 0.6617472735893788, 0.6617472735893788, 0.6617472735893788, 0.6617472735893788, 0.6617472735893788, 0.6617472735893788, 0.6617472735893788, 0.6617472735893788, 0.6617472735893788, 0.6617472735893788, 0.6617472735893788, 0.6617472735893788, 0.6617472735893788, 0.6617472735893788, 0.6617472735893788, 0.6617472735893788, 0.6617472735893788, 0.7147344713134187, 0.7147344713134187]}], \"precision_score_macro\": [{\"categories\": [\"0\", \"1\", \"2\", \"3\", \"4\", \"5\", \"6\", \"7\", \"8\", \"9\", \"10\", \"11\", \"12\", \"13\", \"14\", \"15\", \"16\", \"17\", \"18\", \"19\", \"20\", \"21\", \"22\", \"23\", \"24\", \"25\", \"26\", \"27\", \"28\", \"29\", \"30\", \"31\", \"32\", \"33\", \"34\", \"35\", \"36\", \"37\", \"38\", \"48\", \"49\"], \"mode\": \"markers\", \"name\": \"precision_score_macro\", \"stepped\": false, \"type\": \"scatter\", \"data\": [0.8133939438495029, 0.8407798423423423, 0.8402764970732383, 0.8457997698504027, 0.8132436442727096, 0.7985859812154585, 0.8686204230796262, 0.8589181286549707, 0.854978354978355, 0.8581903364521404, 0.7988403431990703, 0.7676222129898905, 0.7525729430528192, 0.7553921008893795, 0.7903024288458846, 0.8383997265732943, 0.3348214285714286, 0.8504700203252032, 0.831644880174292, 0.8313725490196078, 0.7866179404126881, 0.8493487773085688, 0.826362833421657, 0.8343891402714932, 0.7939428770463253, 0.867389738205146, 0.5451465115551803, 0.8522486772486773, 0.8573315573315573, 0.8267890185415958, 0.3348214285714286, 0.7620205107955836, 0.8452740070387129, 0.8549067211857909, 0.818066534914361, 0.7941893830703013, 0.8360405323653963, 0.8365763712163603, 0.8647316451664278, 0.9072406045751634, 0.9000826149425287]}, {\"categories\": [\"0\", \"1\", \"2\", \"3\", \"4\", \"5\", \"6\", \"7\", \"8\", \"9\", \"10\", \"11\", \"12\", \"13\", \"14\", \"15\", \"16\", \"17\", \"18\", \"19\", \"20\", \"21\", \"22\", \"23\", \"24\", \"25\", \"26\", \"27\", \"28\", \"29\", \"30\", \"31\", \"32\", \"33\", \"34\", \"35\", \"36\", \"37\", \"38\", \"48\", \"49\"], \"mode\": \"lines\", \"name\": \"precision_score_macro_max\", \"stepped\": true, \"type\": \"scatter\", \"data\": [0.8133939438495029, 0.8407798423423423, 0.8407798423423423, 0.8457997698504027, 0.8457997698504027, 0.8457997698504027, 0.8686204230796262, 0.8686204230796262, 0.8686204230796262, 0.8686204230796262, 0.8686204230796262, 0.8686204230796262, 0.8686204230796262, 0.8686204230796262, 0.8686204230796262, 0.8686204230796262, 0.8686204230796262, 0.8686204230796262, 0.8686204230796262, 0.8686204230796262, 0.8686204230796262, 0.8686204230796262, 0.8686204230796262, 0.8686204230796262, 0.8686204230796262, 0.8686204230796262, 0.8686204230796262, 0.8686204230796262, 0.8686204230796262, 0.8686204230796262, 0.8686204230796262, 0.8686204230796262, 0.8686204230796262, 0.8686204230796262, 0.8686204230796262, 0.8686204230796262, 0.8686204230796262, 0.8686204230796262, 0.8686204230796262, 0.9072406045751634, 0.9072406045751634]}], \"average_precision_score_weighted\": [{\"categories\": [\"0\", \"1\", \"2\", \"3\", \"4\", \"5\", \"6\", \"7\", \"8\", \"9\", \"10\", \"11\", \"12\", \"13\", \"14\", \"15\", \"16\", \"17\", \"18\", \"19\", \"20\", \"21\", \"22\", \"23\", \"24\", \"25\", \"26\", \"27\", \"28\", \"29\", \"30\", \"31\", \"32\", \"33\", \"34\", \"35\", \"36\", \"37\", \"38\", \"48\", \"49\"], \"mode\": \"markers\", \"name\": \"average_precision_score_weighted\", \"stepped\": false, \"type\": \"scatter\", \"data\": [0.9051519768577893, 0.9062828899434543, 0.9227100778368615, 0.9126690609741376, 0.8971117747839759, 0.9093545260912455, 0.9250448916729977, 0.9244730989682812, 0.9173579016720785, 0.9086864015630077, 0.8923495270540478, 0.8269579067921349, 0.819025683919629, 0.8390013535722853, 0.8968718258654704, 0.9110401525700665, 0.8720019208543679, 0.9288297250155616, 0.9054394263122585, 0.9101424045206912, 0.8997213967047382, 0.923552900063622, 0.9137324501123877, 0.9176757308342457, 0.8884597272678347, 0.9159485131064987, 0.6208212602533463, 0.8634325707436068, 0.909474862610941, 0.9019505187933399, 0.5693969016360437, 0.8649589503147284, 0.9141464775464718, 0.9089078760795537, 0.8778897126182992, 0.8990975711687939, 0.901768794275834, 0.9207345990753293, 0.9094083208595954, 0.9257641290153051, 0.9263246119013082]}, {\"categories\": [\"0\", \"1\", \"2\", \"3\", \"4\", \"5\", \"6\", \"7\", \"8\", \"9\", \"10\", \"11\", \"12\", \"13\", \"14\", \"15\", \"16\", \"17\", \"18\", \"19\", \"20\", \"21\", \"22\", \"23\", \"24\", \"25\", \"26\", \"27\", \"28\", \"29\", \"30\", \"31\", \"32\", \"33\", \"34\", \"35\", \"36\", \"37\", \"38\", \"48\", \"49\"], \"mode\": \"lines\", \"name\": \"average_precision_score_weighted_max\", \"stepped\": true, \"type\": \"scatter\", \"data\": [0.9051519768577893, 0.9062828899434543, 0.9227100778368615, 0.9227100778368615, 0.9227100778368615, 0.9227100778368615, 0.9250448916729977, 0.9250448916729977, 0.9250448916729977, 0.9250448916729977, 0.9250448916729977, 0.9250448916729977, 0.9250448916729977, 0.9250448916729977, 0.9250448916729977, 0.9250448916729977, 0.9250448916729977, 0.9288297250155616, 0.9288297250155616, 0.9288297250155616, 0.9288297250155616, 0.9288297250155616, 0.9288297250155616, 0.9288297250155616, 0.9288297250155616, 0.9288297250155616, 0.9288297250155616, 0.9288297250155616, 0.9288297250155616, 0.9288297250155616, 0.9288297250155616, 0.9288297250155616, 0.9288297250155616, 0.9288297250155616, 0.9288297250155616, 0.9288297250155616, 0.9288297250155616, 0.9288297250155616, 0.9288297250155616, 0.9288297250155616, 0.9288297250155616]}], \"AUC_weighted\": [{\"categories\": [\"0\", \"1\", \"2\", \"3\", \"4\", \"5\", \"6\", \"7\", \"8\", \"9\", \"10\", \"11\", \"12\", \"13\", \"14\", \"15\", \"16\", \"17\", \"18\", \"19\", \"20\", \"21\", \"22\", \"23\", \"24\", \"25\", \"26\", \"27\", \"28\", \"29\", \"30\", \"31\", \"32\", \"33\", \"34\", \"35\", \"36\", \"37\", \"38\", \"48\", \"49\"], \"mode\": \"markers\", \"name\": \"AUC_weighted\", \"stepped\": false, \"type\": \"scatter\", \"data\": [0.8928624348032244, 0.895391279437332, 0.9131648095463885, 0.9052029002686897, 0.8905879563774302, 0.8972261735419631, 0.911643551446183, 0.9121720404615141, 0.9044323929192349, 0.8967026236763078, 0.8816876086612928, 0.8139002489331437, 0.8027846925873243, 0.8224523865971234, 0.8858463726884779, 0.8928846609767662, 0.8547643037774617, 0.9177977319424687, 0.8913955073494546, 0.8992981468310417, 0.8873898569622255, 0.9127252252252251, 0.897245930140667, 0.9084577999051684, 0.875009878299352, 0.9016022601548916, 0.5573237711395607, 0.8465653153153153, 0.8937786470681207, 0.8903607554923343, 0.5163411767030188, 0.8445353247984826, 0.9048374031926665, 0.8925932511458827, 0.8664404536115062, 0.8831249012170064, 0.8878393195827406, 0.9100679626995417, 0.8935119329856172, 0.9123646672988779, 0.9136488462146357]}, {\"categories\": [\"0\", \"1\", \"2\", \"3\", \"4\", \"5\", \"6\", \"7\", \"8\", \"9\", \"10\", \"11\", \"12\", \"13\", \"14\", \"15\", \"16\", \"17\", \"18\", \"19\", \"20\", \"21\", \"22\", \"23\", \"24\", \"25\", \"26\", \"27\", \"28\", \"29\", \"30\", \"31\", \"32\", \"33\", \"34\", \"35\", \"36\", \"37\", \"38\", \"48\", \"49\"], \"mode\": \"lines\", \"name\": \"AUC_weighted_max\", \"stepped\": true, \"type\": \"scatter\", \"data\": [0.8928624348032244, 0.895391279437332, 0.9131648095463885, 0.9131648095463885, 0.9131648095463885, 0.9131648095463885, 0.9131648095463885, 0.9131648095463885, 0.9131648095463885, 0.9131648095463885, 0.9131648095463885, 0.9131648095463885, 0.9131648095463885, 0.9131648095463885, 0.9131648095463885, 0.9131648095463885, 0.9131648095463885, 0.9177977319424687, 0.9177977319424687, 0.9177977319424687, 0.9177977319424687, 0.9177977319424687, 0.9177977319424687, 0.9177977319424687, 0.9177977319424687, 0.9177977319424687, 0.9177977319424687, 0.9177977319424687, 0.9177977319424687, 0.9177977319424687, 0.9177977319424687, 0.9177977319424687, 0.9177977319424687, 0.9177977319424687, 0.9177977319424687, 0.9177977319424687, 0.9177977319424687, 0.9177977319424687, 0.9177977319424687, 0.9177977319424687, 0.9177977319424687]}], \"f1_score_macro\": [{\"categories\": [\"0\", \"1\", \"2\", \"3\", \"4\", \"5\", \"6\", \"7\", \"8\", \"9\", \"10\", \"11\", \"12\", \"13\", \"14\", \"15\", \"16\", \"17\", \"18\", \"19\", \"20\", \"21\", \"22\", \"23\", \"24\", \"25\", \"26\", \"27\", \"28\", \"29\", \"30\", \"31\", \"32\", \"33\", \"34\", \"35\", \"36\", \"37\", \"38\", \"48\", \"49\"], \"mode\": \"markers\", \"name\": \"f1_score_macro\", \"stepped\": false, \"type\": \"scatter\", \"data\": [0.7944894043204336, 0.8309763175226298, 0.8126484404551458, 0.8333358251609779, 0.8187922246778949, 0.7944470874739393, 0.8375030610654735, 0.8410219594594595, 0.8355187732468474, 0.7978929220532687, 0.7982262431700634, 0.5556845670053218, 0.6779823053744255, 0.6891249928884338, 0.7788659618352367, 0.804026086126023, 0.40105239075726384, 0.8302591922845087, 0.8181505671237274, 0.7917386596631879, 0.6938855690751281, 0.8388724850930506, 0.8088901857795934, 0.8227818792834273, 0.7342299889860007, 0.8226344554250038, 0.5190199766943051, 0.5422558511341757, 0.774376268156415, 0.719333364418917, 0.40105239075726384, 0.6437914950263619, 0.8226544622425629, 0.7889576110936023, 0.7463873243443135, 0.7800237552069664, 0.8110952066418224, 0.8211858226462329, 0.7716560275882309, 0.8756258234519104, 0.8626958076621156]}, {\"categories\": [\"0\", \"1\", \"2\", \"3\", \"4\", \"5\", \"6\", \"7\", \"8\", \"9\", \"10\", \"11\", \"12\", \"13\", \"14\", \"15\", \"16\", \"17\", \"18\", \"19\", \"20\", \"21\", \"22\", \"23\", \"24\", \"25\", \"26\", \"27\", \"28\", \"29\", \"30\", \"31\", \"32\", \"33\", \"34\", \"35\", \"36\", \"37\", \"38\", \"48\", \"49\"], \"mode\": \"lines\", \"name\": \"f1_score_macro_max\", \"stepped\": true, \"type\": \"scatter\", \"data\": [0.7944894043204336, 0.8309763175226298, 0.8309763175226298, 0.8333358251609779, 0.8333358251609779, 0.8333358251609779, 0.8375030610654735, 0.8410219594594595, 0.8410219594594595, 0.8410219594594595, 0.8410219594594595, 0.8410219594594595, 0.8410219594594595, 0.8410219594594595, 0.8410219594594595, 0.8410219594594595, 0.8410219594594595, 0.8410219594594595, 0.8410219594594595, 0.8410219594594595, 0.8410219594594595, 0.8410219594594595, 0.8410219594594595, 0.8410219594594595, 0.8410219594594595, 0.8410219594594595, 0.8410219594594595, 0.8410219594594595, 0.8410219594594595, 0.8410219594594595, 0.8410219594594595, 0.8410219594594595, 0.8410219594594595, 0.8410219594594595, 0.8410219594594595, 0.8410219594594595, 0.8410219594594595, 0.8410219594594595, 0.8410219594594595, 0.8756258234519104, 0.8756258234519104]}], \"balanced_accuracy\": [{\"categories\": [\"0\", \"1\", \"2\", \"3\", \"4\", \"5\", \"6\", \"7\", \"8\", \"9\", \"10\", \"11\", \"12\", \"13\", \"14\", \"15\", \"16\", \"17\", \"18\", \"19\", \"20\", \"21\", \"22\", \"23\", \"24\", \"25\", \"26\", \"27\", \"28\", \"29\", \"30\", \"31\", \"32\", \"33\", \"34\", \"35\", \"36\", \"37\", \"38\", \"48\", \"49\"], \"mode\": \"markers\", \"name\": \"balanced_accuracy\", \"stepped\": false, \"type\": \"scatter\", \"data\": [0.7863916548127075, 0.8250256835783152, 0.7973368104947053, 0.8242946894262684, 0.8284336968547494, 0.7933360992571519, 0.820363126284179, 0.8303303303303303, 0.8237513829619092, 0.7790718349928877, 0.8102576260470997, 0.5953947368421053, 0.6667654496601865, 0.6769993677888414, 0.7757922396080291, 0.7869250829777146, 0.5, 0.817350244981824, 0.8162735103524577, 0.7735795005531848, 0.6789157578631263, 0.8308736367946894, 0.7998162636320532, 0.8142484589853011, 0.7162853643116801, 0.8030958590169116, 0.5307313892840209, 0.5749269005847952, 0.7502765923818555, 0.7016654812707444, 0.5, 0.6402619724988146, 0.8099513987671882, 0.7662695590327169, 0.7262525683578315, 0.7707641852378695, 0.7995396712501976, 0.810682392919235, 0.7466216216216217, 0.8573672356567094, 0.8434783467678204]}, {\"categories\": [\"0\", \"1\", \"2\", \"3\", \"4\", \"5\", \"6\", \"7\", \"8\", \"9\", \"10\", \"11\", \"12\", \"13\", \"14\", \"15\", \"16\", \"17\", \"18\", \"19\", \"20\", \"21\", \"22\", \"23\", \"24\", \"25\", \"26\", \"27\", \"28\", \"29\", \"30\", \"31\", \"32\", \"33\", \"34\", \"35\", \"36\", \"37\", \"38\", \"48\", \"49\"], \"mode\": \"lines\", \"name\": \"balanced_accuracy_max\", \"stepped\": true, \"type\": \"scatter\", \"data\": [0.7863916548127075, 0.8250256835783152, 0.8250256835783152, 0.8250256835783152, 0.8284336968547494, 0.8284336968547494, 0.8284336968547494, 0.8303303303303303, 0.8303303303303303, 0.8303303303303303, 0.8303303303303303, 0.8303303303303303, 0.8303303303303303, 0.8303303303303303, 0.8303303303303303, 0.8303303303303303, 0.8303303303303303, 0.8303303303303303, 0.8303303303303303, 0.8303303303303303, 0.8303303303303303, 0.8308736367946894, 0.8308736367946894, 0.8308736367946894, 0.8308736367946894, 0.8308736367946894, 0.8308736367946894, 0.8308736367946894, 0.8308736367946894, 0.8308736367946894, 0.8308736367946894, 0.8308736367946894, 0.8308736367946894, 0.8308736367946894, 0.8308736367946894, 0.8308736367946894, 0.8308736367946894, 0.8308736367946894, 0.8308736367946894, 0.8573672356567094, 0.8573672356567094]}], \"weighted_accuracy\": [{\"categories\": [\"0\", \"1\", \"2\", \"3\", \"4\", \"5\", \"6\", \"7\", \"8\", \"9\", \"10\", \"11\", \"12\", \"13\", \"14\", \"15\", \"16\", \"17\", \"18\", \"19\", \"20\", \"21\", \"22\", \"23\", \"24\", \"25\", \"26\", \"27\", \"28\", \"29\", \"30\", \"31\", \"32\", \"33\", \"34\", \"35\", \"36\", \"37\", \"38\", \"48\", \"49\"], \"mode\": \"markers\", \"name\": \"weighted_accuracy\", \"stepped\": false, \"type\": \"scatter\", \"data\": [0.8567755603797766, 0.8746897313838831, 0.8804841367405121, 0.8830915047210525, 0.8397483849030942, 0.8433189260586405, 0.9020953757225434, 0.8940914916433449, 0.8913458269034604, 0.8865289802003504, 0.8217639212198886, 0.7934895901446395, 0.8241721811000968, 0.8240897915413387, 0.8410564826197264, 0.8806194910156149, 0.8040357806083751, 0.8885471974472314, 0.8649566473988439, 0.8752756126906076, 0.8462401590249261, 0.8858371694609368, 0.8701883843799859, 0.8750255015300918, 0.8487121727303638, 0.8996589987706954, 0.723495736667277, 0.8328351816493605, 0.8858420736013392, 0.8680253315198911, 0.8040357806083751, 0.821337914890278, 0.8862288468077315, 0.8889326628828498, 0.864711113436037, 0.8454836136322026, 0.878363259487877, 0.8778270734705621, 0.8886701278999818, 0.9287706300839589, 0.9236801323464023]}, {\"categories\": [\"0\", \"1\", \"2\", \"3\", \"4\", \"5\", \"6\", \"7\", \"8\", \"9\", \"10\", \"11\", \"12\", \"13\", \"14\", \"15\", \"16\", \"17\", \"18\", \"19\", \"20\", \"21\", \"22\", \"23\", \"24\", \"25\", \"26\", \"27\", \"28\", \"29\", \"30\", \"31\", \"32\", \"33\", \"34\", \"35\", \"36\", \"37\", \"38\", \"48\", \"49\"], \"mode\": \"lines\", \"name\": \"weighted_accuracy_max\", \"stepped\": true, \"type\": \"scatter\", \"data\": [0.8567755603797766, 0.8746897313838831, 0.8804841367405121, 0.8830915047210525, 0.8830915047210525, 0.8830915047210525, 0.9020953757225434, 0.9020953757225434, 0.9020953757225434, 0.9020953757225434, 0.9020953757225434, 0.9020953757225434, 0.9020953757225434, 0.9020953757225434, 0.9020953757225434, 0.9020953757225434, 0.9020953757225434, 0.9020953757225434, 0.9020953757225434, 0.9020953757225434, 0.9020953757225434, 0.9020953757225434, 0.9020953757225434, 0.9020953757225434, 0.9020953757225434, 0.9020953757225434, 0.9020953757225434, 0.9020953757225434, 0.9020953757225434, 0.9020953757225434, 0.9020953757225434, 0.9020953757225434, 0.9020953757225434, 0.9020953757225434, 0.9020953757225434, 0.9020953757225434, 0.9020953757225434, 0.9020953757225434, 0.9020953757225434, 0.9287706300839589, 0.9287706300839589]}], \"average_precision_score_micro\": [{\"categories\": [\"0\", \"1\", \"2\", \"3\", \"4\", \"5\", \"6\", \"7\", \"8\", \"9\", \"10\", \"11\", \"12\", \"13\", \"14\", \"15\", \"16\", \"17\", \"18\", \"19\", \"20\", \"21\", \"22\", \"23\", \"24\", \"25\", \"26\", \"27\", \"28\", \"29\", \"30\", \"31\", \"32\", \"33\", \"34\", \"35\", \"36\", \"37\", \"38\", \"48\", \"49\"], \"mode\": \"markers\", \"name\": \"average_precision_score_micro\", \"stepped\": false, \"type\": \"scatter\", \"data\": [0.9125752798734392, 0.9089357053938498, 0.9228452373691225, 0.9164787371738996, 0.9002542811606616, 0.9154136404594635, 0.9250538369874213, 0.9290916458922769, 0.9206431715668465, 0.9119802751133109, 0.8836523646917529, 0.8185596282518015, 0.831104948662919, 0.8473443076820748, 0.9063552390699335, 0.9149885404004019, 0.8419916989382614, 0.9301829350901625, 0.9116947253036292, 0.9093029685712501, 0.8905609849454121, 0.9267080791387186, 0.9156896733502747, 0.9247654503820824, 0.8891127115346905, 0.902836294908553, 0.6612126657374808, 0.837566343168143, 0.8996373247283488, 0.8903159044643651, 0.6369461570729191, 0.8582908765968117, 0.9221468817771022, 0.9021674272699365, 0.8716592595753665, 0.9035952121066129, 0.9026370246863549, 0.9265673858593608, 0.8947693526400631, 0.9271062753260348, 0.9275358565705996]}, {\"categories\": [\"0\", \"1\", \"2\", \"3\", \"4\", \"5\", \"6\", \"7\", \"8\", \"9\", \"10\", \"11\", \"12\", \"13\", \"14\", \"15\", \"16\", \"17\", \"18\", \"19\", \"20\", \"21\", \"22\", \"23\", \"24\", \"25\", \"26\", \"27\", \"28\", \"29\", \"30\", \"31\", \"32\", \"33\", \"34\", \"35\", \"36\", \"37\", \"38\", \"48\", \"49\"], \"mode\": \"lines\", \"name\": \"average_precision_score_micro_max\", \"stepped\": true, \"type\": \"scatter\", \"data\": [0.9125752798734392, 0.9125752798734392, 0.9228452373691225, 0.9228452373691225, 0.9228452373691225, 0.9228452373691225, 0.9250538369874213, 0.9290916458922769, 0.9290916458922769, 0.9290916458922769, 0.9290916458922769, 0.9290916458922769, 0.9290916458922769, 0.9290916458922769, 0.9290916458922769, 0.9290916458922769, 0.9290916458922769, 0.9301829350901625, 0.9301829350901625, 0.9301829350901625, 0.9301829350901625, 0.9301829350901625, 0.9301829350901625, 0.9301829350901625, 0.9301829350901625, 0.9301829350901625, 0.9301829350901625, 0.9301829350901625, 0.9301829350901625, 0.9301829350901625, 0.9301829350901625, 0.9301829350901625, 0.9301829350901625, 0.9301829350901625, 0.9301829350901625, 0.9301829350901625, 0.9301829350901625, 0.9301829350901625, 0.9301829350901625, 0.9301829350901625, 0.9301829350901625]}], \"accuracy\": [{\"categories\": [\"0\", \"1\", \"2\", \"3\", \"4\", \"5\", \"6\", \"7\", \"8\", \"9\", \"10\", \"11\", \"12\", \"13\", \"14\", \"15\", \"16\", \"17\", \"18\", \"19\", \"20\", \"21\", \"22\", \"23\", \"24\", \"25\", \"26\", \"27\", \"28\", \"29\", \"30\", \"31\", \"32\", \"33\", \"34\", \"35\", \"36\", \"37\", \"38\", \"48\", \"49\"], \"mode\": \"markers\", \"name\": \"accuracy\", \"stepped\": false, \"type\": \"scatter\", \"data\": [0.8258928571428572, 0.8526785714285714, 0.84375, 0.8571428571428572, 0.8348214285714286, 0.8214285714285714, 0.8660714285714286, 0.8660714285714286, 0.8616071428571428, 0.8392857142857143, 0.8169642857142857, 0.7053571428571428, 0.7544642857142857, 0.7589285714285714, 0.8125, 0.8392857142857142, 0.6696428571428572, 0.8571428571428572, 0.84375, 0.8303571428571428, 0.7723214285714286, 0.8616071428571428, 0.8392857142857143, 0.8482142857142857, 0.7901785714285714, 0.8571428571428572, 0.6383928571428572, 0.71875, 0.8258928571428572, 0.7946428571428572, 0.6696428571428572, 0.7410714285714286, 0.8526785714285714, 0.8348214285714286, 0.8035714285714286, 0.8125, 0.84375, 0.8482142857142857, 0.8258928571428572, 0.8973214285714286, 0.8883928571428572]}, {\"categories\": [\"0\", \"1\", \"2\", \"3\", \"4\", \"5\", \"6\", \"7\", \"8\", \"9\", \"10\", \"11\", \"12\", \"13\", \"14\", \"15\", \"16\", \"17\", \"18\", \"19\", \"20\", \"21\", \"22\", \"23\", \"24\", \"25\", \"26\", \"27\", \"28\", \"29\", \"30\", \"31\", \"32\", \"33\", \"34\", \"35\", \"36\", \"37\", \"38\", \"48\", \"49\"], \"mode\": \"lines\", \"name\": \"accuracy_max\", \"stepped\": true, \"type\": \"scatter\", \"data\": [0.8258928571428572, 0.8526785714285714, 0.8526785714285714, 0.8571428571428572, 0.8571428571428572, 0.8571428571428572, 0.8660714285714286, 0.8660714285714286, 0.8660714285714286, 0.8660714285714286, 0.8660714285714286, 0.8660714285714286, 0.8660714285714286, 0.8660714285714286, 0.8660714285714286, 0.8660714285714286, 0.8660714285714286, 0.8660714285714286, 0.8660714285714286, 0.8660714285714286, 0.8660714285714286, 0.8660714285714286, 0.8660714285714286, 0.8660714285714286, 0.8660714285714286, 0.8660714285714286, 0.8660714285714286, 0.8660714285714286, 0.8660714285714286, 0.8660714285714286, 0.8660714285714286, 0.8660714285714286, 0.8660714285714286, 0.8660714285714286, 0.8660714285714286, 0.8660714285714286, 0.8660714285714286, 0.8660714285714286, 0.8660714285714286, 0.8973214285714286, 0.8973214285714286]}], \"recall_score_macro\": [{\"categories\": [\"0\", \"1\", \"2\", \"3\", \"4\", \"5\", \"6\", \"7\", \"8\", \"9\", \"10\", \"11\", \"12\", \"13\", \"14\", \"15\", \"16\", \"17\", \"18\", \"19\", \"20\", \"21\", \"22\", \"23\", \"24\", \"25\", \"26\", \"27\", \"28\", \"29\", \"30\", \"31\", \"32\", \"33\", \"34\", \"35\", \"36\", \"37\", \"38\", \"48\", \"49\"], \"mode\": \"markers\", \"name\": \"recall_score_macro\", \"stepped\": false, \"type\": \"scatter\", \"data\": [0.7863916548127075, 0.8250256835783152, 0.7973368104947053, 0.8242946894262684, 0.8284336968547494, 0.7933360992571519, 0.820363126284179, 0.8303303303303303, 0.8237513829619092, 0.7790718349928877, 0.8102576260470997, 0.5953947368421053, 0.6667654496601865, 0.6769993677888414, 0.7757922396080291, 0.7869250829777146, 0.5, 0.817350244981824, 0.8162735103524577, 0.7735795005531848, 0.6789157578631263, 0.8308736367946894, 0.7998162636320532, 0.8142484589853011, 0.7162853643116801, 0.8030958590169116, 0.5307313892840209, 0.5749269005847952, 0.7502765923818555, 0.7016654812707444, 0.5, 0.6402619724988146, 0.8099513987671882, 0.7662695590327169, 0.7262525683578315, 0.7707641852378695, 0.7995396712501976, 0.810682392919235, 0.7466216216216217, 0.8573672356567094, 0.8434783467678204]}, {\"categories\": [\"0\", \"1\", \"2\", \"3\", \"4\", \"5\", \"6\", \"7\", \"8\", \"9\", \"10\", \"11\", \"12\", \"13\", \"14\", \"15\", \"16\", \"17\", \"18\", \"19\", \"20\", \"21\", \"22\", \"23\", \"24\", \"25\", \"26\", \"27\", \"28\", \"29\", \"30\", \"31\", \"32\", \"33\", \"34\", \"35\", \"36\", \"37\", \"38\", \"48\", \"49\"], \"mode\": \"lines\", \"name\": \"recall_score_macro_max\", \"stepped\": true, \"type\": \"scatter\", \"data\": [0.7863916548127075, 0.8250256835783152, 0.8250256835783152, 0.8250256835783152, 0.8284336968547494, 0.8284336968547494, 0.8284336968547494, 0.8303303303303303, 0.8303303303303303, 0.8303303303303303, 0.8303303303303303, 0.8303303303303303, 0.8303303303303303, 0.8303303303303303, 0.8303303303303303, 0.8303303303303303, 0.8303303303303303, 0.8303303303303303, 0.8303303303303303, 0.8303303303303303, 0.8303303303303303, 0.8308736367946894, 0.8308736367946894, 0.8308736367946894, 0.8308736367946894, 0.8308736367946894, 0.8308736367946894, 0.8308736367946894, 0.8308736367946894, 0.8308736367946894, 0.8308736367946894, 0.8308736367946894, 0.8308736367946894, 0.8308736367946894, 0.8308736367946894, 0.8308736367946894, 0.8308736367946894, 0.8308736367946894, 0.8308736367946894, 0.8573672356567094, 0.8573672356567094]}], \"average_precision_score_macro\": [{\"categories\": [\"0\", \"1\", \"2\", \"3\", \"4\", \"5\", \"6\", \"7\", \"8\", \"9\", \"10\", \"11\", \"12\", \"13\", \"14\", \"15\", \"16\", \"17\", \"18\", \"19\", \"20\", \"21\", \"22\", \"23\", \"24\", \"25\", \"26\", \"27\", \"28\", \"29\", \"30\", \"31\", \"32\", \"33\", \"34\", \"35\", \"36\", \"37\", \"38\", \"48\", \"49\"], \"mode\": \"markers\", \"name\": \"average_precision_score_macro\", \"stepped\": false, \"type\": \"scatter\", \"data\": [0.8867146523191956, 0.891827539764882, 0.9043995846433113, 0.8982922831502509, 0.8776897916506652, 0.8898724592807999, 0.9097029990113003, 0.9087527025079196, 0.8999271889122594, 0.890166257440627, 0.8664140281409204, 0.7962260066255907, 0.7866246113960134, 0.8085372369303013, 0.8719337924018801, 0.8939506088657898, 0.8422775263489859, 0.9131120484474564, 0.8935969119421333, 0.8898898986455637, 0.87606668172797, 0.9072312392982962, 0.8982366825646491, 0.8995304724909532, 0.8620047331324648, 0.9023849710319665, 0.5669489072871076, 0.8361925814649187, 0.8910561477311649, 0.8796126142865645, 0.5114000788429746, 0.8352339294650977, 0.8966788119849141, 0.8921730631753556, 0.8570374623659542, 0.8808058314872611, 0.8848404468237083, 0.9021797660128535, 0.8918560206828018, 0.9111155173499444, 0.9113841176199704]}, {\"categories\": [\"0\", \"1\", \"2\", \"3\", \"4\", \"5\", \"6\", \"7\", \"8\", \"9\", \"10\", \"11\", \"12\", \"13\", \"14\", \"15\", \"16\", \"17\", \"18\", \"19\", \"20\", \"21\", \"22\", \"23\", \"24\", \"25\", \"26\", \"27\", \"28\", \"29\", \"30\", \"31\", \"32\", \"33\", \"34\", \"35\", \"36\", \"37\", \"38\", \"48\", \"49\"], \"mode\": \"lines\", \"name\": \"average_precision_score_macro_max\", \"stepped\": true, \"type\": \"scatter\", \"data\": [0.8867146523191956, 0.891827539764882, 0.9043995846433113, 0.9043995846433113, 0.9043995846433113, 0.9043995846433113, 0.9097029990113003, 0.9097029990113003, 0.9097029990113003, 0.9097029990113003, 0.9097029990113003, 0.9097029990113003, 0.9097029990113003, 0.9097029990113003, 0.9097029990113003, 0.9097029990113003, 0.9097029990113003, 0.9131120484474564, 0.9131120484474564, 0.9131120484474564, 0.9131120484474564, 0.9131120484474564, 0.9131120484474564, 0.9131120484474564, 0.9131120484474564, 0.9131120484474564, 0.9131120484474564, 0.9131120484474564, 0.9131120484474564, 0.9131120484474564, 0.9131120484474564, 0.9131120484474564, 0.9131120484474564, 0.9131120484474564, 0.9131120484474564, 0.9131120484474564, 0.9131120484474564, 0.9131120484474564, 0.9131120484474564, 0.9131120484474564, 0.9131120484474564]}], \"AUC_macro\": [{\"categories\": [\"0\", \"1\", \"2\", \"3\", \"4\", \"5\", \"6\", \"7\", \"8\", \"9\", \"10\", \"11\", \"12\", \"13\", \"14\", \"15\", \"16\", \"17\", \"18\", \"19\", \"20\", \"21\", \"22\", \"23\", \"24\", \"25\", \"26\", \"27\", \"28\", \"29\", \"30\", \"31\", \"32\", \"33\", \"34\", \"35\", \"36\", \"37\", \"38\", \"48\", \"49\"], \"mode\": \"markers\", \"name\": \"AUC_macro\", \"stepped\": false, \"type\": \"scatter\", \"data\": [0.8928624348032244, 0.895391279437332, 0.9131648095463885, 0.9052029002686897, 0.8905879563774302, 0.897226173541963, 0.911643551446183, 0.9121720404615141, 0.904432392919235, 0.8967026236763078, 0.8816876086612929, 0.8139002489331437, 0.8027846925873242, 0.8224523865971234, 0.8858463726884779, 0.8928846609767662, 0.8547643037774617, 0.9177977319424688, 0.8913955073494547, 0.8992981468310416, 0.8873898569622254, 0.9127252252252251, 0.897245930140667, 0.9084577999051683, 0.875009878299352, 0.9016022601548918, 0.5573237711395607, 0.8465653153153153, 0.8937786470681208, 0.8903607554923344, 0.5163411767030188, 0.8445353247984827, 0.9048374031926664, 0.8925932511458827, 0.8664404536115063, 0.8831249012170064, 0.8878393195827405, 0.9100679626995416, 0.8935119329856172, 0.9123646672988779, 0.9136488462146357]}, {\"categories\": [\"0\", \"1\", \"2\", \"3\", \"4\", \"5\", \"6\", \"7\", \"8\", \"9\", \"10\", \"11\", \"12\", \"13\", \"14\", \"15\", \"16\", \"17\", \"18\", \"19\", \"20\", \"21\", \"22\", \"23\", \"24\", \"25\", \"26\", \"27\", \"28\", \"29\", \"30\", \"31\", \"32\", \"33\", \"34\", \"35\", \"36\", \"37\", \"38\", \"48\", \"49\"], \"mode\": \"lines\", \"name\": \"AUC_macro_max\", \"stepped\": true, \"type\": \"scatter\", \"data\": [0.8928624348032244, 0.895391279437332, 0.9131648095463885, 0.9131648095463885, 0.9131648095463885, 0.9131648095463885, 0.9131648095463885, 0.9131648095463885, 0.9131648095463885, 0.9131648095463885, 0.9131648095463885, 0.9131648095463885, 0.9131648095463885, 0.9131648095463885, 0.9131648095463885, 0.9131648095463885, 0.9131648095463885, 0.9177977319424688, 0.9177977319424688, 0.9177977319424688, 0.9177977319424688, 0.9177977319424688, 0.9177977319424688, 0.9177977319424688, 0.9177977319424688, 0.9177977319424688, 0.9177977319424688, 0.9177977319424688, 0.9177977319424688, 0.9177977319424688, 0.9177977319424688, 0.9177977319424688, 0.9177977319424688, 0.9177977319424688, 0.9177977319424688, 0.9177977319424688, 0.9177977319424688, 0.9177977319424688, 0.9177977319424688, 0.9177977319424688, 0.9177977319424688]}], \"recall_score_weighted\": [{\"categories\": [\"0\", \"1\", \"2\", \"3\", \"4\", \"5\", \"6\", \"7\", \"8\", \"9\", \"10\", \"11\", \"12\", \"13\", \"14\", \"15\", \"16\", \"17\", \"18\", \"19\", \"20\", \"21\", \"22\", \"23\", \"24\", \"25\", \"26\", \"27\", \"28\", \"29\", \"30\", \"31\", \"32\", \"33\", \"34\", \"35\", \"36\", \"37\", \"38\", \"48\", \"49\"], \"mode\": \"markers\", \"name\": \"recall_score_weighted\", \"stepped\": false, \"type\": \"scatter\", \"data\": [0.8258928571428572, 0.8526785714285714, 0.84375, 0.8571428571428572, 0.8348214285714286, 0.8214285714285714, 0.8660714285714286, 0.8660714285714286, 0.8616071428571428, 0.8392857142857143, 0.8169642857142857, 0.7053571428571428, 0.7544642857142857, 0.7589285714285714, 0.8125, 0.8392857142857142, 0.6696428571428572, 0.8571428571428572, 0.84375, 0.8303571428571428, 0.7723214285714286, 0.8616071428571428, 0.8392857142857143, 0.8482142857142857, 0.7901785714285714, 0.8571428571428572, 0.6383928571428572, 0.71875, 0.8258928571428572, 0.7946428571428572, 0.6696428571428572, 0.7410714285714286, 0.8526785714285714, 0.8348214285714286, 0.8035714285714286, 0.8125, 0.84375, 0.8482142857142857, 0.8258928571428572, 0.8973214285714286, 0.8883928571428572]}, {\"categories\": [\"0\", \"1\", \"2\", \"3\", \"4\", \"5\", \"6\", \"7\", \"8\", \"9\", \"10\", \"11\", \"12\", \"13\", \"14\", \"15\", \"16\", \"17\", \"18\", \"19\", \"20\", \"21\", \"22\", \"23\", \"24\", \"25\", \"26\", \"27\", \"28\", \"29\", \"30\", \"31\", \"32\", \"33\", \"34\", \"35\", \"36\", \"37\", \"38\", \"48\", \"49\"], \"mode\": \"lines\", \"name\": \"recall_score_weighted_max\", \"stepped\": true, \"type\": \"scatter\", \"data\": [0.8258928571428572, 0.8526785714285714, 0.8526785714285714, 0.8571428571428572, 0.8571428571428572, 0.8571428571428572, 0.8660714285714286, 0.8660714285714286, 0.8660714285714286, 0.8660714285714286, 0.8660714285714286, 0.8660714285714286, 0.8660714285714286, 0.8660714285714286, 0.8660714285714286, 0.8660714285714286, 0.8660714285714286, 0.8660714285714286, 0.8660714285714286, 0.8660714285714286, 0.8660714285714286, 0.8660714285714286, 0.8660714285714286, 0.8660714285714286, 0.8660714285714286, 0.8660714285714286, 0.8660714285714286, 0.8660714285714286, 0.8660714285714286, 0.8660714285714286, 0.8660714285714286, 0.8660714285714286, 0.8660714285714286, 0.8660714285714286, 0.8660714285714286, 0.8660714285714286, 0.8660714285714286, 0.8660714285714286, 0.8660714285714286, 0.8973214285714286, 0.8973214285714286]}], \"f1_score_weighted\": [{\"categories\": [\"0\", \"1\", \"2\", \"3\", \"4\", \"5\", \"6\", \"7\", \"8\", \"9\", \"10\", \"11\", \"12\", \"13\", \"14\", \"15\", \"16\", \"17\", \"18\", \"19\", \"20\", \"21\", \"22\", \"23\", \"24\", \"25\", \"26\", \"27\", \"28\", \"29\", \"30\", \"31\", \"32\", \"33\", \"34\", \"35\", \"36\", \"37\", \"38\", \"48\", \"49\"], \"mode\": \"markers\", \"name\": \"f1_score_weighted\", \"stepped\": false, \"type\": \"scatter\", \"data\": [0.8217104084725326, 0.8517579451432046, 0.8389160654267735, 0.8550853512756729, 0.8369366746539266, 0.8198881956435435, 0.8610014693114272, 0.8626912403474902, 0.8579777490409664, 0.829010910240596, 0.8186015740991663, 0.639399751192204, 0.7310149981350733, 0.7388879237477548, 0.8083034206224193, 0.8324708065378527, 0.5371809327711868, 0.8535273948474673, 0.8411662978934049, 0.8225430230147212, 0.7468336436370956, 0.8598236840933564, 0.8349879111259326, 0.8458191812487479, 0.7760795637923621, 0.8495062169943906, 0.6006544971110088, 0.6382055985105672, 0.8110316077398316, 0.7692919845423317, 0.5371809327711868, 0.7062270353882254, 0.8478192764519995, 0.8226783744540993, 0.7873728045579044, 0.8087009754439802, 0.8380325467778953, 0.8451137706994943, 0.8095390082072891, 0.8935750584818909, 0.8832759810698345]}, {\"categories\": [\"0\", \"1\", \"2\", \"3\", \"4\", \"5\", \"6\", \"7\", \"8\", \"9\", \"10\", \"11\", \"12\", \"13\", \"14\", \"15\", \"16\", \"17\", \"18\", \"19\", \"20\", \"21\", \"22\", \"23\", \"24\", \"25\", \"26\", \"27\", \"28\", \"29\", \"30\", \"31\", \"32\", \"33\", \"34\", \"35\", \"36\", \"37\", \"38\", \"48\", \"49\"], \"mode\": \"lines\", \"name\": \"f1_score_weighted_max\", \"stepped\": true, \"type\": \"scatter\", \"data\": [0.8217104084725326, 0.8517579451432046, 0.8517579451432046, 0.8550853512756729, 0.8550853512756729, 0.8550853512756729, 0.8610014693114272, 0.8626912403474902, 0.8626912403474902, 0.8626912403474902, 0.8626912403474902, 0.8626912403474902, 0.8626912403474902, 0.8626912403474902, 0.8626912403474902, 0.8626912403474902, 0.8626912403474902, 0.8626912403474902, 0.8626912403474902, 0.8626912403474902, 0.8626912403474902, 0.8626912403474902, 0.8626912403474902, 0.8626912403474902, 0.8626912403474902, 0.8626912403474902, 0.8626912403474902, 0.8626912403474902, 0.8626912403474902, 0.8626912403474902, 0.8626912403474902, 0.8626912403474902, 0.8626912403474902, 0.8626912403474902, 0.8626912403474902, 0.8626912403474902, 0.8626912403474902, 0.8626912403474902, 0.8626912403474902, 0.8935750584818909, 0.8935750584818909]}], \"matthews_correlation\": [{\"categories\": [\"0\", \"1\", \"2\", \"3\", \"4\", \"5\", \"6\", \"7\", \"8\", \"9\", \"10\", \"11\", \"12\", \"13\", \"14\", \"15\", \"16\", \"17\", \"18\", \"19\", \"20\", \"21\", \"22\", \"23\", \"24\", \"25\", \"26\", \"27\", \"28\", \"29\", \"30\", \"31\", \"32\", \"33\", \"34\", \"35\", \"36\", \"37\", \"38\", \"48\", \"49\"], \"mode\": \"markers\", \"name\": \"matthews_correlation\", \"stepped\": false, \"type\": \"scatter\", \"data\": [0.5983211632330471, 0.6653810135458028, 0.6361189635518334, 0.6697339908437085, 0.6414617622002687, 0.5916352719902143, 0.6872089471525148, 0.6883288978880626, 0.6777625263892284, 0.6297615468174371, 0.6086588461566336, 0.2556092627650205, 0.40934988562152286, 0.4239904394370718, 0.5651533008477094, 0.6231129561891022, 0.0, 0.666995321214729, 0.6466001093669894, 0.6021713759456331, 0.4529003076945504, 0.6799692916327742, 0.6251074071136344, 0.648323579230931, 0.5040693912658136, 0.66675087680648, 0.07445117357682472, 0.3218574078190931, 0.5980289999450239, 0.5125085258193363, 0.0, 0.3785915070845318, 0.6539989452730195, 0.6145003932877922, 0.5363152927764747, 0.5644275044344809, 0.6337367556896829, 0.6467385745445953, 0.5998336278746574, 0.7628214162481246, 0.7409853460431187]}, {\"categories\": [\"0\", \"1\", \"2\", \"3\", \"4\", \"5\", \"6\", \"7\", \"8\", \"9\", \"10\", \"11\", \"12\", \"13\", \"14\", \"15\", \"16\", \"17\", \"18\", \"19\", \"20\", \"21\", \"22\", \"23\", \"24\", \"25\", \"26\", \"27\", \"28\", \"29\", \"30\", \"31\", \"32\", \"33\", \"34\", \"35\", \"36\", \"37\", \"38\", \"48\", \"49\"], \"mode\": \"lines\", \"name\": \"matthews_correlation_max\", \"stepped\": true, \"type\": \"scatter\", \"data\": [0.5983211632330471, 0.6653810135458028, 0.6653810135458028, 0.6697339908437085, 0.6697339908437085, 0.6697339908437085, 0.6872089471525148, 0.6883288978880626, 0.6883288978880626, 0.6883288978880626, 0.6883288978880626, 0.6883288978880626, 0.6883288978880626, 0.6883288978880626, 0.6883288978880626, 0.6883288978880626, 0.6883288978880626, 0.6883288978880626, 0.6883288978880626, 0.6883288978880626, 0.6883288978880626, 0.6883288978880626, 0.6883288978880626, 0.6883288978880626, 0.6883288978880626, 0.6883288978880626, 0.6883288978880626, 0.6883288978880626, 0.6883288978880626, 0.6883288978880626, 0.6883288978880626, 0.6883288978880626, 0.6883288978880626, 0.6883288978880626, 0.6883288978880626, 0.6883288978880626, 0.6883288978880626, 0.6883288978880626, 0.6883288978880626, 0.7628214162481246, 0.7628214162481246]}], \"log_loss\": [{\"categories\": [\"0\", \"1\", \"2\", \"3\", \"4\", \"5\", \"6\", \"7\", \"8\", \"9\", \"10\", \"11\", \"12\", \"13\", \"14\", \"15\", \"16\", \"17\", \"18\", \"19\", \"20\", \"21\", \"22\", \"23\", \"24\", \"25\", \"26\", \"27\", \"28\", \"29\", \"30\", \"31\", \"32\", \"33\", \"34\", \"35\", \"36\", \"37\", \"38\", \"48\", \"49\"], \"mode\": \"markers\", \"name\": \"log_loss\", \"stepped\": false, \"type\": \"scatter\", \"data\": [0.4535248843729726, 0.39597595872121905, 0.37439178968181147, 0.520647402650752, 0.4654405293117825, 0.3834668732322828, 0.3781578853945753, 0.3490298766188854, 0.3803097474659135, 0.40458474674334216, 0.44001029684171544, 0.5444144127585845, 0.5167554659653466, 0.49420758279770427, 0.41147269884260473, 0.38656013302931713, 0.5683951518101332, 0.3713303501224155, 0.38554766313711514, 0.40823936669956706, 0.45580775694574027, 0.36400597814772195, 0.37945346300590754, 0.3685304486430592, 0.47253151998514414, 0.42913614040660053, 0.724747310067648, 0.5326700772350615, 0.4400692182709031, 0.4583523294916802, 0.6344628092756509, 0.5126750456779054, 0.4063981656043022, 0.426134188687205, 0.46244786059976106, 0.40795613594414604, 0.4063597319662872, 0.35592822704043314, 0.43951645163201614, 0.36574080242462076, 0.3797086620537891]}, {\"categories\": [\"0\", \"1\", \"2\", \"3\", \"4\", \"5\", \"6\", \"7\", \"8\", \"9\", \"10\", \"11\", \"12\", \"13\", \"14\", \"15\", \"16\", \"17\", \"18\", \"19\", \"20\", \"21\", \"22\", \"23\", \"24\", \"25\", \"26\", \"27\", \"28\", \"29\", \"30\", \"31\", \"32\", \"33\", \"34\", \"35\", \"36\", \"37\", \"38\", \"48\", \"49\"], \"mode\": \"lines\", \"name\": \"log_loss_min\", \"stepped\": true, \"type\": \"scatter\", \"data\": [0.4535248843729726, 0.39597595872121905, 0.37439178968181147, 0.37439178968181147, 0.37439178968181147, 0.37439178968181147, 0.37439178968181147, 0.3490298766188854, 0.3490298766188854, 0.3490298766188854, 0.3490298766188854, 0.3490298766188854, 0.3490298766188854, 0.3490298766188854, 0.3490298766188854, 0.3490298766188854, 0.3490298766188854, 0.3490298766188854, 0.3490298766188854, 0.3490298766188854, 0.3490298766188854, 0.3490298766188854, 0.3490298766188854, 0.3490298766188854, 0.3490298766188854, 0.3490298766188854, 0.3490298766188854, 0.3490298766188854, 0.3490298766188854, 0.3490298766188854, 0.3490298766188854, 0.3490298766188854, 0.3490298766188854, 0.3490298766188854, 0.3490298766188854, 0.3490298766188854, 0.3490298766188854, 0.3490298766188854, 0.3490298766188854, 0.3490298766188854, 0.3490298766188854]}], \"AUC_micro\": [{\"categories\": [\"0\", \"1\", \"2\", \"3\", \"4\", \"5\", \"6\", \"7\", \"8\", \"9\", \"10\", \"11\", \"12\", \"13\", \"14\", \"15\", \"16\", \"17\", \"18\", \"19\", \"20\", \"21\", \"22\", \"23\", \"24\", \"25\", \"26\", \"27\", \"28\", \"29\", \"30\", \"31\", \"32\", \"33\", \"34\", \"35\", \"36\", \"37\", \"38\", \"48\", \"49\"], \"mode\": \"markers\", \"name\": \"AUC_micro\", \"stepped\": false, \"type\": \"scatter\", \"data\": [0.9126275510204082, 0.9155373086734695, 0.9197624362244898, 0.9223533163265305, 0.903579400510204, 0.9122289540816326, 0.9229910714285714, 0.9265784438775511, 0.9188058035714286, 0.9110331632653061, 0.8813376913265307, 0.8213887117346939, 0.8368742028061225, 0.8495894451530612, 0.9013073979591837, 0.9129464285714286, 0.8267697704081632, 0.9277742346938775, 0.9165338010204082, 0.9056521045918368, 0.8841677295918366, 0.9256616709183674, 0.916015625, 0.9232302295918368, 0.8830117984693878, 0.9054129464285714, 0.6712771045918368, 0.8304767219387754, 0.8965640943877551, 0.8852838010204082, 0.6769371811224489, 0.8486128826530612, 0.9225526147959183, 0.901985012755102, 0.8766342474489797, 0.9029815051020409, 0.9059311224489797, 0.923309948979592, 0.8927375637755102, 0.926139987244898, 0.9262994260204082]}, {\"categories\": [\"0\", \"1\", \"2\", \"3\", \"4\", \"5\", \"6\", \"7\", \"8\", \"9\", \"10\", \"11\", \"12\", \"13\", \"14\", \"15\", \"16\", \"17\", \"18\", \"19\", \"20\", \"21\", \"22\", \"23\", \"24\", \"25\", \"26\", \"27\", \"28\", \"29\", \"30\", \"31\", \"32\", \"33\", \"34\", \"35\", \"36\", \"37\", \"38\", \"48\", \"49\"], \"mode\": \"lines\", \"name\": \"AUC_micro_max\", \"stepped\": true, \"type\": \"scatter\", \"data\": [0.9126275510204082, 0.9155373086734695, 0.9197624362244898, 0.9223533163265305, 0.9223533163265305, 0.9223533163265305, 0.9229910714285714, 0.9265784438775511, 0.9265784438775511, 0.9265784438775511, 0.9265784438775511, 0.9265784438775511, 0.9265784438775511, 0.9265784438775511, 0.9265784438775511, 0.9265784438775511, 0.9265784438775511, 0.9277742346938775, 0.9277742346938775, 0.9277742346938775, 0.9277742346938775, 0.9277742346938775, 0.9277742346938775, 0.9277742346938775, 0.9277742346938775, 0.9277742346938775, 0.9277742346938775, 0.9277742346938775, 0.9277742346938775, 0.9277742346938775, 0.9277742346938775, 0.9277742346938775, 0.9277742346938775, 0.9277742346938775, 0.9277742346938775, 0.9277742346938775, 0.9277742346938775, 0.9277742346938775, 0.9277742346938775, 0.9277742346938775, 0.9277742346938775]}], \"f1_score_micro\": [{\"categories\": [\"0\", \"1\", \"2\", \"3\", \"4\", \"5\", \"6\", \"7\", \"8\", \"9\", \"10\", \"11\", \"12\", \"13\", \"14\", \"15\", \"16\", \"17\", \"18\", \"19\", \"20\", \"21\", \"22\", \"23\", \"24\", \"25\", \"26\", \"27\", \"28\", \"29\", \"30\", \"31\", \"32\", \"33\", \"34\", \"35\", \"36\", \"37\", \"38\", \"48\", \"49\"], \"mode\": \"markers\", \"name\": \"f1_score_micro\", \"stepped\": false, \"type\": \"scatter\", \"data\": [0.8258928571428572, 0.8526785714285714, 0.84375, 0.8571428571428572, 0.8348214285714286, 0.8214285714285714, 0.8660714285714286, 0.8660714285714286, 0.8616071428571428, 0.8392857142857143, 0.8169642857142857, 0.7053571428571428, 0.7544642857142857, 0.7589285714285714, 0.8125, 0.8392857142857142, 0.6696428571428572, 0.8571428571428572, 0.84375, 0.8303571428571429, 0.7723214285714286, 0.8616071428571428, 0.8392857142857143, 0.8482142857142857, 0.7901785714285714, 0.8571428571428572, 0.6383928571428572, 0.71875, 0.8258928571428572, 0.7946428571428572, 0.6696428571428572, 0.7410714285714286, 0.8526785714285714, 0.8348214285714286, 0.8035714285714286, 0.8125, 0.84375, 0.8482142857142857, 0.8258928571428572, 0.8973214285714286, 0.8883928571428572]}, {\"categories\": [\"0\", \"1\", \"2\", \"3\", \"4\", \"5\", \"6\", \"7\", \"8\", \"9\", \"10\", \"11\", \"12\", \"13\", \"14\", \"15\", \"16\", \"17\", \"18\", \"19\", \"20\", \"21\", \"22\", \"23\", \"24\", \"25\", \"26\", \"27\", \"28\", \"29\", \"30\", \"31\", \"32\", \"33\", \"34\", \"35\", \"36\", \"37\", \"38\", \"48\", \"49\"], \"mode\": \"lines\", \"name\": \"f1_score_micro_max\", \"stepped\": true, \"type\": \"scatter\", \"data\": [0.8258928571428572, 0.8526785714285714, 0.8526785714285714, 0.8571428571428572, 0.8571428571428572, 0.8571428571428572, 0.8660714285714286, 0.8660714285714286, 0.8660714285714286, 0.8660714285714286, 0.8660714285714286, 0.8660714285714286, 0.8660714285714286, 0.8660714285714286, 0.8660714285714286, 0.8660714285714286, 0.8660714285714286, 0.8660714285714286, 0.8660714285714286, 0.8660714285714286, 0.8660714285714286, 0.8660714285714286, 0.8660714285714286, 0.8660714285714286, 0.8660714285714286, 0.8660714285714286, 0.8660714285714286, 0.8660714285714286, 0.8660714285714286, 0.8660714285714286, 0.8660714285714286, 0.8660714285714286, 0.8660714285714286, 0.8660714285714286, 0.8660714285714286, 0.8660714285714286, 0.8660714285714286, 0.8660714285714286, 0.8660714285714286, 0.8973214285714286, 0.8973214285714286]}], \"precision_score_weighted\": [{\"categories\": [\"0\", \"1\", \"2\", \"3\", \"4\", \"5\", \"6\", \"7\", \"8\", \"9\", \"10\", \"11\", \"12\", \"13\", \"14\", \"15\", \"16\", \"17\", \"18\", \"19\", \"20\", \"21\", \"22\", \"23\", \"24\", \"25\", \"26\", \"27\", \"28\", \"29\", \"30\", \"31\", \"32\", \"33\", \"34\", \"35\", \"36\", \"37\", \"38\", \"48\", \"49\"], \"mode\": \"markers\", \"name\": \"precision_score_weighted\", \"stepped\": false, \"type\": \"scatter\", \"data\": [0.8256885344134468, 0.8539127855534105, 0.8437342485404793, 0.8557557948380734, 0.8425487924800572, 0.8207523093608224, 0.8667046926297399, 0.8648033774913474, 0.860235003092146, 0.8490298989334579, 0.8313996153316308, 0.7553403268245396, 0.7559225604117243, 0.7603037837142241, 0.8105770803683892, 0.83895167037538, 0.4485012755102041, 0.8556416049651567, 0.8476540616246498, 0.8313764394646748, 0.7798865084812237, 0.860015837352025, 0.8370790748731927, 0.8458629605688428, 0.7940343086032741, 0.8608401993473118, 0.5935553009082419, 0.80229119425548, 0.8405735137877994, 0.810486561793631, 0.4485012755102041, 0.7570369627687872, 0.8505709976298212, 0.8431008360410354, 0.8099761198945982, 0.8087458153993305, 0.8424115245009075, 0.8458736884029521, 0.8441229836416171, 0.9000361081932773, 0.8919089952791461]}, {\"categories\": [\"0\", \"1\", \"2\", \"3\", \"4\", \"5\", \"6\", \"7\", \"8\", \"9\", \"10\", \"11\", \"12\", \"13\", \"14\", \"15\", \"16\", \"17\", \"18\", \"19\", \"20\", \"21\", \"22\", \"23\", \"24\", \"25\", \"26\", \"27\", \"28\", \"29\", \"30\", \"31\", \"32\", \"33\", \"34\", \"35\", \"36\", \"37\", \"38\", \"48\", \"49\"], \"mode\": \"lines\", \"name\": \"precision_score_weighted_max\", \"stepped\": true, \"type\": \"scatter\", \"data\": [0.8256885344134468, 0.8539127855534105, 0.8539127855534105, 0.8557557948380734, 0.8557557948380734, 0.8557557948380734, 0.8667046926297399, 0.8667046926297399, 0.8667046926297399, 0.8667046926297399, 0.8667046926297399, 0.8667046926297399, 0.8667046926297399, 0.8667046926297399, 0.8667046926297399, 0.8667046926297399, 0.8667046926297399, 0.8667046926297399, 0.8667046926297399, 0.8667046926297399, 0.8667046926297399, 0.8667046926297399, 0.8667046926297399, 0.8667046926297399, 0.8667046926297399, 0.8667046926297399, 0.8667046926297399, 0.8667046926297399, 0.8667046926297399, 0.8667046926297399, 0.8667046926297399, 0.8667046926297399, 0.8667046926297399, 0.8667046926297399, 0.8667046926297399, 0.8667046926297399, 0.8667046926297399, 0.8667046926297399, 0.8667046926297399, 0.9000361081932773, 0.9000361081932773]}], \"recall_score_micro\": [{\"categories\": [\"0\", \"1\", \"2\", \"3\", \"4\", \"5\", \"6\", \"7\", \"8\", \"9\", \"10\", \"11\", \"12\", \"13\", \"14\", \"15\", \"16\", \"17\", \"18\", \"19\", \"20\", \"21\", \"22\", \"23\", \"24\", \"25\", \"26\", \"27\", \"28\", \"29\", \"30\", \"31\", \"32\", \"33\", \"34\", \"35\", \"36\", \"37\", \"38\", \"48\", \"49\"], \"mode\": \"markers\", \"name\": \"recall_score_micro\", \"stepped\": false, \"type\": \"scatter\", \"data\": [0.8258928571428572, 0.8526785714285714, 0.84375, 0.8571428571428572, 0.8348214285714286, 0.8214285714285714, 0.8660714285714286, 0.8660714285714286, 0.8616071428571428, 0.8392857142857143, 0.8169642857142857, 0.7053571428571428, 0.7544642857142857, 0.7589285714285714, 0.8125, 0.8392857142857142, 0.6696428571428572, 0.8571428571428572, 0.84375, 0.8303571428571428, 0.7723214285714286, 0.8616071428571428, 0.8392857142857143, 0.8482142857142857, 0.7901785714285714, 0.8571428571428572, 0.6383928571428572, 0.71875, 0.8258928571428572, 0.7946428571428572, 0.6696428571428572, 0.7410714285714286, 0.8526785714285714, 0.8348214285714286, 0.8035714285714286, 0.8125, 0.84375, 0.8482142857142857, 0.8258928571428572, 0.8973214285714286, 0.8883928571428572]}, {\"categories\": [\"0\", \"1\", \"2\", \"3\", \"4\", \"5\", \"6\", \"7\", \"8\", \"9\", \"10\", \"11\", \"12\", \"13\", \"14\", \"15\", \"16\", \"17\", \"18\", \"19\", \"20\", \"21\", \"22\", \"23\", \"24\", \"25\", \"26\", \"27\", \"28\", \"29\", \"30\", \"31\", \"32\", \"33\", \"34\", \"35\", \"36\", \"37\", \"38\", \"48\", \"49\"], \"mode\": \"lines\", \"name\": \"recall_score_micro_max\", \"stepped\": true, \"type\": \"scatter\", \"data\": [0.8258928571428572, 0.8526785714285714, 0.8526785714285714, 0.8571428571428572, 0.8571428571428572, 0.8571428571428572, 0.8660714285714286, 0.8660714285714286, 0.8660714285714286, 0.8660714285714286, 0.8660714285714286, 0.8660714285714286, 0.8660714285714286, 0.8660714285714286, 0.8660714285714286, 0.8660714285714286, 0.8660714285714286, 0.8660714285714286, 0.8660714285714286, 0.8660714285714286, 0.8660714285714286, 0.8660714285714286, 0.8660714285714286, 0.8660714285714286, 0.8660714285714286, 0.8660714285714286, 0.8660714285714286, 0.8660714285714286, 0.8660714285714286, 0.8660714285714286, 0.8660714285714286, 0.8660714285714286, 0.8660714285714286, 0.8660714285714286, 0.8660714285714286, 0.8660714285714286, 0.8660714285714286, 0.8660714285714286, 0.8660714285714286, 0.8973214285714286, 0.8973214285714286]}]}, \"metricName\": null, \"primaryMetricName\": \"accuracy\", \"showLegend\": false}, \"run_metrics\": [{\"name\": \"experiment_status\", \"run_id\": \"AutoML_e7c9ced7-8028-458d-9d7e-7eeabe093adf\", \"categories\": [0, 1, 2, 3, 4, 5, 6, 7, 8, 9, 10, 11, 12, 13], \"series\": [{\"data\": [\"DatasetEvaluation\", \"FeaturesGeneration\", \"DatasetFeaturization\", \"DatasetFeaturizationCompleted\", \"DatasetCrossValidationSplit\", \"ModelSelection\", \"BestRunExplainModel\", \"ModelExplanationDataSetSetup\", \"PickSurrogateModel\", \"EngineeredFeatureExplanations\", \"EngineeredFeatureExplanations\", \"RawFeaturesExplanations\", \"RawFeaturesExplanations\", \"BestRunExplainModel\"]}]}, {\"name\": \"experiment_status_description\", \"run_id\": \"AutoML_e7c9ced7-8028-458d-9d7e-7eeabe093adf\", \"categories\": [0, 1, 2, 3, 4, 5, 6, 7, 8, 9, 10, 11, 12, 13], \"series\": [{\"data\": [\"Gathering dataset statistics.\", \"Generating features for the dataset.\", \"Beginning to fit featurizers and featurize the dataset.\", \"Completed fit featurizers and featurizing the dataset.\", \"Generating individually featurized CV splits.\", \"Beginning model selection.\", \"Best run model explanations started\", \"Model explanations data setup completed\", \"Choosing LightGBM as the surrogate model for explanations\", \"Computation of engineered features started\", \"Computation of engineered features completed\", \"Computation of raw features started\", \"Computation of raw features completed\", \"Best run model explanations completed\"]}]}, {\"name\": \"precision_score_weighted\", \"run_id\": \"AutoML_e7c9ced7-8028-458d-9d7e-7eeabe093adf\", \"categories\": [0], \"series\": [{\"data\": [0.9000361081932773]}]}, {\"name\": \"AUC_macro\", \"run_id\": \"AutoML_e7c9ced7-8028-458d-9d7e-7eeabe093adf\", \"categories\": [0], \"series\": [{\"data\": [0.9123646672988779]}]}, {\"name\": \"AUC_micro\", \"run_id\": \"AutoML_e7c9ced7-8028-458d-9d7e-7eeabe093adf\", \"categories\": [0], \"series\": [{\"data\": [0.926139987244898]}]}, {\"name\": \"norm_macro_recall\", \"run_id\": \"AutoML_e7c9ced7-8028-458d-9d7e-7eeabe093adf\", \"categories\": [0], \"series\": [{\"data\": [0.7147344713134187]}]}, {\"name\": \"log_loss\", \"run_id\": \"AutoML_e7c9ced7-8028-458d-9d7e-7eeabe093adf\", \"categories\": [0], \"series\": [{\"data\": [0.36574080242462076]}]}, {\"name\": \"weighted_accuracy\", \"run_id\": \"AutoML_e7c9ced7-8028-458d-9d7e-7eeabe093adf\", \"categories\": [0], \"series\": [{\"data\": [0.9287706300839589]}]}, {\"name\": \"balanced_accuracy\", \"run_id\": \"AutoML_e7c9ced7-8028-458d-9d7e-7eeabe093adf\", \"categories\": [0], \"series\": [{\"data\": [0.8573672356567094]}]}, {\"name\": \"AUC_weighted\", \"run_id\": \"AutoML_e7c9ced7-8028-458d-9d7e-7eeabe093adf\", \"categories\": [0], \"series\": [{\"data\": [0.9123646672988779]}]}, {\"name\": \"average_precision_score_weighted\", \"run_id\": \"AutoML_e7c9ced7-8028-458d-9d7e-7eeabe093adf\", \"categories\": [0], \"series\": [{\"data\": [0.9257641290153051]}]}, {\"name\": \"precision_score_micro\", \"run_id\": \"AutoML_e7c9ced7-8028-458d-9d7e-7eeabe093adf\", \"categories\": [0], \"series\": [{\"data\": [0.8973214285714286]}]}, {\"name\": \"f1_score_micro\", \"run_id\": \"AutoML_e7c9ced7-8028-458d-9d7e-7eeabe093adf\", \"categories\": [0], \"series\": [{\"data\": [0.8973214285714286]}]}, {\"name\": \"precision_score_macro\", \"run_id\": \"AutoML_e7c9ced7-8028-458d-9d7e-7eeabe093adf\", \"categories\": [0], \"series\": [{\"data\": [0.9072406045751634]}]}, {\"name\": \"accuracy\", \"run_id\": \"AutoML_e7c9ced7-8028-458d-9d7e-7eeabe093adf\", \"categories\": [0], \"series\": [{\"data\": [0.8973214285714286]}]}, {\"name\": \"matthews_correlation\", \"run_id\": \"AutoML_e7c9ced7-8028-458d-9d7e-7eeabe093adf\", \"categories\": [0], \"series\": [{\"data\": [0.7628214162481246]}]}, {\"name\": \"recall_score_macro\", \"run_id\": \"AutoML_e7c9ced7-8028-458d-9d7e-7eeabe093adf\", \"categories\": [0], \"series\": [{\"data\": [0.8573672356567094]}]}, {\"name\": \"recall_score_micro\", \"run_id\": \"AutoML_e7c9ced7-8028-458d-9d7e-7eeabe093adf\", \"categories\": [0], \"series\": [{\"data\": [0.8973214285714286]}]}, {\"name\": \"f1_score_weighted\", \"run_id\": \"AutoML_e7c9ced7-8028-458d-9d7e-7eeabe093adf\", \"categories\": [0], \"series\": [{\"data\": [0.8935750584818909]}]}, {\"name\": \"average_precision_score_micro\", \"run_id\": \"AutoML_e7c9ced7-8028-458d-9d7e-7eeabe093adf\", \"categories\": [0], \"series\": [{\"data\": [0.9271062753260348]}]}, {\"name\": \"f1_score_macro\", \"run_id\": \"AutoML_e7c9ced7-8028-458d-9d7e-7eeabe093adf\", \"categories\": [0], \"series\": [{\"data\": [0.8756258234519104]}]}, {\"name\": \"average_precision_score_macro\", \"run_id\": \"AutoML_e7c9ced7-8028-458d-9d7e-7eeabe093adf\", \"categories\": [0], \"series\": [{\"data\": [0.9111155173499444]}]}, {\"name\": \"recall_score_weighted\", \"run_id\": \"AutoML_e7c9ced7-8028-458d-9d7e-7eeabe093adf\", \"categories\": [0], \"series\": [{\"data\": [0.8973214285714286]}]}], \"run_logs\": \"\\nRun is completed.\", \"graph\": {}, \"widget_settings\": {\"childWidgetDisplay\": \"popup\", \"send_telemetry\": false, \"log_level\": \"INFO\", \"sdk_version\": \"1.24.0\"}, \"loading\": false}"
     },
     "metadata": {},
     "output_type": "display_data"
    },
    {
     "name": "stdout",
     "output_type": "stream",
     "text": [
      "\n",
      "\n",
      "****************************************************************************************************\n",
      "DATA GUARDRAILS: \n",
      "\n",
      "TYPE:         Class balancing detection\n",
      "STATUS:       PASSED\n",
      "DESCRIPTION:  Your inputs were analyzed, and all classes are balanced in your training data.\n",
      "              Learn more about imbalanced data: https://aka.ms/AutomatedMLImbalancedData\n",
      "\n",
      "****************************************************************************************************\n",
      "\n",
      "TYPE:         Missing feature values imputation\n",
      "STATUS:       PASSED\n",
      "DESCRIPTION:  No feature missing values were detected in the training data.\n",
      "              Learn more about missing value imputation: https://aka.ms/AutomatedMLFeaturization\n",
      "\n",
      "****************************************************************************************************\n",
      "\n",
      "TYPE:         High cardinality feature detection\n",
      "STATUS:       PASSED\n",
      "DESCRIPTION:  Your inputs were analyzed, and no high cardinality features were detected.\n",
      "              Learn more about high cardinality feature handling: https://aka.ms/AutomatedMLFeaturization\n",
      "\n",
      "****************************************************************************************************\n",
      "\n",
      "****************************************************************************************************\n",
      "ITERATION: The iteration being evaluated.\n",
      "PIPELINE: A summary description of the pipeline being evaluated.\n",
      "DURATION: Time taken for the current iteration.\n",
      "METRIC: The result of computing score on the fitted pipeline.\n",
      "BEST: The best observed score thus far.\n",
      "****************************************************************************************************\n",
      "\n",
      " ITERATION   PIPELINE                                       DURATION      METRIC      BEST\n",
      "         0   MaxAbsScaler LightGBM                          0:00:42       0.8259    0.8259\n",
      "         1   MinMaxScaler RandomForest                      0:00:45       0.8527    0.8527\n",
      "         2   MinMaxScaler RandomForest                      0:00:51       0.8438    0.8527\n",
      "         3   MinMaxScaler RandomForest                      0:01:03       0.8571    0.8571\n",
      "         4   MinMaxScaler RandomForest                      0:01:03       0.8348    0.8571\n",
      "         5   RobustScaler LightGBM                          0:00:53       0.8214    0.8571\n",
      "         6   RobustScaler GradientBoosting                  0:02:41       0.8661    0.8661\n",
      "         7   MaxAbsScaler LightGBM                          0:00:54       0.8661    0.8661\n",
      "         8   StandardScalerWrapper LightGBM                 0:00:49       0.8616    0.8661\n",
      "         9   MinMaxScaler LightGBM                          0:00:51       0.8393    0.8661\n",
      "        10   RobustScaler LogisticRegression                0:00:54       0.8170    0.8661\n",
      "        11   MinMaxScaler SVM                               0:00:40       0.7054    0.8661\n",
      "        12   MinMaxScaler SVM                               0:00:48       0.7545    0.8661\n",
      "        13   MinMaxScaler SVM                               0:00:42       0.7589    0.8661\n",
      "        14   StandardScalerWrapper LogisticRegression       0:00:42       0.8125    0.8661\n",
      "        15   SparseNormalizer LightGBM                      0:00:45       0.8393    0.8661\n",
      "        16   StandardScalerWrapper ExtremeRandomTrees       0:00:47       0.6696    0.8661\n",
      "        17   RobustScaler RandomForest                      0:00:45       0.8571    0.8661\n",
      "        18   MaxAbsScaler LightGBM                          0:00:53       0.8438    0.8661\n",
      "        19   StandardScalerWrapper ExtremeRandomTrees       0:00:52       0.8304    0.8661\n",
      "        20   MinMaxScaler LightGBM                          0:00:52       0.7723    0.8661\n",
      "        21   MaxAbsScaler GradientBoosting                  0:00:53       0.8616    0.8661\n",
      "        22   RobustScaler LightGBM                          0:00:45       0.8393    0.8661\n",
      "        23   StandardScalerWrapper RandomForest             0:00:54       0.8482    0.8661\n",
      "        24   StandardScalerWrapper LightGBM                 0:00:51       0.7902    0.8661\n",
      "        25   MaxAbsScaler GradientBoosting                  0:00:48       0.8571    0.8661\n",
      "        26   StandardScalerWrapper KNN                      0:00:45       0.6384    0.8661\n",
      "        27   MaxAbsScaler LightGBM                          0:00:40       0.7188    0.8661\n",
      "        28   MaxAbsScaler ExtremeRandomTrees                0:00:45       0.8259    0.8661\n",
      "        29   StandardScalerWrapper RandomForest             0:00:46       0.7946    0.8661\n",
      "        30   PCA GradientBoosting                           0:00:44       0.6696    0.8661\n",
      "        31   StandardScalerWrapper LightGBM                 0:00:46       0.7411    0.8661\n",
      "        32   StandardScalerWrapper GradientBoosting         0:00:45       0.8527    0.8661\n",
      "        33   MinMaxScaler ExtremeRandomTrees                0:00:51       0.8348    0.8661\n",
      "        34   SparseNormalizer LightGBM                      0:00:50       0.8036    0.8661\n",
      "        35   RobustScaler GradientBoosting                  0:00:57       0.8125    0.8661\n",
      "        36   MaxAbsScaler LightGBM                          0:00:50       0.8438    0.8661\n",
      "        37   StandardScalerWrapper RandomForest             0:00:52       0.8482    0.8661\n",
      "        38   StandardScalerWrapper ExtremeRandomTrees       0:00:43       0.8259    0.8661\n",
      "        39                                                  0:00:12          nan    0.8661\n",
      "        40                                                  0:04:07          nan    0.8661\n",
      "        41                                                  0:03:47          nan    0.8661\n",
      "        42                                                  0:03:10          nan    0.8661\n",
      "        43                                                  0:02:41          nan    0.8661\n",
      "        44                                                  0:02:12          nan    0.8661\n",
      "        45                                                  0:01:29          nan    0.8661\n",
      "        46                                                  0:01:07          nan    0.8661\n",
      "        47                                                  0:00:25          nan    0.8661\n",
      "        48    VotingEnsemble                                0:01:02       0.8973    0.8973\n",
      "        49    StackEnsemble                                 0:01:02       0.8884    0.8973\n"
     ]
    },
    {
     "data": {
      "text/plain": [
       "{'runId': 'AutoML_e7c9ced7-8028-458d-9d7e-7eeabe093adf',\n",
       " 'target': 'aml-compute',\n",
       " 'status': 'Completed',\n",
       " 'startTimeUtc': '2021-03-21T20:55:32.753776Z',\n",
       " 'endTimeUtc': '2021-03-21T21:28:26.39959Z',\n",
       " 'properties': {'num_iterations': '1000',\n",
       "  'training_type': 'TrainFull',\n",
       "  'acquisition_function': 'EI',\n",
       "  'primary_metric': 'accuracy',\n",
       "  'train_split': '0',\n",
       "  'acquisition_parameter': '0',\n",
       "  'num_cross_validation': '2',\n",
       "  'target': 'aml-compute',\n",
       "  'AMLSettingsJsonString': '{\"path\":null,\"name\":\"automl_run\",\"subscription_id\":\"dbee21d3-7701-4598-ac5f-784c0f3d62e3\",\"resource_group\":\"udacitycapstoneproject\",\"workspace_name\":\"udacitycapstoneproject\",\"region\":\"southcentralus\",\"compute_target\":\"aml-compute\",\"spark_service\":null,\"azure_service\":\"remote\",\"many_models\":false,\"pipeline_fetch_max_batch_size\":1,\"enable_batch_run\":false,\"iterations\":1000,\"primary_metric\":\"accuracy\",\"task_type\":\"classification\",\"data_script\":null,\"validation_size\":0.0,\"n_cross_validations\":2,\"y_min\":null,\"y_max\":null,\"num_classes\":null,\"featurization\":\"auto\",\"_ignore_package_version_incompatibilities\":false,\"is_timeseries\":false,\"max_cores_per_iteration\":1,\"max_concurrent_iterations\":10,\"iteration_timeout_minutes\":null,\"mem_in_mb\":null,\"enforce_time_on_windows\":false,\"experiment_timeout_minutes\":45,\"experiment_exit_score\":null,\"whitelist_models\":null,\"blacklist_algos\":[\"XGBoostClassifier\",\"TensorFlowLinearClassifier\",\"TensorFlowDNN\"],\"supported_models\":[\"SGD\",\"LogisticRegression\",\"AveragedPerceptronClassifier\",\"LinearSVM\",\"TensorFlowLinearClassifier\",\"TensorFlowDNN\",\"ExtremeRandomTrees\",\"RandomForest\",\"SVM\",\"DecisionTree\",\"GradientBoosting\",\"KNN\",\"LightGBM\",\"XGBoostClassifier\",\"BernoulliNaiveBayes\",\"MultinomialNaiveBayes\"],\"private_models\":[],\"auto_blacklist\":true,\"blacklist_samples_reached\":false,\"exclude_nan_labels\":true,\"verbosity\":20,\"_debug_log\":\"azureml_automl.log\",\"show_warnings\":false,\"model_explainability\":true,\"service_url\":null,\"sdk_url\":null,\"sdk_packages\":null,\"enable_onnx_compatible_models\":false,\"enable_split_onnx_featurizer_estimator_models\":false,\"vm_type\":\"STANDARD_DS2_V2\",\"telemetry_verbosity\":20,\"send_telemetry\":true,\"enable_dnn\":false,\"scenario\":\"SDK-1.13.0\",\"environment_label\":null,\"save_mlflow\":false,\"force_text_dnn\":false,\"enable_feature_sweeping\":true,\"enable_early_stopping\":true,\"early_stopping_n_iters\":10,\"metrics\":null,\"enable_metric_confidence\":false,\"enable_ensembling\":true,\"enable_stack_ensembling\":true,\"ensemble_iterations\":15,\"enable_tf\":false,\"enable_subsampling\":null,\"subsample_seed\":null,\"enable_nimbusml\":false,\"enable_streaming\":false,\"force_streaming\":false,\"track_child_runs\":true,\"allowed_private_models\":[],\"label_column_name\":\"DEATH_EVENT\",\"weight_column_name\":null,\"cv_split_column_names\":null,\"enable_local_managed\":false,\"_local_managed_run_id\":null,\"cost_mode\":1,\"lag_length\":0,\"metric_operation\":\"maximize\",\"preprocess\":true}',\n",
       "  'DataPrepJsonString': '{\\\\\"training_data\\\\\": \\\\\"{\\\\\\\\\\\\\"blocks\\\\\\\\\\\\\": [{\\\\\\\\\\\\\"id\\\\\\\\\\\\\": \\\\\\\\\\\\\"ad431c67-7239-4640-a498-9a4d29ce7458\\\\\\\\\\\\\", \\\\\\\\\\\\\"type\\\\\\\\\\\\\": \\\\\\\\\\\\\"Microsoft.DPrep.GetDatastoreFilesBlock\\\\\\\\\\\\\", \\\\\\\\\\\\\"arguments\\\\\\\\\\\\\": {\\\\\\\\\\\\\"datastores\\\\\\\\\\\\\": [{\\\\\\\\\\\\\"datastoreName\\\\\\\\\\\\\": \\\\\\\\\\\\\"workspaceblobstore\\\\\\\\\\\\\", \\\\\\\\\\\\\"path\\\\\\\\\\\\\": \\\\\\\\\\\\\"train.csv\\\\\\\\\\\\\", \\\\\\\\\\\\\"resourceGroup\\\\\\\\\\\\\": \\\\\\\\\\\\\"udacitycapstoneproject\\\\\\\\\\\\\", \\\\\\\\\\\\\"subscription\\\\\\\\\\\\\": \\\\\\\\\\\\\"dbee21d3-7701-4598-ac5f-784c0f3d62e3\\\\\\\\\\\\\", \\\\\\\\\\\\\"workspaceName\\\\\\\\\\\\\": \\\\\\\\\\\\\"udacitycapstoneproject\\\\\\\\\\\\\"}]}, \\\\\\\\\\\\\"localData\\\\\\\\\\\\\": {}, \\\\\\\\\\\\\"isEnabled\\\\\\\\\\\\\": true, \\\\\\\\\\\\\"name\\\\\\\\\\\\\": null, \\\\\\\\\\\\\"annotation\\\\\\\\\\\\\": null}, {\\\\\\\\\\\\\"id\\\\\\\\\\\\\": \\\\\\\\\\\\\"ee0ebd3c-83b2-4050-ab33-9b3d4e8b51eb\\\\\\\\\\\\\", \\\\\\\\\\\\\"type\\\\\\\\\\\\\": \\\\\\\\\\\\\"Microsoft.DPrep.ParseDelimitedBlock\\\\\\\\\\\\\", \\\\\\\\\\\\\"arguments\\\\\\\\\\\\\": {\\\\\\\\\\\\\"columnHeadersMode\\\\\\\\\\\\\": 3, \\\\\\\\\\\\\"fileEncoding\\\\\\\\\\\\\": 0, \\\\\\\\\\\\\"handleQuotedLineBreaks\\\\\\\\\\\\\": false, \\\\\\\\\\\\\"preview\\\\\\\\\\\\\": false, \\\\\\\\\\\\\"separator\\\\\\\\\\\\\": \\\\\\\\\\\\\",\\\\\\\\\\\\\", \\\\\\\\\\\\\"skipRows\\\\\\\\\\\\\": 0, \\\\\\\\\\\\\"skipRowsMode\\\\\\\\\\\\\": 0}, \\\\\\\\\\\\\"localData\\\\\\\\\\\\\": {}, \\\\\\\\\\\\\"isEnabled\\\\\\\\\\\\\": true, \\\\\\\\\\\\\"name\\\\\\\\\\\\\": null, \\\\\\\\\\\\\"annotation\\\\\\\\\\\\\": null}, {\\\\\\\\\\\\\"id\\\\\\\\\\\\\": \\\\\\\\\\\\\"a49ea193-3a67-4673-bc09-df7744002f59\\\\\\\\\\\\\", \\\\\\\\\\\\\"type\\\\\\\\\\\\\": \\\\\\\\\\\\\"Microsoft.DPrep.DropColumnsBlock\\\\\\\\\\\\\", \\\\\\\\\\\\\"arguments\\\\\\\\\\\\\": {\\\\\\\\\\\\\"columns\\\\\\\\\\\\\": {\\\\\\\\\\\\\"type\\\\\\\\\\\\\": 0, \\\\\\\\\\\\\"details\\\\\\\\\\\\\": {\\\\\\\\\\\\\"selectedColumns\\\\\\\\\\\\\": [\\\\\\\\\\\\\"Path\\\\\\\\\\\\\"]}}}, \\\\\\\\\\\\\"localData\\\\\\\\\\\\\": {}, \\\\\\\\\\\\\"isEnabled\\\\\\\\\\\\\": true, \\\\\\\\\\\\\"name\\\\\\\\\\\\\": null, \\\\\\\\\\\\\"annotation\\\\\\\\\\\\\": null}, {\\\\\\\\\\\\\"id\\\\\\\\\\\\\": \\\\\\\\\\\\\"f13366bf-3f70-499a-8c2c-a16bad6fc1a2\\\\\\\\\\\\\", \\\\\\\\\\\\\"type\\\\\\\\\\\\\": \\\\\\\\\\\\\"Microsoft.DPrep.SetColumnTypesBlock\\\\\\\\\\\\\", \\\\\\\\\\\\\"arguments\\\\\\\\\\\\\": {\\\\\\\\\\\\\"columnConversion\\\\\\\\\\\\\": [{\\\\\\\\\\\\\"column\\\\\\\\\\\\\": {\\\\\\\\\\\\\"type\\\\\\\\\\\\\": 2, \\\\\\\\\\\\\"details\\\\\\\\\\\\\": {\\\\\\\\\\\\\"selectedColumn\\\\\\\\\\\\\": \\\\\\\\\\\\\"age\\\\\\\\\\\\\"}}, \\\\\\\\\\\\\"typeProperty\\\\\\\\\\\\\": 3}, {\\\\\\\\\\\\\"column\\\\\\\\\\\\\": {\\\\\\\\\\\\\"type\\\\\\\\\\\\\": 2, \\\\\\\\\\\\\"details\\\\\\\\\\\\\": {\\\\\\\\\\\\\"selectedColumn\\\\\\\\\\\\\": \\\\\\\\\\\\\"anaemia\\\\\\\\\\\\\"}}, \\\\\\\\\\\\\"typeProperty\\\\\\\\\\\\\": 2}, {\\\\\\\\\\\\\"column\\\\\\\\\\\\\": {\\\\\\\\\\\\\"type\\\\\\\\\\\\\": 2, \\\\\\\\\\\\\"details\\\\\\\\\\\\\": {\\\\\\\\\\\\\"selectedColumn\\\\\\\\\\\\\": \\\\\\\\\\\\\"creatinine_phosphokinase\\\\\\\\\\\\\"}}, \\\\\\\\\\\\\"typeProperty\\\\\\\\\\\\\": 2}, {\\\\\\\\\\\\\"column\\\\\\\\\\\\\": {\\\\\\\\\\\\\"type\\\\\\\\\\\\\": 2, \\\\\\\\\\\\\"details\\\\\\\\\\\\\": {\\\\\\\\\\\\\"selectedColumn\\\\\\\\\\\\\": \\\\\\\\\\\\\"diabetes\\\\\\\\\\\\\"}}, \\\\\\\\\\\\\"typeProperty\\\\\\\\\\\\\": 2}, {\\\\\\\\\\\\\"column\\\\\\\\\\\\\": {\\\\\\\\\\\\\"type\\\\\\\\\\\\\": 2, \\\\\\\\\\\\\"details\\\\\\\\\\\\\": {\\\\\\\\\\\\\"selectedColumn\\\\\\\\\\\\\": \\\\\\\\\\\\\"ejection_fraction\\\\\\\\\\\\\"}}, \\\\\\\\\\\\\"typeProperty\\\\\\\\\\\\\": 2}, {\\\\\\\\\\\\\"column\\\\\\\\\\\\\": {\\\\\\\\\\\\\"type\\\\\\\\\\\\\": 2, \\\\\\\\\\\\\"details\\\\\\\\\\\\\": {\\\\\\\\\\\\\"selectedColumn\\\\\\\\\\\\\": \\\\\\\\\\\\\"high_blood_pressure\\\\\\\\\\\\\"}}, \\\\\\\\\\\\\"typeProperty\\\\\\\\\\\\\": 2}, {\\\\\\\\\\\\\"column\\\\\\\\\\\\\": {\\\\\\\\\\\\\"type\\\\\\\\\\\\\": 2, \\\\\\\\\\\\\"details\\\\\\\\\\\\\": {\\\\\\\\\\\\\"selectedColumn\\\\\\\\\\\\\": \\\\\\\\\\\\\"platelets\\\\\\\\\\\\\"}}, \\\\\\\\\\\\\"typeProperty\\\\\\\\\\\\\": 3}, {\\\\\\\\\\\\\"column\\\\\\\\\\\\\": {\\\\\\\\\\\\\"type\\\\\\\\\\\\\": 2, \\\\\\\\\\\\\"details\\\\\\\\\\\\\": {\\\\\\\\\\\\\"selectedColumn\\\\\\\\\\\\\": \\\\\\\\\\\\\"serum_creatinine\\\\\\\\\\\\\"}}, \\\\\\\\\\\\\"typeProperty\\\\\\\\\\\\\": 3}, {\\\\\\\\\\\\\"column\\\\\\\\\\\\\": {\\\\\\\\\\\\\"type\\\\\\\\\\\\\": 2, \\\\\\\\\\\\\"details\\\\\\\\\\\\\": {\\\\\\\\\\\\\"selectedColumn\\\\\\\\\\\\\": \\\\\\\\\\\\\"serum_sodium\\\\\\\\\\\\\"}}, \\\\\\\\\\\\\"typeProperty\\\\\\\\\\\\\": 2}, {\\\\\\\\\\\\\"column\\\\\\\\\\\\\": {\\\\\\\\\\\\\"type\\\\\\\\\\\\\": 2, \\\\\\\\\\\\\"details\\\\\\\\\\\\\": {\\\\\\\\\\\\\"selectedColumn\\\\\\\\\\\\\": \\\\\\\\\\\\\"sex\\\\\\\\\\\\\"}}, \\\\\\\\\\\\\"typeProperty\\\\\\\\\\\\\": 2}, {\\\\\\\\\\\\\"column\\\\\\\\\\\\\": {\\\\\\\\\\\\\"type\\\\\\\\\\\\\": 2, \\\\\\\\\\\\\"details\\\\\\\\\\\\\": {\\\\\\\\\\\\\"selectedColumn\\\\\\\\\\\\\": \\\\\\\\\\\\\"smoking\\\\\\\\\\\\\"}}, \\\\\\\\\\\\\"typeProperty\\\\\\\\\\\\\": 2}, {\\\\\\\\\\\\\"column\\\\\\\\\\\\\": {\\\\\\\\\\\\\"type\\\\\\\\\\\\\": 2, \\\\\\\\\\\\\"details\\\\\\\\\\\\\": {\\\\\\\\\\\\\"selectedColumn\\\\\\\\\\\\\": \\\\\\\\\\\\\"time\\\\\\\\\\\\\"}}, \\\\\\\\\\\\\"typeProperty\\\\\\\\\\\\\": 2}, {\\\\\\\\\\\\\"column\\\\\\\\\\\\\": {\\\\\\\\\\\\\"type\\\\\\\\\\\\\": 2, \\\\\\\\\\\\\"details\\\\\\\\\\\\\": {\\\\\\\\\\\\\"selectedColumn\\\\\\\\\\\\\": \\\\\\\\\\\\\"DEATH_EVENT\\\\\\\\\\\\\"}}, \\\\\\\\\\\\\"typeProperty\\\\\\\\\\\\\": 2}]}, \\\\\\\\\\\\\"localData\\\\\\\\\\\\\": {}, \\\\\\\\\\\\\"isEnabled\\\\\\\\\\\\\": true, \\\\\\\\\\\\\"name\\\\\\\\\\\\\": null, \\\\\\\\\\\\\"annotation\\\\\\\\\\\\\": null}], \\\\\\\\\\\\\"inspectors\\\\\\\\\\\\\": [], \\\\\\\\\\\\\"meta\\\\\\\\\\\\\": {\\\\\\\\\\\\\"savedDatasetId\\\\\\\\\\\\\": \\\\\\\\\\\\\"02789458-f5d0-4ae5-bace-c2091e8cb06d\\\\\\\\\\\\\", \\\\\\\\\\\\\"datasetType\\\\\\\\\\\\\": \\\\\\\\\\\\\"tabular\\\\\\\\\\\\\", \\\\\\\\\\\\\"subscriptionId\\\\\\\\\\\\\": \\\\\\\\\\\\\"dbee21d3-7701-4598-ac5f-784c0f3d62e3\\\\\\\\\\\\\", \\\\\\\\\\\\\"workspaceId\\\\\\\\\\\\\": \\\\\\\\\\\\\"0b410e9f-be7e-44a8-91e2-0a44a77c06b9\\\\\\\\\\\\\", \\\\\\\\\\\\\"workspaceLocation\\\\\\\\\\\\\": \\\\\\\\\\\\\"southcentralus\\\\\\\\\\\\\", \\\\\\\\\\\\\"partition_keys\\\\\\\\\\\\\": \\\\\\\\\\\\\"true\\\\\\\\\\\\\"}}\\\\\", \\\\\"activities\\\\\": 0}',\n",
       "  'EnableSubsampling': None,\n",
       "  'runTemplate': 'AutoML',\n",
       "  'azureml.runsource': 'automl',\n",
       "  'display_task_type': 'classification',\n",
       "  'dependencies_versions': '{\"azureml-widgets\": \"1.24.0\", \"azureml-train\": \"1.24.0\", \"azureml-train-restclients-hyperdrive\": \"1.24.0\", \"azureml-train-core\": \"1.24.0\", \"azureml-train-automl\": \"1.24.0\", \"azureml-train-automl-runtime\": \"1.24.0\", \"azureml-train-automl-client\": \"1.24.0\", \"azureml-tensorboard\": \"1.24.0\", \"azureml-telemetry\": \"1.24.0\", \"azureml-sdk\": \"1.24.0\", \"azureml-samples\": \"0+unknown\", \"azureml-pipeline\": \"1.24.0\", \"azureml-pipeline-steps\": \"1.24.0\", \"azureml-pipeline-core\": \"1.24.0\", \"azureml-opendatasets\": \"1.24.0\", \"azureml-model-management-sdk\": \"1.0.1b6.post1\", \"azureml-mlflow\": \"1.24.0\", \"azureml-interpret\": \"1.24.0\", \"azureml-explain-model\": \"1.24.0\", \"azureml-defaults\": \"1.24.0\", \"azureml-dataset-runtime\": \"1.24.0\", \"azureml-dataprep\": \"2.11.1\", \"azureml-dataprep-rslex\": \"1.9.0\", \"azureml-dataprep-native\": \"30.0.0\", \"azureml-datadrift\": \"1.24.0\", \"azureml-core\": \"1.24.0\", \"azureml-contrib-services\": \"1.24.0\", \"azureml-contrib-server\": \"1.24.0\", \"azureml-contrib-reinforcementlearning\": \"1.24.0\", \"azureml-contrib-pipeline-steps\": \"1.24.0\", \"azureml-contrib-notebook\": \"1.24.0\", \"azureml-contrib-gbdt\": \"1.24.0\", \"azureml-contrib-fairness\": \"1.24.0\", \"azureml-contrib-dataset\": \"1.24.0\", \"azureml-cli-common\": \"1.24.0\", \"azureml-automl-runtime\": \"1.24.0\", \"azureml-automl-dnn-nlp\": \"1.24.0\", \"azureml-automl-core\": \"1.24.0\", \"azureml-accel-models\": \"1.24.0\"}',\n",
       "  '_aml_system_scenario_identification': 'Remote.Parent',\n",
       "  'ClientType': 'SDK',\n",
       "  'environment_cpu_name': 'AzureML-AutoML',\n",
       "  'environment_cpu_label': 'prod',\n",
       "  'environment_gpu_name': 'AzureML-AutoML-GPU',\n",
       "  'environment_gpu_label': 'prod',\n",
       "  'root_attribution': 'automl',\n",
       "  'attribution': 'AutoML',\n",
       "  'Orchestrator': 'AutoML',\n",
       "  'CancelUri': 'https://southcentralus.experiments.azureml.net/jasmine/v1.0/subscriptions/dbee21d3-7701-4598-ac5f-784c0f3d62e3/resourceGroups/udacitycapstoneproject/providers/Microsoft.MachineLearningServices/workspaces/udacitycapstoneproject/experimentids/3246a557-eaad-42e9-b0a7-41ddee7c9f05/cancel/AutoML_e7c9ced7-8028-458d-9d7e-7eeabe093adf',\n",
       "  'ClientSdkVersion': '1.24.0',\n",
       "  'snapshotId': '00000000-0000-0000-0000-000000000000',\n",
       "  'SetupRunId': 'AutoML_e7c9ced7-8028-458d-9d7e-7eeabe093adf_setup',\n",
       "  'SetupRunContainerId': 'dcid.AutoML_e7c9ced7-8028-458d-9d7e-7eeabe093adf_setup',\n",
       "  'FeaturizationRunJsonPath': 'featurizer_container.json',\n",
       "  'FeaturizationRunId': 'AutoML_e7c9ced7-8028-458d-9d7e-7eeabe093adf_featurize',\n",
       "  'ProblemInfoJsonString': '{\"dataset_num_categorical\": 0, \"is_sparse\": false, \"subsampling\": false, \"dataset_classes\": 2, \"dataset_features\": 12, \"dataset_samples\": 224, \"single_frequency_class_detected\": false}',\n",
       "  'ModelExplainRunId': 'AutoML_e7c9ced7-8028-458d-9d7e-7eeabe093adf_ModelExplain'},\n",
       " 'inputDatasets': [{'dataset': {'id': '02789458-f5d0-4ae5-bace-c2091e8cb06d'}, 'consumptionDetails': {'type': 'RunInput', 'inputName': 'training_data', 'mechanism': 'Direct'}}],\n",
       " 'outputDatasets': [],\n",
       " 'logFiles': {},\n",
       " 'submittedBy': 'Aaron Gauthier'}"
      ]
     },
     "execution_count": 7,
     "metadata": {},
     "output_type": "execute_result"
    }
   ],
   "source": [
    "from azureml.widgets import RunDetails\n",
    "RunDetails(remote_run).show()\n",
    "remote_run.wait_for_completion(show_output=True)"
   ]
  },
  {
   "cell_type": "markdown",
   "metadata": {},
   "source": [
    "## Best Model\n",
    "\n",
    "TODO: In the cell below, get the best model from the automl experiments and display all the properties of the model.\n",
    "\n"
   ]
  },
  {
   "cell_type": "code",
   "execution_count": 8,
   "metadata": {
    "gather": {
     "logged": 1616362408219
    },
    "jupyter": {
     "outputs_hidden": false,
     "source_hidden": false
    },
    "nteract": {
     "transient": {
      "deleting": false
     }
    }
   },
   "outputs": [
    {
     "name": "stdout",
     "output_type": "stream",
     "text": [
      "experiment_status ['DatasetEvaluation', 'FeaturesGeneration', 'DatasetFeaturization', 'DatasetFeaturizationCompleted', 'DatasetCrossValidationSplit', 'ModelSelection', 'BestRunExplainModel', 'ModelExplanationDataSetSetup', 'PickSurrogateModel', 'EngineeredFeatureExplanations', 'EngineeredFeatureExplanations', 'RawFeaturesExplanations', 'RawFeaturesExplanations', 'BestRunExplainModel']\n",
      "experiment_status_description ['Gathering dataset statistics.', 'Generating features for the dataset.', 'Beginning to fit featurizers and featurize the dataset.', 'Completed fit featurizers and featurizing the dataset.', 'Generating individually featurized CV splits.', 'Beginning model selection.', 'Best run model explanations started', 'Model explanations data setup completed', 'Choosing LightGBM as the surrogate model for explanations', 'Computation of engineered features started', 'Computation of engineered features completed', 'Computation of raw features started', 'Computation of raw features completed', 'Best run model explanations completed']\n",
      "precision_score_weighted 0.9000361081932773\n",
      "AUC_macro 0.9123646672988779\n",
      "AUC_micro 0.926139987244898\n",
      "norm_macro_recall 0.7147344713134187\n",
      "log_loss 0.36574080242462076\n",
      "weighted_accuracy 0.9287706300839589\n",
      "balanced_accuracy 0.8573672356567094\n",
      "AUC_weighted 0.9123646672988779\n",
      "average_precision_score_weighted 0.9257641290153051\n",
      "precision_score_micro 0.8973214285714286\n",
      "f1_score_micro 0.8973214285714286\n",
      "precision_score_macro 0.9072406045751634\n",
      "accuracy 0.8973214285714286\n",
      "matthews_correlation 0.7628214162481246\n",
      "recall_score_macro 0.8573672356567094\n",
      "recall_score_micro 0.8973214285714286\n",
      "f1_score_weighted 0.8935750584818909\n",
      "average_precision_score_micro 0.9271062753260348\n",
      "f1_score_macro 0.8756258234519104\n",
      "average_precision_score_macro 0.9111155173499444\n",
      "recall_score_weighted 0.8973214285714286\n"
     ]
    }
   ],
   "source": [
    "# Retrieve and save your best automl model.\n",
    "best_remote_run,best_automl_model=remote_run.get_output()\n",
    "best_run_metrics=remote_run.get_metrics()\n",
    "for primary_metric in best_run_metrics:\n",
    "    metric=best_run_metrics[primary_metric]\n",
    "    print(primary_metric,metric)"
   ]
  },
  {
   "cell_type": "code",
   "execution_count": 9,
   "metadata": {
    "gather": {
     "logged": 1616362435512
    },
    "jupyter": {
     "outputs_hidden": false,
     "source_hidden": false
    },
    "nteract": {
     "transient": {
      "deleting": false
     }
    }
   },
   "outputs": [
    {
     "name": "stdout",
     "output_type": "stream",
     "text": [
      "Run(Experiment: automl_run,\n",
      "Id: AutoML_e7c9ced7-8028-458d-9d7e-7eeabe093adf_48,\n",
      "Type: azureml.scriptrun,\n",
      "Status: Completed)\n"
     ]
    },
    {
     "data": {
      "text/html": [
       "<table style=\"width:100%\"><tr><th>Experiment</th><th>Id</th><th>Type</th><th>Status</th><th>Details Page</th><th>Docs Page</th></tr><tr><td>automl_run</td><td>AutoML_e7c9ced7-8028-458d-9d7e-7eeabe093adf_48</td><td>azureml.scriptrun</td><td>Completed</td><td><a href=\"https://ml.azure.com/experiments/automl_run/runs/AutoML_e7c9ced7-8028-458d-9d7e-7eeabe093adf_48?wsid=/subscriptions/dbee21d3-7701-4598-ac5f-784c0f3d62e3/resourcegroups/udacitycapstoneproject/workspaces/udacitycapstoneproject\" target=\"_blank\" rel=\"noopener\">Link to Azure Machine Learning studio</a></td><td><a href=\"https://docs.microsoft.com/en-us/python/api/azureml-core/azureml.core.run.Run?view=azure-ml-py\" target=\"_blank\" rel=\"noopener\">Link to Documentation</a></td></tr></table>"
      ],
      "text/plain": [
       "Run(Experiment: automl_run,\n",
       "Id: AutoML_e7c9ced7-8028-458d-9d7e-7eeabe093adf_48,\n",
       "Type: azureml.scriptrun,\n",
       "Status: Completed)"
      ]
     },
     "execution_count": 9,
     "metadata": {},
     "output_type": "execute_result"
    }
   ],
   "source": [
    "#TODO: Save the best model\n",
    "print(best_remote_run)\n",
    "best_remote_run"
   ]
  },
  {
   "cell_type": "code",
   "execution_count": 10,
   "metadata": {
    "collapsed": true,
    "gather": {
     "logged": 1616362441676
    },
    "jupyter": {
     "outputs_hidden": false,
     "source_hidden": false
    },
    "nteract": {
     "transient": {
      "deleting": false
     }
    }
   },
   "outputs": [],
   "source": [
    "#TODO: Save the best model\n",
    "import pickle\n",
    "best_remote_run,best_automl_model=remote_run.get_output()\n",
    "#joblib.dump(value=best_automl_model,filename='automl_model.joblib')\n",
    "pkl_filename = \"automl_model.pkl\"\n",
    "with open(pkl_filename,'wb') as f:\n",
    "    pickle.dump(best_automl_model,f)"
   ]
  },
  {
   "cell_type": "markdown",
   "metadata": {},
   "source": [
    "## Model Deployment\n",
    "\n",
    "Remember you have to deploy only one of the two models you trained.. Perform the steps in the rest of this notebook only if you wish to deploy this model.\n",
    "\n",
    "TODO: In the cell below, register the model, create an inference config and deploy the model as a web service."
   ]
  },
  {
   "cell_type": "code",
   "execution_count": 11,
   "metadata": {
    "gather": {
     "logged": 1616362448590
    },
    "jupyter": {
     "outputs_hidden": false,
     "source_hidden": false
    },
    "nteract": {
     "transient": {
      "deleting": false
     }
    }
   },
   "outputs": [
    {
     "name": "stdout",
     "output_type": "stream",
     "text": [
      "Registering model Heart_failure_prediction\n"
     ]
    }
   ],
   "source": [
    "from azureml.core.model import Model\n",
    "# Register model\n",
    "model = Model.register(workspace = ws,\n",
    "                        model_name = \"Heart_failure_prediction\",\n",
    "                        model_path = \"./automl_model.pkl\",\n",
    "                        description = \"Best AutoML Model\",)"
   ]
  },
  {
   "cell_type": "markdown",
   "metadata": {
    "collapsed": true,
    "gather": {
     "logged": 1598431657736
    },
    "jupyter": {
     "outputs_hidden": false,
     "source_hidden": false
    },
    "nteract": {
     "transient": {
      "deleting": false
     }
    }
   },
   "source": [
    "TODO: In the cell below, send a request to the web service you deployed to test it."
   ]
  },
  {
   "cell_type": "code",
   "execution_count": 15,
   "metadata": {
    "collapsed": true,
    "jupyter": {
     "outputs_hidden": false,
     "source_hidden": false
    },
    "nteract": {
     "transient": {
      "deleting": false
     }
    }
   },
   "outputs": [
    {
     "name": "stdout",
     "output_type": "stream",
     "text": [
      "Writing amlscore.py\n"
     ]
    }
   ],
   "source": [
    "%%writefile amlscore.py\n",
    "import json\n",
    "import numpy as np\n",
    "import os\n",
    "import pickle\n",
    "import joblib\n",
    "import pandas as pd\n",
    "from azureml.core.model import Model\n",
    "\n",
    "def init():\n",
    "    global model\n",
    "    model_path = Model.get_model_path(\"automl\")\n",
    "    model = joblib.load(model_path)\n",
    "\n",
    "def run(raw_data):\n",
    "    try:\n",
    "        data = json.loads(raw_data)['data']\n",
    "        data = pd.DataFrame.from_dict(data)\n",
    "        # make prediction\n",
    "        result = model.predict(data)\n",
    "        return result.tolist()\n",
    "    except Exception as ex:\n",
    "        error = str(ex)\n",
    "        return error\n"
   ]
  },
  {
   "cell_type": "code",
   "execution_count": 28,
   "metadata": {
    "collapsed": true,
    "gather": {
     "logged": 1616363806117
    },
    "jupyter": {
     "outputs_hidden": false,
     "source_hidden": false
    },
    "nteract": {
     "transient": {
      "deleting": false
     }
    }
   },
   "outputs": [
    {
     "data": {
      "text/plain": [
       "{'experiment_status': ['DatasetEvaluation',\n",
       "  'FeaturesGeneration',\n",
       "  'DatasetFeaturization',\n",
       "  'DatasetFeaturizationCompleted',\n",
       "  'DatasetCrossValidationSplit',\n",
       "  'ModelSelection',\n",
       "  'BestRunExplainModel',\n",
       "  'ModelExplanationDataSetSetup',\n",
       "  'PickSurrogateModel',\n",
       "  'EngineeredFeatureExplanations',\n",
       "  'EngineeredFeatureExplanations',\n",
       "  'RawFeaturesExplanations',\n",
       "  'RawFeaturesExplanations',\n",
       "  'BestRunExplainModel'],\n",
       " 'experiment_status_description': ['Gathering dataset statistics.',\n",
       "  'Generating features for the dataset.',\n",
       "  'Beginning to fit featurizers and featurize the dataset.',\n",
       "  'Completed fit featurizers and featurizing the dataset.',\n",
       "  'Generating individually featurized CV splits.',\n",
       "  'Beginning model selection.',\n",
       "  'Best run model explanations started',\n",
       "  'Model explanations data setup completed',\n",
       "  'Choosing LightGBM as the surrogate model for explanations',\n",
       "  'Computation of engineered features started',\n",
       "  'Computation of engineered features completed',\n",
       "  'Computation of raw features started',\n",
       "  'Computation of raw features completed',\n",
       "  'Best run model explanations completed'],\n",
       " 'precision_score_weighted': 0.9000361081932773,\n",
       " 'AUC_macro': 0.9123646672988779,\n",
       " 'AUC_micro': 0.926139987244898,\n",
       " 'norm_macro_recall': 0.7147344713134187,\n",
       " 'log_loss': 0.36574080242462076,\n",
       " 'weighted_accuracy': 0.9287706300839589,\n",
       " 'balanced_accuracy': 0.8573672356567094,\n",
       " 'AUC_weighted': 0.9123646672988779,\n",
       " 'average_precision_score_weighted': 0.9257641290153051,\n",
       " 'precision_score_micro': 0.8973214285714286,\n",
       " 'f1_score_micro': 0.8973214285714286,\n",
       " 'precision_score_macro': 0.9072406045751634,\n",
       " 'accuracy': 0.8973214285714286,\n",
       " 'matthews_correlation': 0.7628214162481246,\n",
       " 'recall_score_macro': 0.8573672356567094,\n",
       " 'recall_score_micro': 0.8973214285714286,\n",
       " 'f1_score_weighted': 0.8935750584818909,\n",
       " 'average_precision_score_micro': 0.9271062753260348,\n",
       " 'f1_score_macro': 0.8756258234519104,\n",
       " 'average_precision_score_macro': 0.9111155173499444,\n",
       " 'recall_score_weighted': 0.8973214285714286}"
      ]
     },
     "execution_count": 28,
     "metadata": {},
     "output_type": "execute_result"
    }
   ],
   "source": [
    "best_run_metrics"
   ]
  },
  {
   "cell_type": "code",
   "execution_count": 69,
   "metadata": {
    "collapsed": true,
    "gather": {
     "logged": 1616369025423
    },
    "jupyter": {
     "outputs_hidden": false,
     "source_hidden": false
    },
    "nteract": {
     "transient": {
      "deleting": false
     }
    }
   },
   "outputs": [],
   "source": [
    "from azureml.automl.core.shared import constants\n",
    "best_remote_run.download_file(constants.CONDA_ENV_FILE_PATH, 'azureml-automl.yml')"
   ]
  },
  {
   "cell_type": "code",
   "execution_count": 72,
   "metadata": {
    "collapsed": true,
    "gather": {
     "logged": 1616369077150
    },
    "jupyter": {
     "outputs_hidden": false,
     "source_hidden": false
    },
    "nteract": {
     "transient": {
      "deleting": false
     }
    }
   },
   "outputs": [],
   "source": [
    "# create inference_config\n",
    "from azureml.core.model import InferenceConfig\n",
    "from azureml.core.environment import Environment\n",
    "\n",
    "inference_config = InferenceConfig(entry_script=\"scoring.py\")"
   ]
  },
  {
   "cell_type": "code",
   "execution_count": 77,
   "metadata": {
    "collapsed": true,
    "gather": {
     "logged": 1616369198857
    },
    "jupyter": {
     "outputs_hidden": false,
     "source_hidden": false
    },
    "nteract": {
     "transient": {
      "deleting": false
     }
    }
   },
   "outputs": [
    {
     "name": "stdout",
     "output_type": "stream",
     "text": [
      "<azureml.core.webservice.aci.AciServiceDeploymentConfiguration object at 0x7f689c2cefd0>\n"
     ]
    }
   ],
   "source": [
    "from azureml.core.webservice import Webservice, AciWebservice\n",
    "deployment_config = AciWebservice.deploy_configuration(cpu_cores=1, memory_gb = 1)\n",
    "print(deployment_config)"
   ]
  },
  {
   "cell_type": "code",
   "execution_count": 43,
   "metadata": {
    "collapsed": true,
    "gather": {
     "logged": 1616365542561
    },
    "jupyter": {
     "outputs_hidden": false,
     "source_hidden": false
    },
    "nteract": {
     "transient": {
      "deleting": false
     }
    }
   },
   "outputs": [
    {
     "name": "stdout",
     "output_type": "stream",
     "text": [
      "Pipeline(memory=None,\n",
      "         steps=[('datatransformer',\n",
      "                 DataTransformer(enable_dnn=None, enable_feature_sweeping=None,\n",
      "                                 feature_sweeping_config=None,\n",
      "                                 feature_sweeping_timeout=None,\n",
      "                                 featurization_config=None, force_text_dnn=None,\n",
      "                                 is_cross_validation=None,\n",
      "                                 is_onnx_compatible=None, logger=None,\n",
      "                                 observer=None, task=None, working_dir=None)),\n",
      "                ('prefittedsoftvotingclassifier',...\n",
      "                                                                                                num_leaves=104,\n",
      "                                                                                                objective=None,\n",
      "                                                                                                random_state=None,\n",
      "                                                                                                reg_alpha=0,\n",
      "                                                                                                reg_lambda=0.42105263157894735,\n",
      "                                                                                                silent=True,\n",
      "                                                                                                subsample=1,\n",
      "                                                                                                subsample_for_bin=200000,\n",
      "                                                                                                subsample_freq=0,\n",
      "                                                                                                verbose=-10))],\n",
      "                                                                     verbose=False))],\n",
      "                                               flatten_transform=None,\n",
      "                                               weights=[0.14285714285714285,\n",
      "                                                        0.14285714285714285,\n",
      "                                                        0.14285714285714285,\n",
      "                                                        0.14285714285714285,\n",
      "                                                        0.14285714285714285,\n",
      "                                                        0.2857142857142857]))],\n",
      "         verbose=False)\n",
      "Best Run Id:  AutoML_e7c9ced7-8028-458d-9d7e-7eeabe093adf_48\n",
      "\n",
      " Accuracy: 0.8973214285714286\n"
     ]
    }
   ],
   "source": [
    "best_remote_run, model = remote_run.get_output()\n",
    "best_remote_run_metrics = best_remote_run.get_metrics()\n",
    "\n",
    "print(model)\n",
    "print('Best Run Id: ', best_remote_run.id)\n",
    "print('\\n Accuracy:', best_remote_run_metrics['accuracy'])"
   ]
  },
  {
   "cell_type": "code",
   "execution_count": 44,
   "metadata": {
    "collapsed": true,
    "gather": {
     "logged": 1616365574744
    },
    "jupyter": {
     "outputs_hidden": false,
     "source_hidden": false
    },
    "nteract": {
     "transient": {
      "deleting": false
     }
    }
   },
   "outputs": [
    {
     "name": "stdout",
     "output_type": "stream",
     "text": [
      "{'_aml_system_azureml.automlComponent': 'AutoML', '_aml_system_ComputeTargetStatus': '{\"AllocationState\":\"steady\",\"PreparingNodeCount\":0,\"RunningNodeCount\":2,\"CurrentNodeCount\":2}', 'mlflow.source.type': 'JOB', 'mlflow.source.name': 'automl_driver.py', 'ensembled_iterations': '[7, 6, 21, 8, 25, 15]', 'ensembled_algorithms': \"['LightGBM', 'GradientBoosting', 'GradientBoosting', 'LightGBM', 'GradientBoosting', 'LightGBM']\", 'ensemble_weights': '[0.14285714285714285, 0.14285714285714285, 0.14285714285714285, 0.14285714285714285, 0.14285714285714285, 0.2857142857142857]', 'best_individual_pipeline_score': '0.8660714285714286', 'best_individual_iteration': '7', '_aml_system_automl_is_child_run_end_telemetry_event_logged': 'True', 'model_explain_run_id': 'AutoML_e7c9ced7-8028-458d-9d7e-7eeabe093adf_ModelExplain', 'model_explanation': 'True'}\n"
     ]
    }
   ],
   "source": [
    "import joblib\n",
    "joblib.dump(model,'outputs/automl_model.pkl')\n",
    "print(best_remote_run.get_tags())"
   ]
  },
  {
   "cell_type": "code",
   "execution_count": 45,
   "metadata": {
    "collapsed": true,
    "gather": {
     "logged": 1616365584388
    },
    "jupyter": {
     "outputs_hidden": false,
     "source_hidden": false
    },
    "nteract": {
     "transient": {
      "deleting": false
     }
    }
   },
   "outputs": [
    {
     "name": "stdout",
     "output_type": "stream",
     "text": [
      "Registering model automl\n"
     ]
    }
   ],
   "source": [
    "from azureml.core.model import Model\n",
    "\n",
    "model = Model.register(workspace = ws,\n",
    "                        model_path =\"outputs/automl_model.pkl\",\n",
    "                        model_name = \"automl\")"
   ]
  },
  {
   "cell_type": "code",
   "execution_count": 46,
   "metadata": {
    "collapsed": true,
    "jupyter": {
     "outputs_hidden": false,
     "source_hidden": false
    },
    "nteract": {
     "transient": {
      "deleting": false
     }
    }
   },
   "outputs": [
    {
     "name": "stdout",
     "output_type": "stream",
     "text": [
      "Overwriting amlscore.py\n"
     ]
    }
   ],
   "source": [
    "%%writefile amlscore.py\n",
    "import json\n",
    "import numpy as np\n",
    "import os\n",
    "import pickle\n",
    "import joblib\n",
    "import pandas as pd\n",
    "from azureml.core.model import Model\n",
    "\n",
    "def init():\n",
    "    global model\n",
    "    model_path = Model.get_model_path(\"automl\")\n",
    "    model = joblib.load(model_path)\n",
    "\n",
    "def run(raw_data):\n",
    "    try:\n",
    "        data = json.loads(raw_data)['data']\n",
    "        data = pd.DataFrame.from_dict(data)\n",
    "        # make prediction\n",
    "        result = model.predict(data)\n",
    "        return result.tolist()\n",
    "    except Exception as ex:\n",
    "        error = str(ex)\n",
    "        return error"
   ]
  },
  {
   "cell_type": "code",
   "execution_count": 81,
   "metadata": {
    "collapsed": true,
    "gather": {
     "logged": 1616369614623
    },
    "jupyter": {
     "outputs_hidden": false,
     "source_hidden": false
    },
    "nteract": {
     "transient": {
      "deleting": false
     }
    }
   },
   "outputs": [
    {
     "name": "stdout",
     "output_type": "stream",
     "text": [
      "Tips: You can try get_logs(): https://aka.ms/debugimage#dockerlog or local deployment: https://aka.ms/debugimage#debug-locally to debug if deployment takes longer than 10 minutes.\n",
      "Running\n",
      "2021-03-21 23:29:41+00:00 Registering the environment.\n",
      "2021-03-21 23:29:42+00:00 Use the existing image.\n",
      "2021-03-21 23:29:43+00:00 Generating deployment configuration.\n",
      "2021-03-21 23:29:44+00:00 Submitting deployment to compute..\n",
      "2021-03-21 23:29:48+00:00 Checking the status of deployment automl-final..\n",
      "2021-03-21 23:33:11+00:00 Checking the status of inference endpoint automl-final.\n",
      "Succeeded\n",
      "ACI service creation operation finished, operation \"Succeeded\"\n"
     ]
    }
   ],
   "source": [
    "from azureml.core.environment import Environment\n",
    "from azureml.core.model import InferenceConfig\n",
    "from azureml.core.webservice import AciWebservice, Webservice\n",
    "from azureml.core.model import Model\n",
    "from azureml.automl.core.shared import constants\n",
    "from azureml.core.conda_dependencies import CondaDependencies\n",
    "\n",
    "#best_remote_run.download_file(\"outputs/scoring_file_v_1_0_0.py\", \"inference/score.py\")\n",
    "\n",
    "best_remote_run.download_file(constants.CONDA_ENV_FILE_PATH, \"myenv.yml\")\n",
    "myenv = Environment.from_conda_specification(name=\"myenv\", file_path=\"myenv.yml\")\n",
    "\n",
    "inference_config = InferenceConfig(entry_script='amlscore.py', environment=myenv)\n",
    "\n",
    "aciconfig = AciWebservice.deploy_configuration(cpu_cores=1, memory_gb=1, description=\"heart-failure-model-final-one\")\n",
    "\n",
    "service = Model.deploy(ws, \"automl-final\", [model], inference_config, aciconfig)\n",
    "\n",
    "service.wait_for_deployment(True)"
   ]
  },
  {
   "cell_type": "code",
   "execution_count": 82,
   "metadata": {
    "collapsed": true,
    "gather": {
     "logged": 1616369677092
    },
    "jupyter": {
     "outputs_hidden": false,
     "source_hidden": false
    },
    "nteract": {
     "transient": {
      "deleting": false
     }
    }
   },
   "outputs": [
    {
     "name": "stdout",
     "output_type": "stream",
     "text": [
      "2021-03-21T23:33:08,042853800+00:00 - iot-server/run \n",
      "2021-03-21T23:33:08,046530500+00:00 - gunicorn/run \n",
      "2021-03-21T23:33:08,056009600+00:00 - rsyslog/run \n",
      "2021-03-21T23:33:08,098713600+00:00 - nginx/run \n",
      "/usr/sbin/nginx: /azureml-envs/azureml_fe9df1de9dcfc7f534c43ede471eccd6/lib/libcrypto.so.1.0.0: no version information available (required by /usr/sbin/nginx)\n",
      "/usr/sbin/nginx: /azureml-envs/azureml_fe9df1de9dcfc7f534c43ede471eccd6/lib/libcrypto.so.1.0.0: no version information available (required by /usr/sbin/nginx)\n",
      "/usr/sbin/nginx: /azureml-envs/azureml_fe9df1de9dcfc7f534c43ede471eccd6/lib/libssl.so.1.0.0: no version information available (required by /usr/sbin/nginx)\n",
      "/usr/sbin/nginx: /azureml-envs/azureml_fe9df1de9dcfc7f534c43ede471eccd6/lib/libssl.so.1.0.0: no version information available (required by /usr/sbin/nginx)\n",
      "/usr/sbin/nginx: /azureml-envs/azureml_fe9df1de9dcfc7f534c43ede471eccd6/lib/libssl.so.1.0.0: no version information available (required by /usr/sbin/nginx)\n",
      "rsyslogd: /azureml-envs/azureml_fe9df1de9dcfc7f534c43ede471eccd6/lib/libuuid.so.1: no version information available (required by rsyslogd)\n",
      "EdgeHubConnectionString and IOTEDGE_IOTHUBHOSTNAME are not set. Exiting...\n",
      "2021-03-21T23:33:09,682169500+00:00 - iot-server/finish 1 0\n",
      "2021-03-21T23:33:09,698742400+00:00 - Exit code 1 is normal. Not restarting iot-server.\n",
      "Starting gunicorn 19.9.0\n",
      "Listening at: http://127.0.0.1:31311 (65)\n",
      "Using worker: sync\n",
      "worker timeout is set to 300\n",
      "Booting worker with pid: 96\n",
      "SPARK_HOME not set. Skipping PySpark Initialization.\n",
      "Generating new fontManager, this may take some time...\n",
      "Initializing logger\n",
      "2021-03-21 23:33:17,504 | root | INFO | Starting up app insights client\n",
      "2021-03-21 23:33:17,504 | root | INFO | Starting up request id generator\n",
      "2021-03-21 23:33:17,505 | root | INFO | Starting up app insight hooks\n",
      "2021-03-21 23:33:17,505 | root | INFO | Invoking user's init function\n",
      "2021-03-21 23:33:23,594 | root | INFO | Users's init has completed successfully\n",
      "2021-03-21 23:33:23,598 | root | INFO | Skipping middleware: dbg_model_info as it's not enabled.\n",
      "2021-03-21 23:33:23,599 | root | INFO | Skipping middleware: dbg_resource_usage as it's not enabled.\n",
      "2021-03-21 23:33:23,603 | root | INFO | Scoring timeout is found from os.environ: 60000 ms\n",
      "2021-03-21 23:33:25,982 | root | INFO | Swagger file not present\n",
      "2021-03-21 23:33:25,983 | root | INFO | 404\n",
      "127.0.0.1 - - [21/Mar/2021:23:33:25 +0000] \"GET /swagger.json HTTP/1.0\" 404 19 \"-\" \"Go-http-client/1.1\"\n",
      "2021-03-21 23:33:32,871 | root | INFO | Swagger file not present\n",
      "2021-03-21 23:33:32,872 | root | INFO | 404\n",
      "127.0.0.1 - - [21/Mar/2021:23:33:32 +0000] \"GET /swagger.json HTTP/1.0\" 404 19 \"-\" \"Go-http-client/1.1\"\n",
      "\n"
     ]
    }
   ],
   "source": [
    "print(service.get_logs())"
   ]
  },
  {
   "cell_type": "code",
   "execution_count": 84,
   "metadata": {
    "collapsed": true,
    "gather": {
     "logged": 1616369885834
    },
    "jupyter": {
     "outputs_hidden": false,
     "source_hidden": false
    },
    "nteract": {
     "transient": {
      "deleting": false
     }
    }
   },
   "outputs": [
    {
     "name": "stdout",
     "output_type": "stream",
     "text": [
      "\n",
      "service state: Healthy\n",
      "\n",
      "scoring URI: \n",
      "http://ed97d3f5-3563-4835-b96a-9f868437c176.southcentralus.azurecontainer.io/score\n",
      "\n",
      "swagger URI: \n",
      "http://ed97d3f5-3563-4835-b96a-9f868437c176.southcentralus.azurecontainer.io/swagger.json\n",
      "\n",
      "http://ed97d3f5-3563-4835-b96a-9f868437c176.southcentralus.azurecontainer.io/score\n",
      "http://ed97d3f5-3563-4835-b96a-9f868437c176.southcentralus.azurecontainer.io/swagger.json\n"
     ]
    }
   ],
   "source": [
    "scoring_uri = service.scoring_uri\n",
    "\n",
    "print(f'\\nservice state: {service.state}\\n')\n",
    "print(f'scoring URI: \\n{service.scoring_uri}\\n')\n",
    "print(f'swagger URI: \\n{service.swagger_uri}\\n')\n",
    "\n",
    "print(service.scoring_uri)\n",
    "print(service.swagger_uri)\n"
   ]
  },
  {
   "cell_type": "code",
   "execution_count": 85,
   "metadata": {
    "collapsed": true,
    "gather": {
     "logged": 1616369899454
    },
    "jupyter": {
     "outputs_hidden": false,
     "source_hidden": false
    },
    "nteract": {
     "transient": {
      "deleting": false
     }
    }
   },
   "outputs": [
    {
     "name": "stdout",
     "output_type": "stream",
     "text": [
      "The output is:  [1]\n"
     ]
    }
   ],
   "source": [
    "import requests\n",
    "import json\n",
    "\n",
    "data={\"data\":\n",
    "  [{'age': 87.0,\n",
    "  'anaemia': 0,\n",
    "  'creatinine_phosphokinase': 981,\n",
    "  'diabetes': 0,\n",
    "  'ejection_fraction': 55,\n",
    "  'high_blood_pressure': 1,\n",
    "  'platelets': 368000,\n",
    "  'serum_creatinine': 3.5,\n",
    "  'serum_sodium': 137,\n",
    "  'sex': 0,\n",
    "  'smoking': 0,\n",
    "  'time': 4}]\n",
    "  }\n",
    "\n",
    "input_data=json.dumps(data)\n",
    "\n",
    "with open(\"data.json\",\"w\") as file:\n",
    "    file.write(input_data)\n",
    "\n",
    "headers={\"Content-Type\":\"application/json\"}\n",
    "\n",
    "result=requests.post(scoring_uri, input_data, headers=headers)\n",
    "print(\"The output is: \",result.json())"
   ]
  },
  {
   "cell_type": "code",
   "execution_count": 86,
   "metadata": {
    "collapsed": true,
    "gather": {
     "logged": 1616369908830
    },
    "jupyter": {
     "outputs_hidden": false,
     "source_hidden": false
    },
    "nteract": {
     "transient": {
      "deleting": false
     }
    }
   },
   "outputs": [
    {
     "data": {
      "text/plain": [
       "200"
      ]
     },
     "execution_count": 86,
     "metadata": {},
     "output_type": "execute_result"
    }
   ],
   "source": [
    "result.status_code"
   ]
  },
  {
   "cell_type": "markdown",
   "metadata": {
    "collapsed": true,
    "gather": {
     "logged": 1598432765711
    },
    "jupyter": {
     "outputs_hidden": false,
     "source_hidden": false
    },
    "nteract": {
     "transient": {
      "deleting": false
     }
    }
   },
   "source": [
    "TODO: In the cell below, print the logs of the web service and delete the service"
   ]
  },
  {
   "cell_type": "code",
   "execution_count": 88,
   "metadata": {
    "gather": {
     "logged": 1616369932926
    },
    "jupyter": {
     "outputs_hidden": false,
     "source_hidden": false
    },
    "nteract": {
     "transient": {
      "deleting": false
     }
    }
   },
   "outputs": [
    {
     "name": "stdout",
     "output_type": "stream",
     "text": [
      "2021-03-21T23:33:08,042853800+00:00 - iot-server/run \n",
      "2021-03-21T23:33:08,046530500+00:00 - gunicorn/run \n",
      "2021-03-21T23:33:08,056009600+00:00 - rsyslog/run \n",
      "2021-03-21T23:33:08,098713600+00:00 - nginx/run \n",
      "/usr/sbin/nginx: /azureml-envs/azureml_fe9df1de9dcfc7f534c43ede471eccd6/lib/libcrypto.so.1.0.0: no version information available (required by /usr/sbin/nginx)\n",
      "/usr/sbin/nginx: /azureml-envs/azureml_fe9df1de9dcfc7f534c43ede471eccd6/lib/libcrypto.so.1.0.0: no version information available (required by /usr/sbin/nginx)\n",
      "/usr/sbin/nginx: /azureml-envs/azureml_fe9df1de9dcfc7f534c43ede471eccd6/lib/libssl.so.1.0.0: no version information available (required by /usr/sbin/nginx)\n",
      "/usr/sbin/nginx: /azureml-envs/azureml_fe9df1de9dcfc7f534c43ede471eccd6/lib/libssl.so.1.0.0: no version information available (required by /usr/sbin/nginx)\n",
      "/usr/sbin/nginx: /azureml-envs/azureml_fe9df1de9dcfc7f534c43ede471eccd6/lib/libssl.so.1.0.0: no version information available (required by /usr/sbin/nginx)\n",
      "rsyslogd: /azureml-envs/azureml_fe9df1de9dcfc7f534c43ede471eccd6/lib/libuuid.so.1: no version information available (required by rsyslogd)\n",
      "EdgeHubConnectionString and IOTEDGE_IOTHUBHOSTNAME are not set. Exiting...\n",
      "2021-03-21T23:33:09,682169500+00:00 - iot-server/finish 1 0\n",
      "2021-03-21T23:33:09,698742400+00:00 - Exit code 1 is normal. Not restarting iot-server.\n",
      "Starting gunicorn 19.9.0\n",
      "Listening at: http://127.0.0.1:31311 (65)\n",
      "Using worker: sync\n",
      "worker timeout is set to 300\n",
      "Booting worker with pid: 96\n",
      "SPARK_HOME not set. Skipping PySpark Initialization.\n",
      "Generating new fontManager, this may take some time...\n",
      "Initializing logger\n",
      "2021-03-21 23:33:17,504 | root | INFO | Starting up app insights client\n",
      "2021-03-21 23:33:17,504 | root | INFO | Starting up request id generator\n",
      "2021-03-21 23:33:17,505 | root | INFO | Starting up app insight hooks\n",
      "2021-03-21 23:33:17,505 | root | INFO | Invoking user's init function\n",
      "2021-03-21 23:33:23,594 | root | INFO | Users's init has completed successfully\n",
      "2021-03-21 23:33:23,598 | root | INFO | Skipping middleware: dbg_model_info as it's not enabled.\n",
      "2021-03-21 23:33:23,599 | root | INFO | Skipping middleware: dbg_resource_usage as it's not enabled.\n",
      "2021-03-21 23:33:23,603 | root | INFO | Scoring timeout is found from os.environ: 60000 ms\n",
      "2021-03-21 23:33:25,982 | root | INFO | Swagger file not present\n",
      "2021-03-21 23:33:25,983 | root | INFO | 404\n",
      "127.0.0.1 - - [21/Mar/2021:23:33:25 +0000] \"GET /swagger.json HTTP/1.0\" 404 19 \"-\" \"Go-http-client/1.1\"\n",
      "2021-03-21 23:33:32,871 | root | INFO | Swagger file not present\n",
      "2021-03-21 23:33:32,872 | root | INFO | 404\n",
      "127.0.0.1 - - [21/Mar/2021:23:33:32 +0000] \"GET /swagger.json HTTP/1.0\" 404 19 \"-\" \"Go-http-client/1.1\"\n",
      "2021-03-21 23:38:17,917 | root | INFO | Validation Request Content-Type\n",
      "2021-03-21 23:38:17,917 | root | INFO | Scoring Timer is set to 60.0 seconds\n",
      "2021-03-21 23:38:17,996 | root | INFO | 200\n",
      "127.0.0.1 - - [21/Mar/2021:23:38:17 +0000] \"POST /score HTTP/1.0\" 200 3 \"-\" \"python-requests/2.25.1\"\n",
      "\n"
     ]
    }
   ],
   "source": [
    "#logs of the webservice\n",
    "logs=service.get_logs()\n",
    "print(logs)"
   ]
  },
  {
   "cell_type": "code",
   "execution_count": null,
   "metadata": {
    "collapsed": true,
    "jupyter": {
     "outputs_hidden": false,
     "source_hidden": false
    },
    "nteract": {
     "transient": {
      "deleting": false
     }
    }
   },
   "outputs": [],
   "source": [
    "#delete the deployed webservice\n",
    "service.delete()"
   ]
  }
 ],
 "metadata": {
  "kernel_info": {
   "name": "python3"
  },
  "kernelspec": {
   "display_name": "Python 3 (ipykernel)",
   "language": "python",
   "name": "python3"
  },
  "language_info": {
   "codemirror_mode": {
    "name": "ipython",
    "version": 3
   },
   "file_extension": ".py",
   "mimetype": "text/x-python",
   "name": "python",
   "nbconvert_exporter": "python",
   "pygments_lexer": "ipython3",
   "version": "3.9.7"
  },
  "microsoft": {
   "host": {
    "AzureML": {
     "notebookHasBeenCompleted": true
    }
   }
  },
  "nteract": {
   "version": "nteract-front-end@1.0.0"
  }
 },
 "nbformat": 4,
 "nbformat_minor": 2
}
