{
  "cells": [
    {
      "cell_type": "markdown",
      "source": [
        "# Automated ML\n",
        "\n",
        "TODO: Import Dependencies. In the cell below, import all the dependencies that you will need to complete the project."
      ],
      "metadata": {}
    },
    {
      "cell_type": "code",
      "source": [
        "import os\n",
        "import joblib\n",
        "from azureml.core import Workspace, Experiment\n",
        "from azureml.data.dataset_factory import TabularDatasetFactory\n",
        "from azureml.core.compute import ComputeTarget, AmlCompute\n",
        "from azureml.train.automl import AutoMLConfig\n",
        "from azureml.core.compute_target import ComputeTargetException\n",
        "from azureml.contrib.pipeline.steps import ParallelRunStep, ParallelRunConfig\n",
        "\n",
        "from matplotlib import pyplot as plt\n",
        "import numpy as np\n",
        "import pandas as pd"
      ],
      "outputs": [],
      "execution_count": 38,
      "metadata": {
        "gather": {
          "logged": 1685295689244
        },
        "jupyter": {
          "outputs_hidden": false,
          "source_hidden": false
        },
        "nteract": {
          "transient": {
            "deleting": false
          }
        }
      }
    },
    {
      "cell_type": "code",
      "source": [
        "ws = Workspace.from_config()\r\n",
        "print(ws.name, ws.resource_group, ws.location, ws.subscription_id, sep = '\\n')"
      ],
      "outputs": [
        {
          "output_type": "stream",
          "name": "stdout",
          "text": "hei-aep-vn001-d-we-ml-mlsa-01\nhei-aep-vn001-d-we-rg-mlsa-01\nwesteurope\n99149dbb-f505-4eb9-901a-c82ba247986c\n"
        }
      ],
      "execution_count": 39,
      "metadata": {
        "jupyter": {
          "source_hidden": false,
          "outputs_hidden": false
        },
        "nteract": {
          "transient": {
            "deleting": false
          }
        },
        "gather": {
          "logged": 1685295690014
        }
      }
    },
    {
      "cell_type": "code",
      "source": [
        "from azureml.core.compute import AmlCompute\r\n",
        "from azureml.core.compute import ComputeTarget\r\n",
        "from azureml.core.compute_target import ComputeTargetException\r\n",
        "\r\n",
        "# NOTE: update the cluster name to match the existing cluster\r\n",
        "# Choose a name for your CPU cluster\r\n",
        "amlcompute_cluster_name = \"cluster-bank-marketing-1\"\r\n",
        "\r\n",
        "# Verify that cluster does not exist already\r\n",
        "try:\r\n",
        "    compute_target = ComputeTarget(workspace=ws, name=amlcompute_cluster_name)\r\n",
        "    print('Found existing cluster, use it.')\r\n",
        "except ComputeTargetException:\r\n",
        "    compute_config = AmlCompute.provisioning_configuration(vm_size='STANDARD_D2_V2',# for GPU, use \"STANDARD_NC6\"\r\n",
        "                                                           #vm_priority = 'lowpriority', # optional\r\n",
        "                                                           max_nodes=4)\r\n",
        "    compute_target = ComputeTarget.create(ws, amlcompute_cluster_name, compute_config)\r\n",
        "\r\n",
        "compute_target.wait_for_completion(show_output=True, min_node_count = 1, timeout_in_minutes = 10)\r\n",
        "# For a more detailed view of current AmlCompute status, use get_status()."
      ],
      "outputs": [
        {
          "output_type": "stream",
          "name": "stdout",
          "text": "Found existing cluster, use it.\nSucceeded\nAmlCompute wait for completion finished\n\nMinimum number of nodes requested have been provisioned\n"
        }
      ],
      "execution_count": 40,
      "metadata": {
        "jupyter": {
          "source_hidden": false,
          "outputs_hidden": false
        },
        "nteract": {
          "transient": {
            "deleting": false
          }
        },
        "gather": {
          "logged": 1685295690949
        }
      }
    },
    {
      "cell_type": "markdown",
      "source": [
        "## Dataset\n",
        "\n",
        "### Overview\n",
        "TODO: In this markdown cell, give an overview of the dataset you are using. Also mention the task you will be performing.\n",
        "\n",
        "\n",
        "TODO: Get data. In the cell below, write code to access the data you will be using in this project. Remember that the dataset needs to be external."
      ],
      "metadata": {}
    },
    {
      "cell_type": "code",
      "source": [
        "from azureml.core.dataset import Dataset\n",
        "# Try to load the dataset from the Workspace. Otherwise, create it from the file\n",
        "# NOTE: update the key to match the dataset name\n",
        "found = False\n",
        "key = \"Heart Failure Dataset\"\n",
        "description_text = \"Heart Failure DataSet for Udacity Course 2\"\n",
        "\n",
        "if key in ws.datasets.keys(): \n",
        "        found = True\n",
        "        dataset = ws.datasets[key] \n",
        "\n",
        "if not found:\n",
        "        # Create AML Dataset and register it into Workspace\n",
        "        example_data = 'https://raw.githubusercontent.com/thangtranquang/Azure-Machine-Learning-Engineer-2023/main/data/heart_failure_clinical_records_dataset.csv'\n",
        "        dataset = Dataset.Tabular.from_delimited_files(example_data)        \n",
        "        #Register Dataset in Workspace\n",
        "        dataset = dataset.register(workspace=ws,\n",
        "                                   name=key,\n",
        "                                   description=description_text)\n",
        "\n",
        "\n",
        "df = dataset.to_pandas_dataframe()\n",
        "df.describe()"
      ],
      "outputs": [
        {
          "output_type": "execute_result",
          "execution_count": 41,
          "data": {
            "text/plain": "         age  anaemia  creatinine_phosphokinase  diabetes  ejection_fraction  \\\ncount 299.00   299.00                    299.00    299.00             299.00   \nmean   60.83     0.43                    581.84      0.42              38.08   \nstd    11.89     0.50                    970.29      0.49              11.83   \nmin    40.00     0.00                     23.00      0.00              14.00   \n25%    51.00     0.00                    116.50      0.00              30.00   \n50%    60.00     0.00                    250.00      0.00              38.00   \n75%    70.00     1.00                    582.00      1.00              45.00   \nmax    95.00     1.00                   7861.00      1.00              80.00   \n\n       high_blood_pressure  platelets  serum_creatinine  serum_sodium    sex  \\\ncount               299.00     299.00            299.00        299.00 299.00   \nmean                  0.35  263358.03              1.39        136.63   0.65   \nstd                   0.48   97804.24              1.03          4.41   0.48   \nmin                   0.00   25100.00              0.50        113.00   0.00   \n25%                   0.00  212500.00              0.90        134.00   0.00   \n50%                   0.00  262000.00              1.10        137.00   1.00   \n75%                   1.00  303500.00              1.40        140.00   1.00   \nmax                   1.00  850000.00              9.40        148.00   1.00   \n\n       smoking   time  DEATH_EVENT  \ncount   299.00 299.00       299.00  \nmean      0.32 130.26         0.32  \nstd       0.47  77.61         0.47  \nmin       0.00   4.00         0.00  \n25%       0.00  73.00         0.00  \n50%       0.00 115.00         0.00  \n75%       1.00 203.00         1.00  \nmax       1.00 285.00         1.00  ",
            "text/html": "<div>\n<style scoped>\n    .dataframe tbody tr th:only-of-type {\n        vertical-align: middle;\n    }\n\n    .dataframe tbody tr th {\n        vertical-align: top;\n    }\n\n    .dataframe thead th {\n        text-align: right;\n    }\n</style>\n<table border=\"1\" class=\"dataframe\">\n  <thead>\n    <tr style=\"text-align: right;\">\n      <th></th>\n      <th>age</th>\n      <th>anaemia</th>\n      <th>creatinine_phosphokinase</th>\n      <th>diabetes</th>\n      <th>ejection_fraction</th>\n      <th>high_blood_pressure</th>\n      <th>platelets</th>\n      <th>serum_creatinine</th>\n      <th>serum_sodium</th>\n      <th>sex</th>\n      <th>smoking</th>\n      <th>time</th>\n      <th>DEATH_EVENT</th>\n    </tr>\n  </thead>\n  <tbody>\n    <tr>\n      <th>count</th>\n      <td>299.00</td>\n      <td>299.00</td>\n      <td>299.00</td>\n      <td>299.00</td>\n      <td>299.00</td>\n      <td>299.00</td>\n      <td>299.00</td>\n      <td>299.00</td>\n      <td>299.00</td>\n      <td>299.00</td>\n      <td>299.00</td>\n      <td>299.00</td>\n      <td>299.00</td>\n    </tr>\n    <tr>\n      <th>mean</th>\n      <td>60.83</td>\n      <td>0.43</td>\n      <td>581.84</td>\n      <td>0.42</td>\n      <td>38.08</td>\n      <td>0.35</td>\n      <td>263358.03</td>\n      <td>1.39</td>\n      <td>136.63</td>\n      <td>0.65</td>\n      <td>0.32</td>\n      <td>130.26</td>\n      <td>0.32</td>\n    </tr>\n    <tr>\n      <th>std</th>\n      <td>11.89</td>\n      <td>0.50</td>\n      <td>970.29</td>\n      <td>0.49</td>\n      <td>11.83</td>\n      <td>0.48</td>\n      <td>97804.24</td>\n      <td>1.03</td>\n      <td>4.41</td>\n      <td>0.48</td>\n      <td>0.47</td>\n      <td>77.61</td>\n      <td>0.47</td>\n    </tr>\n    <tr>\n      <th>min</th>\n      <td>40.00</td>\n      <td>0.00</td>\n      <td>23.00</td>\n      <td>0.00</td>\n      <td>14.00</td>\n      <td>0.00</td>\n      <td>25100.00</td>\n      <td>0.50</td>\n      <td>113.00</td>\n      <td>0.00</td>\n      <td>0.00</td>\n      <td>4.00</td>\n      <td>0.00</td>\n    </tr>\n    <tr>\n      <th>25%</th>\n      <td>51.00</td>\n      <td>0.00</td>\n      <td>116.50</td>\n      <td>0.00</td>\n      <td>30.00</td>\n      <td>0.00</td>\n      <td>212500.00</td>\n      <td>0.90</td>\n      <td>134.00</td>\n      <td>0.00</td>\n      <td>0.00</td>\n      <td>73.00</td>\n      <td>0.00</td>\n    </tr>\n    <tr>\n      <th>50%</th>\n      <td>60.00</td>\n      <td>0.00</td>\n      <td>250.00</td>\n      <td>0.00</td>\n      <td>38.00</td>\n      <td>0.00</td>\n      <td>262000.00</td>\n      <td>1.10</td>\n      <td>137.00</td>\n      <td>1.00</td>\n      <td>0.00</td>\n      <td>115.00</td>\n      <td>0.00</td>\n    </tr>\n    <tr>\n      <th>75%</th>\n      <td>70.00</td>\n      <td>1.00</td>\n      <td>582.00</td>\n      <td>1.00</td>\n      <td>45.00</td>\n      <td>1.00</td>\n      <td>303500.00</td>\n      <td>1.40</td>\n      <td>140.00</td>\n      <td>1.00</td>\n      <td>1.00</td>\n      <td>203.00</td>\n      <td>1.00</td>\n    </tr>\n    <tr>\n      <th>max</th>\n      <td>95.00</td>\n      <td>1.00</td>\n      <td>7861.00</td>\n      <td>1.00</td>\n      <td>80.00</td>\n      <td>1.00</td>\n      <td>850000.00</td>\n      <td>9.40</td>\n      <td>148.00</td>\n      <td>1.00</td>\n      <td>1.00</td>\n      <td>285.00</td>\n      <td>1.00</td>\n    </tr>\n  </tbody>\n</table>\n</div>"
          },
          "metadata": {}
        }
      ],
      "execution_count": 41,
      "metadata": {
        "collapsed": true,
        "gather": {
          "logged": 1685295691908
        },
        "jupyter": {
          "outputs_hidden": false,
          "source_hidden": false
        },
        "nteract": {
          "transient": {
            "deleting": false
          }
        }
      }
    },
    {
      "cell_type": "code",
      "source": [
        "from azureml.core.dataset import Dataset\n",
        "from sklearn.model_selection import train_test_split\n",
        "\n",
        "\n",
        "df1 = dataset.to_pandas_dataframe()\n",
        "train, test = train_test_split(df1, shuffle=True)\n",
        "train.to_csv('train.csv', index = False)\n",
        "\n",
        "datastore = ws.get_default_datastore()\n",
        "datastore.upload_files(files = ['./train.csv'])\n",
        "\n",
        "train = Dataset.Tabular.from_delimited_files([(datastore, 'train.csv')])"
      ],
      "outputs": [
        {
          "output_type": "stream",
          "name": "stdout",
          "text": "Uploading an estimated of 1 files\nTarget already exists. Skipping upload for train.csv\nUploaded 0 files\n"
        }
      ],
      "execution_count": 42,
      "metadata": {
        "collapsed": true,
        "gather": {
          "logged": 1685295692851
        },
        "jupyter": {
          "outputs_hidden": false,
          "source_hidden": false
        },
        "nteract": {
          "transient": {
            "deleting": false
          }
        }
      }
    },
    {
      "cell_type": "markdown",
      "source": [
        "## AutoML Configuration\n",
        "\n",
        "TODO: Explain why you chose the automl settings and cofiguration you used below."
      ],
      "metadata": {}
    },
    {
      "cell_type": "code",
      "source": [
        "from azureml.train.automl import AutoMLConfig\n",
        "import logging\n",
        "import time\n",
        "\n",
        "# TODO: Put your automl settings here\n",
        "automl_settings = {\n",
        "    \"n_cross_validations\":2,\n",
        "    \"primary_metric\":'accuracy',\n",
        "    \"enable_early_stopping\":True,\n",
        "    \"experiment_timeout_minutes\":45,\n",
        "    \"max_concurrent_iterations\":10,\n",
        "   }\n",
        "\n",
        "# TODO: Put your automl config here\n",
        "automl_config = AutoMLConfig(\n",
        "    task='classification',\n",
        "    compute_target='cluster-bank-marketing-1',\n",
        "    blocked_models = ['XGBoostClassifier'],\n",
        "    training_data=train,\n",
        "    label_column_name='DEATH_EVENT',\n",
        "    featurization = 'auto',\n",
        "    debug_log = \"automl_errors.log\",\n",
        "    **automl_settings\n",
        "    )"
      ],
      "outputs": [],
      "execution_count": 43,
      "metadata": {
        "gather": {
          "logged": 1685295693753
        },
        "jupyter": {
          "outputs_hidden": false,
          "source_hidden": false
        },
        "nteract": {
          "transient": {
            "deleting": false
          }
        }
      }
    },
    {
      "cell_type": "code",
      "source": [
        "from azureml.core.experiment import Experiment\n",
        "# choose a name for experiment\n",
        "experiment_name = 'automl_run'\n",
        "experiment=Experiment(ws, experiment_name)\n",
        "\n",
        "# TODO: Submit your experiment\n",
        "remote_run = experiment.submit(automl_config, show_output=True)"
      ],
      "outputs": [
        {
          "output_type": "stream",
          "name": "stdout",
          "text": "Submitting remote run.\nNo run_configuration provided, running on cluster-bank-marketing-1 with default configuration\nRunning on remote compute: cluster-bank-marketing-1\n"
        },
        {
          "output_type": "display_data",
          "data": {
            "text/plain": "<IPython.core.display.HTML object>",
            "text/html": "<table style=\"width:100%\"><tr><th>Experiment</th><th>Id</th><th>Type</th><th>Status</th><th>Details Page</th><th>Docs Page</th></tr><tr><td>automl_run</td><td>AutoML_800ba8b7-cebe-4b50-a30c-0dc610a8f722</td><td>automl</td><td>NotStarted</td><td><a href=\"https://ml.azure.com/runs/AutoML_800ba8b7-cebe-4b50-a30c-0dc610a8f722?wsid=/subscriptions/99149dbb-f505-4eb9-901a-c82ba247986c/resourcegroups/hei-aep-vn001-d-we-rg-mlsa-01/workspaces/hei-aep-vn001-d-we-ml-mlsa-01&amp;tid=66e853de-ece3-44dd-9d66-ee6bdf4159d4\" target=\"_blank\" rel=\"noopener\">Link to Azure Machine Learning studio</a></td><td><a href=\"https://docs.microsoft.com/en-us/python/api/overview/azure/ml/intro?view=azure-ml-py\" target=\"_blank\" rel=\"noopener\">Link to Documentation</a></td></tr></table>"
          },
          "metadata": {}
        },
        {
          "output_type": "stream",
          "name": "stdout",
          "text": "\nCurrent status: FeaturesGeneration. Generating features for the dataset.\nCurrent status: DatasetCrossValidationSplit. Generating individually featurized CV splits.\nCurrent status: ModelSelection. Beginning model selection.\n\n********************************************************************************************\nDATA GUARDRAILS: \n\nTYPE:         Class balancing detection\nSTATUS:       PASSED\nDESCRIPTION:  Your inputs were analyzed, and all classes are balanced in your training data.\n              Learn more about imbalanced data: https://aka.ms/AutomatedMLImbalancedData\n\n********************************************************************************************\n\nTYPE:         Missing feature values imputation\nSTATUS:       PASSED\nDESCRIPTION:  No feature missing values were detected in the training data.\n              Learn more about missing value imputation: https://aka.ms/AutomatedMLFeaturization\n\n********************************************************************************************\n\nTYPE:         High cardinality feature detection\nSTATUS:       PASSED\nDESCRIPTION:  Your inputs were analyzed, and no high cardinality features were detected.\n              Learn more about high cardinality feature handling: https://aka.ms/AutomatedMLFeaturization\n\n********************************************************************************************\n\n********************************************************************************************\nITER: The iteration being evaluated.\nPIPELINE: A summary description of the pipeline being evaluated.\nDURATION: Time taken for the current iteration.\nMETRIC: The result of computing score on the fitted pipeline.\nBEST: The best observed score thus far.\n********************************************************************************************\n\n ITER   PIPELINE                                       DURATION            METRIC      BEST\n    2   StandardScalerWrapper KNN                      0:00:13             0.5938    0.5938\n    3   MaxAbsScaler LightGBM                          0:00:13             0.8438    0.8438\n    4   RobustScaler LogisticRegression                0:00:11             0.7812    0.8438\n    8   MinMaxScaler RandomForest                      0:00:14             0.8304    0.8438\n    0   MaxAbsScaler LightGBM                          0:00:12             0.8080    0.8438\n    5   MaxAbsScaler LightGBM                          0:00:10             0.8259    0.8438\n    6   StandardScalerWrapper KNN                      0:00:11             0.5893    0.8438\n    7   StandardScalerWrapper SVM                      0:00:11             0.7812    0.8438\n    9   StandardScalerWrapper LogisticRegression       0:00:12             0.7545    0.8438\n    1   MaxAbsScaler ExtremeRandomTrees                0:00:13             0.8170    0.8438\n   10   StandardScalerWrapper KNN                      0:00:12             0.6830    0.8438\n   12   MinMaxScaler KNN                               0:00:10             0.6830    0.8438\n   11   RobustScaler KNN                               0:00:11             0.6920    0.8438\n   13   SparseNormalizer KNN                           0:00:10             0.7143    0.8438\n   14   MaxAbsScaler LogisticRegression                0:00:11             0.8170    0.8438\n   15   SparseNormalizer LightGBM                      0:00:11             0.8393    0.8438\n   16   MaxAbsScaler LogisticRegression                0:00:12             0.7991    0.8438\n   17   MaxAbsScaler SGD                               0:00:16             0.7411    0.8438\n   18   SparseNormalizer RandomForest                  0:00:13             0.7991    0.8438\n   19   StandardScalerWrapper LogisticRegression       0:00:12             0.8214    0.8438\n   22   StandardScalerWrapper LogisticRegression       0:00:28             0.7946    0.8438\n   24   RobustScaler RandomForest                      0:00:27             0.8259    0.8438\n   20   StandardScalerWrapper RandomForest             0:00:31             0.7902    0.8438\n   21   TruncatedSVDWrapper RandomForest               0:00:28             0.7768    0.8438\n   23   StandardScalerWrapper RandomForest             0:00:28             0.8348    0.8438\n   25   StandardScalerWrapper LightGBM                 0:00:30             0.8348    0.8438\n   26   MaxAbsScaler ExtremeRandomTrees                0:00:32             0.8393    0.8438\n   27   RobustScaler RandomForest                      0:00:27             0.8036    0.8438\n   28   MinMaxScaler LightGBM                          0:00:28             0.7946    0.8438\n   29   StandardScalerWrapper LightGBM                 0:00:31             0.8393    0.8438\n   30   TruncatedSVDWrapper LightGBM                   0:00:31             0.7723    0.8438\n   31   MinMaxScaler LogisticRegression                0:00:26             0.8348    0.8438\n   32   RobustScaler LightGBM                          0:00:29             0.8304    0.8438\n   33   SparseNormalizer LightGBM                      0:00:30             0.8348    0.8438\n   35   RobustScaler LightGBM                          0:01:31             0.7723    0.8438\n   36   StandardScalerWrapper LightGBM                 0:01:33             0.8214    0.8438\n   34   StandardScalerWrapper LightGBM                 0:01:48             0.8125    0.8438\n   37   RobustScaler LightGBM                          0:01:49             0.8125    0.8438\n   38   StandardScalerWrapper LightGBM                 0:00:27             0.8259    0.8438\n   39   MaxAbsScaler RandomForest                      0:00:31             0.8393    0.8438\n   40   StandardScalerWrapper LightGBM                 0:00:27             0.7946    0.8438\n   41   StandardScalerWrapper LightGBM                 0:00:17                nan    0.8438\n   42                                                  0:00:12                nan    0.8438\n   43                                                  0:00:12                nan    0.8438\n   44                                                  0:00:09                nan    0.8438\n   45                                                  0:00:09                nan    0.8438\n   46                                                  0:00:09                nan    0.8438\n   47                                                  0:00:09                nan    0.8438\n   48    VotingEnsemble                                0:01:14             0.8705    0.8705\n   49    StackEnsemble                                 0:01:12             0.8214    0.8705\n"
        }
      ],
      "execution_count": 44,
      "metadata": {
        "collapsed": true,
        "gather": {
          "logged": 1685296543325
        },
        "jupyter": {
          "outputs_hidden": false,
          "source_hidden": false
        },
        "nteract": {
          "transient": {
            "deleting": false
          }
        }
      }
    },
    {
      "cell_type": "markdown",
      "source": [
        "## Run Details\n",
        "\n",
        "OPTIONAL: Write about the different models trained and their performance. Why do you think some models did better than others?\n",
        "\n",
        "TODO: In the cell below, use the `RunDetails` widget to show the different experiments."
      ],
      "metadata": {}
    },
    {
      "cell_type": "code",
      "source": [
        "from azureml.widgets import RunDetails\n",
        "RunDetails(remote_run).show()\n",
        "remote_run.wait_for_completion(show_output=True)"
      ],
      "outputs": [
        {
          "output_type": "display_data",
          "data": {
            "text/plain": "_AutoMLWidget(widget_settings={'childWidgetDisplay': 'popup', 'send_telemetry': False, 'log_level': 'INFO', 's…",
            "application/vnd.jupyter.widget-view+json": {
              "version_major": 2,
              "version_minor": 0,
              "model_id": "5c85bbf8693e41208e812392187d602a"
            }
          },
          "metadata": {}
        },
        {
          "output_type": "display_data",
          "data": {
            "application/aml.mini.widget.v1": "{\"status\": \"Completed\", \"workbench_run_details_uri\": \"https://ml.azure.com/runs/AutoML_800ba8b7-cebe-4b50-a30c-0dc610a8f722?wsid=/subscriptions/99149dbb-f505-4eb9-901a-c82ba247986c/resourcegroups/hei-aep-vn001-d-we-rg-mlsa-01/workspaces/hei-aep-vn001-d-we-ml-mlsa-01&tid=66e853de-ece3-44dd-9d66-ee6bdf4159d4\", \"run_id\": \"AutoML_800ba8b7-cebe-4b50-a30c-0dc610a8f722\", \"run_properties\": {\"run_id\": \"AutoML_800ba8b7-cebe-4b50-a30c-0dc610a8f722\", \"created_utc\": \"2023-05-28T17:41:36.335588Z\", \"properties\": {\"num_iterations\": \"1000\", \"training_type\": \"TrainFull\", \"acquisition_function\": \"EI\", \"primary_metric\": \"accuracy\", \"train_split\": \"0\", \"acquisition_parameter\": \"0\", \"num_cross_validation\": \"2\", \"target\": \"cluster-bank-marketing-1\", \"AMLSettingsJsonString\": \"{\\\"path\\\":null,\\\"name\\\":\\\"automl_run\\\",\\\"subscription_id\\\":\\\"99149dbb-f505-4eb9-901a-c82ba247986c\\\",\\\"resource_group\\\":\\\"hei-aep-vn001-d-we-rg-mlsa-01\\\",\\\"workspace_name\\\":\\\"hei-aep-vn001-d-we-ml-mlsa-01\\\",\\\"region\\\":\\\"westeurope\\\",\\\"compute_target\\\":\\\"cluster-bank-marketing-1\\\",\\\"spark_service\\\":null,\\\"azure_service\\\":\\\"remote\\\",\\\"many_models\\\":false,\\\"pipeline_fetch_max_batch_size\\\":1,\\\"enable_batch_run\\\":true,\\\"enable_run_restructure\\\":false,\\\"start_auxiliary_runs_before_parent_complete\\\":false,\\\"enable_code_generation\\\":true,\\\"iterations\\\":1000,\\\"primary_metric\\\":\\\"accuracy\\\",\\\"task_type\\\":\\\"classification\\\",\\\"positive_label\\\":null,\\\"data_script\\\":null,\\\"test_size\\\":0.0,\\\"test_include_predictions_only\\\":false,\\\"validation_size\\\":0.0,\\\"n_cross_validations\\\":2,\\\"y_min\\\":null,\\\"y_max\\\":null,\\\"num_classes\\\":null,\\\"featurization\\\":\\\"auto\\\",\\\"_ignore_package_version_incompatibilities\\\":false,\\\"is_timeseries\\\":false,\\\"max_cores_per_iteration\\\":1,\\\"max_concurrent_iterations\\\":10,\\\"iteration_timeout_minutes\\\":null,\\\"mem_in_mb\\\":null,\\\"enforce_time_on_windows\\\":false,\\\"experiment_timeout_minutes\\\":45,\\\"experiment_exit_score\\\":null,\\\"partition_column_names\\\":null,\\\"whitelist_models\\\":null,\\\"blacklist_algos\\\":[\\\"XGBoostClassifier\\\",\\\"TensorFlowLinearClassifier\\\",\\\"TensorFlowDNN\\\"],\\\"supported_models\\\":[\\\"SGD\\\",\\\"BernoulliNaiveBayes\\\",\\\"RandomForest\\\",\\\"LogisticRegression\\\",\\\"XGBoostClassifier\\\",\\\"GradientBoosting\\\",\\\"TensorFlowLinearClassifier\\\",\\\"TabnetClassifier\\\",\\\"AveragedPerceptronClassifier\\\",\\\"SVM\\\",\\\"LinearSVM\\\",\\\"MultinomialNaiveBayes\\\",\\\"TensorFlowDNN\\\",\\\"ExtremeRandomTrees\\\",\\\"LightGBM\\\",\\\"DecisionTree\\\",\\\"KNN\\\"],\\\"private_models\\\":[],\\\"auto_blacklist\\\":true,\\\"blacklist_samples_reached\\\":false,\\\"exclude_nan_labels\\\":true,\\\"verbosity\\\":20,\\\"_debug_log\\\":\\\"azureml_automl.log\\\",\\\"show_warnings\\\":false,\\\"model_explainability\\\":true,\\\"service_url\\\":null,\\\"sdk_url\\\":null,\\\"sdk_packages\\\":null,\\\"enable_onnx_compatible_models\\\":false,\\\"enable_split_onnx_featurizer_estimator_models\\\":false,\\\"vm_type\\\":\\\"STANDARD_D2_V2\\\",\\\"telemetry_verbosity\\\":20,\\\"send_telemetry\\\":true,\\\"enable_dnn\\\":false,\\\"scenario\\\":\\\"AutoML\\\",\\\"environment_label\\\":null,\\\"save_mlflow\\\":false,\\\"enable_categorical_indicators\\\":false,\\\"force_text_dnn\\\":false,\\\"enable_feature_sweeping\\\":true,\\\"enable_early_stopping\\\":true,\\\"early_stopping_n_iters\\\":10,\\\"arguments\\\":null,\\\"dataset_id\\\":\\\"4aff88f5-abcd-48b6-8856-335034192f5c\\\",\\\"hyperdrive_config\\\":null,\\\"validation_dataset_id\\\":null,\\\"run_source\\\":null,\\\"metrics\\\":null,\\\"enable_metric_confidence\\\":false,\\\"enable_ensembling\\\":true,\\\"enable_stack_ensembling\\\":true,\\\"ensemble_iterations\\\":15,\\\"enable_tf\\\":false,\\\"enable_subsampling\\\":null,\\\"subsample_seed\\\":null,\\\"enable_nimbusml\\\":false,\\\"enable_streaming\\\":false,\\\"force_streaming\\\":false,\\\"track_child_runs\\\":true,\\\"allowed_private_models\\\":[],\\\"label_column_name\\\":\\\"DEATH_EVENT\\\",\\\"weight_column_name\\\":null,\\\"cv_split_column_names\\\":null,\\\"enable_local_managed\\\":false,\\\"_local_managed_run_id\\\":null,\\\"cost_mode\\\":1,\\\"lag_length\\\":0,\\\"metric_operation\\\":\\\"maximize\\\",\\\"preprocess\\\":true}\", \"DataPrepJsonString\": \"{\\\\\\\"training_data\\\\\\\": {\\\\\\\"datasetId\\\\\\\": \\\\\\\"4aff88f5-abcd-48b6-8856-335034192f5c\\\\\\\"}, \\\\\\\"datasets\\\\\\\": 0}\", \"EnableSubsampling\": null, \"runTemplate\": \"AutoML\", \"azureml.runsource\": \"automl\", \"display_task_type\": \"classification\", \"dependencies_versions\": \"{\\\"azureml-widgets\\\": \\\"1.44.0\\\", \\\"azureml-training-tabular\\\": \\\"1.44.0\\\", \\\"azureml-train\\\": \\\"1.44.0\\\", \\\"azureml-train-restclients-hyperdrive\\\": \\\"1.44.0\\\", \\\"azureml-train-core\\\": \\\"1.44.0\\\", \\\"azureml-train-automl\\\": \\\"1.44.0\\\", \\\"azureml-train-automl-runtime\\\": \\\"1.44.0\\\", \\\"azureml-train-automl-client\\\": \\\"1.44.0\\\", \\\"azureml-tensorboard\\\": \\\"1.44.0\\\", \\\"azureml-telemetry\\\": \\\"1.44.0\\\", \\\"azureml-sdk\\\": \\\"1.44.0\\\", \\\"azureml-samples\\\": \\\"0+unknown\\\", \\\"azureml-responsibleai\\\": \\\"1.44.0\\\", \\\"azureml-pipeline\\\": \\\"1.44.0\\\", \\\"azureml-pipeline-steps\\\": \\\"1.44.0\\\", \\\"azureml-pipeline-core\\\": \\\"1.44.0\\\", \\\"azureml-opendatasets\\\": \\\"1.44.0\\\", \\\"azureml-mlflow\\\": \\\"1.44.0\\\", \\\"azureml-interpret\\\": \\\"1.44.0\\\", \\\"azureml-inference-server-http\\\": \\\"0.7.4\\\", \\\"azureml-explain-model\\\": \\\"1.44.0\\\", \\\"azureml-defaults\\\": \\\"1.44.0\\\", \\\"azureml-dataset-runtime\\\": \\\"1.44.0\\\", \\\"azureml-dataprep\\\": \\\"4.2.2\\\", \\\"azureml-dataprep-rslex\\\": \\\"2.8.1\\\", \\\"azureml-dataprep-native\\\": \\\"38.0.0\\\", \\\"azureml-datadrift\\\": \\\"1.44.0\\\", \\\"azureml-core\\\": \\\"1.44.0\\\", \\\"azureml-contrib-services\\\": \\\"1.44.0\\\", \\\"azureml-contrib-server\\\": \\\"1.44.0\\\", \\\"azureml-contrib-reinforcementlearning\\\": \\\"1.44.0\\\", \\\"azureml-contrib-pipeline-steps\\\": \\\"1.44.0\\\", \\\"azureml-contrib-notebook\\\": \\\"1.44.0\\\", \\\"azureml-contrib-fairness\\\": \\\"1.44.0\\\", \\\"azureml-contrib-dataset\\\": \\\"1.44.0\\\", \\\"azureml-contrib-automl-pipeline-steps\\\": \\\"1.44.0\\\", \\\"azureml-cli-common\\\": \\\"1.44.0\\\", \\\"azureml-automl-runtime\\\": \\\"1.44.0\\\", \\\"azureml-automl-dnn-nlp\\\": \\\"1.44.0\\\", \\\"azureml-automl-core\\\": \\\"1.44.0\\\", \\\"azureml-accel-models\\\": \\\"1.44.0\\\"}\", \"_aml_system_scenario_identification\": \"Remote.Parent\", \"ClientType\": \"SDK\", \"PlatformVersion\": \"DPV1\", \"environment_cpu_name\": \"AzureML-AutoML\", \"environment_cpu_label\": \"nimbus-deprecation\", \"environment_gpu_name\": \"AzureML-AutoML-GPU\", \"environment_gpu_label\": \"prod\", \"root_attribution\": \"automl\", \"attribution\": \"AutoML\", \"Orchestrator\": \"AutoML\", \"CancelUri\": \"https://westeurope.api.azureml.ms/jasmine/v1.0/subscriptions/99149dbb-f505-4eb9-901a-c82ba247986c/resourceGroups/hei-aep-vn001-d-we-rg-mlsa-01/providers/Microsoft.MachineLearningServices/workspaces/hei-aep-vn001-d-we-ml-mlsa-01/experimentids/867af478-7d9e-464e-9057-baeeefe10b53/cancel/AutoML_800ba8b7-cebe-4b50-a30c-0dc610a8f722\", \"ClientSdkVersion\": \"1.48.0.post2\", \"snapshotId\": \"00000000-0000-0000-0000-000000000000\", \"SetupRunId\": \"AutoML_800ba8b7-cebe-4b50-a30c-0dc610a8f722_setup\", \"SetupRunContainerId\": \"dcid.AutoML_800ba8b7-cebe-4b50-a30c-0dc610a8f722_setup\", \"FeaturizationRunJsonPath\": \"featurizer_container.json\", \"FeaturizationRunId\": \"AutoML_800ba8b7-cebe-4b50-a30c-0dc610a8f722_featurize\", \"ProblemInfoJsonString\": \"{\\\"dataset_num_categorical\\\": 0, \\\"is_sparse\\\": false, \\\"subsampling\\\": false, \\\"has_extra_col\\\": true, \\\"dataset_classes\\\": 2, \\\"dataset_features\\\": 12, \\\"dataset_samples\\\": 224, \\\"single_frequency_class_detected\\\": false}\", \"ModelExplainRunId\": \"AutoML_800ba8b7-cebe-4b50-a30c-0dc610a8f722_ModelExplain\"}, \"tags\": {\"model_explain_run\": \"best_run\", \"_aml_system_automl_run_workspace_id\": \"172fde7e-ba3f-46d0-b59a-615ff012d6db\", \"_aml_system_azureml.automlComponent\": \"AutoML\", \"pipeline_id_000\": \"628c2351f7c75d74ad3673f2d39af16d6976da2e;3735210984ea10097d5c91905cf6300ac278cd89;08e13545f5f7e2df5ef6a66d4110cfd996b1a0e3;2964988f7520e6167bfe42ba2c42ab4a75f8a68c;5f21d4801ee2a6073890b89985177d37ef49c646;22bffc6cdfb453aa19b0792ec8a8b592bd44dc5b;5304e705d6f401cb07f85bcf0ca59ac1f84dfcf5;081b692de9e87424d86c2c1d0787b65e098fc386;5dfac790c5c209f98a1da2dc1c7fb76f0397324f;799d2168db11fc19b9e1c6c1df62f8981ad39fe9;bc4e14e9481990f09b66c70640f3b1c528f584ac;7b422e7b3f86902c2409d5b5d9ff0c84d5dacfee;3caa818370e5e0c328d6266c359019bd31681270;ce96746d6f86360fe360023f5ae43340d1986145;ca211529127bb19e1fc933b24b457a03beb5e48e;5a8eb9d9f67b1dd7e9e4062585daa2417ea78989;da45f657e4591caadf1589a85a1f7b8932585595;797e3e972ad02d947be4c64d2b06b775b6df7a49;1dfdf370ba770047b14bfa59c40920815defcdab;f52e31edb9a1c79d3094620546ebbc7788edbaf8;5235e3d56688f5f38ef82d73fba7c2e698fc1af2;83c8974d3c3077eb039f99670786892c05e08d80;17f87d449bb43aaf3cdae4b7eb6dd6e7fbdaf343;fedbb4995d6de479c513576119965d71276f03d1;3ef9040509da05037cd402691a100d4b3dfeb7c4;4c516bbd96c629a1b935a84b71d6b3433f60769e;c455ad2a93052501a460a48e228bfac07303dabe;d755dfb43e6cdd1b70bde82682d1cb3891565af2;b631a8b00d12deefe5a9b710b9697ddedf166f93;070cfb25ec8cda577de5ab3b7f4774b54fa1c730;c97b3fbbb3a9906a67294dc582d3b4ea08e83349;84e1fa2533814106140ef50dce0f639e246b7a5e;8ee38319f28fbecf8609993d9fe973d6d525c171;040c2f20d2b363918c962c688d8e2745febd7acb;07ea48302caf2a672d9b7451125ac2b3848f37ae;ae8d4d93457030205355568897f7825fea60992d;e5a454c3ab8758d94f8083a86f6affcab436aa05;405f2a03cc563ac19db3681e978c8335521b3de2;2b8c6942137cbf9494b3398ed837f5af8db7d6b5;c76016cd7d280d97dffb6e852a7a58d13478cf1f;67b675968b606333a64758c54948532412fb3b4e;62d37e00d53630bc74fef00fff8ea48bffa8321d;217ffb563978d7e01fb6c7932d09e581a82caeeb;2a31bf008653f7f52a580f7670f6e91b7dc7989c;cad5a7a05db38e462ae8feb784cfdb8511649947;e03493f54f368a752df3ccd3e278351c9d623246;c26699f587a2a54802e339ded1fbee25c528228a;330ffbe4be5e01cfcadcd6e201426857c6619fad;__AutoML_Stack_Ensemble__\", \"score_000\": \"0.59375;0.84375;0.8303571428571428;0.78125;0.5892857142857143;0.7544642857142857;0.8258928571428572;0.78125;0.8080357142857143;0.8169642857142858;0.6830357142857143;0.6830357142857143;0.8169642857142857;0.6919642857142858;0.7142857142857143;0.8392857142857142;0.7991071428571428;0.7410714285714286;0.7991071428571428;0.7946428571428572;0.8214285714285714;0.8258928571428572;0.7901785714285714;0.7767857142857143;0.8348214285714286;0.8348214285714286;0.8392857142857143;0.8035714285714286;0.7946428571428572;0.8392857142857143;0.8348214285714286;0.7723214285714286;0.8303571428571428;0.8348214285714286;0.7723214285714286;0.8214285714285714;0.8125;0.8258928571428572;0.8125;0.8392857142857143;NaN;NaN;NaN;NaN;0.7946428571428572;NaN;NaN;NaN;0.8214285714285714;0.8705357142857143\", \"predicted_cost_000\": \"0.5;0.5;0.5;0.5;0.5;0.5;0.5;0.5;0;0.5;0.5;0.5;0.5;0.5;0.5;0.5;0.5;0.5;0.5;0.2746326570112557;0.5;0.01646471408878336;0.05736260499046717;0.5613816582361927;0.057378596910395326;0.06370333786856484;0.27441605045023076;0.03890850052083919;0.018215689872096694;0.044551254090599325;0.019141791461399042;0.14410519593227283;0.03744184029022441;0.02007027348413843;0.018834693770546907;0.15952457292108807;0.09151937647494958;0.08113340720719446;0.16846047088651472;0.10084516550389913;0.024633148683610915;0.08494148917651284;0.018049698304914704;0.027939633120827964;0.022543968920474868;0.09078505016212819;0.04879221681154784;0.22551261751137017;0;0\", \"fit_time_000\": \"0.0048105;0.036671499999999996;0.5745515;0.032057499999999996;0.0052665;0.08250299999999999;0.007076;0.007074;0.043515;0.305886;0.007778;0.004156;0.030495499999999995;0.007360500000000001;0.0039845;0.0077365;0.026645500000000003;0.0047875;0.262777;0.020574;0.055509499999999996;0.024072;0.136973;0.28671199999999997;0.0345575;0.0393995;0.909843;0.13617649999999998;0.011424;0.09228549999999999;0.00482;0.1064815;0.0555755;0.034208;0.0486805;0.11850849999999999;0.031338;0.03479;0.0263175;0.6942705;NaN;NaN;NaN;NaN;0.053434499999999996;NaN;NaN;NaN;28;31\", \"training_percent_000\": \"100;100;100;100;100;100;100;100;100;100;100;100;100;100;100;100;100;100;100;100;100;100;100;100;100;100;100;100;100;100;100;100;100;100;100;100;100;100;100;100;100;100;100;100;100;100;100;100;100;100\", \"iteration_000\": \"2;3;8;4;6;9;5;7;0;1;10;12;14;11;13;15;16;17;18;22;19;24;20;21;23;25;26;27;28;29;31;30;32;33;35;36;34;38;37;39;47;46;45;44;40;43;42;41;49;48\", \"run_preprocessor_000\": \"StandardScalerWrapper;MaxAbsScaler;MinMaxScaler;RobustScaler;StandardScalerWrapper;StandardScalerWrapper;MaxAbsScaler;StandardScalerWrapper;MaxAbsScaler;MaxAbsScaler;StandardScalerWrapper;MinMaxScaler;MaxAbsScaler;RobustScaler;SparseNormalizer;SparseNormalizer;MaxAbsScaler;MaxAbsScaler;SparseNormalizer;StandardScalerWrapper;StandardScalerWrapper;RobustScaler;StandardScalerWrapper;TruncatedSVDWrapper;StandardScalerWrapper;StandardScalerWrapper;MaxAbsScaler;RobustScaler;MinMaxScaler;StandardScalerWrapper;MinMaxScaler;TruncatedSVDWrapper;RobustScaler;SparseNormalizer;RobustScaler;StandardScalerWrapper;StandardScalerWrapper;StandardScalerWrapper;RobustScaler;MaxAbsScaler;;;;;StandardScalerWrapper;;;StandardScalerWrapper;;\", \"run_algorithm_000\": \"KNN;LightGBM;RandomForest;LogisticRegression;KNN;LogisticRegression;LightGBM;SVM;LightGBM;ExtremeRandomTrees;KNN;KNN;LogisticRegression;KNN;KNN;LightGBM;LogisticRegression;SGD;RandomForest;LogisticRegression;LogisticRegression;RandomForest;RandomForest;RandomForest;RandomForest;LightGBM;ExtremeRandomTrees;RandomForest;LightGBM;LightGBM;LogisticRegression;LightGBM;LightGBM;LightGBM;LightGBM;LightGBM;LightGBM;LightGBM;LightGBM;RandomForest;;;;;LightGBM;;;LightGBM;StackEnsemble;VotingEnsemble\", \"dynamic_allowlisting_iterations\": \"<25>;<30>;<35>;<40>;<45>;\", \"_aml_system_azureml.automl_early_exit_message\": \"No scores improved over last 10 iterations, so experiment stopped early. This early stopping behavior can be disabled by setting enable_early_stopping = False in AutoMLConfig for notebook/python SDK runs.\", \"pipeline_id_001\": \"__AutoML_Ensemble__\", \"automl_best_child_run_id\": \"AutoML_800ba8b7-cebe-4b50-a30c-0dc610a8f722_48\", \"model_explain_best_run_child_id\": \"AutoML_800ba8b7-cebe-4b50-a30c-0dc610a8f722_48\"}, \"end_time_utc\": \"2023-05-28T17:55:24.680554Z\", \"status\": \"Completed\", \"log_files\": {}, \"log_groups\": [], \"run_duration\": \"0:13:48\", \"run_number\": \"1685295696\", \"run_queued_details\": {\"status\": \"Completed\", \"details\": null}}, \"child_runs\": [{\"run_id\": \"AutoML_800ba8b7-cebe-4b50-a30c-0dc610a8f722_setup\", \"run_number\": 1685295708, \"metric\": null, \"status\": \"Completed\", \"run_type\": \"azureml.scriptrun\", \"training_percent\": null, \"start_time\": \"2023-05-28T17:42:14.864331Z\", \"end_time\": \"2023-05-28T17:44:06.594991Z\", \"created_time\": \"2023-05-28T17:41:48.34265Z\", \"created_time_dt\": \"2023-05-28T17:41:48.34265Z\", \"duration\": \"0:02:18\", \"iteration\": null, \"goal\": null, \"run_name\": \"Completed\", \"run_properties\": null}, {\"run_id\": \"AutoML_800ba8b7-cebe-4b50-a30c-0dc610a8f722_featurize\", \"run_number\": 1685295847, \"metric\": null, \"status\": \"Completed\", \"run_type\": \"automl.featurization\", \"training_percent\": null, \"start_time\": \"2023-05-28T17:44:07.448359Z\", \"end_time\": \"2023-05-28T17:45:13.900528Z\", \"created_time\": \"2023-05-28T17:44:07.065026Z\", \"created_time_dt\": \"2023-05-28T17:44:07.065026Z\", \"duration\": \"0:01:06\", \"iteration\": null, \"goal\": null, \"run_name\": \"Completed\", \"run_properties\": null}, {\"run_id\": \"AutoML_800ba8b7-cebe-4b50-a30c-0dc610a8f722_worker_0\", \"run_number\": 1685295915, \"metric\": null, \"status\": \"Completed\", \"run_type\": \"azureml.scriptrun\", \"training_percent\": null, \"start_time\": \"2023-05-28T17:45:43.039791Z\", \"end_time\": \"2023-05-28T17:47:42.770165Z\", \"created_time\": \"2023-05-28T17:45:15.796485Z\", \"created_time_dt\": \"2023-05-28T17:45:15.796485Z\", \"duration\": \"0:02:26\", \"iteration\": null, \"goal\": null, \"run_name\": \"Completed\", \"run_properties\": null}, {\"run_id\": \"AutoML_800ba8b7-cebe-4b50-a30c-0dc610a8f722_worker_1\", \"run_number\": 1685295916, \"metric\": null, \"status\": \"Completed\", \"run_type\": \"azureml.scriptrun\", \"training_percent\": null, \"start_time\": \"2023-05-28T17:45:43.171822Z\", \"end_time\": \"2023-05-28T17:46:29.172393Z\", \"created_time\": \"2023-05-28T17:45:16.677143Z\", \"created_time_dt\": \"2023-05-28T17:45:16.677143Z\", \"duration\": \"0:01:12\", \"iteration\": null, \"goal\": null, \"run_name\": \"Completed\", \"run_properties\": null}, {\"run_id\": \"AutoML_800ba8b7-cebe-4b50-a30c-0dc610a8f722_worker_2\", \"run_number\": 1685295917, \"metric\": null, \"status\": \"Completed\", \"run_type\": \"azureml.scriptrun\", \"training_percent\": null, \"start_time\": \"2023-05-28T17:45:42.651031Z\", \"end_time\": \"2023-05-28T17:47:25.336421Z\", \"created_time\": \"2023-05-28T17:45:17.572106Z\", \"created_time_dt\": \"2023-05-28T17:45:17.572106Z\", \"duration\": \"0:02:07\", \"iteration\": null, \"goal\": null, \"run_name\": \"Completed\", \"run_properties\": null}, {\"run_id\": \"AutoML_800ba8b7-cebe-4b50-a30c-0dc610a8f722_worker_3\", \"run_number\": 1685295918, \"metric\": null, \"status\": \"Completed\", \"run_type\": \"azureml.scriptrun\", \"training_percent\": null, \"start_time\": \"2023-05-28T17:45:42.754303Z\", \"end_time\": \"2023-05-28T17:47:28.353999Z\", \"created_time\": \"2023-05-28T17:45:18.421854Z\", \"created_time_dt\": \"2023-05-28T17:45:18.421854Z\", \"duration\": \"0:02:09\", \"iteration\": null, \"goal\": null, \"run_name\": \"Completed\", \"run_properties\": null}, {\"run_id\": \"AutoML_800ba8b7-cebe-4b50-a30c-0dc610a8f722_worker_4\", \"run_number\": 1685295919, \"metric\": null, \"status\": \"Completed\", \"run_type\": \"azureml.scriptrun\", \"training_percent\": null, \"start_time\": \"2023-05-28T17:46:32.460654Z\", \"end_time\": \"2023-05-28T17:47:20.399305Z\", \"created_time\": \"2023-05-28T17:45:19.282105Z\", \"created_time_dt\": \"2023-05-28T17:45:19.282105Z\", \"duration\": \"0:02:01\", \"iteration\": null, \"goal\": null, \"run_name\": \"Completed\", \"run_properties\": null}, {\"run_id\": \"AutoML_800ba8b7-cebe-4b50-a30c-0dc610a8f722_worker_5\", \"run_number\": 1685295920, \"metric\": null, \"status\": \"Completed\", \"run_type\": \"azureml.scriptrun\", \"training_percent\": null, \"start_time\": \"2023-05-28T17:47:23.716257Z\", \"end_time\": \"2023-05-28T17:48:08.373897Z\", \"created_time\": \"2023-05-28T17:45:20.188934Z\", \"created_time_dt\": \"2023-05-28T17:45:20.188934Z\", \"duration\": \"0:02:48\", \"iteration\": null, \"goal\": null, \"run_name\": \"Completed\", \"run_properties\": null}, {\"run_id\": \"AutoML_800ba8b7-cebe-4b50-a30c-0dc610a8f722_worker_7\", \"run_number\": 1685295921, \"metric\": null, \"status\": \"Completed\", \"run_type\": \"azureml.scriptrun\", \"training_percent\": null, \"start_time\": \"2023-05-28T17:47:33.978108Z\", \"end_time\": \"2023-05-28T17:48:20.214415Z\", \"created_time\": \"2023-05-28T17:45:21.810569Z\", \"created_time_dt\": \"2023-05-28T17:45:21.810569Z\", \"duration\": \"0:02:58\", \"iteration\": null, \"goal\": null, \"run_name\": \"Completed\", \"run_properties\": null}, {\"run_id\": \"AutoML_800ba8b7-cebe-4b50-a30c-0dc610a8f722_worker_8\", \"run_number\": 1685295922, \"metric\": null, \"status\": \"Completed\", \"run_type\": \"azureml.scriptrun\", \"training_percent\": null, \"start_time\": \"2023-05-28T17:47:47.749952Z\", \"end_time\": \"2023-05-28T17:48:35.834386Z\", \"created_time\": \"2023-05-28T17:45:22.888707Z\", \"created_time_dt\": \"2023-05-28T17:45:22.888707Z\", \"duration\": \"0:03:12\", \"iteration\": null, \"goal\": null, \"run_name\": \"Completed\", \"run_properties\": null}, {\"run_id\": \"AutoML_800ba8b7-cebe-4b50-a30c-0dc610a8f722_worker_9\", \"run_number\": 1685295923, \"metric\": null, \"status\": \"Completed\", \"run_type\": \"azureml.scriptrun\", \"training_percent\": null, \"start_time\": \"2023-05-28T17:48:13.055708Z\", \"end_time\": \"2023-05-28T17:48:57.72738Z\", \"created_time\": \"2023-05-28T17:45:23.73262Z\", \"created_time_dt\": \"2023-05-28T17:45:23.73262Z\", \"duration\": \"0:03:33\", \"iteration\": null, \"goal\": null, \"run_name\": \"Completed\", \"run_properties\": null}, {\"run_id\": \"AutoML_800ba8b7-cebe-4b50-a30c-0dc610a8f722_22\", \"run_number\": 1685296073, \"metric\": null, \"status\": \"Completed\", \"run_type\": \"azureml.scriptrun\", \"training_percent\": \"100\", \"start_time\": \"2023-05-28T17:48:18.656506Z\", \"end_time\": \"2023-05-28T17:48:46.445249Z\", \"created_time\": \"2023-05-28T17:47:53.943953Z\", \"created_time_dt\": \"2023-05-28T17:47:53.943953Z\", \"duration\": \"0:00:52\", \"iteration\": \"22\", \"goal\": \"accuracy_max\", \"run_name\": \"StandardScalerWrapper, LogisticRegression\", \"run_properties\": \"copy=True, with_mean=False, with_std=True\", \"primary_metric\": 0.79464286, \"best_metric\": 0.79464286}, {\"run_id\": \"AutoML_800ba8b7-cebe-4b50-a30c-0dc610a8f722_25\", \"run_number\": 1685296097, \"metric\": null, \"status\": \"Completed\", \"run_type\": \"azureml.scriptrun\", \"training_percent\": \"100\", \"start_time\": \"2023-05-28T17:49:00.590749Z\", \"end_time\": \"2023-05-28T17:49:31.025141Z\", \"created_time\": \"2023-05-28T17:48:17.387386Z\", \"created_time_dt\": \"2023-05-28T17:48:17.387386Z\", \"duration\": \"0:01:13\", \"iteration\": \"25\", \"goal\": \"accuracy_max\", \"run_name\": \"StandardScalerWrapper, LightGBM\", \"run_properties\": \"copy=True, with_mean=True, with_std=True\", \"primary_metric\": 0.83482143, \"best_metric\": 0.83482143}, {\"run_id\": \"AutoML_800ba8b7-cebe-4b50-a30c-0dc610a8f722_26\", \"run_number\": 1685296101, \"metric\": null, \"status\": \"Completed\", \"run_type\": \"azureml.scriptrun\", \"training_percent\": \"100\", \"start_time\": \"2023-05-28T17:49:12.757553Z\", \"end_time\": \"2023-05-28T17:49:45.073858Z\", \"created_time\": \"2023-05-28T17:48:21.880734Z\", \"created_time_dt\": \"2023-05-28T17:48:21.880734Z\", \"duration\": \"0:01:23\", \"iteration\": \"26\", \"goal\": \"accuracy_max\", \"run_name\": \"MaxAbsScaler, ExtremeRandomTrees\", \"run_properties\": \"copy=True\", \"primary_metric\": 0.83928571, \"best_metric\": 0.83928571}, {\"run_id\": \"AutoML_800ba8b7-cebe-4b50-a30c-0dc610a8f722_27\", \"run_number\": 1685296111, \"metric\": null, \"status\": \"Completed\", \"run_type\": \"azureml.scriptrun\", \"training_percent\": \"100\", \"start_time\": \"2023-05-28T17:49:21.695023Z\", \"end_time\": \"2023-05-28T17:49:48.342801Z\", \"created_time\": \"2023-05-28T17:48:31.581241Z\", \"created_time_dt\": \"2023-05-28T17:48:31.581241Z\", \"duration\": \"0:01:16\", \"iteration\": \"27\", \"goal\": \"accuracy_max\", \"run_name\": \"RobustScaler, RandomForest\", \"run_properties\": \"copy=True, quantile_range=[10, 90], with_centering=True,\\n             with_scaling=True\", \"primary_metric\": 0.80357143, \"best_metric\": 0.83928571}, {\"run_id\": \"AutoML_800ba8b7-cebe-4b50-a30c-0dc610a8f722_28\", \"run_number\": 1685296119, \"metric\": null, \"status\": \"Completed\", \"run_type\": \"azureml.scriptrun\", \"training_percent\": \"100\", \"start_time\": \"2023-05-28T17:49:30.820532Z\", \"end_time\": \"2023-05-28T17:49:58.515075Z\", \"created_time\": \"2023-05-28T17:48:39.883109Z\", \"created_time_dt\": \"2023-05-28T17:48:39.883109Z\", \"duration\": \"0:01:18\", \"iteration\": \"28\", \"goal\": \"accuracy_max\", \"run_name\": \"MinMaxScaler, LightGBM\", \"run_properties\": \"copy=True, feature_range=(0, 1\", \"primary_metric\": 0.79464286, \"best_metric\": 0.83928571}, {\"run_id\": \"AutoML_800ba8b7-cebe-4b50-a30c-0dc610a8f722_29\", \"run_number\": 1685296129, \"metric\": null, \"status\": \"Completed\", \"run_type\": \"azureml.scriptrun\", \"training_percent\": \"100\", \"start_time\": \"2023-05-28T17:49:33.858243Z\", \"end_time\": \"2023-05-28T17:50:04.914924Z\", \"created_time\": \"2023-05-28T17:48:49.902987Z\", \"created_time_dt\": \"2023-05-28T17:48:49.902987Z\", \"duration\": \"0:01:15\", \"iteration\": \"29\", \"goal\": \"accuracy_max\", \"run_name\": \"StandardScalerWrapper, LightGBM\", \"run_properties\": \"copy=True, with_mean=True, with_std=False\", \"primary_metric\": 0.83928571, \"best_metric\": 0.83928571}, {\"run_id\": \"AutoML_800ba8b7-cebe-4b50-a30c-0dc610a8f722_30\", \"run_number\": 1685296134, \"metric\": null, \"status\": \"Completed\", \"run_type\": \"azureml.scriptrun\", \"training_percent\": \"100\", \"start_time\": \"2023-05-28T17:49:49.059085Z\", \"end_time\": \"2023-05-28T17:50:19.814972Z\", \"created_time\": \"2023-05-28T17:48:54.581842Z\", \"created_time_dt\": \"2023-05-28T17:48:54.581842Z\", \"duration\": \"0:01:25\", \"iteration\": \"30\", \"goal\": \"accuracy_max\", \"run_name\": \"TruncatedSVDWrapper, LightGBM\", \"run_properties\": \"n_components=0.6531578947368422, random_state=None\", \"primary_metric\": 0.77232143, \"best_metric\": 0.83928571}, {\"run_id\": \"AutoML_800ba8b7-cebe-4b50-a30c-0dc610a8f722_31\", \"run_number\": 1685296152, \"metric\": null, \"status\": \"Completed\", \"run_type\": \"azureml.scriptrun\", \"training_percent\": \"100\", \"start_time\": \"2023-05-28T17:49:51.973049Z\", \"end_time\": \"2023-05-28T17:50:18.063785Z\", \"created_time\": \"2023-05-28T17:49:12.45366Z\", \"created_time_dt\": \"2023-05-28T17:49:12.45366Z\", \"duration\": \"0:01:05\", \"iteration\": \"31\", \"goal\": \"accuracy_max\", \"run_name\": \"MinMaxScaler, LogisticRegression\", \"run_properties\": \"copy=True, feature_range=(0, 1\", \"primary_metric\": 0.83482143, \"best_metric\": 0.83928571}, {\"run_id\": \"AutoML_800ba8b7-cebe-4b50-a30c-0dc610a8f722_33\", \"run_number\": 1685296160, \"metric\": null, \"status\": \"Completed\", \"run_type\": \"azureml.scriptrun\", \"training_percent\": \"100\", \"start_time\": \"2023-05-28T17:50:10.409497Z\", \"end_time\": \"2023-05-28T17:50:40.672205Z\", \"created_time\": \"2023-05-28T17:49:20.977291Z\", \"created_time_dt\": \"2023-05-28T17:49:20.977291Z\", \"duration\": \"0:01:19\", \"iteration\": \"33\", \"goal\": \"accuracy_max\", \"run_name\": \"SparseNormalizer, LightGBM\", \"run_properties\": \"copy=True, norm='l1'\", \"primary_metric\": 0.83482143, \"best_metric\": 0.83928571}, {\"run_id\": \"AutoML_800ba8b7-cebe-4b50-a30c-0dc610a8f722_34\", \"run_number\": 1685296167, \"metric\": null, \"status\": \"Completed\", \"run_type\": \"azureml.scriptrun\", \"training_percent\": \"100\", \"start_time\": \"2023-05-28T17:51:22.029953Z\", \"end_time\": \"2023-05-28T17:53:10.48489Z\", \"created_time\": \"2023-05-28T17:49:27.802539Z\", \"created_time_dt\": \"2023-05-28T17:49:27.802539Z\", \"duration\": \"0:03:42\", \"iteration\": \"34\", \"goal\": \"accuracy_max\", \"run_name\": \"StandardScalerWrapper, LightGBM\", \"run_properties\": \"copy=True, with_mean=True, with_std=False\", \"primary_metric\": 0.8125, \"best_metric\": 0.83928571}, {\"run_id\": \"AutoML_800ba8b7-cebe-4b50-a30c-0dc610a8f722_35\", \"run_number\": 1685296173, \"metric\": null, \"status\": \"Completed\", \"run_type\": \"azureml.scriptrun\", \"training_percent\": \"100\", \"start_time\": \"2023-05-28T17:51:24.623419Z\", \"end_time\": \"2023-05-28T17:52:55.366619Z\", \"created_time\": \"2023-05-28T17:49:33.691724Z\", \"created_time_dt\": \"2023-05-28T17:49:33.691724Z\", \"duration\": \"0:03:21\", \"iteration\": \"35\", \"goal\": \"accuracy_max\", \"run_name\": \"RobustScaler, LightGBM\", \"run_properties\": \"copy=True, quantile_range=[25, 75], with_centering=True,\\n             with_scaling=True\", \"primary_metric\": 0.77232143, \"best_metric\": 0.83928571}, {\"run_id\": \"AutoML_800ba8b7-cebe-4b50-a30c-0dc610a8f722_36\", \"run_number\": 1685296187, \"metric\": null, \"status\": \"Completed\", \"run_type\": \"azureml.scriptrun\", \"training_percent\": \"100\", \"start_time\": \"2023-05-28T17:51:28.097404Z\", \"end_time\": \"2023-05-28T17:53:00.737197Z\", \"created_time\": \"2023-05-28T17:49:47.18128Z\", \"created_time_dt\": \"2023-05-28T17:49:47.18128Z\", \"duration\": \"0:03:13\", \"iteration\": \"36\", \"goal\": \"accuracy_max\", \"run_name\": \"StandardScalerWrapper, LightGBM\", \"run_properties\": \"copy=True, with_mean=False, with_std=False\", \"primary_metric\": 0.82142857, \"best_metric\": 0.83928571}, {\"run_id\": \"AutoML_800ba8b7-cebe-4b50-a30c-0dc610a8f722_37\", \"run_number\": 1685296190, \"metric\": null, \"status\": \"Completed\", \"run_type\": \"azureml.scriptrun\", \"training_percent\": \"100\", \"start_time\": \"2023-05-28T17:51:43.281419Z\", \"end_time\": \"2023-05-28T17:53:32.101135Z\", \"created_time\": \"2023-05-28T17:49:50.198648Z\", \"created_time_dt\": \"2023-05-28T17:49:50.198648Z\", \"duration\": \"0:03:41\", \"iteration\": \"37\", \"goal\": \"accuracy_max\", \"run_name\": \"RobustScaler, LightGBM\", \"run_properties\": \"copy=True, quantile_range=[25, 75], with_centering=True,\\n             with_scaling=False\", \"primary_metric\": 0.8125, \"best_metric\": 0.83928571}, {\"run_id\": \"AutoML_800ba8b7-cebe-4b50-a30c-0dc610a8f722_38\", \"run_number\": 1685296200, \"metric\": null, \"status\": \"Completed\", \"run_type\": \"azureml.scriptrun\", \"training_percent\": \"100\", \"start_time\": \"2023-05-28T17:52:58.77299Z\", \"end_time\": \"2023-05-28T17:53:25.434942Z\", \"created_time\": \"2023-05-28T17:50:00.396646Z\", \"created_time_dt\": \"2023-05-28T17:50:00.396646Z\", \"duration\": \"0:03:25\", \"iteration\": \"38\", \"goal\": \"accuracy_max\", \"run_name\": \"StandardScalerWrapper, LightGBM\", \"run_properties\": \"copy=True, with_mean=True, with_std=True\", \"primary_metric\": 0.82589286, \"best_metric\": 0.83928571}, {\"run_id\": \"AutoML_800ba8b7-cebe-4b50-a30c-0dc610a8f722_39\", \"run_number\": 1685296206, \"metric\": null, \"status\": \"Completed\", \"run_type\": \"azureml.scriptrun\", \"training_percent\": \"100\", \"start_time\": \"2023-05-28T17:53:05.038908Z\", \"end_time\": \"2023-05-28T17:53:35.82727Z\", \"created_time\": \"2023-05-28T17:50:06.768933Z\", \"created_time_dt\": \"2023-05-28T17:50:06.768933Z\", \"duration\": \"0:03:29\", \"iteration\": \"39\", \"goal\": \"accuracy_max\", \"run_name\": \"MaxAbsScaler, RandomForest\", \"run_properties\": \"copy=True\", \"primary_metric\": 0.83928571, \"best_metric\": 0.83928571}, {\"run_id\": \"AutoML_800ba8b7-cebe-4b50-a30c-0dc610a8f722_40\", \"run_number\": 1685296221, \"metric\": null, \"status\": \"Canceled\", \"run_type\": \"azureml.scriptrun\", \"training_percent\": \"100\", \"start_time\": \"2023-05-28T17:53:17.19503Z\", \"end_time\": \"2023-05-28T17:53:43.921849Z\", \"created_time\": \"2023-05-28T17:50:21.040337Z\", \"created_time_dt\": \"2023-05-28T17:50:21.040337Z\", \"duration\": \"0:03:22\", \"iteration\": \"40\", \"goal\": \"accuracy_max\", \"run_name\": \"StandardScalerWrapper, LightGBM\", \"run_properties\": \"copy=True, with_mean=False, with_std=True\", \"primary_metric\": 0.79464286, \"best_metric\": 0.83928571}, {\"run_id\": \"AutoML_800ba8b7-cebe-4b50-a30c-0dc610a8f722_41\", \"run_number\": 1685296223, \"metric\": null, \"status\": \"Canceled\", \"run_type\": \"azureml.scriptrun\", \"training_percent\": \"100\", \"start_time\": \"2023-05-28T17:53:28.937656Z\", \"end_time\": \"2023-05-28T17:53:45.578357Z\", \"created_time\": \"2023-05-28T17:50:23.444128Z\", \"created_time_dt\": \"2023-05-28T17:50:23.444128Z\", \"duration\": \"0:03:22\", \"iteration\": \"41\", \"goal\": null, \"run_name\": \"StandardScalerWrapper, LightGBM\", \"run_properties\": null}, {\"run_id\": \"AutoML_800ba8b7-cebe-4b50-a30c-0dc610a8f722_42\", \"run_number\": 1685296231, \"metric\": null, \"status\": \"Canceled\", \"run_type\": \"azureml.scriptrun\", \"training_percent\": \"100\", \"start_time\": \"2023-05-28T17:53:33.549451Z\", \"end_time\": \"2023-05-28T17:53:45.6505Z\", \"created_time\": \"2023-05-28T17:50:31.649629Z\", \"created_time_dt\": \"2023-05-28T17:50:31.649629Z\", \"duration\": \"0:03:14\", \"iteration\": \"42\", \"goal\": null, \"run_name\": \"Canceled\", \"run_properties\": null}, {\"run_id\": \"AutoML_800ba8b7-cebe-4b50-a30c-0dc610a8f722_43\", \"run_number\": 1685296242, \"metric\": null, \"status\": \"Canceled\", \"run_type\": \"azureml.scriptrun\", \"training_percent\": \"100\", \"start_time\": \"2023-05-28T17:53:33.514531Z\", \"end_time\": \"2023-05-28T17:53:45.07774Z\", \"created_time\": \"2023-05-28T17:50:42.465131Z\", \"created_time_dt\": \"2023-05-28T17:50:42.465131Z\", \"duration\": \"0:03:02\", \"iteration\": \"43\", \"goal\": null, \"run_name\": \"Canceled\", \"run_properties\": null}, {\"run_id\": \"AutoML_800ba8b7-cebe-4b50-a30c-0dc610a8f722_44\", \"run_number\": 1685296377, \"metric\": null, \"status\": \"Canceled\", \"run_type\": \"azureml.scriptrun\", \"training_percent\": \"100\", \"start_time\": \"2023-05-28T17:53:33.499367Z\", \"end_time\": \"2023-05-28T17:53:42.339553Z\", \"created_time\": \"2023-05-28T17:52:57.388563Z\", \"created_time_dt\": \"2023-05-28T17:52:57.388563Z\", \"duration\": \"0:00:44\", \"iteration\": \"44\", \"goal\": null, \"run_name\": \"Canceled\", \"run_properties\": null}, {\"run_id\": \"AutoML_800ba8b7-cebe-4b50-a30c-0dc610a8f722_45\", \"run_number\": 1685296383, \"metric\": null, \"status\": \"Canceled\", \"run_type\": \"azureml.scriptrun\", \"training_percent\": \"100\", \"start_time\": \"2023-05-28T17:53:33.374458Z\", \"end_time\": \"2023-05-28T17:53:42.410327Z\", \"created_time\": \"2023-05-28T17:53:03.605818Z\", \"created_time_dt\": \"2023-05-28T17:53:03.605818Z\", \"duration\": \"0:00:38\", \"iteration\": \"45\", \"goal\": null, \"run_name\": \"Canceled\", \"run_properties\": null}, {\"run_id\": \"AutoML_800ba8b7-cebe-4b50-a30c-0dc610a8f722_46\", \"run_number\": 1685296392, \"metric\": null, \"status\": \"Canceled\", \"run_type\": \"azureml.scriptrun\", \"training_percent\": \"100\", \"start_time\": \"2023-05-28T17:53:33.348243Z\", \"end_time\": \"2023-05-28T17:53:42.34266Z\", \"created_time\": \"2023-05-28T17:53:12.201116Z\", \"created_time_dt\": \"2023-05-28T17:53:12.201116Z\", \"duration\": \"0:00:30\", \"iteration\": \"46\", \"goal\": null, \"run_name\": \"Canceled\", \"run_properties\": null}, {\"run_id\": \"AutoML_800ba8b7-cebe-4b50-a30c-0dc610a8f722_47\", \"run_number\": 1685296407, \"metric\": null, \"status\": \"Canceled\", \"run_type\": \"azureml.scriptrun\", \"training_percent\": \"100\", \"start_time\": \"2023-05-28T17:53:33.264361Z\", \"end_time\": \"2023-05-28T17:53:41.887587Z\", \"created_time\": \"2023-05-28T17:53:27.223013Z\", \"created_time_dt\": \"2023-05-28T17:53:27.223013Z\", \"duration\": \"0:00:14\", \"iteration\": \"47\", \"goal\": null, \"run_name\": \"Canceled\", \"run_properties\": null}, {\"run_id\": \"AutoML_800ba8b7-cebe-4b50-a30c-0dc610a8f722_49\", \"run_number\": 1685296426, \"metric\": null, \"status\": \"Completed\", \"run_type\": \"azureml.scriptrun\", \"training_percent\": \"100\", \"start_time\": \"2023-05-28T17:54:09.596094Z\", \"end_time\": \"2023-05-28T17:55:21.267171Z\", \"created_time\": \"2023-05-28T17:53:46.850372Z\", \"created_time_dt\": \"2023-05-28T17:53:46.850372Z\", \"duration\": \"0:01:34\", \"iteration\": \"49\", \"goal\": \"accuracy_max\", \"run_name\": \"StackEnsemble\", \"run_properties\": \"base_learners=[('3', Pipeline(memory=None, steps=[('maxabsscaler', MaxAbsScaler(copy=True\", \"primary_metric\": 0.82142857, \"best_metric\": 0.83928571}], \"children_metrics\": {\"categories\": [0], \"series\": {\"AUC_macro\": [{\"categories\": [\"22\", \"25\", \"26\", \"27\", \"28\", \"29\", \"30\", \"31\", \"33\", \"34\", \"35\", \"36\", \"37\", \"38\", \"39\", \"40\", \"49\"], \"mode\": \"markers\", \"name\": \"AUC_macro\", \"stepped\": false, \"type\": \"scatter\", \"data\": [0.8527369423028311, 0.9053917967433434, 0.8800702256066735, 0.9087074354356253, 0.8581503636354061, 0.9168837683265925, 0.8327476920605831, 0.8657390145770139, 0.8868908580321031, 0.8942267283872598, 0.8529512791750926, 0.8877243427704753, 0.8687589855599089, 0.8943467333375464, 0.9219964531723963, 0.8936831184698348, 0.9051184119059656]}, {\"categories\": [\"22\", \"25\", \"26\", \"27\", \"28\", \"29\", \"30\", \"31\", \"33\", \"34\", \"35\", \"36\", \"37\", \"38\", \"39\", \"40\", \"49\"], \"mode\": \"lines\", \"name\": \"AUC_macro_max\", \"stepped\": true, \"type\": \"scatter\", \"data\": [0.8527369423028311, 0.9053917967433434, 0.9053917967433434, 0.9087074354356253, 0.9087074354356253, 0.9168837683265925, 0.9168837683265925, 0.9168837683265925, 0.9168837683265925, 0.9168837683265925, 0.9168837683265925, 0.9168837683265925, 0.9168837683265925, 0.9168837683265925, 0.9219964531723963, 0.9219964531723963, 0.9219964531723963]}], \"recall_score_micro\": [{\"categories\": [\"22\", \"25\", \"26\", \"27\", \"28\", \"29\", \"30\", \"31\", \"33\", \"34\", \"35\", \"36\", \"37\", \"38\", \"39\", \"40\", \"49\"], \"mode\": \"markers\", \"name\": \"recall_score_micro\", \"stepped\": false, \"type\": \"scatter\", \"data\": [0.7946428571428572, 0.8348214285714286, 0.8392857142857143, 0.8035714285714286, 0.7946428571428572, 0.8392857142857143, 0.7723214285714286, 0.8348214285714286, 0.8348214285714286, 0.8125, 0.7723214285714286, 0.8214285714285714, 0.8125, 0.8258928571428572, 0.8392857142857143, 0.7946428571428572, 0.8214285714285714]}, {\"categories\": [\"22\", \"25\", \"26\", \"27\", \"28\", \"29\", \"30\", \"31\", \"33\", \"34\", \"35\", \"36\", \"37\", \"38\", \"39\", \"40\", \"49\"], \"mode\": \"lines\", \"name\": \"recall_score_micro_max\", \"stepped\": true, \"type\": \"scatter\", \"data\": [0.7946428571428572, 0.8348214285714286, 0.8392857142857143, 0.8392857142857143, 0.8392857142857143, 0.8392857142857143, 0.8392857142857143, 0.8392857142857143, 0.8392857142857143, 0.8392857142857143, 0.8392857142857143, 0.8392857142857143, 0.8392857142857143, 0.8392857142857143, 0.8392857142857143, 0.8392857142857143, 0.8392857142857143]}], \"AUC_weighted\": [{\"categories\": [\"22\", \"25\", \"26\", \"27\", \"28\", \"29\", \"30\", \"31\", \"33\", \"34\", \"35\", \"36\", \"37\", \"38\", \"39\", \"40\", \"49\"], \"mode\": \"markers\", \"name\": \"AUC_weighted\", \"stepped\": false, \"type\": \"scatter\", \"data\": [0.852736942302831, 0.9053917967433435, 0.8800702256066734, 0.9087074354356252, 0.8581503636354062, 0.9168837683265927, 0.832747692060583, 0.8657390145770139, 0.8868908580321031, 0.8942267283872598, 0.8529512791750926, 0.8877243427704752, 0.8687589855599089, 0.8943467333375463, 0.9219964531723964, 0.8936831184698348, 0.9051184119059656]}, {\"categories\": [\"22\", \"25\", \"26\", \"27\", \"28\", \"29\", \"30\", \"31\", \"33\", \"34\", \"35\", \"36\", \"37\", \"38\", \"39\", \"40\", \"49\"], \"mode\": \"lines\", \"name\": \"AUC_weighted_max\", \"stepped\": true, \"type\": \"scatter\", \"data\": [0.852736942302831, 0.9053917967433435, 0.9053917967433435, 0.9087074354356252, 0.9087074354356252, 0.9168837683265927, 0.9168837683265927, 0.9168837683265927, 0.9168837683265927, 0.9168837683265927, 0.9168837683265927, 0.9168837683265927, 0.9168837683265927, 0.9168837683265927, 0.9219964531723964, 0.9219964531723964, 0.9219964531723964]}], \"recall_score_macro\": [{\"categories\": [\"22\", \"25\", \"26\", \"27\", \"28\", \"29\", \"30\", \"31\", \"33\", \"34\", \"35\", \"36\", \"37\", \"38\", \"39\", \"40\", \"49\"], \"mode\": \"markers\", \"name\": \"recall_score_macro\", \"stepped\": false, \"type\": \"scatter\", \"data\": [0.7679774393326593, 0.815729271991911, 0.7957227418267611, 0.7711482558139535, 0.7526910599932592, 0.818854271991911, 0.7171569556791372, 0.803665318503539, 0.8070446789686552, 0.7974153185035389, 0.723537032355915, 0.8011685835861139, 0.7735991742500843, 0.8021028185035389, 0.8336071789686552, 0.7532187394674756, 0.816035241826761]}, {\"categories\": [\"22\", \"25\", \"26\", \"27\", \"28\", \"29\", \"30\", \"31\", \"33\", \"34\", \"35\", \"36\", \"37\", \"38\", \"39\", \"40\", \"49\"], \"mode\": \"lines\", \"name\": \"recall_score_macro_max\", \"stepped\": true, \"type\": \"scatter\", \"data\": [0.7679774393326593, 0.815729271991911, 0.815729271991911, 0.815729271991911, 0.815729271991911, 0.818854271991911, 0.818854271991911, 0.818854271991911, 0.818854271991911, 0.818854271991911, 0.818854271991911, 0.818854271991911, 0.818854271991911, 0.818854271991911, 0.8336071789686552, 0.8336071789686552, 0.8336071789686552]}], \"f1_score_macro\": [{\"categories\": [\"22\", \"25\", \"26\", \"27\", \"28\", \"29\", \"30\", \"31\", \"33\", \"34\", \"35\", \"36\", \"37\", \"38\", \"39\", \"40\", \"49\"], \"mode\": \"markers\", \"name\": \"f1_score_macro\", \"stepped\": false, \"type\": \"scatter\", \"data\": [0.7605164099761418, 0.8098712675087332, 0.8053865656092682, 0.758319255983462, 0.762537103666467, 0.8144159072079536, 0.7199954710144928, 0.805858786142083, 0.8084519287725418, 0.7861410282462913, 0.7255903008841145, 0.7953216374269005, 0.7751724492547478, 0.7980773530069305, 0.8193681833862755, 0.7522318061840121, 0.796343542073491]}, {\"categories\": [\"22\", \"25\", \"26\", \"27\", \"28\", \"29\", \"30\", \"31\", \"33\", \"34\", \"35\", \"36\", \"37\", \"38\", \"39\", \"40\", \"49\"], \"mode\": \"lines\", \"name\": \"f1_score_macro_max\", \"stepped\": true, \"type\": \"scatter\", \"data\": [0.7605164099761418, 0.8098712675087332, 0.8098712675087332, 0.8098712675087332, 0.8098712675087332, 0.8144159072079536, 0.8144159072079536, 0.8144159072079536, 0.8144159072079536, 0.8144159072079536, 0.8144159072079536, 0.8144159072079536, 0.8144159072079536, 0.8144159072079536, 0.8193681833862755, 0.8193681833862755, 0.8193681833862755]}], \"AUC_micro\": [{\"categories\": [\"22\", \"25\", \"26\", \"27\", \"28\", \"29\", \"30\", \"31\", \"33\", \"34\", \"35\", \"36\", \"37\", \"38\", \"39\", \"40\", \"49\"], \"mode\": \"markers\", \"name\": \"AUC_micro\", \"stepped\": false, \"type\": \"scatter\", \"data\": [0.8553890306122449, 0.9040178571428572, 0.8844068877551021, 0.893813775510204, 0.8628427933673469, 0.9119100765306123, 0.841358418367347, 0.8779894770408164, 0.8897879464285714, 0.8955676020408163, 0.8620455994897959, 0.8907047193877551, 0.8697385204081634, 0.8966438137755102, 0.91015625, 0.8834502551020408, 0.8569834183673469]}, {\"categories\": [\"22\", \"25\", \"26\", \"27\", \"28\", \"29\", \"30\", \"31\", \"33\", \"34\", \"35\", \"36\", \"37\", \"38\", \"39\", \"40\", \"49\"], \"mode\": \"lines\", \"name\": \"AUC_micro_max\", \"stepped\": true, \"type\": \"scatter\", \"data\": [0.8553890306122449, 0.9040178571428572, 0.9040178571428572, 0.9040178571428572, 0.9040178571428572, 0.9119100765306123, 0.9119100765306123, 0.9119100765306123, 0.9119100765306123, 0.9119100765306123, 0.9119100765306123, 0.9119100765306123, 0.9119100765306123, 0.9119100765306123, 0.9119100765306123, 0.9119100765306123, 0.9119100765306123]}], \"balanced_accuracy\": [{\"categories\": [\"22\", \"25\", \"26\", \"27\", \"28\", \"29\", \"30\", \"31\", \"33\", \"34\", \"35\", \"36\", \"37\", \"38\", \"39\", \"40\", \"49\"], \"mode\": \"markers\", \"name\": \"balanced_accuracy\", \"stepped\": false, \"type\": \"scatter\", \"data\": [0.7679774393326593, 0.815729271991911, 0.7957227418267611, 0.7711482558139535, 0.7526910599932592, 0.818854271991911, 0.7171569556791372, 0.803665318503539, 0.8070446789686552, 0.7974153185035389, 0.723537032355915, 0.8011685835861139, 0.7735991742500843, 0.8021028185035389, 0.8336071789686552, 0.7532187394674756, 0.816035241826761]}, {\"categories\": [\"22\", \"25\", \"26\", \"27\", \"28\", \"29\", \"30\", \"31\", \"33\", \"34\", \"35\", \"36\", \"37\", \"38\", \"39\", \"40\", \"49\"], \"mode\": \"lines\", \"name\": \"balanced_accuracy_max\", \"stepped\": true, \"type\": \"scatter\", \"data\": [0.7679774393326593, 0.815729271991911, 0.815729271991911, 0.815729271991911, 0.815729271991911, 0.818854271991911, 0.818854271991911, 0.818854271991911, 0.818854271991911, 0.818854271991911, 0.818854271991911, 0.818854271991911, 0.818854271991911, 0.818854271991911, 0.8336071789686552, 0.8336071789686552, 0.8336071789686552]}], \"f1_score_weighted\": [{\"categories\": [\"22\", \"25\", \"26\", \"27\", \"28\", \"29\", \"30\", \"31\", \"33\", \"34\", \"35\", \"36\", \"37\", \"38\", \"39\", \"40\", \"49\"], \"mode\": \"markers\", \"name\": \"f1_score_weighted\", \"stepped\": false, \"type\": \"scatter\", \"data\": [0.7877990986279214, 0.8316024025127717, 0.8313420755737866, 0.7882698548942819, 0.7912774825334614, 0.835747327099854, 0.7580571460921326, 0.8295583938490312, 0.8322533147621466, 0.8098067320811682, 0.7610726508494832, 0.8187526106934002, 0.802240876198266, 0.8217754942352528, 0.8384351081588259, 0.7841543528469079, 0.8176676126239614]}, {\"categories\": [\"22\", \"25\", \"26\", \"27\", \"28\", \"29\", \"30\", \"31\", \"33\", \"34\", \"35\", \"36\", \"37\", \"38\", \"39\", \"40\", \"49\"], \"mode\": \"lines\", \"name\": \"f1_score_weighted_max\", \"stepped\": true, \"type\": \"scatter\", \"data\": [0.7877990986279214, 0.8316024025127717, 0.8316024025127717, 0.8316024025127717, 0.8316024025127717, 0.835747327099854, 0.835747327099854, 0.835747327099854, 0.835747327099854, 0.835747327099854, 0.835747327099854, 0.835747327099854, 0.835747327099854, 0.835747327099854, 0.8384351081588259, 0.8384351081588259, 0.8384351081588259]}], \"precision_score_weighted\": [{\"categories\": [\"22\", \"25\", \"26\", \"27\", \"28\", \"29\", \"30\", \"31\", \"33\", \"34\", \"35\", \"36\", \"37\", \"38\", \"39\", \"40\", \"49\"], \"mode\": \"markers\", \"name\": \"precision_score_weighted\", \"stepped\": false, \"type\": \"scatter\", \"data\": [0.8049010214459004, 0.8507263321995464, 0.8544619380892902, 0.8479480637636796, 0.7921717393854093, 0.8535622329806527, 0.7808413389250562, 0.8452515854826779, 0.8441535113189478, 0.8368591375944316, 0.7752130681818181, 0.8354890827678529, 0.8185698959532028, 0.8413977094174515, 0.8624190133825645, 0.8152644661103308, 0.8638463028609712]}, {\"categories\": [\"22\", \"25\", \"26\", \"27\", \"28\", \"29\", \"30\", \"31\", \"33\", \"34\", \"35\", \"36\", \"37\", \"38\", \"39\", \"40\", \"49\"], \"mode\": \"lines\", \"name\": \"precision_score_weighted_max\", \"stepped\": true, \"type\": \"scatter\", \"data\": [0.8049010214459004, 0.8507263321995464, 0.8544619380892902, 0.8544619380892902, 0.8544619380892902, 0.8544619380892902, 0.8544619380892902, 0.8544619380892902, 0.8544619380892902, 0.8544619380892902, 0.8544619380892902, 0.8544619380892902, 0.8544619380892902, 0.8544619380892902, 0.8624190133825645, 0.8624190133825645, 0.8638463028609712]}], \"log_loss\": [{\"categories\": [\"22\", \"25\", \"26\", \"27\", \"28\", \"29\", \"30\", \"31\", \"33\", \"34\", \"35\", \"36\", \"37\", \"38\", \"39\", \"40\", \"49\"], \"mode\": \"markers\", \"name\": \"log_loss\", \"stepped\": false, \"type\": \"scatter\", \"data\": [0.5881236910920622, 0.3964214132641176, 0.4722852787749917, 0.44414968371356967, 0.4993254810211608, 0.38373045882337553, 0.49370466075942243, 0.4563727061752766, 0.42006919204657045, 0.48964385545555167, 0.471313376504621, 0.4410718023958365, 0.46968550363106876, 0.4091052546218741, 0.3829341926401886, 0.4445948093760743, 0.5216743855559647]}, {\"categories\": [\"22\", \"25\", \"26\", \"27\", \"28\", \"29\", \"30\", \"31\", \"33\", \"34\", \"35\", \"36\", \"37\", \"38\", \"39\", \"40\", \"49\"], \"mode\": \"lines\", \"name\": \"log_loss_min\", \"stepped\": true, \"type\": \"scatter\", \"data\": [0.5881236910920622, 0.3964214132641176, 0.3964214132641176, 0.3964214132641176, 0.3964214132641176, 0.38373045882337553, 0.38373045882337553, 0.38373045882337553, 0.38373045882337553, 0.38373045882337553, 0.38373045882337553, 0.38373045882337553, 0.38373045882337553, 0.38373045882337553, 0.3829341926401886, 0.3829341926401886, 0.3829341926401886]}], \"average_precision_score_weighted\": [{\"categories\": [\"22\", \"25\", \"26\", \"27\", \"28\", \"29\", \"30\", \"31\", \"33\", \"34\", \"35\", \"36\", \"37\", \"38\", \"39\", \"40\", \"49\"], \"mode\": \"markers\", \"name\": \"average_precision_score_weighted\", \"stepped\": false, \"type\": \"scatter\", \"data\": [0.8600370970473227, 0.9138687156213842, 0.8928028192447461, 0.9116214609973112, 0.8391188396715096, 0.9208242193439766, 0.8435358186403812, 0.8781541187552356, 0.8956836555120409, 0.905337062427434, 0.8628423603778725, 0.8980824742652096, 0.8642225430788579, 0.9041101003252506, 0.9264179812478923, 0.8957332240263589, 0.9105774567093088]}, {\"categories\": [\"22\", \"25\", \"26\", \"27\", \"28\", \"29\", \"30\", \"31\", \"33\", \"34\", \"35\", \"36\", \"37\", \"38\", \"39\", \"40\", \"49\"], \"mode\": \"lines\", \"name\": \"average_precision_score_weighted_max\", \"stepped\": true, \"type\": \"scatter\", \"data\": [0.8600370970473227, 0.9138687156213842, 0.9138687156213842, 0.9138687156213842, 0.9138687156213842, 0.9208242193439766, 0.9208242193439766, 0.9208242193439766, 0.9208242193439766, 0.9208242193439766, 0.9208242193439766, 0.9208242193439766, 0.9208242193439766, 0.9208242193439766, 0.9264179812478923, 0.9264179812478923, 0.9264179812478923]}], \"recall_score_weighted\": [{\"categories\": [\"22\", \"25\", \"26\", \"27\", \"28\", \"29\", \"30\", \"31\", \"33\", \"34\", \"35\", \"36\", \"37\", \"38\", \"39\", \"40\", \"49\"], \"mode\": \"markers\", \"name\": \"recall_score_weighted\", \"stepped\": false, \"type\": \"scatter\", \"data\": [0.7946428571428572, 0.8348214285714286, 0.8392857142857143, 0.8035714285714286, 0.7946428571428572, 0.8392857142857143, 0.7723214285714286, 0.8348214285714286, 0.8348214285714286, 0.8125, 0.7723214285714286, 0.8214285714285714, 0.8125, 0.8258928571428572, 0.8392857142857143, 0.7946428571428572, 0.8214285714285714]}, {\"categories\": [\"22\", \"25\", \"26\", \"27\", \"28\", \"29\", \"30\", \"31\", \"33\", \"34\", \"35\", \"36\", \"37\", \"38\", \"39\", \"40\", \"49\"], \"mode\": \"lines\", \"name\": \"recall_score_weighted_max\", \"stepped\": true, \"type\": \"scatter\", \"data\": [0.7946428571428572, 0.8348214285714286, 0.8392857142857143, 0.8392857142857143, 0.8392857142857143, 0.8392857142857143, 0.8392857142857143, 0.8392857142857143, 0.8392857142857143, 0.8392857142857143, 0.8392857142857143, 0.8392857142857143, 0.8392857142857143, 0.8392857142857143, 0.8392857142857143, 0.8392857142857143, 0.8392857142857143]}], \"matthews_correlation\": [{\"categories\": [\"22\", \"25\", \"26\", \"27\", \"28\", \"29\", \"30\", \"31\", \"33\", \"34\", \"35\", \"36\", \"37\", \"38\", \"39\", \"40\", \"49\"], \"mode\": \"markers\", \"name\": \"matthews_correlation\", \"stepped\": false, \"type\": \"scatter\", \"data\": [0.5467319641999756, 0.6438507029292223, 0.6428644257952081, 0.5926564265269401, 0.5302875225971666, 0.6517523484914831, 0.4783956102845489, 0.6337107718284165, 0.6322672588046474, 0.604775296451884, 0.4777938109439458, 0.6117102273802211, 0.5781321445494608, 0.6215164177617214, 0.6664644050316448, 0.5474177509973147, 0.6470461182722371]}, {\"categories\": [\"22\", \"25\", \"26\", \"27\", \"28\", \"29\", \"30\", \"31\", \"33\", \"34\", \"35\", \"36\", \"37\", \"38\", \"39\", \"40\", \"49\"], \"mode\": \"lines\", \"name\": \"matthews_correlation_max\", \"stepped\": true, \"type\": \"scatter\", \"data\": [0.5467319641999756, 0.6438507029292223, 0.6438507029292223, 0.6438507029292223, 0.6438507029292223, 0.6517523484914831, 0.6517523484914831, 0.6517523484914831, 0.6517523484914831, 0.6517523484914831, 0.6517523484914831, 0.6517523484914831, 0.6517523484914831, 0.6517523484914831, 0.6664644050316448, 0.6664644050316448, 0.6664644050316448]}], \"precision_score_macro\": [{\"categories\": [\"22\", \"25\", \"26\", \"27\", \"28\", \"29\", \"30\", \"31\", \"33\", \"34\", \"35\", \"36\", \"37\", \"38\", \"39\", \"40\", \"49\"], \"mode\": \"markers\", \"name\": \"precision_score_macro\", \"stepped\": false, \"type\": \"scatter\", \"data\": [0.7814008625971034, 0.8307539682539682, 0.8516221805872344, 0.8363347002748196, 0.7786124794745484, 0.8354314064930504, 0.7663566023781077, 0.8325736355148119, 0.8268043075167595, 0.8107248960190137, 0.7571022727272727, 0.8126892627983198, 0.8077172036823936, 0.8222935046867359, 0.8354234922946244, 0.8006072874493927, 0.83696016285302]}, {\"categories\": [\"22\", \"25\", \"26\", \"27\", \"28\", \"29\", \"30\", \"31\", \"33\", \"34\", \"35\", \"36\", \"37\", \"38\", \"39\", \"40\", \"49\"], \"mode\": \"lines\", \"name\": \"precision_score_macro_max\", \"stepped\": true, \"type\": \"scatter\", \"data\": [0.7814008625971034, 0.8307539682539682, 0.8516221805872344, 0.8516221805872344, 0.8516221805872344, 0.8516221805872344, 0.8516221805872344, 0.8516221805872344, 0.8516221805872344, 0.8516221805872344, 0.8516221805872344, 0.8516221805872344, 0.8516221805872344, 0.8516221805872344, 0.8516221805872344, 0.8516221805872344, 0.8516221805872344]}], \"precision_score_micro\": [{\"categories\": [\"22\", \"25\", \"26\", \"27\", \"28\", \"29\", \"30\", \"31\", \"33\", \"34\", \"35\", \"36\", \"37\", \"38\", \"39\", \"40\", \"49\"], \"mode\": \"markers\", \"name\": \"precision_score_micro\", \"stepped\": false, \"type\": \"scatter\", \"data\": [0.7946428571428572, 0.8348214285714286, 0.8392857142857143, 0.8035714285714286, 0.7946428571428572, 0.8392857142857143, 0.7723214285714286, 0.8348214285714286, 0.8348214285714286, 0.8125, 0.7723214285714286, 0.8214285714285714, 0.8125, 0.8258928571428572, 0.8392857142857143, 0.7946428571428572, 0.8214285714285714]}, {\"categories\": [\"22\", \"25\", \"26\", \"27\", \"28\", \"29\", \"30\", \"31\", \"33\", \"34\", \"35\", \"36\", \"37\", \"38\", \"39\", \"40\", \"49\"], \"mode\": \"lines\", \"name\": \"precision_score_micro_max\", \"stepped\": true, \"type\": \"scatter\", \"data\": [0.7946428571428572, 0.8348214285714286, 0.8392857142857143, 0.8392857142857143, 0.8392857142857143, 0.8392857142857143, 0.8392857142857143, 0.8392857142857143, 0.8392857142857143, 0.8392857142857143, 0.8392857142857143, 0.8392857142857143, 0.8392857142857143, 0.8392857142857143, 0.8392857142857143, 0.8392857142857143, 0.8392857142857143]}], \"f1_score_micro\": [{\"categories\": [\"22\", \"25\", \"26\", \"27\", \"28\", \"29\", \"30\", \"31\", \"33\", \"34\", \"35\", \"36\", \"37\", \"38\", \"39\", \"40\", \"49\"], \"mode\": \"markers\", \"name\": \"f1_score_micro\", \"stepped\": false, \"type\": \"scatter\", \"data\": [0.7946428571428572, 0.8348214285714286, 0.8392857142857143, 0.8035714285714286, 0.7946428571428572, 0.8392857142857143, 0.7723214285714286, 0.8348214285714286, 0.8348214285714286, 0.8125, 0.7723214285714286, 0.8214285714285714, 0.8125, 0.8258928571428572, 0.8392857142857143, 0.7946428571428572, 0.8214285714285714]}, {\"categories\": [\"22\", \"25\", \"26\", \"27\", \"28\", \"29\", \"30\", \"31\", \"33\", \"34\", \"35\", \"36\", \"37\", \"38\", \"39\", \"40\", \"49\"], \"mode\": \"lines\", \"name\": \"f1_score_micro_max\", \"stepped\": true, \"type\": \"scatter\", \"data\": [0.7946428571428572, 0.8348214285714286, 0.8392857142857143, 0.8392857142857143, 0.8392857142857143, 0.8392857142857143, 0.8392857142857143, 0.8392857142857143, 0.8392857142857143, 0.8392857142857143, 0.8392857142857143, 0.8392857142857143, 0.8392857142857143, 0.8392857142857143, 0.8392857142857143, 0.8392857142857143, 0.8392857142857143]}], \"norm_macro_recall\": [{\"categories\": [\"22\", \"25\", \"26\", \"27\", \"28\", \"29\", \"30\", \"31\", \"33\", \"34\", \"35\", \"36\", \"37\", \"38\", \"39\", \"40\", \"49\"], \"mode\": \"markers\", \"name\": \"norm_macro_recall\", \"stepped\": false, \"type\": \"scatter\", \"data\": [0.5359548786653185, 0.6314585439838221, 0.5914454836535221, 0.5422965116279069, 0.5053821199865184, 0.637708543983822, 0.43431391135827435, 0.6073306370070778, 0.6140893579373105, 0.5948306370070778, 0.4470740647118301, 0.6023371671722277, 0.5471983485001686, 0.6042056370070779, 0.6672143579373104, 0.5064374789349512, 0.632070483653522]}, {\"categories\": [\"22\", \"25\", \"26\", \"27\", \"28\", \"29\", \"30\", \"31\", \"33\", \"34\", \"35\", \"36\", \"37\", \"38\", \"39\", \"40\", \"49\"], \"mode\": \"lines\", \"name\": \"norm_macro_recall_max\", \"stepped\": true, \"type\": \"scatter\", \"data\": [0.5359548786653185, 0.6314585439838221, 0.6314585439838221, 0.6314585439838221, 0.6314585439838221, 0.637708543983822, 0.637708543983822, 0.637708543983822, 0.637708543983822, 0.637708543983822, 0.637708543983822, 0.637708543983822, 0.637708543983822, 0.637708543983822, 0.6672143579373104, 0.6672143579373104, 0.6672143579373104]}], \"accuracy\": [{\"categories\": [\"22\", \"25\", \"26\", \"27\", \"28\", \"29\", \"30\", \"31\", \"33\", \"34\", \"35\", \"36\", \"37\", \"38\", \"39\", \"40\", \"49\"], \"mode\": \"markers\", \"name\": \"accuracy\", \"stepped\": false, \"type\": \"scatter\", \"data\": [0.7946428571428572, 0.8348214285714286, 0.8392857142857143, 0.8035714285714286, 0.7946428571428572, 0.8392857142857143, 0.7723214285714286, 0.8348214285714286, 0.8348214285714286, 0.8125, 0.7723214285714286, 0.8214285714285714, 0.8125, 0.8258928571428572, 0.8392857142857143, 0.7946428571428572, 0.8214285714285714]}, {\"categories\": [\"22\", \"25\", \"26\", \"27\", \"28\", \"29\", \"30\", \"31\", \"33\", \"34\", \"35\", \"36\", \"37\", \"38\", \"39\", \"40\", \"49\"], \"mode\": \"lines\", \"name\": \"accuracy_max\", \"stepped\": true, \"type\": \"scatter\", \"data\": [0.7946428571428572, 0.8348214285714286, 0.8392857142857143, 0.8392857142857143, 0.8392857142857143, 0.8392857142857143, 0.8392857142857143, 0.8392857142857143, 0.8392857142857143, 0.8392857142857143, 0.8392857142857143, 0.8392857142857143, 0.8392857142857143, 0.8392857142857143, 0.8392857142857143, 0.8392857142857143, 0.8392857142857143]}], \"average_precision_score_micro\": [{\"categories\": [\"22\", \"25\", \"26\", \"27\", \"28\", \"29\", \"30\", \"31\", \"33\", \"34\", \"35\", \"36\", \"37\", \"38\", \"39\", \"40\", \"49\"], \"mode\": \"markers\", \"name\": \"average_precision_score_micro\", \"stepped\": false, \"type\": \"scatter\", \"data\": [0.8460793479255037, 0.9022247045082645, 0.8823069164406202, 0.8940219710309124, 0.8554437409186318, 0.9113549762617816, 0.8412159906132113, 0.8783503420730079, 0.8872114678479115, 0.8952896519327043, 0.8646469659125171, 0.8891921887510911, 0.8688439781190128, 0.8959984655876202, 0.9099642099204945, 0.8812849274836264, 0.84391468568384]}, {\"categories\": [\"22\", \"25\", \"26\", \"27\", \"28\", \"29\", \"30\", \"31\", \"33\", \"34\", \"35\", \"36\", \"37\", \"38\", \"39\", \"40\", \"49\"], \"mode\": \"lines\", \"name\": \"average_precision_score_micro_max\", \"stepped\": true, \"type\": \"scatter\", \"data\": [0.8460793479255037, 0.9022247045082645, 0.9022247045082645, 0.9022247045082645, 0.9022247045082645, 0.9113549762617816, 0.9113549762617816, 0.9113549762617816, 0.9113549762617816, 0.9113549762617816, 0.9113549762617816, 0.9113549762617816, 0.9113549762617816, 0.9113549762617816, 0.9113549762617816, 0.9113549762617816, 0.9113549762617816]}], \"average_precision_score_macro\": [{\"categories\": [\"22\", \"25\", \"26\", \"27\", \"28\", \"29\", \"30\", \"31\", \"33\", \"34\", \"35\", \"36\", \"37\", \"38\", \"39\", \"40\", \"49\"], \"mode\": \"markers\", \"name\": \"average_precision_score_macro\", \"stepped\": false, \"type\": \"scatter\", \"data\": [0.8270671001992402, 0.8940790116574666, 0.8740302861364568, 0.8907026057964456, 0.8020571739245266, 0.9030537908735924, 0.8092043183606623, 0.8544611803305555, 0.8761622364968142, 0.8872208068443344, 0.8326423841183429, 0.8756790499278501, 0.8291579107546726, 0.8819316679156454, 0.9123235091864418, 0.8674450687804509, 0.8904344051773059]}, {\"categories\": [\"22\", \"25\", \"26\", \"27\", \"28\", \"29\", \"30\", \"31\", \"33\", \"34\", \"35\", \"36\", \"37\", \"38\", \"39\", \"40\", \"49\"], \"mode\": \"lines\", \"name\": \"average_precision_score_macro_max\", \"stepped\": true, \"type\": \"scatter\", \"data\": [0.8270671001992402, 0.8940790116574666, 0.8940790116574666, 0.8940790116574666, 0.8940790116574666, 0.9030537908735924, 0.9030537908735924, 0.9030537908735924, 0.9030537908735924, 0.9030537908735924, 0.9030537908735924, 0.9030537908735924, 0.9030537908735924, 0.9030537908735924, 0.9123235091864418, 0.9123235091864418, 0.9123235091864418]}], \"weighted_accuracy\": [{\"categories\": [\"22\", \"25\", \"26\", \"27\", \"28\", \"29\", \"30\", \"31\", \"33\", \"34\", \"35\", \"36\", \"37\", \"38\", \"39\", \"40\", \"49\"], \"mode\": \"markers\", \"name\": \"weighted_accuracy\", \"stepped\": false, \"type\": \"scatter\", \"data\": [0.8184418853356985, 0.8525183890656791, 0.8747707887735406, 0.8335147242944339, 0.8253374589180449, 0.8579063201001619, 0.8169674996087433, 0.861119189837759, 0.8579460978663469, 0.8277140174239659, 0.8119365903281341, 0.839755921018311, 0.8451930851896292, 0.8471105691481038, 0.8471702357973814, 0.829601178986906, 0.8305897542907821]}, {\"categories\": [\"22\", \"25\", \"26\", \"27\", \"28\", \"29\", \"30\", \"31\", \"33\", \"34\", \"35\", \"36\", \"37\", \"38\", \"39\", \"40\", \"49\"], \"mode\": \"lines\", \"name\": \"weighted_accuracy_max\", \"stepped\": true, \"type\": \"scatter\", \"data\": [0.8184418853356985, 0.8525183890656791, 0.8747707887735406, 0.8747707887735406, 0.8747707887735406, 0.8747707887735406, 0.8747707887735406, 0.8747707887735406, 0.8747707887735406, 0.8747707887735406, 0.8747707887735406, 0.8747707887735406, 0.8747707887735406, 0.8747707887735406, 0.8747707887735406, 0.8747707887735406, 0.8747707887735406]}]}, \"metricName\": null, \"primaryMetricName\": \"accuracy\", \"showLegend\": false}, \"run_metrics\": [{\"name\": \"experiment_status\", \"run_id\": \"AutoML_800ba8b7-cebe-4b50-a30c-0dc610a8f722\", \"categories\": [0, 1, 2, 3, 4, 5, 6, 7, 8, 9, 10, 11, 12, 13], \"series\": [{\"data\": [\"DatasetEvaluation\", \"FeaturesGeneration\", \"DatasetFeaturization\", \"DatasetFeaturizationCompleted\", \"DatasetCrossValidationSplit\", \"ModelSelection\", \"BestRunExplainModel\", \"ModelExplanationDataSetSetup\", \"PickSurrogateModel\", \"EngineeredFeatureExplanations\", \"EngineeredFeatureExplanations\", \"RawFeaturesExplanations\", \"RawFeaturesExplanations\", \"BestRunExplainModel\"]}]}, {\"name\": \"experiment_status_description\", \"run_id\": \"AutoML_800ba8b7-cebe-4b50-a30c-0dc610a8f722\", \"categories\": [0, 1, 2, 3, 4, 5, 6, 7, 8, 9, 10, 11, 12, 13], \"series\": [{\"data\": [\"Gathering dataset statistics.\", \"Generating features for the dataset.\", \"Beginning to fit featurizers and featurize the dataset.\", \"Completed fit featurizers and featurizing the dataset.\", \"Generating individually featurized CV splits.\", \"Beginning model selection.\", \"Best run model explanations started\", \"Model explanations data setup completed\", \"Choosing LightGBM as the surrogate model for explanations\", \"Computation of engineered features started\", \"Computation of engineered features completed\", \"Computation of raw features started\", \"Computation of raw features completed\", \"Best run model explanations completed\"]}]}, {\"name\": \"AUC_micro\", \"run_id\": \"AutoML_800ba8b7-cebe-4b50-a30c-0dc610a8f722\", \"categories\": [0], \"series\": [{\"data\": [0.9109933035714286]}]}, {\"name\": \"f1_score_weighted\", \"run_id\": \"AutoML_800ba8b7-cebe-4b50-a30c-0dc610a8f722\", \"categories\": [0], \"series\": [{\"data\": [0.8673750557662405]}]}, {\"name\": \"accuracy\", \"run_id\": \"AutoML_800ba8b7-cebe-4b50-a30c-0dc610a8f722\", \"categories\": [0], \"series\": [{\"data\": [0.8705357142857143]}]}, {\"name\": \"precision_score_macro\", \"run_id\": \"AutoML_800ba8b7-cebe-4b50-a30c-0dc610a8f722\", \"categories\": [0], \"series\": [{\"data\": [0.8677399800313793]}]}, {\"name\": \"average_precision_score_micro\", \"run_id\": \"AutoML_800ba8b7-cebe-4b50-a30c-0dc610a8f722\", \"categories\": [0], \"series\": [{\"data\": [0.9098893962247427]}]}, {\"name\": \"recall_score_micro\", \"run_id\": \"AutoML_800ba8b7-cebe-4b50-a30c-0dc610a8f722\", \"categories\": [0], \"series\": [{\"data\": [0.8705357142857143]}]}, {\"name\": \"precision_score_weighted\", \"run_id\": \"AutoML_800ba8b7-cebe-4b50-a30c-0dc610a8f722\", \"categories\": [0], \"series\": [{\"data\": [0.8788235196731666]}]}, {\"name\": \"AUC_weighted\", \"run_id\": \"AutoML_800ba8b7-cebe-4b50-a30c-0dc610a8f722\", \"categories\": [0], \"series\": [{\"data\": [0.911885229714358]}]}, {\"name\": \"f1_score_micro\", \"run_id\": \"AutoML_800ba8b7-cebe-4b50-a30c-0dc610a8f722\", \"categories\": [0], \"series\": [{\"data\": [0.8705357142857143]}]}, {\"name\": \"average_precision_score_weighted\", \"run_id\": \"AutoML_800ba8b7-cebe-4b50-a30c-0dc610a8f722\", \"categories\": [0], \"series\": [{\"data\": [0.916531340910196]}]}, {\"name\": \"matthews_correlation\", \"run_id\": \"AutoML_800ba8b7-cebe-4b50-a30c-0dc610a8f722\", \"categories\": [0], \"series\": [{\"data\": [0.7169061546508154]}]}, {\"name\": \"f1_score_macro\", \"run_id\": \"AutoML_800ba8b7-cebe-4b50-a30c-0dc610a8f722\", \"categories\": [0], \"series\": [{\"data\": [0.850684206298937]}]}, {\"name\": \"balanced_accuracy\", \"run_id\": \"AutoML_800ba8b7-cebe-4b50-a30c-0dc610a8f722\", \"categories\": [0], \"series\": [{\"data\": [0.8507946789686552]}]}, {\"name\": \"log_loss\", \"run_id\": \"AutoML_800ba8b7-cebe-4b50-a30c-0dc610a8f722\", \"categories\": [0], \"series\": [{\"data\": [0.40562709629316196]}]}, {\"name\": \"norm_macro_recall\", \"run_id\": \"AutoML_800ba8b7-cebe-4b50-a30c-0dc610a8f722\", \"categories\": [0], \"series\": [{\"data\": [0.7015893579373105]}]}, {\"name\": \"weighted_accuracy\", \"run_id\": \"AutoML_800ba8b7-cebe-4b50-a30c-0dc610a8f722\", \"categories\": [0], \"series\": [{\"data\": [0.8881185116594502]}]}, {\"name\": \"recall_score_weighted\", \"run_id\": \"AutoML_800ba8b7-cebe-4b50-a30c-0dc610a8f722\", \"categories\": [0], \"series\": [{\"data\": [0.8705357142857143]}]}, {\"name\": \"recall_score_macro\", \"run_id\": \"AutoML_800ba8b7-cebe-4b50-a30c-0dc610a8f722\", \"categories\": [0], \"series\": [{\"data\": [0.8507946789686552]}]}, {\"name\": \"AUC_macro\", \"run_id\": \"AutoML_800ba8b7-cebe-4b50-a30c-0dc610a8f722\", \"categories\": [0], \"series\": [{\"data\": [0.911885229714358]}]}, {\"name\": \"precision_score_micro\", \"run_id\": \"AutoML_800ba8b7-cebe-4b50-a30c-0dc610a8f722\", \"categories\": [0], \"series\": [{\"data\": [0.8705357142857143]}]}, {\"name\": \"average_precision_score_macro\", \"run_id\": \"AutoML_800ba8b7-cebe-4b50-a30c-0dc610a8f722\", \"categories\": [0], \"series\": [{\"data\": [0.8992592645134094]}]}], \"run_logs\": \"\\nRun is completed.\", \"graph\": {}, \"widget_settings\": {\"childWidgetDisplay\": \"popup\", \"send_telemetry\": false, \"log_level\": \"INFO\", \"sdk_version\": \"1.44.0\"}, \"loading\": false}"
          },
          "metadata": {}
        },
        {
          "output_type": "display_data",
          "data": {
            "text/plain": "<IPython.core.display.HTML object>",
            "text/html": "<table style=\"width:100%\"><tr><th>Experiment</th><th>Id</th><th>Type</th><th>Status</th><th>Details Page</th><th>Docs Page</th></tr><tr><td>automl_run</td><td>AutoML_800ba8b7-cebe-4b50-a30c-0dc610a8f722</td><td>automl</td><td>Completed</td><td><a href=\"https://ml.azure.com/runs/AutoML_800ba8b7-cebe-4b50-a30c-0dc610a8f722?wsid=/subscriptions/99149dbb-f505-4eb9-901a-c82ba247986c/resourcegroups/hei-aep-vn001-d-we-rg-mlsa-01/workspaces/hei-aep-vn001-d-we-ml-mlsa-01&amp;tid=66e853de-ece3-44dd-9d66-ee6bdf4159d4\" target=\"_blank\" rel=\"noopener\">Link to Azure Machine Learning studio</a></td><td><a href=\"https://docs.microsoft.com/en-us/python/api/overview/azure/ml/intro?view=azure-ml-py\" target=\"_blank\" rel=\"noopener\">Link to Documentation</a></td></tr></table>"
          },
          "metadata": {}
        },
        {
          "output_type": "stream",
          "name": "stdout",
          "text": "\n\n********************************************************************************************\nDATA GUARDRAILS: \n\nTYPE:         Class balancing detection\nSTATUS:       PASSED\nDESCRIPTION:  Your inputs were analyzed, and all classes are balanced in your training data.\n              Learn more about imbalanced data: https://aka.ms/AutomatedMLImbalancedData\n\n********************************************************************************************\n\nTYPE:         Missing feature values imputation\nSTATUS:       PASSED\nDESCRIPTION:  No feature missing values were detected in the training data.\n              Learn more about missing value imputation: https://aka.ms/AutomatedMLFeaturization\n\n********************************************************************************************\n\nTYPE:         High cardinality feature detection\nSTATUS:       PASSED\nDESCRIPTION:  Your inputs were analyzed, and no high cardinality features were detected.\n              Learn more about high cardinality feature handling: https://aka.ms/AutomatedMLFeaturization\n\n********************************************************************************************\n\n********************************************************************************************\nITER: The iteration being evaluated.\nPIPELINE: A summary description of the pipeline being evaluated.\nDURATION: Time taken for the current iteration.\nMETRIC: The result of computing score on the fitted pipeline.\nBEST: The best observed score thus far.\n********************************************************************************************\n\n ITER   PIPELINE                                       DURATION            METRIC      BEST\n    0   MaxAbsScaler LightGBM                          0:00:12             0.8080    0.8080\n    1   MaxAbsScaler ExtremeRandomTrees                0:00:13             0.8170    0.8170\n    2   StandardScalerWrapper KNN                      0:00:13             0.5938    0.8170\n    3   MaxAbsScaler LightGBM                          0:00:13             0.8438    0.8438\n    4   RobustScaler LogisticRegression                0:00:11             0.7812    0.8438\n    5   MaxAbsScaler LightGBM                          0:00:10             0.8259    0.8438\n    6   StandardScalerWrapper KNN                      0:00:11             0.5893    0.8438\n    7   StandardScalerWrapper SVM                      0:00:11             0.7812    0.8438\n    8   MinMaxScaler RandomForest                      0:00:14             0.8304    0.8438\n    9   StandardScalerWrapper LogisticRegression       0:00:12             0.7545    0.8438\n   10   StandardScalerWrapper KNN                      0:00:12             0.6830    0.8438\n   11   RobustScaler KNN                               0:00:11             0.6920    0.8438\n   12   MinMaxScaler KNN                               0:00:10             0.6830    0.8438\n   13   SparseNormalizer KNN                           0:00:10             0.7143    0.8438\n   14   MaxAbsScaler LogisticRegression                0:00:11             0.8170    0.8438\n   15   SparseNormalizer LightGBM                      0:00:11             0.8393    0.8438\n   16   MaxAbsScaler LogisticRegression                0:00:12             0.7991    0.8438\n   17   MaxAbsScaler SGD                               0:00:16             0.7411    0.8438\n   18   SparseNormalizer RandomForest                  0:00:13             0.7991    0.8438\n   19   StandardScalerWrapper LogisticRegression       0:00:12             0.8214    0.8438\n   20   StandardScalerWrapper RandomForest             0:00:31             0.7902    0.8438\n   21   TruncatedSVDWrapper RandomForest               0:00:28             0.7768    0.8438\n   22   StandardScalerWrapper LogisticRegression       0:00:28             0.7946    0.8438\n   23   StandardScalerWrapper RandomForest             0:00:28             0.8348    0.8438\n   24   RobustScaler RandomForest                      0:00:27             0.8259    0.8438\n   25   StandardScalerWrapper LightGBM                 0:00:30             0.8348    0.8438\n   26   MaxAbsScaler ExtremeRandomTrees                0:00:32             0.8393    0.8438\n   27   RobustScaler RandomForest                      0:00:27             0.8036    0.8438\n   28   MinMaxScaler LightGBM                          0:00:28             0.7946    0.8438\n   29   StandardScalerWrapper LightGBM                 0:00:31             0.8393    0.8438\n   30   TruncatedSVDWrapper LightGBM                   0:00:31             0.7723    0.8438\n   31   MinMaxScaler LogisticRegression                0:00:26             0.8348    0.8438\n   32   RobustScaler LightGBM                          0:00:29             0.8304    0.8438\n   33   SparseNormalizer LightGBM                      0:00:30             0.8348    0.8438\n   34   StandardScalerWrapper LightGBM                 0:01:48             0.8125    0.8438\n   35   RobustScaler LightGBM                          0:01:31             0.7723    0.8438\n   36   StandardScalerWrapper LightGBM                 0:01:33             0.8214    0.8438\n   37   RobustScaler LightGBM                          0:01:49             0.8125    0.8438\n   38   StandardScalerWrapper LightGBM                 0:00:27             0.8259    0.8438\n   39   MaxAbsScaler RandomForest                      0:00:31             0.8393    0.8438\n   40   StandardScalerWrapper LightGBM                 0:00:27             0.7946    0.8438\n   41   StandardScalerWrapper LightGBM                 0:00:17                nan    0.8438\n   42                                                  0:00:12                nan    0.8438\n   43                                                  0:00:12                nan    0.8438\n   44                                                  0:00:09                nan    0.8438\n   45                                                  0:00:09                nan    0.8438\n   46                                                  0:00:09                nan    0.8438\n   47                                                  0:00:09                nan    0.8438\n   48    VotingEnsemble                                0:01:14             0.8705    0.8705\n   49    StackEnsemble                                 0:01:12             0.8214    0.8705\n"
        },
        {
          "output_type": "execute_result",
          "execution_count": 45,
          "data": {
            "text/plain": "{'runId': 'AutoML_800ba8b7-cebe-4b50-a30c-0dc610a8f722',\n 'target': 'cluster-bank-marketing-1',\n 'status': 'Completed',\n 'startTimeUtc': '2023-05-28T17:41:49.190839Z',\n 'endTimeUtc': '2023-05-28T17:55:24.680554Z',\n 'services': {},\n 'warnings': [{'source': 'JasmineService',\n   'message': 'No scores improved over last 10 iterations, so experiment stopped early. This early stopping behavior can be disabled by setting enable_early_stopping = False in AutoMLConfig for notebook/python SDK runs.'}],\n 'properties': {'num_iterations': '1000',\n  'training_type': 'TrainFull',\n  'acquisition_function': 'EI',\n  'primary_metric': 'accuracy',\n  'train_split': '0',\n  'acquisition_parameter': '0',\n  'num_cross_validation': '2',\n  'target': 'cluster-bank-marketing-1',\n  'AMLSettingsJsonString': '{\"path\":null,\"name\":\"automl_run\",\"subscription_id\":\"99149dbb-f505-4eb9-901a-c82ba247986c\",\"resource_group\":\"hei-aep-vn001-d-we-rg-mlsa-01\",\"workspace_name\":\"hei-aep-vn001-d-we-ml-mlsa-01\",\"region\":\"westeurope\",\"compute_target\":\"cluster-bank-marketing-1\",\"spark_service\":null,\"azure_service\":\"remote\",\"many_models\":false,\"pipeline_fetch_max_batch_size\":1,\"enable_batch_run\":true,\"enable_run_restructure\":false,\"start_auxiliary_runs_before_parent_complete\":false,\"enable_code_generation\":true,\"iterations\":1000,\"primary_metric\":\"accuracy\",\"task_type\":\"classification\",\"positive_label\":null,\"data_script\":null,\"test_size\":0.0,\"test_include_predictions_only\":false,\"validation_size\":0.0,\"n_cross_validations\":2,\"y_min\":null,\"y_max\":null,\"num_classes\":null,\"featurization\":\"auto\",\"_ignore_package_version_incompatibilities\":false,\"is_timeseries\":false,\"max_cores_per_iteration\":1,\"max_concurrent_iterations\":10,\"iteration_timeout_minutes\":null,\"mem_in_mb\":null,\"enforce_time_on_windows\":false,\"experiment_timeout_minutes\":45,\"experiment_exit_score\":null,\"partition_column_names\":null,\"whitelist_models\":null,\"blacklist_algos\":[\"XGBoostClassifier\",\"TensorFlowLinearClassifier\",\"TensorFlowDNN\"],\"supported_models\":[\"SGD\",\"BernoulliNaiveBayes\",\"RandomForest\",\"LogisticRegression\",\"XGBoostClassifier\",\"GradientBoosting\",\"TensorFlowLinearClassifier\",\"TabnetClassifier\",\"AveragedPerceptronClassifier\",\"SVM\",\"LinearSVM\",\"MultinomialNaiveBayes\",\"TensorFlowDNN\",\"ExtremeRandomTrees\",\"LightGBM\",\"DecisionTree\",\"KNN\"],\"private_models\":[],\"auto_blacklist\":true,\"blacklist_samples_reached\":false,\"exclude_nan_labels\":true,\"verbosity\":20,\"_debug_log\":\"azureml_automl.log\",\"show_warnings\":false,\"model_explainability\":true,\"service_url\":null,\"sdk_url\":null,\"sdk_packages\":null,\"enable_onnx_compatible_models\":false,\"enable_split_onnx_featurizer_estimator_models\":false,\"vm_type\":\"STANDARD_D2_V2\",\"telemetry_verbosity\":20,\"send_telemetry\":true,\"enable_dnn\":false,\"scenario\":\"AutoML\",\"environment_label\":null,\"save_mlflow\":false,\"enable_categorical_indicators\":false,\"force_text_dnn\":false,\"enable_feature_sweeping\":true,\"enable_early_stopping\":true,\"early_stopping_n_iters\":10,\"arguments\":null,\"dataset_id\":\"4aff88f5-abcd-48b6-8856-335034192f5c\",\"hyperdrive_config\":null,\"validation_dataset_id\":null,\"run_source\":null,\"metrics\":null,\"enable_metric_confidence\":false,\"enable_ensembling\":true,\"enable_stack_ensembling\":true,\"ensemble_iterations\":15,\"enable_tf\":false,\"enable_subsampling\":null,\"subsample_seed\":null,\"enable_nimbusml\":false,\"enable_streaming\":false,\"force_streaming\":false,\"track_child_runs\":true,\"allowed_private_models\":[],\"label_column_name\":\"DEATH_EVENT\",\"weight_column_name\":null,\"cv_split_column_names\":null,\"enable_local_managed\":false,\"_local_managed_run_id\":null,\"cost_mode\":1,\"lag_length\":0,\"metric_operation\":\"maximize\",\"preprocess\":true}',\n  'DataPrepJsonString': '{\\\\\"training_data\\\\\": {\\\\\"datasetId\\\\\": \\\\\"4aff88f5-abcd-48b6-8856-335034192f5c\\\\\"}, \\\\\"datasets\\\\\": 0}',\n  'EnableSubsampling': None,\n  'runTemplate': 'AutoML',\n  'azureml.runsource': 'automl',\n  'display_task_type': 'classification',\n  'dependencies_versions': '{\"azureml-widgets\": \"1.44.0\", \"azureml-training-tabular\": \"1.44.0\", \"azureml-train\": \"1.44.0\", \"azureml-train-restclients-hyperdrive\": \"1.44.0\", \"azureml-train-core\": \"1.44.0\", \"azureml-train-automl\": \"1.44.0\", \"azureml-train-automl-runtime\": \"1.44.0\", \"azureml-train-automl-client\": \"1.44.0\", \"azureml-tensorboard\": \"1.44.0\", \"azureml-telemetry\": \"1.44.0\", \"azureml-sdk\": \"1.44.0\", \"azureml-samples\": \"0+unknown\", \"azureml-responsibleai\": \"1.44.0\", \"azureml-pipeline\": \"1.44.0\", \"azureml-pipeline-steps\": \"1.44.0\", \"azureml-pipeline-core\": \"1.44.0\", \"azureml-opendatasets\": \"1.44.0\", \"azureml-mlflow\": \"1.44.0\", \"azureml-interpret\": \"1.44.0\", \"azureml-inference-server-http\": \"0.7.4\", \"azureml-explain-model\": \"1.44.0\", \"azureml-defaults\": \"1.44.0\", \"azureml-dataset-runtime\": \"1.44.0\", \"azureml-dataprep\": \"4.2.2\", \"azureml-dataprep-rslex\": \"2.8.1\", \"azureml-dataprep-native\": \"38.0.0\", \"azureml-datadrift\": \"1.44.0\", \"azureml-core\": \"1.44.0\", \"azureml-contrib-services\": \"1.44.0\", \"azureml-contrib-server\": \"1.44.0\", \"azureml-contrib-reinforcementlearning\": \"1.44.0\", \"azureml-contrib-pipeline-steps\": \"1.44.0\", \"azureml-contrib-notebook\": \"1.44.0\", \"azureml-contrib-fairness\": \"1.44.0\", \"azureml-contrib-dataset\": \"1.44.0\", \"azureml-contrib-automl-pipeline-steps\": \"1.44.0\", \"azureml-cli-common\": \"1.44.0\", \"azureml-automl-runtime\": \"1.44.0\", \"azureml-automl-dnn-nlp\": \"1.44.0\", \"azureml-automl-core\": \"1.44.0\", \"azureml-accel-models\": \"1.44.0\"}',\n  '_aml_system_scenario_identification': 'Remote.Parent',\n  'ClientType': 'SDK',\n  'PlatformVersion': 'DPV1',\n  'environment_cpu_name': 'AzureML-AutoML',\n  'environment_cpu_label': 'nimbus-deprecation',\n  'environment_gpu_name': 'AzureML-AutoML-GPU',\n  'environment_gpu_label': 'prod',\n  'root_attribution': 'automl',\n  'attribution': 'AutoML',\n  'Orchestrator': 'AutoML',\n  'CancelUri': 'https://westeurope.api.azureml.ms/jasmine/v1.0/subscriptions/99149dbb-f505-4eb9-901a-c82ba247986c/resourceGroups/hei-aep-vn001-d-we-rg-mlsa-01/providers/Microsoft.MachineLearningServices/workspaces/hei-aep-vn001-d-we-ml-mlsa-01/experimentids/867af478-7d9e-464e-9057-baeeefe10b53/cancel/AutoML_800ba8b7-cebe-4b50-a30c-0dc610a8f722',\n  'ClientSdkVersion': '1.48.0.post2',\n  'snapshotId': '00000000-0000-0000-0000-000000000000',\n  'SetupRunId': 'AutoML_800ba8b7-cebe-4b50-a30c-0dc610a8f722_setup',\n  'SetupRunContainerId': 'dcid.AutoML_800ba8b7-cebe-4b50-a30c-0dc610a8f722_setup',\n  'FeaturizationRunJsonPath': 'featurizer_container.json',\n  'FeaturizationRunId': 'AutoML_800ba8b7-cebe-4b50-a30c-0dc610a8f722_featurize',\n  'ProblemInfoJsonString': '{\"dataset_num_categorical\": 0, \"is_sparse\": false, \"subsampling\": false, \"has_extra_col\": true, \"dataset_classes\": 2, \"dataset_features\": 12, \"dataset_samples\": 224, \"single_frequency_class_detected\": false}',\n  'ModelExplainRunId': 'AutoML_800ba8b7-cebe-4b50-a30c-0dc610a8f722_ModelExplain'},\n 'inputDatasets': [{'dataset': {'id': '4aff88f5-abcd-48b6-8856-335034192f5c'}, 'consumptionDetails': {'type': 'RunInput', 'inputName': 'training_data', 'mechanism': 'Direct'}}],\n 'outputDatasets': [{'identifier': {'savedId': 'ac232e54-b994-45ef-b888-c532b3a086e8'},\n   'outputType': 'RunOutput',\n   'outputDetails': {'outputName': 'full_training_dataset'},\n   'dataset': {\n     \"source\": [\n       \"('workspaceartifactstore', 'ExperimentRun/dcid.AutoML_800ba8b7-cebe-4b50-a30c-0dc610a8f722/outputs/featurization/data/full_training_dataset.df.parquet')\"\n     ],\n     \"definition\": [\n       \"GetDatastoreFiles\",\n       \"ReadParquetFile\",\n       \"DropColumns\"\n     ],\n     \"registration\": {\n       \"id\": \"ac232e54-b994-45ef-b888-c532b3a086e8\",\n       \"name\": null,\n       \"version\": null,\n       \"workspace\": \"Workspace.create(name='hei-aep-vn001-d-we-ml-mlsa-01', subscription_id='99149dbb-f505-4eb9-901a-c82ba247986c', resource_group='hei-aep-vn001-d-we-rg-mlsa-01')\"\n     }\n   }}],\n 'logFiles': {},\n 'submittedBy': 'Tran Quang Thang'}"
          },
          "metadata": {}
        }
      ],
      "execution_count": 45,
      "metadata": {
        "gather": {
          "logged": 1685296706410
        },
        "jupyter": {
          "outputs_hidden": false,
          "source_hidden": false
        },
        "nteract": {
          "transient": {
            "deleting": false
          }
        }
      }
    },
    {
      "cell_type": "markdown",
      "source": [
        "## Best Model\n",
        "\n",
        "TODO: In the cell below, get the best model from the automl experiments and display all the properties of the model.\n",
        "\n"
      ],
      "metadata": {}
    },
    {
      "cell_type": "code",
      "source": [
        "# Retrieve and save your best automl model.\n",
        "best_remote_run,best_automl_model=remote_run.get_output()\n",
        "best_run_metrics=remote_run.get_metrics()\n",
        "for primary_metric in best_run_metrics:\n",
        "    metric=best_run_metrics[primary_metric]\n",
        "    print(primary_metric,metric)"
      ],
      "outputs": [
        {
          "output_type": "stream",
          "name": "stderr",
          "text": "WARNING:root:The version of the SDK does not match the version the model was trained on.\nWARNING:root:The consistency in the result may not be guaranteed.\nWARNING:root:Package:azureml-automl-core, training version:1.48.0, current version:1.44.0\nPackage:azureml-automl-runtime, training version:1.48.0.post2, current version:1.44.0\nPackage:azureml-core, training version:1.48.0, current version:1.44.0\nPackage:azureml-dataprep, training version:4.8.6, current version:4.2.2\nPackage:azureml-dataprep-rslex, training version:2.15.2, current version:2.8.1\nPackage:azureml-dataset-runtime, training version:1.48.0, current version:1.44.0\nPackage:azureml-defaults, training version:1.48.0, current version:1.44.0\nPackage:azureml-interpret, training version:1.48.0, current version:1.44.0\nPackage:azureml-mlflow, training version:1.48.0, current version:1.44.0\nPackage:azureml-pipeline-core, training version:1.48.0, current version:1.44.0\nPackage:azureml-responsibleai, training version:1.48.0, current version:1.44.0\nPackage:azureml-telemetry, training version:1.48.0, current version:1.44.0\nPackage:azureml-train-automl-client, training version:1.48.0, current version:1.44.0\nPackage:azureml-train-automl-runtime, training version:1.48.0.post2, current version:1.44.0\nPackage:azureml-train-core, training version:1.48.0, current version:1.44.0\nPackage:azureml-train-restclients-hyperdrive, training version:1.48.0, current version:1.44.0\nPackage:azureml-training-tabular, training version:1.48.0, current version:1.44.0\nWARNING:root:Please ensure the version of your local conda dependencies match the version on which your model was trained in order to properly retrieve your model.\n"
        },
        {
          "output_type": "stream",
          "name": "stdout",
          "text": "experiment_status ['DatasetEvaluation', 'FeaturesGeneration', 'DatasetFeaturization', 'DatasetFeaturizationCompleted', 'DatasetCrossValidationSplit', 'ModelSelection']\nexperiment_status_description ['Gathering dataset statistics.', 'Generating features for the dataset.', 'Beginning to fit featurizers and featurize the dataset.', 'Completed fit featurizers and featurizing the dataset.', 'Generating individually featurized CV splits.', 'Beginning model selection.']\nAUC_micro 0.9109933035714286\nf1_score_weighted 0.8673750557662405\naccuracy 0.8705357142857143\nprecision_score_macro 0.8677399800313793\naverage_precision_score_micro 0.9098893962247427\nrecall_score_micro 0.8705357142857143\nprecision_score_weighted 0.8788235196731666\nAUC_weighted 0.911885229714358\nf1_score_micro 0.8705357142857143\naverage_precision_score_weighted 0.916531340910196\nmatthews_correlation 0.7169061546508154\nf1_score_macro 0.850684206298937\nbalanced_accuracy 0.8507946789686552\nlog_loss 0.40562709629316196\nnorm_macro_recall 0.7015893579373105\nweighted_accuracy 0.8881185116594502\nrecall_score_weighted 0.8705357142857143\nrecall_score_macro 0.8507946789686552\nAUC_macro 0.911885229714358\nprecision_score_micro 0.8705357142857143\naverage_precision_score_macro 0.8992592645134094\n"
        }
      ],
      "execution_count": 46,
      "metadata": {
        "gather": {
          "logged": 1685296709700
        },
        "jupyter": {
          "outputs_hidden": false,
          "source_hidden": false
        },
        "nteract": {
          "transient": {
            "deleting": false
          }
        }
      }
    },
    {
      "cell_type": "code",
      "source": [
        "#TODO: Save the best model\n",
        "print(best_remote_run)\n",
        "best_remote_run"
      ],
      "outputs": [
        {
          "output_type": "stream",
          "name": "stdout",
          "text": "Run(Experiment: automl_run,\nId: AutoML_800ba8b7-cebe-4b50-a30c-0dc610a8f722_48,\nType: azureml.scriptrun,\nStatus: Completed)\n"
        },
        {
          "output_type": "execute_result",
          "execution_count": 47,
          "data": {
            "text/plain": "Run(Experiment: automl_run,\nId: AutoML_800ba8b7-cebe-4b50-a30c-0dc610a8f722_48,\nType: azureml.scriptrun,\nStatus: Completed)",
            "text/html": "<table style=\"width:100%\"><tr><th>Experiment</th><th>Id</th><th>Type</th><th>Status</th><th>Details Page</th><th>Docs Page</th></tr><tr><td>automl_run</td><td>AutoML_800ba8b7-cebe-4b50-a30c-0dc610a8f722_48</td><td>azureml.scriptrun</td><td>Completed</td><td><a href=\"https://ml.azure.com/runs/AutoML_800ba8b7-cebe-4b50-a30c-0dc610a8f722_48?wsid=/subscriptions/99149dbb-f505-4eb9-901a-c82ba247986c/resourcegroups/hei-aep-vn001-d-we-rg-mlsa-01/workspaces/hei-aep-vn001-d-we-ml-mlsa-01&amp;tid=66e853de-ece3-44dd-9d66-ee6bdf4159d4\" target=\"_blank\" rel=\"noopener\">Link to Azure Machine Learning studio</a></td><td><a href=\"https://docs.microsoft.com/en-us/python/api/azureml-core/azureml.core.run.Run?view=azure-ml-py\" target=\"_blank\" rel=\"noopener\">Link to Documentation</a></td></tr></table>"
          },
          "metadata": {}
        }
      ],
      "execution_count": 47,
      "metadata": {
        "gather": {
          "logged": 1685296710588
        },
        "jupyter": {
          "outputs_hidden": false,
          "source_hidden": false
        },
        "nteract": {
          "transient": {
            "deleting": false
          }
        }
      }
    },
    {
      "cell_type": "code",
      "source": [
        "#TODO: Save the best model\n",
        "import pickle\n",
        "best_remote_run,best_automl_model=remote_run.get_output()\n",
        "#joblib.dump(value=best_automl_model,filename='automl_model.joblib')\n",
        "pkl_filename = \"automl_model.pkl\"\n",
        "with open(pkl_filename,'wb') as f:\n",
        "    pickle.dump(best_automl_model,f)"
      ],
      "outputs": [
        {
          "output_type": "stream",
          "name": "stderr",
          "text": "WARNING:root:The version of the SDK does not match the version the model was trained on.\nWARNING:root:The consistency in the result may not be guaranteed.\nWARNING:root:Package:azureml-automl-core, training version:1.48.0, current version:1.44.0\nPackage:azureml-automl-runtime, training version:1.48.0.post2, current version:1.44.0\nPackage:azureml-core, training version:1.48.0, current version:1.44.0\nPackage:azureml-dataprep, training version:4.8.6, current version:4.2.2\nPackage:azureml-dataprep-rslex, training version:2.15.2, current version:2.8.1\nPackage:azureml-dataset-runtime, training version:1.48.0, current version:1.44.0\nPackage:azureml-defaults, training version:1.48.0, current version:1.44.0\nPackage:azureml-interpret, training version:1.48.0, current version:1.44.0\nPackage:azureml-mlflow, training version:1.48.0, current version:1.44.0\nPackage:azureml-pipeline-core, training version:1.48.0, current version:1.44.0\nPackage:azureml-responsibleai, training version:1.48.0, current version:1.44.0\nPackage:azureml-telemetry, training version:1.48.0, current version:1.44.0\nPackage:azureml-train-automl-client, training version:1.48.0, current version:1.44.0\nPackage:azureml-train-automl-runtime, training version:1.48.0.post2, current version:1.44.0\nPackage:azureml-train-core, training version:1.48.0, current version:1.44.0\nPackage:azureml-train-restclients-hyperdrive, training version:1.48.0, current version:1.44.0\nPackage:azureml-training-tabular, training version:1.48.0, current version:1.44.0\nWARNING:root:Please ensure the version of your local conda dependencies match the version on which your model was trained in order to properly retrieve your model.\n"
        }
      ],
      "execution_count": 48,
      "metadata": {
        "collapsed": true,
        "gather": {
          "logged": 1685296710949
        },
        "jupyter": {
          "outputs_hidden": false,
          "source_hidden": false
        },
        "nteract": {
          "transient": {
            "deleting": false
          }
        }
      }
    },
    {
      "cell_type": "markdown",
      "source": [
        "## Model Deployment\n",
        "\n",
        "Remember you have to deploy only one of the two models you trained.. Perform the steps in the rest of this notebook only if you wish to deploy this model.\n",
        "\n",
        "TODO: In the cell below, register the model, create an inference config and deploy the model as a web service."
      ],
      "metadata": {}
    },
    {
      "cell_type": "code",
      "source": [
        "from azureml.core.model import Model\n",
        "# Register model\n",
        "model = Model.register(workspace = ws,\n",
        "                        model_name = \"Heart_failure_prediction\",\n",
        "                        model_path = \"./automl_model.pkl\",\n",
        "                        description = \"Best AutoML Model\",)"
      ],
      "outputs": [
        {
          "output_type": "stream",
          "name": "stdout",
          "text": "Registering model Heart_failure_prediction\n"
        }
      ],
      "execution_count": 49,
      "metadata": {
        "gather": {
          "logged": 1685296712149
        },
        "jupyter": {
          "outputs_hidden": false,
          "source_hidden": false
        },
        "nteract": {
          "transient": {
            "deleting": false
          }
        }
      }
    },
    {
      "cell_type": "markdown",
      "source": [
        "TODO: In the cell below, send a request to the web service you deployed to test it."
      ],
      "metadata": {
        "collapsed": true,
        "gather": {
          "logged": 1598431657736
        },
        "jupyter": {
          "outputs_hidden": false,
          "source_hidden": false
        },
        "nteract": {
          "transient": {
            "deleting": false
          }
        }
      }
    },
    {
      "cell_type": "code",
      "source": [
        "%%writefile amlscore.py\n",
        "import json\n",
        "import numpy as np\n",
        "import os\n",
        "import pickle\n",
        "import joblib\n",
        "import pandas as pd\n",
        "from azureml.core.model import Model\n",
        "\n",
        "def init():\n",
        "    global model\n",
        "    model_path = Model.get_model_path(\"automl\")\n",
        "    model = joblib.load(model_path)\n",
        "\n",
        "def run(raw_data):\n",
        "    try:\n",
        "        data = json.loads(raw_data)['data']\n",
        "        data = pd.DataFrame.from_dict(data)\n",
        "        # make prediction\n",
        "        result = model.predict(data)\n",
        "        return result.tolist()\n",
        "    except Exception as ex:\n",
        "        error = str(ex)\n",
        "        return error\n"
      ],
      "outputs": [
        {
          "output_type": "stream",
          "name": "stdout",
          "text": "Overwriting amlscore.py\n"
        }
      ],
      "execution_count": 50,
      "metadata": {
        "collapsed": true,
        "jupyter": {
          "outputs_hidden": false,
          "source_hidden": false
        },
        "nteract": {
          "transient": {
            "deleting": false
          }
        }
      }
    },
    {
      "cell_type": "code",
      "source": [
        "best_run_metrics"
      ],
      "outputs": [
        {
          "output_type": "execute_result",
          "execution_count": 51,
          "data": {
            "text/plain": "{'experiment_status': ['DatasetEvaluation',\n  'FeaturesGeneration',\n  'DatasetFeaturization',\n  'DatasetFeaturizationCompleted',\n  'DatasetCrossValidationSplit',\n  'ModelSelection'],\n 'experiment_status_description': ['Gathering dataset statistics.',\n  'Generating features for the dataset.',\n  'Beginning to fit featurizers and featurize the dataset.',\n  'Completed fit featurizers and featurizing the dataset.',\n  'Generating individually featurized CV splits.',\n  'Beginning model selection.'],\n 'AUC_micro': 0.9109933035714286,\n 'f1_score_weighted': 0.8673750557662405,\n 'accuracy': 0.8705357142857143,\n 'precision_score_macro': 0.8677399800313793,\n 'average_precision_score_micro': 0.9098893962247427,\n 'recall_score_micro': 0.8705357142857143,\n 'precision_score_weighted': 0.8788235196731666,\n 'AUC_weighted': 0.911885229714358,\n 'f1_score_micro': 0.8705357142857143,\n 'average_precision_score_weighted': 0.916531340910196,\n 'matthews_correlation': 0.7169061546508154,\n 'f1_score_macro': 0.850684206298937,\n 'balanced_accuracy': 0.8507946789686552,\n 'log_loss': 0.40562709629316196,\n 'norm_macro_recall': 0.7015893579373105,\n 'weighted_accuracy': 0.8881185116594502,\n 'recall_score_weighted': 0.8705357142857143,\n 'recall_score_macro': 0.8507946789686552,\n 'AUC_macro': 0.911885229714358,\n 'precision_score_micro': 0.8705357142857143,\n 'average_precision_score_macro': 0.8992592645134094}"
          },
          "metadata": {}
        }
      ],
      "execution_count": 51,
      "metadata": {
        "collapsed": true,
        "gather": {
          "logged": 1685296712981
        },
        "jupyter": {
          "outputs_hidden": false,
          "source_hidden": false
        },
        "nteract": {
          "transient": {
            "deleting": false
          }
        }
      }
    },
    {
      "cell_type": "code",
      "source": [
        "from azureml.automl.core.shared import constants\n",
        "best_remote_run.download_file(constants.CONDA_ENV_FILE_PATH, 'azureml-automl.yml')"
      ],
      "outputs": [],
      "execution_count": 52,
      "metadata": {
        "collapsed": true,
        "gather": {
          "logged": 1685296713263
        },
        "jupyter": {
          "outputs_hidden": false,
          "source_hidden": false
        },
        "nteract": {
          "transient": {
            "deleting": false
          }
        }
      }
    },
    {
      "cell_type": "code",
      "source": [
        "# create inference_config\n",
        "from azureml.core.model import InferenceConfig\n",
        "from azureml.core.environment import Environment\n",
        "\n",
        "inference_config = InferenceConfig(entry_script=\"scoring.py\")"
      ],
      "outputs": [],
      "execution_count": 53,
      "metadata": {
        "collapsed": true,
        "gather": {
          "logged": 1685296713793
        },
        "jupyter": {
          "outputs_hidden": false,
          "source_hidden": false
        },
        "nteract": {
          "transient": {
            "deleting": false
          }
        }
      }
    },
    {
      "cell_type": "code",
      "source": [
        "from azureml.core.webservice import Webservice, AciWebservice\n",
        "deployment_config = AciWebservice.deploy_configuration(cpu_cores=1, memory_gb = 1)\n",
        "print(deployment_config)"
      ],
      "outputs": [
        {
          "output_type": "stream",
          "name": "stdout",
          "text": "<azureml.core.webservice.aci.AciServiceDeploymentConfiguration object at 0x7f44bd832880>\n"
        }
      ],
      "execution_count": 54,
      "metadata": {
        "collapsed": true,
        "gather": {
          "logged": 1685296714205
        },
        "jupyter": {
          "outputs_hidden": false,
          "source_hidden": false
        },
        "nteract": {
          "transient": {
            "deleting": false
          }
        }
      }
    },
    {
      "cell_type": "code",
      "source": [
        "best_remote_run, model = remote_run.get_output()\n",
        "best_remote_run_metrics = best_remote_run.get_metrics()\n",
        "\n",
        "print(model)\n",
        "print('Best Run Id: ', best_remote_run.id)\n",
        "print('\\n Accuracy:', best_remote_run_metrics['accuracy'])"
      ],
      "outputs": [
        {
          "output_type": "stream",
          "name": "stderr",
          "text": "WARNING:root:The version of the SDK does not match the version the model was trained on.\nWARNING:root:The consistency in the result may not be guaranteed.\nWARNING:root:Package:azureml-automl-core, training version:1.48.0, current version:1.44.0\nPackage:azureml-automl-runtime, training version:1.48.0.post2, current version:1.44.0\nPackage:azureml-core, training version:1.48.0, current version:1.44.0\nPackage:azureml-dataprep, training version:4.8.6, current version:4.2.2\nPackage:azureml-dataprep-rslex, training version:2.15.2, current version:2.8.1\nPackage:azureml-dataset-runtime, training version:1.48.0, current version:1.44.0\nPackage:azureml-defaults, training version:1.48.0, current version:1.44.0\nPackage:azureml-interpret, training version:1.48.0, current version:1.44.0\nPackage:azureml-mlflow, training version:1.48.0, current version:1.44.0\nPackage:azureml-pipeline-core, training version:1.48.0, current version:1.44.0\nPackage:azureml-responsibleai, training version:1.48.0, current version:1.44.0\nPackage:azureml-telemetry, training version:1.48.0, current version:1.44.0\nPackage:azureml-train-automl-client, training version:1.48.0, current version:1.44.0\nPackage:azureml-train-automl-runtime, training version:1.48.0.post2, current version:1.44.0\nPackage:azureml-train-core, training version:1.48.0, current version:1.44.0\nPackage:azureml-train-restclients-hyperdrive, training version:1.48.0, current version:1.44.0\nPackage:azureml-training-tabular, training version:1.48.0, current version:1.44.0\nWARNING:root:Please ensure the version of your local conda dependencies match the version on which your model was trained in order to properly retrieve your model.\n"
        },
        {
          "output_type": "stream",
          "name": "stdout",
          "text": "Pipeline(memory=None,\n         steps=[('datatransformer',\n                 DataTransformer(enable_dnn=False, enable_feature_sweeping=True, feature_sweeping_config={}, feature_sweeping_timeout=86400, featurization_config=None, force_text_dnn=False, is_cross_validation=True, is_onnx_compatible=False, observer=None, task='classification', working_dir='/mnt/batch/tasks/shared/LS_root/mount...\n                                                                            ('logisticregression',\n                                                                             LogisticRegression(C=51.79474679231202,\n                                                                                                class_weight=None,\n                                                                                                dual=False,\n                                                                                                fit_intercept=True,\n                                                                                                intercept_scaling=1,\n                                                                                                l1_ratio=None,\n                                                                                                max_iter=100,\n                                                                                                multi_class='ovr',\n                                                                                                n_jobs=1,\n                                                                                                penalty='l2',\n                                                                                                random_state=None,\n                                                                                                solver='lbfgs',\n                                                                                                tol=0.0001,\n                                                                                                verbose=0,\n                                                                                                warm_start=False))],\n                                                                     verbose=False))],\n                                               flatten_transform=None,\n                                               weights=[0.2, 0.2, 0.1, 0.1, 0.1,\n                                                        0.1, 0.1, 0.1]))],\n         verbose=False)\nBest Run Id:  AutoML_800ba8b7-cebe-4b50-a30c-0dc610a8f722_48\n\n Accuracy: 0.8705357142857143\n"
        }
      ],
      "execution_count": 55,
      "metadata": {
        "collapsed": true,
        "gather": {
          "logged": 1685296716051
        },
        "jupyter": {
          "outputs_hidden": false,
          "source_hidden": false
        },
        "nteract": {
          "transient": {
            "deleting": false
          }
        }
      }
    },
    {
      "cell_type": "code",
      "source": [
        "import joblib\n",
        "joblib.dump(model,'./automl_model.pkl')\n",
        "print(best_remote_run.get_tags())"
      ],
      "outputs": [
        {
          "output_type": "stream",
          "name": "stdout",
          "text": "{'_aml_system_azureml.automlComponent': 'AutoML', '_aml_system_ComputeTargetStatus': '{\"AllocationState\":\"steady\",\"PreparingNodeCount\":0,\"RunningNodeCount\":4,\"CurrentNodeCount\":4}', 'mlflow.source.type': 'JOB', 'mlflow.source.name': 'automl_driver.py', '_aml_system_codegen': 'completed', '_aml_system_automl_is_child_run_end_telemetry_event_logged': 'True'}\n"
        }
      ],
      "execution_count": 56,
      "metadata": {
        "collapsed": true,
        "gather": {
          "logged": 1685296716598
        },
        "jupyter": {
          "outputs_hidden": false,
          "source_hidden": false
        },
        "nteract": {
          "transient": {
            "deleting": false
          }
        }
      }
    },
    {
      "cell_type": "code",
      "source": [
        "from azureml.core.model import Model\n",
        "\n",
        "model = Model.register(workspace = ws,\n",
        "                        model_path =\"./automl_model.pkl\",\n",
        "                        model_name = \"automl\")"
      ],
      "outputs": [
        {
          "output_type": "stream",
          "name": "stdout",
          "text": "Registering model automl\n"
        }
      ],
      "execution_count": 57,
      "metadata": {
        "collapsed": true,
        "gather": {
          "logged": 1685296717453
        },
        "jupyter": {
          "outputs_hidden": false,
          "source_hidden": false
        },
        "nteract": {
          "transient": {
            "deleting": false
          }
        }
      }
    },
    {
      "cell_type": "code",
      "source": [
        "%%writefile amlscore.py\n",
        "import json\n",
        "import numpy as np\n",
        "import os\n",
        "import pickle\n",
        "import joblib\n",
        "import pandas as pd\n",
        "from azureml.core.model import Model\n",
        "\n",
        "def init():\n",
        "    global model\n",
        "    model_path = Model.get_model_path(\"automl\")\n",
        "    model = joblib.load(model_path)\n",
        "\n",
        "def run(raw_data):\n",
        "    try:\n",
        "        data = json.loads(raw_data)['data']\n",
        "        data = pd.DataFrame.from_dict(data)\n",
        "        # make prediction\n",
        "        result = model.predict(data)\n",
        "        return result.tolist()\n",
        "    except Exception as ex:\n",
        "        error = str(ex)\n",
        "        return error"
      ],
      "outputs": [
        {
          "output_type": "stream",
          "name": "stdout",
          "text": "Overwriting amlscore.py\n"
        }
      ],
      "execution_count": 58,
      "metadata": {
        "collapsed": true,
        "jupyter": {
          "outputs_hidden": false,
          "source_hidden": false
        },
        "nteract": {
          "transient": {
            "deleting": false
          }
        }
      }
    },
    {
      "cell_type": "code",
      "source": [
        "from azureml.core.environment import Environment\n",
        "from azureml.core.model import InferenceConfig\n",
        "from azureml.core.webservice import AciWebservice, Webservice\n",
        "from azureml.core.model import Model\n",
        "from azureml.automl.core.shared import constants\n",
        "from azureml.core.conda_dependencies import CondaDependencies\n",
        "\n",
        "best_remote_run.download_file(constants.CONDA_ENV_FILE_PATH, \"myenv.yml\")\n",
        "myenv = Environment.from_conda_specification(name=\"myenv\", file_path=\"myenv.yml\")\n",
        "\n",
        "inference_config = InferenceConfig(entry_script='amlscore.py', environment=myenv)\n",
        "\n",
        "aciconfig = AciWebservice.deploy_configuration(cpu_cores=1, memory_gb=1, description=\"heart-failure-model-final-one\")\n",
        "\n",
        "service = Model.deploy(ws, \"automl-final\", [model], inference_config, aciconfig)\n",
        "\n",
        "service.wait_for_deployment(True)"
      ],
      "outputs": [
        {
          "output_type": "stream",
          "name": "stdout",
          "text": "Tips: You can try get_logs(): https://aka.ms/debugimage#dockerlog or local deployment: https://aka.ms/debugimage#debug-locally to debug if deployment takes longer than 10 minutes.\nRunning\n2023-05-28 17:58:44+00:00 Creating Container Registry if not exists.\n2023-05-28 17:58:44+00:00 Registering the environment.\n2023-05-28 17:58:45+00:00 Use the existing image.\n2023-05-28 17:58:45+00:00 Generating deployment configuration.\n2023-05-28 17:58:46+00:00 Submitting deployment to compute.\n2023-05-28 17:58:53+00:00 Checking the status of deployment automl-final..\n2023-05-28 18:01:08+00:00 Checking the status of inference endpoint automl-final.\nSucceeded\nACI service creation operation finished, operation \"Succeeded\"\n"
        }
      ],
      "execution_count": 59,
      "metadata": {
        "collapsed": true,
        "gather": {
          "logged": 1685296868455
        },
        "jupyter": {
          "outputs_hidden": false,
          "source_hidden": false
        },
        "nteract": {
          "transient": {
            "deleting": false
          }
        }
      }
    },
    {
      "cell_type": "code",
      "source": [
        "print(service.get_logs())"
      ],
      "outputs": [
        {
          "output_type": "stream",
          "name": "stdout",
          "text": "/bin/bash: /azureml-envs/azureml_c9289db7d7cee531fa8170c6d853612d/lib/libtinfo.so.6: no version information available (required by /bin/bash)\n/bin/bash: /azureml-envs/azureml_c9289db7d7cee531fa8170c6d853612d/lib/libtinfo.so.6: no version information available (required by /bin/bash)\n/bin/bash: /azureml-envs/azureml_c9289db7d7cee531fa8170c6d853612d/lib/libtinfo.so.6: no version information available (required by /bin/bash)\n/bin/bash: /azureml-envs/azureml_c9289db7d7cee531fa8170c6d853612d/lib/libtinfo.so.6: no version information available (required by /bin/bash)\n2023-05-28T18:00:40,514562500+00:00 - rsyslog/run \n2023-05-28T18:00:40,514512200+00:00 - iot-server/run \nbash: /azureml-envs/azureml_c9289db7d7cee531fa8170c6d853612d/lib/libtinfo.so.6: no version information available (required by bash)\n2023-05-28T18:00:40,534078500+00:00 - gunicorn/run \n2023-05-28T18:00:40,540021800+00:00 | gunicorn/run | \n2023-05-28T18:00:40,541884500+00:00 | gunicorn/run | ###############################################\n2023-05-28T18:00:40,549380900+00:00 | gunicorn/run | AzureML Container Runtime Information\n2023-05-28T18:00:40,556828300+00:00 | gunicorn/run | ###############################################\n2023-05-28T18:00:40,557506100+00:00 - nginx/run \n2023-05-28T18:00:40,578739000+00:00 | gunicorn/run | \n2023-05-28T18:00:40,586440000+00:00 | gunicorn/run | \n2023-05-28T18:00:40,605569300+00:00 | gunicorn/run | AzureML image information: openmpi4.1.0-ubuntu20.04, Materializaton Build:20220708.v2\n2023-05-28T18:00:40,609475000+00:00 | gunicorn/run | \n2023-05-28T18:00:40,618322900+00:00 | gunicorn/run | \n2023-05-28T18:00:40,626714400+00:00 | gunicorn/run | PATH environment variable: /azureml-envs/azureml_c9289db7d7cee531fa8170c6d853612d/bin:/opt/miniconda/bin:/usr/local/sbin:/usr/local/bin:/usr/sbin:/usr/bin:/sbin:/bin\n2023-05-28T18:00:40,638471500+00:00 | gunicorn/run | PYTHONPATH environment variable: \n2023-05-28T18:00:40,642555300+00:00 | gunicorn/run | \n2023-05-28T18:00:40,650145100+00:00 | gunicorn/run | Pip Dependencies (before dynamic installation)\n\nEdgeHubConnectionString and IOTEDGE_IOTHUBHOSTNAME are not set. Exiting...\n/bin/bash: /azureml-envs/azureml_c9289db7d7cee531fa8170c6d853612d/lib/libtinfo.so.6: no version information available (required by /bin/bash)\n2023-05-28T18:00:41,170007400+00:00 - iot-server/finish 1 0\n2023-05-28T18:00:41,177342800+00:00 - Exit code 1 is normal. Not restarting iot-server.\nadal==1.2.7\napplicationinsights==0.11.10\nargcomplete==2.1.2\narviz @ file:///tmp/build/80754af9/arviz_1614019183254/work\nattrs==23.1.0\nazure-common==1.1.28\nazure-core==1.26.4\nazure-graphrbac==0.61.1\nazure-identity==1.13.0\nazure-mgmt-authorization==3.0.0\nazure-mgmt-containerregistry==10.1.0\nazure-mgmt-core==1.4.0\nazure-mgmt-keyvault==10.2.2\nazure-mgmt-resource==21.2.1\nazure-mgmt-storage==20.1.0\nazure-storage-blob==12.13.0\nazure-storage-queue==12.6.0\nazureml-automl-core==1.48.0\nazureml-automl-runtime==1.48.0.post2\nazureml-core==1.48.0\nazureml-dataprep==4.8.6\nazureml-dataprep-native==38.0.0\nazureml-dataprep-rslex==2.15.2\nazureml-dataset-runtime==1.48.0\nazureml-defaults==1.48.0\nazureml-inference-server-http==0.7.7\nazureml-interpret==1.48.0\nazureml-mlflow==1.48.0\nazureml-telemetry==1.48.0\nazureml-train-automl-client==1.48.0\nazureml-train-automl-runtime==1.48.0.post2\nazureml-train-core==1.48.0\nazureml-train-restclients-hyperdrive==1.48.0\nazureml-training-tabular==1.48.0\nbackports.tempfile==1.0\nbackports.weakref==1.0.post1\nbcrypt==4.0.1\nblinker==1.6.2\nbokeh==2.4.3\nboto==2.49.0\nboto3==1.20.19\nbotocore==1.23.19\ncachetools==5.3.1\ncertifi @ file:///croot/certifi_1671487769961/work/certifi\ncffi==1.15.1\ncftime @ file:///tmp/build/80754af9/cftime_1638357901230/work\ncharset-normalizer==3.1.0\nclick==8.1.3\ncloudpickle==2.2.1\ncontextlib2==21.6.0\ncontourpy @ file:///opt/conda/conda-bld/contourpy_1663827406301/work\nconvertdate @ file:///tmp/build/80754af9/convertdate_1634070773133/work\ncryptography==38.0.4\ncycler @ file:///tmp/build/80754af9/cycler_1637851556182/work\nCython==0.29.17\ndask==2021.6.0\ndatabricks-cli==0.17.7\ndataclasses==0.6\ndill==0.3.6\ndistributed==2021.6.0\ndistro==1.8.0\ndocker==6.1.2\ndotnetcore2==3.1.23\nentrypoints==0.4\nephem @ file:///tmp/build/80754af9/ephem_1638942191467/work\nfbprophet @ file:///home/conda/feedstock_root/build_artifacts/fbprophet_1599365532360/work\nfire==0.5.0\nFlask==2.3.2\nFlask-Cors==3.0.10\nflatbuffers==23.5.26\nflit_core @ file:///opt/conda/conda-bld/flit-core_1644941570762/work/source/flit_core\nfonttools==4.25.0\nfsspec==2023.5.0\nfusepy==3.0.1\ngensim==3.8.3\ngitdb==4.0.10\nGitPython==3.1.31\ngoogle-api-core==2.11.0\ngoogle-auth==2.19.0\ngoogleapis-common-protos==1.59.0\ngunicorn==20.1.0\nholidays @ file:///home/conda/feedstock_root/build_artifacts/holidays_1595448845196/work\nhumanfriendly==10.0\nidna==3.4\nimportlib-metadata==5.2.0\nimportlib-resources==5.12.0\ninference-schema==1.5.1\ninterpret-community==0.27.0\ninterpret-core==0.2.7\nisodate==0.6.1\nitsdangerous==2.1.2\njeepney==0.8.0\nJinja2==3.1.2\njmespath==0.10.0\njoblib==0.14.1\njsonpickle==2.2.0\njsonschema==4.17.3\nkeras2onnx==1.6.0\nkiwisolver @ file:///croot/kiwisolver_1672387140495/work\nknack==0.10.1\nkorean-lunar-calendar @ file:///tmp/build/80754af9/korean_lunar_calendar_1634063020401/work\nlightgbm==3.2.1\nllvmlite==0.38.1\nlocket==1.0.0\nLunarCalendar @ file:///tmp/build/80754af9/lunarcalendar_1646383991234/work\nMarkupSafe==2.1.2\nmatplotlib @ file:///croot/matplotlib-suite_1670466153205/work\nml-wrappers==0.2.2\nmlflow-skinny==1.30.0\nmsal==1.22.0\nmsal-extensions==1.0.0\nmsgpack==1.0.5\nmsrest==0.7.1\nmsrestazure==0.6.4\nmunkres==1.1.4\nndg-httpsclient==0.5.1\nnetCDF4 @ file:///croot/netcdf4_1673455456943/work\nnimbusml==1.8.0\nnumba==0.55.2\nnumpy @ file:///home/conda/feedstock_root/build_artifacts/numpy_1649806303867/work\noauthlib==3.2.2\nonnx==1.12.0\nonnxconverter-common==1.6.0\nonnxmltools==1.4.1\nonnxruntime==1.11.1\nopencensus==0.11.2\nopencensus-context==0.1.3\nopencensus-ext-azure==1.1.9\npackaging==21.3\npandas==1.1.5\nparamiko==2.12.0\npartd==1.4.0\npathspec==0.11.1\npatsy==0.5.3\nPillow==9.3.0\npkginfo==1.9.6\npkgutil_resolve_name==1.3.10\npmdarima==1.7.1\nportalocker==2.7.0\nprotobuf==3.19.6\npsutil @ file:///home/conda/feedstock_root/build_artifacts/psutil_1667885878918/work\npyarrow==9.0.0\npyasn1==0.5.0\npyasn1-modules==0.3.0\npycparser==2.21\nPygments==2.15.1\nPyJWT==2.7.0\nPyMeeus @ file:///tmp/build/80754af9/pymeeus_1634069098549/work\nPyNaCl==1.5.0\npyOpenSSL==22.1.0\npyparsing @ file:///opt/conda/conda-bld/pyparsing_1661452539315/work\npyrsistent==0.19.3\nPySocks==1.7.1\npystan @ file:///tmp/build/80754af9/pystan_1613565232294/work\npython-dateutil @ file:///tmp/build/80754af9/python-dateutil_1626374649649/work\npytz @ file:///croot/pytz_1671697431263/work\nPyYAML==6.0\nrequests==2.31.0\nrequests-oauthlib==1.3.1\nrsa==4.9\ns3transfer==0.5.2\nscikit-learn==0.22.1\nscipy==1.5.3\nSecretStorage==3.3.3\nshap==0.39.0\nsix @ file:///tmp/build/80754af9/six_1644875935023/work\nskl2onnx==1.4.9\nsklearn-pandas==1.7.0\nslicer==0.0.7\nsmart-open==1.9.0\nsmmap==5.0.0\nsortedcontainers==2.4.0\nsqlparse==0.4.4\nstatsmodels==0.11.1\ntabulate==0.9.0\ntblib==1.7.0\ntermcolor==2.3.0\ntoolz==0.12.0\ntornado==6.3.2\ntqdm @ file:///opt/conda/conda-bld/tqdm_1664392687731/work\ntyping_extensions @ file:///croot/typing_extensions_1669924550328/work\nurllib3==1.26.16\nwebsocket-client==1.5.2\nWerkzeug==2.3.4\nwrapt==1.12.1\nxarray @ file:///opt/conda/conda-bld/xarray_1639166117697/work\nxgboost==1.3.3\nzict==3.0.0\nzipp==3.15.0\n\n2023-05-28T18:00:43,091038600+00:00 | gunicorn/run | \n2023-05-28T18:00:43,096070700+00:00 | gunicorn/run | ###############################################\n2023-05-28T18:00:43,097979300+00:00 | gunicorn/run | AzureML Inference Server\n2023-05-28T18:00:43,104537000+00:00 | gunicorn/run | ###############################################\n2023-05-28T18:00:43,106684200+00:00 | gunicorn/run | \n2023-05-28T18:00:47,150006152+00:00 | gunicorn/run | Starting AzureML Inference Server HTTP.\n\nAzure ML Inferencing HTTP server v0.7.7\n\n\nServer Settings\n---------------\nEntry Script Name: /var/azureml-app/amlscore.py\nModel Directory: /var/azureml-app/azureml-models/automl/2\nWorker Count: 1\nWorker Timeout (seconds): 300\nServer Port: 31311\nApplication Insights Enabled: false\nApplication Insights Key: None\nInferencing HTTP server version: azmlinfsrv/0.7.7\nCORS for the specified origins: None\n\n\nServer Routes\n---------------\nLiveness Probe: GET   127.0.0.1:31311/\nScore:          POST  127.0.0.1:31311/score\n\nStarting gunicorn 20.1.0\nListening at: http://0.0.0.0:31311 (77)\nUsing worker: sync\nBooting worker with pid: 140\nInitializing logger\n2023-05-28 18:00:49,069 | root | INFO | Starting up app insights client\nlogging socket was found. logging is available.\nlogging socket was found. logging is available.\n2023-05-28 18:00:49,072 | root | INFO | Starting up app insight hooks\n2023-05-28 18:00:54,046 | root | INFO | Found user script at /var/azureml-app/amlscore.py\n2023-05-28 18:00:54,047 | root | INFO | run() is not decorated. Server will invoke it with the input in JSON string.\n2023-05-28 18:00:54,047 | root | INFO | Invoking user's init function\ngenerated new fontManager\nImporting plotly failed. Interactive plots will not work.\n2023-05-28 18:01:04,350 | root | INFO | Users's init has completed successfully\n2023-05-28 18:01:04,353 | root | INFO | Swaggers are prepared for the following versions: [2, 3].\n2023-05-28 18:01:04,354 | root | INFO | Scoring timeout is found from os.environ: 60000 ms\n2023-05-28 18:01:04,357 | root | INFO | AML_FLASK_ONE_COMPATIBILITY is set. Patched Flask to ensure compatibility with Flask 1.\n2023-05-28 18:01:08,814 | root | INFO | 200\n127.0.0.1 - - [28/May/2023:18:01:08 +0000] \"GET /swagger.json HTTP/1.0\" 200 2257 \"-\" \"Go-http-client/1.1\"\n2023-05-28 18:01:10,339 | root | INFO | 200\n127.0.0.1 - - [28/May/2023:18:01:10 +0000] \"GET /swagger.json HTTP/1.0\" 200 2257 \"-\" \"Go-http-client/1.1\"\n\n"
        }
      ],
      "execution_count": 60,
      "metadata": {
        "collapsed": true,
        "gather": {
          "logged": 1685296869199
        },
        "jupyter": {
          "outputs_hidden": false,
          "source_hidden": false
        },
        "nteract": {
          "transient": {
            "deleting": false
          }
        }
      }
    },
    {
      "cell_type": "code",
      "source": [
        "scoring_uri = service.scoring_uri\n",
        "\n",
        "print(f'\\nservice state: {service.state}\\n')\n",
        "print(f'scoring URI: \\n{service.scoring_uri}\\n')\n",
        "print(f'swagger URI: \\n{service.swagger_uri}\\n')\n",
        "\n",
        "print(service.scoring_uri)\n",
        "print(service.swagger_uri)\n"
      ],
      "outputs": [
        {
          "output_type": "stream",
          "name": "stdout",
          "text": "\nservice state: Healthy\n\nscoring URI: \nhttp://124c4c0b-7a11-42d7-942a-efecf89bd7b2.westeurope.azurecontainer.io/score\n\nswagger URI: \nhttp://124c4c0b-7a11-42d7-942a-efecf89bd7b2.westeurope.azurecontainer.io/swagger.json\n\nhttp://124c4c0b-7a11-42d7-942a-efecf89bd7b2.westeurope.azurecontainer.io/score\nhttp://124c4c0b-7a11-42d7-942a-efecf89bd7b2.westeurope.azurecontainer.io/swagger.json\n"
        }
      ],
      "execution_count": 61,
      "metadata": {
        "collapsed": true,
        "gather": {
          "logged": 1685296869772
        },
        "jupyter": {
          "outputs_hidden": false,
          "source_hidden": false
        },
        "nteract": {
          "transient": {
            "deleting": false
          }
        }
      }
    },
    {
      "cell_type": "code",
      "source": [
        "import requests\n",
        "import json\n",
        "\n",
        "data={\"data\":\n",
        "  [{'age': 49.0,\n",
        "  'anaemia': 1,\n",
        "  'creatinine_phosphokinase': 80,\n",
        "  'diabetes': 1,\n",
        "  'ejection_fraction': 30,\n",
        "  'high_blood_pressure': 1,\n",
        "  'platelets': 427000,\n",
        "  'serum_creatinine': 1,\n",
        "  'serum_sodium': 138,\n",
        "  'sex': 0,\n",
        "  'smoking': 0,\n",
        "  'time': 12}]\n",
        "  }\n",
        "\n",
        "input_data=json.dumps(data)\n",
        "\n",
        "with open(\"data.json\",\"w\") as file:\n",
        "    file.write(input_data)\n",
        "\n",
        "headers={\"Content-Type\":\"application/json\"}\n",
        "\n",
        "result=requests.post(scoring_uri, input_data, headers=headers)\n",
        "print(\"Status code: \",result.status_code)\n",
        "print(\"The output is: \",result.json())\n",
        "\n"
      ],
      "outputs": [
        {
          "output_type": "stream",
          "name": "stdout",
          "text": "Status code:  200\nThe output is:  [1]\n"
        }
      ],
      "execution_count": 85,
      "metadata": {
        "collapsed": true,
        "gather": {
          "logged": 1685370802787
        },
        "jupyter": {
          "outputs_hidden": false,
          "source_hidden": false
        },
        "nteract": {
          "transient": {
            "deleting": false
          }
        }
      }
    },
    {
      "cell_type": "code",
      "source": [
        "import urllib.request\r\n",
        "import json\r\n",
        "import os\r\n",
        "import ssl\r\n",
        "\r\n",
        "def allowSelfSignedHttps(allowed):\r\n",
        "    # bypass the server certificate verification on client side\r\n",
        "    if allowed and not os.environ.get('PYTHONHTTPSVERIFY', '') and getattr(ssl, '_create_unverified_context', None):\r\n",
        "        ssl._create_default_https_context = ssl._create_unverified_context\r\n",
        "\r\n",
        "allowSelfSignedHttps(True) # this line is needed if you use self-signed certificate in your scoring service.\r\n",
        "\r\n",
        "# Request data goes here\r\n",
        "# The example below assumes JSON formatting which may be updated\r\n",
        "# depending on the format your endpoint expects.\r\n",
        "# More information can be found here:\r\n",
        "# https://docs.microsoft.com/azure/machine-learning/how-to-deploy-advanced-entry-script\r\n",
        "data={\"data\":\r\n",
        "  [{'age': 49.0,\r\n",
        "  'anaemia': 1,\r\n",
        "  'creatinine_phosphokinase': 80,\r\n",
        "  'diabetes': 1,\r\n",
        "  'ejection_fraction': 30,\r\n",
        "  'high_blood_pressure': 1,\r\n",
        "  'platelets': 427000,\r\n",
        "  'serum_creatinine': 1,\r\n",
        "  'serum_sodium': 138,\r\n",
        "  'sex': 1,\r\n",
        "  'smoking': 0,\r\n",
        "  'time': 12}]\r\n",
        "  }\r\n",
        "\r\n",
        "body = str.encode(json.dumps(data))\r\n",
        "\r\n",
        "url = 'http://124c4c0b-7a11-42d7-942a-efecf89bd7b2.westeurope.azurecontainer.io/score'\r\n",
        "\r\n",
        "\r\n",
        "headers = {'Content-Type':'application/json'}\r\n",
        "\r\n",
        "req = urllib.request.Request(url, body, headers)\r\n",
        "\r\n",
        "try:\r\n",
        "    response = urllib.request.urlopen(req)\r\n",
        "\r\n",
        "    result = response.read()\r\n",
        "    print(\"The output is: \", result)\r\n",
        "except urllib.error.HTTPError as error:\r\n",
        "    print(\"The request failed with status code: \" + str(error.code))"
      ],
      "outputs": [
        {
          "output_type": "stream",
          "name": "stdout",
          "text": "The output is:  b'[1]'\n"
        },
        {
          "output_type": "stream",
          "name": "stderr",
          "text": "WARNING:urllib3.connectionpool:Retrying (Retry(total=2, connect=2, read=3, redirect=None, status=None)) after connection broken by 'ConnectTimeoutError(<urllib3.connection.HTTPSConnection object at 0x7f43f7ff10d0>, 'Connection to westeurope.experiments.azureml.net timed out. (connect timeout=100)')': /history/v1.0/subscriptions/99149dbb-f505-4eb9-901a-c82ba247986c/resourceGroups/hei-aep-vn001-d-we-rg-mlsa-01/providers/Microsoft.MachineLearningServices/workspaces/hei-aep-vn001-d-we-ml-mlsa-01/experimentids/867af478-7d9e-464e-9057-baeeefe10b53/runs/AutoML_800ba8b7-cebe-4b50-a30c-0dc610a8f722\nWARNING:urllib3.connectionpool:Retrying (Retry(total=2, connect=2, read=3, redirect=None, status=None)) after connection broken by 'ConnectTimeoutError(<urllib3.connection.HTTPSConnection object at 0x7f43fcd866a0>, 'Connection to westeurope.experiments.azureml.net timed out. (connect timeout=100)')': /history/v1.0/subscriptions/99149dbb-f505-4eb9-901a-c82ba247986c/resourceGroups/hei-aep-vn001-d-we-rg-mlsa-01/providers/Microsoft.MachineLearningServices/workspaces/hei-aep-vn001-d-we-ml-mlsa-01/experimentids/867af478-7d9e-464e-9057-baeeefe10b53/runs/AutoML_b99a3016-44eb-4107-8ceb-e869a25caa8f\nWARNING:urllib3.connectionpool:Retrying (Retry(total=2, connect=2, read=3, redirect=None, status=None)) after connection broken by 'ConnectTimeoutError(<urllib3.connection.HTTPSConnection object at 0x7f43f7ff1af0>, 'Connection to westeurope.experiments.azureml.net timed out. (connect timeout=100)')': /history/v1.0/subscriptions/99149dbb-f505-4eb9-901a-c82ba247986c/resourceGroups/hei-aep-vn001-d-we-rg-mlsa-01/providers/Microsoft.MachineLearningServices/workspaces/hei-aep-vn001-d-we-ml-mlsa-01/experimentids/867af478-7d9e-464e-9057-baeeefe10b53/runs/AutoML_800ba8b7-cebe-4b50-a30c-0dc610a8f722\nWARNING:urllib3.connectionpool:Retrying (Retry(total=2, connect=2, read=3, redirect=None, status=None)) after connection broken by 'ConnectTimeoutError(<urllib3.connection.HTTPSConnection object at 0x7f43f7ff1e20>, 'Connection to westeurope.experiments.azureml.net timed out. (connect timeout=100)')': /history/v1.0/subscriptions/99149dbb-f505-4eb9-901a-c82ba247986c/resourceGroups/hei-aep-vn001-d-we-rg-mlsa-01/providers/Microsoft.MachineLearningServices/workspaces/hei-aep-vn001-d-we-ml-mlsa-01/experimentids/867af478-7d9e-464e-9057-baeeefe10b53/runs/AutoML_b99a3016-44eb-4107-8ceb-e869a25caa8f\nWARNING:urllib3.connectionpool:Retrying (Retry(total=2, connect=2, read=3, redirect=None, status=None)) after connection broken by 'ConnectTimeoutError(<urllib3.connection.HTTPSConnection object at 0x7f43fc123a60>, 'Connection to westeurope.experiments.azureml.net timed out. (connect timeout=100)')': /artifact/v2.0/subscriptions/99149dbb-f505-4eb9-901a-c82ba247986c/resourceGroups/hei-aep-vn001-d-we-rg-mlsa-01/providers/Microsoft.MachineLearningServices/workspaces/hei-aep-vn001-d-we-ml-mlsa-01/artifacts/prefix/contentinfo/ExperimentRun/dcid.AutoML_b99a3016-44eb-4107-8ceb-e869a25caa8f/system_logs\nWARNING:urllib3.connectionpool:Retrying (Retry(total=1, connect=1, read=3, redirect=None, status=None)) after connection broken by 'ConnectTimeoutError(<urllib3.connection.HTTPSConnection object at 0x7f43f7ff6100>, 'Connection to westeurope.experiments.azureml.net timed out. (connect timeout=100)')': /history/v1.0/subscriptions/99149dbb-f505-4eb9-901a-c82ba247986c/resourceGroups/hei-aep-vn001-d-we-rg-mlsa-01/providers/Microsoft.MachineLearningServices/workspaces/hei-aep-vn001-d-we-ml-mlsa-01/experimentids/867af478-7d9e-464e-9057-baeeefe10b53/runs/AutoML_800ba8b7-cebe-4b50-a30c-0dc610a8f722\nWARNING:urllib3.connectionpool:Retrying (Retry(total=2, connect=2, read=3, redirect=None, status=None)) after connection broken by 'ConnectTimeoutError(<urllib3.connection.HTTPSConnection object at 0x7f43fcd86730>, 'Connection to westeurope.experiments.azureml.net timed out. (connect timeout=100)')': /history/v1.0/subscriptions/99149dbb-f505-4eb9-901a-c82ba247986c/resourceGroups/hei-aep-vn001-d-we-rg-mlsa-01/providers/Microsoft.MachineLearningServices/workspaces/hei-aep-vn001-d-we-ml-mlsa-01/experiments/automl_run/metrics:query?mergestrategytype=None\nWARNING:urllib3.connectionpool:Retrying (Retry(total=2, connect=2, read=3, redirect=None, status=None)) after connection broken by 'ConnectTimeoutError(<urllib3.connection.HTTPSConnection object at 0x7f43f7e5edc0>, 'Connection to westeurope.experiments.azureml.net timed out. (connect timeout=100)')': /history/v1.0/subscriptions/99149dbb-f505-4eb9-901a-c82ba247986c/resourceGroups/hei-aep-vn001-d-we-rg-mlsa-01/providers/Microsoft.MachineLearningServices/workspaces/hei-aep-vn001-d-we-ml-mlsa-01/experiments/automl_run/runs/AutoML_800ba8b7-cebe-4b50-a30c-0dc610a8f722/children?$orderby=StartTimeUtc%20desc&$top=500\nWARNING:urllib3.connectionpool:Retrying (Retry(total=2, connect=2, read=3, redirect=None, status=None)) after connection broken by 'ConnectTimeoutError(<urllib3.connection.HTTPSConnection object at 0x7f43f7d065b0>, 'Connection to westeurope.experiments.azureml.net timed out. (connect timeout=100)')': /history/v1.0/subscriptions/99149dbb-f505-4eb9-901a-c82ba247986c/resourceGroups/hei-aep-vn001-d-we-rg-mlsa-01/providers/Microsoft.MachineLearningServices/workspaces/hei-aep-vn001-d-we-ml-mlsa-01/experiments/automl_run/metrics:query?mergestrategytype=None\nWARNING:urllib3.connectionpool:Retrying (Retry(total=2, connect=2, read=3, redirect=None, status=None)) after connection broken by 'ConnectTimeoutError(<urllib3.connection.HTTPSConnection object at 0x7f43f7d16d30>, 'Connection to westeurope.experiments.azureml.net timed out. (connect timeout=100)')': /history/v1.0/subscriptions/99149dbb-f505-4eb9-901a-c82ba247986c/resourceGroups/hei-aep-vn001-d-we-rg-mlsa-01/providers/Microsoft.MachineLearningServices/workspaces/hei-aep-vn001-d-we-ml-mlsa-01/experimentids/867af478-7d9e-464e-9057-baeeefe10b53/runs/AutoML_b99a3016-44eb-4107-8ceb-e869a25caa8f\nWARNING:urllib3.connectionpool:Retrying (Retry(total=2, connect=2, read=3, redirect=None, status=None)) after connection broken by 'ConnectTimeoutError(<urllib3.connection.HTTPSConnection object at 0x7f43fc0c62e0>, 'Connection to westeurope.experiments.azureml.net timed out. (connect timeout=100)')': /dataset/v1.0/subscriptions/99149dbb-f505-4eb9-901a-c82ba247986c/resourceGroups/hei-aep-vn001-d-we-rg-mlsa-01/providers/Microsoft.MachineLearningServices/workspaces/hei-aep-vn001-d-we-ml-mlsa-01/datasets/query/savedDatasetId=ac232e54-b994-45ef-b888-c532b3a086e8?pageSize=1\nWARNING:urllib3.connectionpool:Retrying (Retry(total=2, connect=2, read=3, redirect=None, status=None)) after connection broken by 'ConnectTimeoutError(<urllib3.connection.HTTPSConnection object at 0x7f43f7abecd0>, 'Connection to westeurope.experiments.azureml.net timed out. (connect timeout=100)')': /history/v1.0/subscriptions/99149dbb-f505-4eb9-901a-c82ba247986c/resourceGroups/hei-aep-vn001-d-we-rg-mlsa-01/providers/Microsoft.MachineLearningServices/workspaces/hei-aep-vn001-d-we-ml-mlsa-01/experiments/automl_run/metrics:query?mergestrategytype=None\nWARNING:urllib3.connectionpool:Retrying (Retry(total=2, connect=2, read=3, redirect=None, status=None)) after connection broken by 'ConnectTimeoutError(<urllib3.connection.HTTPSConnection object at 0x7f43f7abf730>, 'Connection to westeurope.experiments.azureml.net timed out. (connect timeout=100)')': /history/v1.0/subscriptions/99149dbb-f505-4eb9-901a-c82ba247986c/resourceGroups/hei-aep-vn001-d-we-rg-mlsa-01/providers/Microsoft.MachineLearningServices/workspaces/hei-aep-vn001-d-we-ml-mlsa-01/experiments/automl_run/runs/AutoML_b99a3016-44eb-4107-8ceb-e869a25caa8f/details\nWARNING:urllib3.connectionpool:Retrying (Retry(total=2, connect=2, read=3, redirect=None, status=None)) after connection broken by 'ConnectTimeoutError(<urllib3.connection.HTTPSConnection object at 0x7f43f7abff40>, 'Connection to westeurope.experiments.azureml.net timed out. (connect timeout=100)')': /history/v1.0/subscriptions/99149dbb-f505-4eb9-901a-c82ba247986c/resourceGroups/hei-aep-vn001-d-we-rg-mlsa-01/providers/Microsoft.MachineLearningServices/workspaces/hei-aep-vn001-d-we-ml-mlsa-01/experimentids/867af478-7d9e-464e-9057-baeeefe10b53/runs/AutoML_800ba8b7-cebe-4b50-a30c-0dc610a8f722\n"
        }
      ],
      "execution_count": 86,
      "metadata": {
        "jupyter": {
          "source_hidden": false,
          "outputs_hidden": false
        },
        "nteract": {
          "transient": {
            "deleting": false
          }
        },
        "gather": {
          "logged": 1685370811072
        }
      }
    },
    {
      "cell_type": "code",
      "source": [
        "result.status_code"
      ],
      "outputs": [
        {
          "output_type": "execute_result",
          "execution_count": 63,
          "data": {
            "text/plain": "200"
          },
          "metadata": {}
        }
      ],
      "execution_count": 63,
      "metadata": {
        "collapsed": true,
        "gather": {
          "logged": 1685296870755
        },
        "jupyter": {
          "outputs_hidden": false,
          "source_hidden": false
        },
        "nteract": {
          "transient": {
            "deleting": false
          }
        }
      }
    },
    {
      "cell_type": "markdown",
      "source": [
        "TODO: In the cell below, print the logs of the web service and delete the service"
      ],
      "metadata": {
        "collapsed": true,
        "gather": {
          "logged": 1598432765711
        },
        "jupyter": {
          "outputs_hidden": false,
          "source_hidden": false
        },
        "nteract": {
          "transient": {
            "deleting": false
          }
        }
      }
    },
    {
      "cell_type": "code",
      "source": [
        "#logs of the webservice\n",
        "logs=service.get_logs()\n",
        "print(logs)"
      ],
      "outputs": [
        {
          "output_type": "stream",
          "name": "stdout",
          "text": "/bin/bash: /azureml-envs/azureml_c9289db7d7cee531fa8170c6d853612d/lib/libtinfo.so.6: no version information available (required by /bin/bash)\n/bin/bash: /azureml-envs/azureml_c9289db7d7cee531fa8170c6d853612d/lib/libtinfo.so.6: no version information available (required by /bin/bash)\n/bin/bash: /azureml-envs/azureml_c9289db7d7cee531fa8170c6d853612d/lib/libtinfo.so.6: no version information available (required by /bin/bash)\n/bin/bash: /azureml-envs/azureml_c9289db7d7cee531fa8170c6d853612d/lib/libtinfo.so.6: no version information available (required by /bin/bash)\n2023-05-28T18:00:40,514562500+00:00 - rsyslog/run \n2023-05-28T18:00:40,514512200+00:00 - iot-server/run \nbash: /azureml-envs/azureml_c9289db7d7cee531fa8170c6d853612d/lib/libtinfo.so.6: no version information available (required by bash)\n2023-05-28T18:00:40,534078500+00:00 - gunicorn/run \n2023-05-28T18:00:40,540021800+00:00 | gunicorn/run | \n2023-05-28T18:00:40,541884500+00:00 | gunicorn/run | ###############################################\n2023-05-28T18:00:40,549380900+00:00 | gunicorn/run | AzureML Container Runtime Information\n2023-05-28T18:00:40,556828300+00:00 | gunicorn/run | ###############################################\n2023-05-28T18:00:40,557506100+00:00 - nginx/run \n2023-05-28T18:00:40,578739000+00:00 | gunicorn/run | \n2023-05-28T18:00:40,586440000+00:00 | gunicorn/run | \n2023-05-28T18:00:40,605569300+00:00 | gunicorn/run | AzureML image information: openmpi4.1.0-ubuntu20.04, Materializaton Build:20220708.v2\n2023-05-28T18:00:40,609475000+00:00 | gunicorn/run | \n2023-05-28T18:00:40,618322900+00:00 | gunicorn/run | \n2023-05-28T18:00:40,626714400+00:00 | gunicorn/run | PATH environment variable: /azureml-envs/azureml_c9289db7d7cee531fa8170c6d853612d/bin:/opt/miniconda/bin:/usr/local/sbin:/usr/local/bin:/usr/sbin:/usr/bin:/sbin:/bin\n2023-05-28T18:00:40,638471500+00:00 | gunicorn/run | PYTHONPATH environment variable: \n2023-05-28T18:00:40,642555300+00:00 | gunicorn/run | \n2023-05-28T18:00:40,650145100+00:00 | gunicorn/run | Pip Dependencies (before dynamic installation)\n\nEdgeHubConnectionString and IOTEDGE_IOTHUBHOSTNAME are not set. Exiting...\n/bin/bash: /azureml-envs/azureml_c9289db7d7cee531fa8170c6d853612d/lib/libtinfo.so.6: no version information available (required by /bin/bash)\n2023-05-28T18:00:41,170007400+00:00 - iot-server/finish 1 0\n2023-05-28T18:00:41,177342800+00:00 - Exit code 1 is normal. Not restarting iot-server.\nadal==1.2.7\napplicationinsights==0.11.10\nargcomplete==2.1.2\narviz @ file:///tmp/build/80754af9/arviz_1614019183254/work\nattrs==23.1.0\nazure-common==1.1.28\nazure-core==1.26.4\nazure-graphrbac==0.61.1\nazure-identity==1.13.0\nazure-mgmt-authorization==3.0.0\nazure-mgmt-containerregistry==10.1.0\nazure-mgmt-core==1.4.0\nazure-mgmt-keyvault==10.2.2\nazure-mgmt-resource==21.2.1\nazure-mgmt-storage==20.1.0\nazure-storage-blob==12.13.0\nazure-storage-queue==12.6.0\nazureml-automl-core==1.48.0\nazureml-automl-runtime==1.48.0.post2\nazureml-core==1.48.0\nazureml-dataprep==4.8.6\nazureml-dataprep-native==38.0.0\nazureml-dataprep-rslex==2.15.2\nazureml-dataset-runtime==1.48.0\nazureml-defaults==1.48.0\nazureml-inference-server-http==0.7.7\nazureml-interpret==1.48.0\nazureml-mlflow==1.48.0\nazureml-telemetry==1.48.0\nazureml-train-automl-client==1.48.0\nazureml-train-automl-runtime==1.48.0.post2\nazureml-train-core==1.48.0\nazureml-train-restclients-hyperdrive==1.48.0\nazureml-training-tabular==1.48.0\nbackports.tempfile==1.0\nbackports.weakref==1.0.post1\nbcrypt==4.0.1\nblinker==1.6.2\nbokeh==2.4.3\nboto==2.49.0\nboto3==1.20.19\nbotocore==1.23.19\ncachetools==5.3.1\ncertifi @ file:///croot/certifi_1671487769961/work/certifi\ncffi==1.15.1\ncftime @ file:///tmp/build/80754af9/cftime_1638357901230/work\ncharset-normalizer==3.1.0\nclick==8.1.3\ncloudpickle==2.2.1\ncontextlib2==21.6.0\ncontourpy @ file:///opt/conda/conda-bld/contourpy_1663827406301/work\nconvertdate @ file:///tmp/build/80754af9/convertdate_1634070773133/work\ncryptography==38.0.4\ncycler @ file:///tmp/build/80754af9/cycler_1637851556182/work\nCython==0.29.17\ndask==2021.6.0\ndatabricks-cli==0.17.7\ndataclasses==0.6\ndill==0.3.6\ndistributed==2021.6.0\ndistro==1.8.0\ndocker==6.1.2\ndotnetcore2==3.1.23\nentrypoints==0.4\nephem @ file:///tmp/build/80754af9/ephem_1638942191467/work\nfbprophet @ file:///home/conda/feedstock_root/build_artifacts/fbprophet_1599365532360/work\nfire==0.5.0\nFlask==2.3.2\nFlask-Cors==3.0.10\nflatbuffers==23.5.26\nflit_core @ file:///opt/conda/conda-bld/flit-core_1644941570762/work/source/flit_core\nfonttools==4.25.0\nfsspec==2023.5.0\nfusepy==3.0.1\ngensim==3.8.3\ngitdb==4.0.10\nGitPython==3.1.31\ngoogle-api-core==2.11.0\ngoogle-auth==2.19.0\ngoogleapis-common-protos==1.59.0\ngunicorn==20.1.0\nholidays @ file:///home/conda/feedstock_root/build_artifacts/holidays_1595448845196/work\nhumanfriendly==10.0\nidna==3.4\nimportlib-metadata==5.2.0\nimportlib-resources==5.12.0\ninference-schema==1.5.1\ninterpret-community==0.27.0\ninterpret-core==0.2.7\nisodate==0.6.1\nitsdangerous==2.1.2\njeepney==0.8.0\nJinja2==3.1.2\njmespath==0.10.0\njoblib==0.14.1\njsonpickle==2.2.0\njsonschema==4.17.3\nkeras2onnx==1.6.0\nkiwisolver @ file:///croot/kiwisolver_1672387140495/work\nknack==0.10.1\nkorean-lunar-calendar @ file:///tmp/build/80754af9/korean_lunar_calendar_1634063020401/work\nlightgbm==3.2.1\nllvmlite==0.38.1\nlocket==1.0.0\nLunarCalendar @ file:///tmp/build/80754af9/lunarcalendar_1646383991234/work\nMarkupSafe==2.1.2\nmatplotlib @ file:///croot/matplotlib-suite_1670466153205/work\nml-wrappers==0.2.2\nmlflow-skinny==1.30.0\nmsal==1.22.0\nmsal-extensions==1.0.0\nmsgpack==1.0.5\nmsrest==0.7.1\nmsrestazure==0.6.4\nmunkres==1.1.4\nndg-httpsclient==0.5.1\nnetCDF4 @ file:///croot/netcdf4_1673455456943/work\nnimbusml==1.8.0\nnumba==0.55.2\nnumpy @ file:///home/conda/feedstock_root/build_artifacts/numpy_1649806303867/work\noauthlib==3.2.2\nonnx==1.12.0\nonnxconverter-common==1.6.0\nonnxmltools==1.4.1\nonnxruntime==1.11.1\nopencensus==0.11.2\nopencensus-context==0.1.3\nopencensus-ext-azure==1.1.9\npackaging==21.3\npandas==1.1.5\nparamiko==2.12.0\npartd==1.4.0\npathspec==0.11.1\npatsy==0.5.3\nPillow==9.3.0\npkginfo==1.9.6\npkgutil_resolve_name==1.3.10\npmdarima==1.7.1\nportalocker==2.7.0\nprotobuf==3.19.6\npsutil @ file:///home/conda/feedstock_root/build_artifacts/psutil_1667885878918/work\npyarrow==9.0.0\npyasn1==0.5.0\npyasn1-modules==0.3.0\npycparser==2.21\nPygments==2.15.1\nPyJWT==2.7.0\nPyMeeus @ file:///tmp/build/80754af9/pymeeus_1634069098549/work\nPyNaCl==1.5.0\npyOpenSSL==22.1.0\npyparsing @ file:///opt/conda/conda-bld/pyparsing_1661452539315/work\npyrsistent==0.19.3\nPySocks==1.7.1\npystan @ file:///tmp/build/80754af9/pystan_1613565232294/work\npython-dateutil @ file:///tmp/build/80754af9/python-dateutil_1626374649649/work\npytz @ file:///croot/pytz_1671697431263/work\nPyYAML==6.0\nrequests==2.31.0\nrequests-oauthlib==1.3.1\nrsa==4.9\ns3transfer==0.5.2\nscikit-learn==0.22.1\nscipy==1.5.3\nSecretStorage==3.3.3\nshap==0.39.0\nsix @ file:///tmp/build/80754af9/six_1644875935023/work\nskl2onnx==1.4.9\nsklearn-pandas==1.7.0\nslicer==0.0.7\nsmart-open==1.9.0\nsmmap==5.0.0\nsortedcontainers==2.4.0\nsqlparse==0.4.4\nstatsmodels==0.11.1\ntabulate==0.9.0\ntblib==1.7.0\ntermcolor==2.3.0\ntoolz==0.12.0\ntornado==6.3.2\ntqdm @ file:///opt/conda/conda-bld/tqdm_1664392687731/work\ntyping_extensions @ file:///croot/typing_extensions_1669924550328/work\nurllib3==1.26.16\nwebsocket-client==1.5.2\nWerkzeug==2.3.4\nwrapt==1.12.1\nxarray @ file:///opt/conda/conda-bld/xarray_1639166117697/work\nxgboost==1.3.3\nzict==3.0.0\nzipp==3.15.0\n\n2023-05-28T18:00:43,091038600+00:00 | gunicorn/run | \n2023-05-28T18:00:43,096070700+00:00 | gunicorn/run | ###############################################\n2023-05-28T18:00:43,097979300+00:00 | gunicorn/run | AzureML Inference Server\n2023-05-28T18:00:43,104537000+00:00 | gunicorn/run | ###############################################\n2023-05-28T18:00:43,106684200+00:00 | gunicorn/run | \n2023-05-28T18:00:47,150006152+00:00 | gunicorn/run | Starting AzureML Inference Server HTTP.\n\nAzure ML Inferencing HTTP server v0.7.7\n\n\nServer Settings\n---------------\nEntry Script Name: /var/azureml-app/amlscore.py\nModel Directory: /var/azureml-app/azureml-models/automl/2\nWorker Count: 1\nWorker Timeout (seconds): 300\nServer Port: 31311\nApplication Insights Enabled: false\nApplication Insights Key: None\nInferencing HTTP server version: azmlinfsrv/0.7.7\nCORS for the specified origins: None\n\n\nServer Routes\n---------------\nLiveness Probe: GET   127.0.0.1:31311/\nScore:          POST  127.0.0.1:31311/score\n\nStarting gunicorn 20.1.0\nListening at: http://0.0.0.0:31311 (77)\nUsing worker: sync\nBooting worker with pid: 140\nInitializing logger\n2023-05-28 18:00:49,069 | root | INFO | Starting up app insights client\nlogging socket was found. logging is available.\nlogging socket was found. logging is available.\n2023-05-28 18:00:49,072 | root | INFO | Starting up app insight hooks\n2023-05-28 18:00:54,046 | root | INFO | Found user script at /var/azureml-app/amlscore.py\n2023-05-28 18:00:54,047 | root | INFO | run() is not decorated. Server will invoke it with the input in JSON string.\n2023-05-28 18:00:54,047 | root | INFO | Invoking user's init function\ngenerated new fontManager\nImporting plotly failed. Interactive plots will not work.\n2023-05-28 18:01:04,350 | root | INFO | Users's init has completed successfully\n2023-05-28 18:01:04,353 | root | INFO | Swaggers are prepared for the following versions: [2, 3].\n2023-05-28 18:01:04,354 | root | INFO | Scoring timeout is found from os.environ: 60000 ms\n2023-05-28 18:01:04,357 | root | INFO | AML_FLASK_ONE_COMPATIBILITY is set. Patched Flask to ensure compatibility with Flask 1.\n2023-05-28 18:01:08,814 | root | INFO | 200\n127.0.0.1 - - [28/May/2023:18:01:08 +0000] \"GET /swagger.json HTTP/1.0\" 200 2257 \"-\" \"Go-http-client/1.1\"\n2023-05-28 18:01:10,339 | root | INFO | 200\n127.0.0.1 - - [28/May/2023:18:01:10 +0000] \"GET /swagger.json HTTP/1.0\" 200 2257 \"-\" \"Go-http-client/1.1\"\n2023-05-28 18:01:11,375 | root | INFO | 200\n127.0.0.1 - - [28/May/2023:18:01:11 +0000] \"POST /score HTTP/1.0\" 200 3 \"-\" \"python-requests/2.28.1\"\n127.0.0.1 - - [28/May/2023:18:46:18 +0000] \"GET /bin/sh HTTP/1.0\" 404 127 \"http://20.103.52.253:80/cgi-bin/.%2e/.%2e/.%2e/.%2e/bin/sh\" \"Mozilla/5.0 (Windows NT 10.0; Win64; x64) AppleWebKit/537.36 (KHTML, like Gecko) Chrome/78.0.3904.108 Safari/537.36\"\n127.0.0.1 - - [28/May/2023:19:25:32 +0000] \"POST /boaform/admin/formLogin HTTP/1.0\" 404 127 \"http://20.103.52.253:80/admin/login.asp\" \"Mozilla/5.0 (X11; Ubuntu; Linux x86_64; rv:71.0) Gecko/20100101 Firefox/71.0\"\n127.0.0.1 - - [28/May/2023:20:58:20 +0000] \"GET /swagger HTTP/1.0\" 404 127 \"-\" \"Mozilla/5.0 (compatible; Nmap Scripting Engine; https://nmap.org/book/nse.html)\"\n127.0.0.1 - - [28/May/2023:20:58:32 +0000] \"GET /nmaplowercheck1685307500 HTTP/1.0\" 404 127 \"-\" \"Mozilla/5.0 (compatible; Nmap Scripting Engine; https://nmap.org/book/nse.html)\"\n127.0.0.1 - - [28/May/2023:20:58:34 +0000] \"GET /repos/ HTTP/1.0\" 404 127 \"-\" \"Mozilla/5.0 (compatible; Nmap Scripting Engine; https://nmap.org/book/nse.html)\"\n127.0.0.1 - - [28/May/2023:20:58:34 +0000] \"GET /repo/ HTTP/1.0\" 404 127 \"-\" \"Mozilla/5.0 (compatible; Nmap Scripting Engine; https://nmap.org/book/nse.html)\"\n127.0.0.1 - - [28/May/2023:20:58:34 +0000] \"GET /svn/ HTTP/1.0\" 404 127 \"-\" \"Mozilla/5.0 (compatible; Nmap Scripting Engine; https://nmap.org/book/nse.html)\"\n127.0.0.1 - - [28/May/2023:20:58:34 +0000] \"GET /cvs/ HTTP/1.0\" 404 127 \"-\" \"Mozilla/5.0 (compatible; Nmap Scripting Engine; https://nmap.org/book/nse.html)\"\n127.0.0.1 - - [28/May/2023:20:58:34 +0000] \"GET /archiva/index.action HTTP/1.0\" 404 127 \"-\" \"Mozilla/5.0 (compatible; Nmap Scripting Engine; https://nmap.org/book/nse.html)\"\n127.0.0.1 - - [28/May/2023:20:58:34 +0000] \"GET /index.action HTTP/1.0\" 404 127 \"-\" \"Mozilla/5.0 (compatible; Nmap Scripting Engine; https://nmap.org/book/nse.html)\"\n127.0.0.1 - - [29/May/2023:01:46:28 +0000] \"POST / HTTP/1.0\" 405 55 \"-\" \"Mozilla/5.0 (X11; Linux x86_64) AppleWebKit/537.36 (KHTML, like Gecko) Chrome/81.0.4044.129 Safari/537.36\"\n127.0.0.1 - - [29/May/2023:01:46:28 +0000] \"GET /.env HTTP/1.0\" 404 127 \"-\" \"Mozilla/5.0 (X11; Linux x86_64) AppleWebKit/537.36 (KHTML, like Gecko) Chrome/81.0.4044.129 Safari/537.36\"\n127.0.0.1 - - [29/May/2023:02:22:52 +0000] \"POST / HTTP/1.0\" 405 55 \"-\" \"Mozilla/5.0 (X11; Linux x86_64) AppleWebKit/537.36 (KHTML, like Gecko) Chrome/81.0.4044.129 Safari/537.36\"\n127.0.0.1 - - [29/May/2023:02:22:52 +0000] \"GET /.env HTTP/1.0\" 404 127 \"-\" \"Mozilla/5.0 (X11; Linux x86_64) AppleWebKit/537.36 (KHTML, like Gecko) Chrome/81.0.4044.129 Safari/537.36\"\n127.0.0.1 - - [29/May/2023:02:55:45 +0000] \"POST / HTTP/1.0\" 405 55 \"-\" \"Mozilla/5.0 (X11; Linux x86_64) AppleWebKit/537.36 (KHTML, like Gecko) Chrome/81.0.4044.129 Safari/537.36\"\n127.0.0.1 - - [29/May/2023:02:55:45 +0000] \"GET /.env HTTP/1.0\" 404 127 \"-\" \"Mozilla/5.0 (X11; Linux x86_64) AppleWebKit/537.36 (KHTML, like Gecko) Chrome/81.0.4044.129 Safari/537.36\"\n127.0.0.1 - - [29/May/2023:04:04:57 +0000] \"POST /boaform/admin/formLogin HTTP/1.0\" 404 127 \"http://20.103.52.253:80/admin/login.asp\" \"Mozilla/5.0 (X11; Ubuntu; Linux x86_64; rv:71.0) Gecko/20100101 Firefox/71.0\"\n127.0.0.1 - - [29/May/2023:06:14:45 +0000] \"GET /favicon.ico HTTP/1.0\" 404 127 \"-\" \"Mozilla/5.0 (compatible; CensysInspect/1.1; +https://about.censys.io/)\"\n127.0.0.1 - - [29/May/2023:06:25:20 +0000] \"POST /vendor/phpunit/phpunit/src/Util/PHP/eval-stdin.php HTTP/1.0\" 404 127 \"-\" \"Mozilla/5.0 (Windows NT 10.0; Win64; x64) AppleWebKit/537.36 (KHTML, like Gecko) Chrome/78.0.3904.108 Safari/537.36\"\n127.0.0.1 - - [29/May/2023:06:47:47 +0000] \"GET /vendor/phpunit/phpunit/src/Util/PHP/eval-stdin.php HTTP/1.0\" 404 127 \"-\" \"Mozilla/5.0 (Windows NT 10.0; Win64; x64) AppleWebKit/537.36 (KHTML, like Gecko) Chrome/78.0.3904.108 Safari/537.36\"\n127.0.0.1 - - [29/May/2023:07:03:30 +0000] \"GET /solr/admin/info/system?wt=json HTTP/1.0\" 404 127 \"-\" \"Mozilla/5.0 (Windows NT 10.0; Win64; x64) AppleWebKit/537.36 (KHTML, like Gecko) Chrome/78.0.3904.108 Safari/537.36\"\n127.0.0.1 - - [29/May/2023:08:00:59 +0000] \"GET /?XDEBUG_SESSION_START=phpstorm HTTP/1.0\" 200 7 \"-\" \"Mozilla/5.0 (Windows NT 10.0; Win64; x64) AppleWebKit/537.36 (KHTML, like Gecko) Chrome/78.0.3904.108 Safari/537.36\"\n127.0.0.1 - - [29/May/2023:09:02:54 +0000] \"GET /favicon.ico HTTP/1.0\" 404 127 \"-\" \"Mozilla/5.0 (Windows NT 6.1) AppleWebKit/537.36 (KHTML, like Gecko) Chrome/49.0.2623.112 Safari/537.36\"\n127.0.0.1 - - [29/May/2023:09:05:11 +0000] \"POST /Autodiscover/Autodiscover.xml HTTP/1.0\" 404 127 \"-\" \"Mozilla/5.0 (Windows NT 10.0; Win64; x64) AppleWebKit/537.36 (KHTML, like Gecko) Chrome/78.0.3904.108 Safari/537.36\"\n127.0.0.1 - - [29/May/2023:09:19:13 +0000] \"GET /_ignition/execute-solution HTTP/1.0\" 404 127 \"-\" \"Mozilla/5.0 (Windows NT 10.0; Win64; x64) AppleWebKit/537.36 (KHTML, like Gecko) Chrome/78.0.3904.108 Safari/537.36\"\n127.0.0.1 - - [29/May/2023:09:19:13 +0000] \"POST / HTTP/1.0\" 405 55 \"-\" \"Mozilla/5.0 (X11; Linux x86_64) AppleWebKit/537.36 (KHTML, like Gecko) Chrome/81.0.4044.129 Safari/537.36\"\n127.0.0.1 - - [29/May/2023:09:19:13 +0000] \"GET /.env HTTP/1.0\" 404 127 \"-\" \"Mozilla/5.0 (X11; Linux x86_64) AppleWebKit/537.36 (KHTML, like Gecko) Chrome/81.0.4044.129 Safari/537.36\"\n127.0.0.1 - - [29/May/2023:09:28:29 +0000] \"GET /static/admin/javascript/hetong.js HTTP/1.0\" 404 127 \"-\" \"Mozilla/5.0 (Linux; Android 10; LIO-AN00 Build/HUAWEILIO-AN00; wv) AppleWebKit/537.36 (KHTML, like Gecko) Chrome/103.0.5060.114 Mobile Safari/537.36\"\n127.0.0.1 - - [29/May/2023:09:57:42 +0000] \"POST /GponForm/diag_Form?images%2F= HTTP/1.0\" 404 127 \"-\" \"Hello, World\"\n2023-05-29 10:25:39,561 | root | INFO | 200\n127.0.0.1 - - [29/May/2023:10:25:39 +0000] \"GET /swagger.json HTTP/1.0\" 200 2257 \"-\" \"Go-http-client/1.1\"\n2023-05-29 10:25:50,784 | root | INFO | 200\n127.0.0.1 - - [29/May/2023:10:25:50 +0000] \"GET /swagger.json HTTP/1.0\" 200 2257 \"-\" \"Go-http-client/1.1\"\n2023-05-29 10:25:53,527 | root | INFO | 200\n127.0.0.1 - - [29/May/2023:10:25:53 +0000] \"POST /score?verbose=true HTTP/1.0\" 200 43 \"-\" \"Go-http-client/1.1\"\n2023-05-29 10:25:57,511 | root | INFO | 200\n127.0.0.1 - - [29/May/2023:10:25:57 +0000] \"POST /score?verbose=true HTTP/1.0\" 200 43 \"-\" \"Go-http-client/1.1\"\n2023-05-29 10:25:59,544 | root | INFO | 200\n127.0.0.1 - - [29/May/2023:10:25:59 +0000] \"GET /swagger.json HTTP/1.0\" 200 2257 \"-\" \"Go-http-client/1.1\"\n2023-05-29 10:26:33,744 | root | INFO | 200\n127.0.0.1 - - [29/May/2023:10:26:33 +0000] \"GET /swagger.json HTTP/1.0\" 200 2257 \"-\" \"Go-http-client/1.1\"\n2023-05-29 10:26:47,355 | root | INFO | 200\n127.0.0.1 - - [29/May/2023:10:26:47 +0000] \"GET /score HTTP/1.0\" 200 8 \"-\" \"Mozilla/5.0 (Windows NT 10.0; Win64; x64) AppleWebKit/537.36 (KHTML, like Gecko) Chrome/113.0.0.0 Safari/537.36\"\n127.0.0.1 - - [29/May/2023:10:26:47 +0000] \"GET /favicon.ico HTTP/1.0\" 404 127 \"http://124c4c0b-7a11-42d7-942a-efecf89bd7b2.westeurope.azurecontainer.io/score\" \"Mozilla/5.0 (Windows NT 10.0; Win64; x64) AppleWebKit/537.36 (KHTML, like Gecko) Chrome/113.0.0.0 Safari/537.36\"\n2023-05-29 10:27:06,652 | root | INFO | 200\n127.0.0.1 - - [29/May/2023:10:27:06 +0000] \"GET /swagger.json HTTP/1.0\" 200 2257 \"-\" \"Go-http-client/1.1\"\n2023-05-29 10:27:11,589 | root | INFO | 200\n127.0.0.1 - - [29/May/2023:10:27:11 +0000] \"GET /swagger.json HTTP/1.0\" 200 2257 \"-\" \"Go-http-client/1.1\"\n2023-05-29 10:27:12,934 | root | INFO | 200\n127.0.0.1 - - [29/May/2023:10:27:12 +0000] \"GET /swagger.json HTTP/1.0\" 200 2257 \"-\" \"Go-http-client/1.1\"\n127.0.0.1 - - [29/May/2023:10:33:31 +0000] \"GET /systembc/password.php HTTP/1.0\" 404 127 \"-\" \"Mozilla/5.0 (Macintosh; Intel Mac OS X 10_15_7) AppleWebKit/537.36 (KHTML, like Gecko) Chrome/107.0.0.0 Safari/537.36\"\n127.0.0.1 - - [29/May/2023:10:35:08 +0000] \"POST / HTTP/1.0\" 405 55 \"-\" \"Mozilla/5.0 (X11; Linux x86_64) AppleWebKit/537.36 (KHTML, like Gecko) Chrome/81.0.4044.129 Safari/537.36\"\n127.0.0.1 - - [29/May/2023:10:35:08 +0000] \"GET /.env HTTP/1.0\" 404 127 \"-\" \"Mozilla/5.0 (X11; Linux x86_64) AppleWebKit/537.36 (KHTML, like Gecko) Chrome/81.0.4044.129 Safari/537.36\"\n127.0.0.1 - - [29/May/2023:10:59:47 +0000] \"GET /actuator/gateway/routes HTTP/1.0\" 404 127 \"-\" \"Mozilla/5.0 (Windows NT 10.0; Win64; x64) AppleWebKit/537.36 (KHTML, like Gecko) Chrome/78.0.3904.108 Safari/537.36\"\n127.0.0.1 - - [29/May/2023:11:33:50 +0000] \"POST / HTTP/1.0\" 405 55 \"-\" \"Mozilla/5.0 (X11; Linux x86_64) AppleWebKit/537.36 (KHTML, like Gecko) Chrome/81.0.4044.129 Safari/537.36\"\n127.0.0.1 - - [29/May/2023:11:33:50 +0000] \"GET /.env HTTP/1.0\" 404 127 \"-\" \"Mozilla/5.0 (X11; Linux x86_64) AppleWebKit/537.36 (KHTML, like Gecko) Chrome/81.0.4044.129 Safari/537.36\"\n127.0.0.1 - - [29/May/2023:11:41:16 +0000] \"GET /geoserver HTTP/1.0\" 404 127 \"-\" \"Mozilla/5.0 (Windows NT 10.0; Win64; x64) AppleWebKit/537.36 (KHTML, like Gecko) Chrome/78.0.3904.108 Safari/537.36\"\n127.0.0.1 - - [29/May/2023:11:52:52 +0000] \"POST / HTTP/1.0\" 405 55 \"-\" \"Mozilla/5.0 (X11; Linux x86_64) AppleWebKit/537.36 (KHTML, like Gecko) Chrome/81.0.4044.129 Safari/537.36\"\n127.0.0.1 - - [29/May/2023:11:52:52 +0000] \"GET /.env HTTP/1.0\" 404 127 \"-\" \"Mozilla/5.0 (X11; Linux x86_64) AppleWebKit/537.36 (KHTML, like Gecko) Chrome/81.0.4044.129 Safari/537.36\"\n2023-05-29 11:55:42,244 | root | INFO | 200\n127.0.0.1 - - [29/May/2023:11:55:42 +0000] \"GET /swagger.json HTTP/1.0\" 200 2257 \"-\" \"Go-http-client/1.1\"\n2023-05-29 11:55:42,995 | root | INFO | 200\n127.0.0.1 - - [29/May/2023:11:55:42 +0000] \"GET /swagger.json HTTP/1.0\" 200 2257 \"-\" \"Go-http-client/1.1\"\n2023-05-29 11:55:45,250 | root | INFO | 200\n127.0.0.1 - - [29/May/2023:11:55:45 +0000] \"POST /score?verbose=true HTTP/1.0\" 200 43 \"-\" \"Go-http-client/1.1\"\n2023-05-29 11:55:51,986 | root | INFO | 200\n127.0.0.1 - - [29/May/2023:11:55:51 +0000] \"POST /score?verbose=true HTTP/1.0\" 200 78 \"-\" \"Go-http-client/1.1\"\n2023-05-29 11:56:02,144 | root | INFO | 200\n127.0.0.1 - - [29/May/2023:11:56:02 +0000] \"POST /score?verbose=true HTTP/1.0\" 200 77 \"-\" \"Go-http-client/1.1\"\n2023-05-29 11:56:14,157 | root | INFO | 200\n127.0.0.1 - - [29/May/2023:11:56:14 +0000] \"POST /score?verbose=true HTTP/1.0\" 200 77 \"-\" \"Go-http-client/1.1\"\n2023-05-29 11:56:41,987 | root | INFO | 200\n127.0.0.1 - - [29/May/2023:11:56:41 +0000] \"GET /swagger.json HTTP/1.0\" 200 2257 \"-\" \"Go-http-client/1.1\"\n2023-05-29 11:56:43,048 | root | INFO | 200\n127.0.0.1 - - [29/May/2023:11:56:43 +0000] \"GET /swagger.json HTTP/1.0\" 200 2257 \"-\" \"Go-http-client/1.1\"\n2023-05-29 11:57:50,967 | root | INFO | 200\n127.0.0.1 - - [29/May/2023:11:57:50 +0000] \"POST /score?verbose=true HTTP/1.0\" 200 78 \"-\" \"Go-http-client/1.1\"\n2023-05-29 11:58:06,514 | root | INFO | 200\n127.0.0.1 - - [29/May/2023:11:58:06 +0000] \"POST /score?verbose=true HTTP/1.0\" 200 78 \"-\" \"Go-http-client/1.1\"\n2023-05-29 11:58:36,290 | root | INFO | 200\n127.0.0.1 - - [29/May/2023:11:58:36 +0000] \"POST /score?verbose=true HTTP/1.0\" 200 78 \"-\" \"Go-http-client/1.1\"\n2023-05-29 11:58:43,352 | root | INFO | 200\n127.0.0.1 - - [29/May/2023:11:58:43 +0000] \"GET /swagger.json HTTP/1.0\" 200 2257 \"-\" \"Go-http-client/1.1\"\n2023-05-29 11:58:52,298 | root | INFO | 200\n127.0.0.1 - - [29/May/2023:11:58:52 +0000] \"GET /swagger.json HTTP/1.0\" 200 2257 \"-\" \"Go-http-client/1.1\"\n2023-05-29 12:04:02,158 | root | INFO | 200\n127.0.0.1 - - [29/May/2023:12:04:02 +0000] \"GET /swagger.json HTTP/1.0\" 200 2257 \"-\" \"Go-http-client/1.1\"\n2023-05-29 12:04:28,688 | root | INFO | 200\n127.0.0.1 - - [29/May/2023:12:04:28 +0000] \"GET /swagger.json HTTP/1.0\" 200 2257 \"-\" \"Go-http-client/1.1\"\n2023-05-29 12:04:53,569 | root | INFO | 200\n127.0.0.1 - - [29/May/2023:12:04:53 +0000] \"GET /swagger.json HTTP/1.0\" 200 2257 \"-\" \"Go-http-client/1.1\"\n2023-05-29 12:05:08,349 | root | INFO | 200\n127.0.0.1 - - [29/May/2023:12:05:08 +0000] \"GET /swagger.json HTTP/1.0\" 200 2257 \"-\" \"Go-http-client/1.1\"\n127.0.0.1 - - [29/May/2023:12:20:27 +0000] \"GET /.env HTTP/1.0\" 404 127 \"-\" \"Mozilla/5.0 (X11; Linux x86_64) AppleWebKit/537.36 (KHTML, like Gecko) Chrome/81.0.4044.129 Safari/537.36\"\n127.0.0.1 - - [29/May/2023:12:48:32 +0000] \"GET /favicon.ico HTTP/1.0\" 404 127 \"-\" \"Mozilla/5.0 (Macintosh; Intel Mac OS X 10_15_7) AppleWebKit/537.36 (KHTML, like Gecko) Chrome/109.0.0.0 Safari/537.36\"\n127.0.0.1 - - [29/May/2023:12:49:06 +0000] \"GET /geoserver/web/ HTTP/1.0\" 404 127 \"-\" \"Mozilla/5.0 (X11; Ubuntu; Linux x86_64; rv:109.0) Gecko/20100101 Firefox/109.0\"\n127.0.0.1 - - [29/May/2023:13:05:04 +0000] \"POST / HTTP/1.0\" 405 55 \"-\" \"Mozilla/5.0 (X11; Linux x86_64) AppleWebKit/537.36 (KHTML, like Gecko) Chrome/81.0.4044.129 Safari/537.36\"\n127.0.0.1 - - [29/May/2023:13:05:04 +0000] \"GET /.env HTTP/1.0\" 404 127 \"-\" \"Mozilla/5.0 (X11; Linux x86_64) AppleWebKit/537.36 (KHTML, like Gecko) Chrome/81.0.4044.129 Safari/537.36\"\n2023-05-29 13:49:27,549 | root | INFO | 200\n127.0.0.1 - - [29/May/2023:13:49:27 +0000] \"GET /score HTTP/1.0\" 200 8 \"-\" \"Mozilla/5.0 (Windows NT 10.0; Win64; x64) AppleWebKit/537.36 (KHTML, like Gecko) Chrome/113.0.0.0 Safari/537.36\"\n2023-05-29 13:49:34,252 | root | INFO | 200\n127.0.0.1 - - [29/May/2023:13:49:34 +0000] \"GET /swagger.json HTTP/1.0\" 200 2257 \"-\" \"Mozilla/5.0 (Windows NT 10.0; Win64; x64) AppleWebKit/537.36 (KHTML, like Gecko) Chrome/113.0.0.0 Safari/537.36\"\n2023-05-29 13:49:39,429 | root | INFO | 200\n127.0.0.1 - - [29/May/2023:13:49:39 +0000] \"GET /score HTTP/1.0\" 200 8 \"-\" \"Mozilla/5.0 (Windows NT 10.0; Win64; x64) AppleWebKit/537.36 (KHTML, like Gecko) Chrome/113.0.0.0 Safari/537.36\"\n2023-05-29 13:49:41,580 | root | INFO | 200\n127.0.0.1 - - [29/May/2023:13:49:41 +0000] \"GET /swagger.json HTTP/1.0\" 200 2257 \"-\" \"Mozilla/5.0 (Windows NT 10.0; Win64; x64) AppleWebKit/537.36 (KHTML, like Gecko) Chrome/113.0.0.0 Safari/537.36\"\n2023-05-29 13:57:43,372 | root | INFO | 200\n127.0.0.1 - - [29/May/2023:13:57:43 +0000] \"GET /swagger.json HTTP/1.0\" 200 2257 \"-\" \"Go-http-client/1.1\"\n2023-05-29 13:57:47,202 | root | INFO | 200\n127.0.0.1 - - [29/May/2023:13:57:47 +0000] \"POST /score?verbose=true HTTP/1.0\" 200 43 \"-\" \"Go-http-client/1.1\"\n2023-05-29 13:58:26,502 | root | INFO | 200\n127.0.0.1 - - [29/May/2023:13:58:26 +0000] \"POST /score HTTP/1.0\" 200 3 \"-\" \"python-requests/2.28.1\"\n2023-05-29 13:58:44,171 | root | INFO | 200\n127.0.0.1 - - [29/May/2023:13:58:44 +0000] \"POST /score HTTP/1.0\" 200 3 \"-\" \"python-requests/2.28.1\"\n2023-05-29 13:59:52,557 | root | INFO | 200\n127.0.0.1 - - [29/May/2023:13:59:52 +0000] \"POST /score HTTP/1.0\" 200 3 \"-\" \"python-requests/2.28.1\"\n2023-05-29 14:00:07,205 | root | INFO | 200\n127.0.0.1 - - [29/May/2023:14:00:07 +0000] \"POST /score HTTP/1.0\" 200 3 \"-\" \"python-requests/2.28.1\"\n2023-05-29 14:00:13,025 | root | INFO | 200\n127.0.0.1 - - [29/May/2023:14:00:13 +0000] \"POST /score HTTP/1.0\" 200 3 \"-\" \"python-requests/2.28.1\"\n2023-05-29 14:00:22,315 | root | INFO | 200\n127.0.0.1 - - [29/May/2023:14:00:22 +0000] \"POST /score HTTP/1.0\" 200 3 \"-\" \"python-requests/2.28.1\"\n2023-05-29 14:00:27,202 | root | INFO | 200\n127.0.0.1 - - [29/May/2023:14:00:27 +0000] \"POST /score HTTP/1.0\" 200 3 \"-\" \"python-requests/2.28.1\"\n2023-05-29 14:00:36,469 | root | INFO | 200\n127.0.0.1 - - [29/May/2023:14:00:36 +0000] \"POST /score HTTP/1.0\" 200 3 \"-\" \"python-requests/2.28.1\"\n2023-05-29 14:00:41,446 | root | INFO | 200\n127.0.0.1 - - [29/May/2023:14:00:41 +0000] \"POST /score HTTP/1.0\" 200 3 \"-\" \"python-requests/2.28.1\"\n2023-05-29 14:01:20,734 | root | INFO | 200\n127.0.0.1 - - [29/May/2023:14:01:20 +0000] \"POST /score HTTP/1.0\" 200 3 \"-\" \"python-requests/2.28.1\"\n2023-05-29 14:01:24,912 | root | INFO | 200\n127.0.0.1 - - [29/May/2023:14:01:24 +0000] \"POST /score HTTP/1.0\" 200 3 \"-\" \"python-requests/2.28.1\"\n2023-05-29 14:01:29,954 | root | INFO | 200\n127.0.0.1 - - [29/May/2023:14:01:29 +0000] \"POST /score HTTP/1.0\" 200 3 \"-\" \"python-requests/2.28.1\"\n2023-05-29 14:03:54,643 | root | INFO | 200\n127.0.0.1 - - [29/May/2023:14:03:54 +0000] \"POST /score HTTP/1.0\" 200 3 \"-\" \"python-requests/2.28.1\"\n2023-05-29 14:05:59,013 | root | INFO | 200\n127.0.0.1 - - [29/May/2023:14:05:59 +0000] \"GET /swagger.json HTTP/1.0\" 200 2257 \"-\" \"Go-http-client/1.1\"\n2023-05-29 14:06:56,826 | root | INFO | 200\n127.0.0.1 - - [29/May/2023:14:06:56 +0000] \"POST /score HTTP/1.0\" 200 3 \"-\" \"python-requests/2.28.1\"\n2023-05-29 14:07:52,406 | root | INFO | 200\n127.0.0.1 - - [29/May/2023:14:07:52 +0000] \"POST /score HTTP/1.0\" 200 3 \"-\" \"Python-urllib/3.8\"\n2023-05-29 14:08:28,312 | root | INFO | 200\n127.0.0.1 - - [29/May/2023:14:08:28 +0000] \"POST /score HTTP/1.0\" 200 3 \"-\" \"Python-urllib/3.8\"\n2023-05-29 14:08:48,946 | root | INFO | 200\n127.0.0.1 - - [29/May/2023:14:08:48 +0000] \"POST /score HTTP/1.0\" 200 3 \"-\" \"python-requests/2.28.1\"\n2023-05-29 14:09:11,751 | root | INFO | 200\n127.0.0.1 - - [29/May/2023:14:09:11 +0000] \"GET /swagger.json HTTP/1.0\" 200 2257 \"-\" \"Go-http-client/1.1\"\n2023-05-29 14:09:14,371 | root | INFO | 200\n127.0.0.1 - - [29/May/2023:14:09:14 +0000] \"POST /score?verbose=true HTTP/1.0\" 200 43 \"-\" \"Go-http-client/1.1\"\n\n"
        }
      ],
      "execution_count": 83,
      "metadata": {
        "gather": {
          "logged": 1685369378293
        },
        "jupyter": {
          "outputs_hidden": false,
          "source_hidden": false
        },
        "nteract": {
          "transient": {
            "deleting": false
          }
        }
      }
    },
    {
      "cell_type": "code",
      "source": [
        "#delete the deployed webservice\n",
        "#service.delete()"
      ],
      "outputs": [],
      "execution_count": 65,
      "metadata": {
        "collapsed": true,
        "jupyter": {
          "outputs_hidden": false,
          "source_hidden": false
        },
        "nteract": {
          "transient": {
            "deleting": false
          }
        },
        "gather": {
          "logged": 1685296872177
        }
      }
    },
    {
      "cell_type": "code",
      "source": [],
      "outputs": [],
      "execution_count": null,
      "metadata": {
        "jupyter": {
          "source_hidden": false,
          "outputs_hidden": false
        },
        "nteract": {
          "transient": {
            "deleting": false
          }
        }
      }
    },
    {
      "cell_type": "code",
      "source": [],
      "outputs": [],
      "execution_count": null,
      "metadata": {
        "jupyter": {
          "source_hidden": false,
          "outputs_hidden": false
        },
        "nteract": {
          "transient": {
            "deleting": false
          }
        }
      }
    },
    {
      "cell_type": "code",
      "source": [],
      "outputs": [],
      "execution_count": null,
      "metadata": {
        "jupyter": {
          "source_hidden": false,
          "outputs_hidden": false
        },
        "nteract": {
          "transient": {
            "deleting": false
          }
        }
      }
    }
  ],
  "metadata": {
    "kernel_info": {
      "name": "python3"
    },
    "kernelspec": {
      "name": "python3",
      "language": "python",
      "display_name": "Python 3 (ipykernel)"
    },
    "language_info": {
      "name": "python",
      "version": "3.8.5",
      "mimetype": "text/x-python",
      "codemirror_mode": {
        "name": "ipython",
        "version": 3
      },
      "pygments_lexer": "ipython3",
      "nbconvert_exporter": "python",
      "file_extension": ".py"
    },
    "microsoft": {
      "host": {
        "AzureML": {
          "notebookHasBeenCompleted": true
        }
      },
      "ms_spell_check": {
        "ms_spell_check_language": "en"
      }
    },
    "nteract": {
      "version": "nteract-front-end@1.0.0"
    }
  },
  "nbformat": 4,
  "nbformat_minor": 2
}